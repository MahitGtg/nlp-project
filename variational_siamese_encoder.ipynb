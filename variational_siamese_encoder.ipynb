{
  "cells": [
    {
      "cell_type": "markdown",
      "metadata": {
        "id": "ZeNVhtG0clTY"
      },
      "source": [
        "# 2025 CITS4012 Project 2\n",
        "\n",
        "## 1. Preprocessing\n",
        "\n",
        "### 1.1. Import Libraries\n",
        "Libraries are imported for the entire project.\n",
        "\n",
        "*Note: Just add to this list as needed*"
      ]
    },
    {
      "cell_type": "code",
      "execution_count": 1,
      "metadata": {
        "colab": {
          "base_uri": "https://localhost:8080/"
        },
        "id": "ZHKYoflWbaOB",
        "outputId": "f209923f-223a-42fb-dffe-976d0c2eb378"
      },
      "outputs": [
        {
          "output_type": "stream",
          "name": "stdout",
          "text": [
            "Collecting gensim\n",
            "  Downloading gensim-4.4.0-cp312-cp312-manylinux_2_24_x86_64.manylinux_2_28_x86_64.whl.metadata (8.4 kB)\n",
            "Requirement already satisfied: numpy>=1.18.5 in /usr/local/lib/python3.12/dist-packages (from gensim) (2.0.2)\n",
            "Requirement already satisfied: scipy>=1.7.0 in /usr/local/lib/python3.12/dist-packages (from gensim) (1.16.2)\n",
            "Requirement already satisfied: smart_open>=1.8.1 in /usr/local/lib/python3.12/dist-packages (from gensim) (7.3.1)\n",
            "Requirement already satisfied: wrapt in /usr/local/lib/python3.12/dist-packages (from smart_open>=1.8.1->gensim) (1.17.3)\n",
            "Downloading gensim-4.4.0-cp312-cp312-manylinux_2_24_x86_64.manylinux_2_28_x86_64.whl (27.9 MB)\n",
            "\u001b[2K   \u001b[90m━━━━━━━━━━━━━━━━━━━━━━━━━━━━━━━━━━━━━━━━\u001b[0m \u001b[32m27.9/27.9 MB\u001b[0m \u001b[31m53.5 MB/s\u001b[0m eta \u001b[36m0:00:00\u001b[0m\n",
            "\u001b[?25hInstalling collected packages: gensim\n",
            "Successfully installed gensim-4.4.0\n"
          ]
        }
      ],
      "source": [
        "%pip install gensim\n",
        "import gensim.downloader as api\n",
        "\n",
        "from pydrive2.auth import GoogleAuth\n",
        "from pydrive2.drive import GoogleDrive\n",
        "from google.colab import auth\n",
        "from google.colab import drive\n",
        "import google.colab.drive as gc_drive\n",
        "from pathlib import Path\n",
        "from oauth2client.client import GoogleCredentials\n",
        "\n",
        "import pandas as pd\n",
        "import numpy as np\n",
        "import random\n",
        "import matplotlib.pyplot as plt\n",
        "import sys\n",
        "import time\n",
        "import torch\n",
        "import spacy\n",
        "import re\n",
        "\n",
        "torch.manual_seed(42)\n",
        "random.seed(42)"
      ]
    },
    {
      "cell_type": "markdown",
      "metadata": {
        "id": "lm0j1IPpdoMH"
      },
      "source": [
        "### 1.2. Retrieve Data\n",
        "First, we need to retrieve the train/val/test datafiles from the Google Drive."
      ]
    },
    {
      "cell_type": "code",
      "execution_count": 2,
      "metadata": {
        "id": "Sf7SEIIWbbFB"
      },
      "outputs": [],
      "source": [
        "auth.authenticate_user()\n",
        "gauth = GoogleAuth()\n",
        "gauth.credentials = GoogleCredentials.get_application_default()\n",
        "drive = GoogleDrive(gauth)"
      ]
    },
    {
      "cell_type": "code",
      "execution_count": 3,
      "metadata": {
        "id": "BBuq3Zf_bdai"
      },
      "outputs": [],
      "source": [
        "train_fileid = \"1YEOo5vd8DXXUCf1FXCR1D3PxWR9XxQKv\"\n",
        "val_fileid = \"15FEgtzzTVDMQcNVMgwIwqoAJeF9vmtrX\"\n",
        "test_fileid = \"179nwaOvdkZ3ogsBaTSJvpZEIjq20uiG-\"\n",
        "\n",
        "train_file = drive.CreateFile({'id': train_fileid})\n",
        "val_file = drive.CreateFile({'id': val_fileid})\n",
        "test_file = drive.CreateFile({'id': test_fileid})\n",
        "\n",
        "train_file.GetContentFile('train.json')\n",
        "val_file.GetContentFile('val.json')\n",
        "test_file.GetContentFile('test.json')"
      ]
    },
    {
      "cell_type": "code",
      "source": [
        "# Mount your Drive\n",
        "gc_drive.mount('/content/drive')\n",
        "\n",
        "# Create only your experiment folders — dataset paths stay unchanged\n",
        "PROJECT_DIR = Path(\"/content/drive/MyDrive/CITS4012_project\")\n",
        "CKPT_DIR = PROJECT_DIR / \"checkpoints\"\n",
        "LOG_DIR = PROJECT_DIR / \"logs\"\n",
        "\n",
        "for p in [CKPT_DIR, LOG_DIR]:\n",
        "    p.mkdir(parents=True, exist_ok=True)\n",
        "\n",
        "print(\"Checkpoints and logs will be saved here:\")\n",
        "print(\"Checkpoints:\", CKPT_DIR)\n",
        "print(\"Logs:\", LOG_DIR)"
      ],
      "metadata": {
        "id": "Yn7qM6AuUEmP",
        "colab": {
          "base_uri": "https://localhost:8080/"
        },
        "outputId": "9d7a5346-c6c0-41c7-ec3e-eee6bc052ec4"
      },
      "execution_count": 4,
      "outputs": [
        {
          "output_type": "stream",
          "name": "stdout",
          "text": [
            "Mounted at /content/drive\n",
            "Checkpoints and logs will be saved here:\n",
            "Checkpoints: /content/drive/MyDrive/CITS4012_project/checkpoints\n",
            "Logs: /content/drive/MyDrive/CITS4012_project/logs\n"
          ]
        }
      ]
    },
    {
      "cell_type": "markdown",
      "metadata": {
        "id": "d1jcNQxncz-Y"
      },
      "source": [
        "### 1.3. Read in the Data\n",
        "We now read in each dataset, splitting the input data and target data. The data shapes and a sample of the training data are shown below."
      ]
    },
    {
      "cell_type": "code",
      "execution_count": 5,
      "metadata": {
        "colab": {
          "base_uri": "https://localhost:8080/",
          "height": 475
        },
        "id": "iFkL1hHIcYQD",
        "outputId": "6374de56-fc41-4dac-a529-20120d345cb1"
      },
      "outputs": [
        {
          "output_type": "stream",
          "name": "stdout",
          "text": [
            "Train shape: (23088, 2)\n",
            "Val shape: (1304, 2)\n",
            "Test shape: (2126, 2)\n"
          ]
        },
        {
          "output_type": "display_data",
          "data": {
            "text/plain": [
              "                                                 premise  \\\n",
              "0      Pluto rotates once on its axis every 6.39 Eart...   \n",
              "1      ---Glenn =====================================...   \n",
              "2      geysers - periodic gush of hot water at the su...   \n",
              "3      Facts: Liquid water droplets can be changed in...   \n",
              "4      By comparison, the earth rotates on its axis o...   \n",
              "...                                                  ...   \n",
              "23083  which is not only the motion of our bodies, bu...   \n",
              "23084  The Red Star, that celestial curse whose eccen...   \n",
              "23085  The lines in the spectrum of a luminous body s...   \n",
              "23086  The radial velocity of a star away from or tow...   \n",
              "23087  This expansion causes the light from distant s...   \n",
              "\n",
              "                                              hypothesis    label  \n",
              "0       Earth rotates on its axis once times in one day.  neutral  \n",
              "1       Earth rotates on its axis once times in one day.  entails  \n",
              "2      The surface of the sun is much hotter than alm...  neutral  \n",
              "3      Evaporation is responsible for changing liquid...  entails  \n",
              "4       Earth rotates on its axis once times in one day.  entails  \n",
              "...                                                  ...      ...  \n",
              "23083  Work is done only if a force is exerted in the...  neutral  \n",
              "23084  Red-shift refers to a shift toward red in the ...  neutral  \n",
              "23085  Red-shift refers to a shift toward red in the ...  entails  \n",
              "23086  Red-shift refers to a shift toward red in the ...  entails  \n",
              "23087  Red-shift refers to a shift toward red in the ...  entails  \n",
              "\n",
              "[23088 rows x 3 columns]"
            ],
            "text/html": [
              "\n",
              "  <div id=\"df-5b7e6ec4-771c-40d3-995a-02578a541666\" class=\"colab-df-container\">\n",
              "    <div>\n",
              "<style scoped>\n",
              "    .dataframe tbody tr th:only-of-type {\n",
              "        vertical-align: middle;\n",
              "    }\n",
              "\n",
              "    .dataframe tbody tr th {\n",
              "        vertical-align: top;\n",
              "    }\n",
              "\n",
              "    .dataframe thead th {\n",
              "        text-align: right;\n",
              "    }\n",
              "</style>\n",
              "<table border=\"1\" class=\"dataframe\">\n",
              "  <thead>\n",
              "    <tr style=\"text-align: right;\">\n",
              "      <th></th>\n",
              "      <th>premise</th>\n",
              "      <th>hypothesis</th>\n",
              "      <th>label</th>\n",
              "    </tr>\n",
              "  </thead>\n",
              "  <tbody>\n",
              "    <tr>\n",
              "      <th>0</th>\n",
              "      <td>Pluto rotates once on its axis every 6.39 Eart...</td>\n",
              "      <td>Earth rotates on its axis once times in one day.</td>\n",
              "      <td>neutral</td>\n",
              "    </tr>\n",
              "    <tr>\n",
              "      <th>1</th>\n",
              "      <td>---Glenn =====================================...</td>\n",
              "      <td>Earth rotates on its axis once times in one day.</td>\n",
              "      <td>entails</td>\n",
              "    </tr>\n",
              "    <tr>\n",
              "      <th>2</th>\n",
              "      <td>geysers - periodic gush of hot water at the su...</td>\n",
              "      <td>The surface of the sun is much hotter than alm...</td>\n",
              "      <td>neutral</td>\n",
              "    </tr>\n",
              "    <tr>\n",
              "      <th>3</th>\n",
              "      <td>Facts: Liquid water droplets can be changed in...</td>\n",
              "      <td>Evaporation is responsible for changing liquid...</td>\n",
              "      <td>entails</td>\n",
              "    </tr>\n",
              "    <tr>\n",
              "      <th>4</th>\n",
              "      <td>By comparison, the earth rotates on its axis o...</td>\n",
              "      <td>Earth rotates on its axis once times in one day.</td>\n",
              "      <td>entails</td>\n",
              "    </tr>\n",
              "    <tr>\n",
              "      <th>...</th>\n",
              "      <td>...</td>\n",
              "      <td>...</td>\n",
              "      <td>...</td>\n",
              "    </tr>\n",
              "    <tr>\n",
              "      <th>23083</th>\n",
              "      <td>which is not only the motion of our bodies, bu...</td>\n",
              "      <td>Work is done only if a force is exerted in the...</td>\n",
              "      <td>neutral</td>\n",
              "    </tr>\n",
              "    <tr>\n",
              "      <th>23084</th>\n",
              "      <td>The Red Star, that celestial curse whose eccen...</td>\n",
              "      <td>Red-shift refers to a shift toward red in the ...</td>\n",
              "      <td>neutral</td>\n",
              "    </tr>\n",
              "    <tr>\n",
              "      <th>23085</th>\n",
              "      <td>The lines in the spectrum of a luminous body s...</td>\n",
              "      <td>Red-shift refers to a shift toward red in the ...</td>\n",
              "      <td>entails</td>\n",
              "    </tr>\n",
              "    <tr>\n",
              "      <th>23086</th>\n",
              "      <td>The radial velocity of a star away from or tow...</td>\n",
              "      <td>Red-shift refers to a shift toward red in the ...</td>\n",
              "      <td>entails</td>\n",
              "    </tr>\n",
              "    <tr>\n",
              "      <th>23087</th>\n",
              "      <td>This expansion causes the light from distant s...</td>\n",
              "      <td>Red-shift refers to a shift toward red in the ...</td>\n",
              "      <td>entails</td>\n",
              "    </tr>\n",
              "  </tbody>\n",
              "</table>\n",
              "<p>23088 rows × 3 columns</p>\n",
              "</div>\n",
              "    <div class=\"colab-df-buttons\">\n",
              "\n",
              "  <div class=\"colab-df-container\">\n",
              "    <button class=\"colab-df-convert\" onclick=\"convertToInteractive('df-5b7e6ec4-771c-40d3-995a-02578a541666')\"\n",
              "            title=\"Convert this dataframe to an interactive table.\"\n",
              "            style=\"display:none;\">\n",
              "\n",
              "  <svg xmlns=\"http://www.w3.org/2000/svg\" height=\"24px\" viewBox=\"0 -960 960 960\">\n",
              "    <path d=\"M120-120v-720h720v720H120Zm60-500h600v-160H180v160Zm220 220h160v-160H400v160Zm0 220h160v-160H400v160ZM180-400h160v-160H180v160Zm440 0h160v-160H620v160ZM180-180h160v-160H180v160Zm440 0h160v-160H620v160Z\"/>\n",
              "  </svg>\n",
              "    </button>\n",
              "\n",
              "  <style>\n",
              "    .colab-df-container {\n",
              "      display:flex;\n",
              "      gap: 12px;\n",
              "    }\n",
              "\n",
              "    .colab-df-convert {\n",
              "      background-color: #E8F0FE;\n",
              "      border: none;\n",
              "      border-radius: 50%;\n",
              "      cursor: pointer;\n",
              "      display: none;\n",
              "      fill: #1967D2;\n",
              "      height: 32px;\n",
              "      padding: 0 0 0 0;\n",
              "      width: 32px;\n",
              "    }\n",
              "\n",
              "    .colab-df-convert:hover {\n",
              "      background-color: #E2EBFA;\n",
              "      box-shadow: 0px 1px 2px rgba(60, 64, 67, 0.3), 0px 1px 3px 1px rgba(60, 64, 67, 0.15);\n",
              "      fill: #174EA6;\n",
              "    }\n",
              "\n",
              "    .colab-df-buttons div {\n",
              "      margin-bottom: 4px;\n",
              "    }\n",
              "\n",
              "    [theme=dark] .colab-df-convert {\n",
              "      background-color: #3B4455;\n",
              "      fill: #D2E3FC;\n",
              "    }\n",
              "\n",
              "    [theme=dark] .colab-df-convert:hover {\n",
              "      background-color: #434B5C;\n",
              "      box-shadow: 0px 1px 3px 1px rgba(0, 0, 0, 0.15);\n",
              "      filter: drop-shadow(0px 1px 2px rgba(0, 0, 0, 0.3));\n",
              "      fill: #FFFFFF;\n",
              "    }\n",
              "  </style>\n",
              "\n",
              "    <script>\n",
              "      const buttonEl =\n",
              "        document.querySelector('#df-5b7e6ec4-771c-40d3-995a-02578a541666 button.colab-df-convert');\n",
              "      buttonEl.style.display =\n",
              "        google.colab.kernel.accessAllowed ? 'block' : 'none';\n",
              "\n",
              "      async function convertToInteractive(key) {\n",
              "        const element = document.querySelector('#df-5b7e6ec4-771c-40d3-995a-02578a541666');\n",
              "        const dataTable =\n",
              "          await google.colab.kernel.invokeFunction('convertToInteractive',\n",
              "                                                    [key], {});\n",
              "        if (!dataTable) return;\n",
              "\n",
              "        const docLinkHtml = 'Like what you see? Visit the ' +\n",
              "          '<a target=\"_blank\" href=https://colab.research.google.com/notebooks/data_table.ipynb>data table notebook</a>'\n",
              "          + ' to learn more about interactive tables.';\n",
              "        element.innerHTML = '';\n",
              "        dataTable['output_type'] = 'display_data';\n",
              "        await google.colab.output.renderOutput(dataTable, element);\n",
              "        const docLink = document.createElement('div');\n",
              "        docLink.innerHTML = docLinkHtml;\n",
              "        element.appendChild(docLink);\n",
              "      }\n",
              "    </script>\n",
              "  </div>\n",
              "\n",
              "\n",
              "    <div id=\"df-578d7b78-35da-4e75-835f-0f6971fbabc2\">\n",
              "      <button class=\"colab-df-quickchart\" onclick=\"quickchart('df-578d7b78-35da-4e75-835f-0f6971fbabc2')\"\n",
              "                title=\"Suggest charts\"\n",
              "                style=\"display:none;\">\n",
              "\n",
              "<svg xmlns=\"http://www.w3.org/2000/svg\" height=\"24px\"viewBox=\"0 0 24 24\"\n",
              "     width=\"24px\">\n",
              "    <g>\n",
              "        <path d=\"M19 3H5c-1.1 0-2 .9-2 2v14c0 1.1.9 2 2 2h14c1.1 0 2-.9 2-2V5c0-1.1-.9-2-2-2zM9 17H7v-7h2v7zm4 0h-2V7h2v10zm4 0h-2v-4h2v4z\"/>\n",
              "    </g>\n",
              "</svg>\n",
              "      </button>\n",
              "\n",
              "<style>\n",
              "  .colab-df-quickchart {\n",
              "      --bg-color: #E8F0FE;\n",
              "      --fill-color: #1967D2;\n",
              "      --hover-bg-color: #E2EBFA;\n",
              "      --hover-fill-color: #174EA6;\n",
              "      --disabled-fill-color: #AAA;\n",
              "      --disabled-bg-color: #DDD;\n",
              "  }\n",
              "\n",
              "  [theme=dark] .colab-df-quickchart {\n",
              "      --bg-color: #3B4455;\n",
              "      --fill-color: #D2E3FC;\n",
              "      --hover-bg-color: #434B5C;\n",
              "      --hover-fill-color: #FFFFFF;\n",
              "      --disabled-bg-color: #3B4455;\n",
              "      --disabled-fill-color: #666;\n",
              "  }\n",
              "\n",
              "  .colab-df-quickchart {\n",
              "    background-color: var(--bg-color);\n",
              "    border: none;\n",
              "    border-radius: 50%;\n",
              "    cursor: pointer;\n",
              "    display: none;\n",
              "    fill: var(--fill-color);\n",
              "    height: 32px;\n",
              "    padding: 0;\n",
              "    width: 32px;\n",
              "  }\n",
              "\n",
              "  .colab-df-quickchart:hover {\n",
              "    background-color: var(--hover-bg-color);\n",
              "    box-shadow: 0 1px 2px rgba(60, 64, 67, 0.3), 0 1px 3px 1px rgba(60, 64, 67, 0.15);\n",
              "    fill: var(--button-hover-fill-color);\n",
              "  }\n",
              "\n",
              "  .colab-df-quickchart-complete:disabled,\n",
              "  .colab-df-quickchart-complete:disabled:hover {\n",
              "    background-color: var(--disabled-bg-color);\n",
              "    fill: var(--disabled-fill-color);\n",
              "    box-shadow: none;\n",
              "  }\n",
              "\n",
              "  .colab-df-spinner {\n",
              "    border: 2px solid var(--fill-color);\n",
              "    border-color: transparent;\n",
              "    border-bottom-color: var(--fill-color);\n",
              "    animation:\n",
              "      spin 1s steps(1) infinite;\n",
              "  }\n",
              "\n",
              "  @keyframes spin {\n",
              "    0% {\n",
              "      border-color: transparent;\n",
              "      border-bottom-color: var(--fill-color);\n",
              "      border-left-color: var(--fill-color);\n",
              "    }\n",
              "    20% {\n",
              "      border-color: transparent;\n",
              "      border-left-color: var(--fill-color);\n",
              "      border-top-color: var(--fill-color);\n",
              "    }\n",
              "    30% {\n",
              "      border-color: transparent;\n",
              "      border-left-color: var(--fill-color);\n",
              "      border-top-color: var(--fill-color);\n",
              "      border-right-color: var(--fill-color);\n",
              "    }\n",
              "    40% {\n",
              "      border-color: transparent;\n",
              "      border-right-color: var(--fill-color);\n",
              "      border-top-color: var(--fill-color);\n",
              "    }\n",
              "    60% {\n",
              "      border-color: transparent;\n",
              "      border-right-color: var(--fill-color);\n",
              "    }\n",
              "    80% {\n",
              "      border-color: transparent;\n",
              "      border-right-color: var(--fill-color);\n",
              "      border-bottom-color: var(--fill-color);\n",
              "    }\n",
              "    90% {\n",
              "      border-color: transparent;\n",
              "      border-bottom-color: var(--fill-color);\n",
              "    }\n",
              "  }\n",
              "</style>\n",
              "\n",
              "      <script>\n",
              "        async function quickchart(key) {\n",
              "          const quickchartButtonEl =\n",
              "            document.querySelector('#' + key + ' button');\n",
              "          quickchartButtonEl.disabled = true;  // To prevent multiple clicks.\n",
              "          quickchartButtonEl.classList.add('colab-df-spinner');\n",
              "          try {\n",
              "            const charts = await google.colab.kernel.invokeFunction(\n",
              "                'suggestCharts', [key], {});\n",
              "          } catch (error) {\n",
              "            console.error('Error during call to suggestCharts:', error);\n",
              "          }\n",
              "          quickchartButtonEl.classList.remove('colab-df-spinner');\n",
              "          quickchartButtonEl.classList.add('colab-df-quickchart-complete');\n",
              "        }\n",
              "        (() => {\n",
              "          let quickchartButtonEl =\n",
              "            document.querySelector('#df-578d7b78-35da-4e75-835f-0f6971fbabc2 button');\n",
              "          quickchartButtonEl.style.display =\n",
              "            google.colab.kernel.accessAllowed ? 'block' : 'none';\n",
              "        })();\n",
              "      </script>\n",
              "    </div>\n",
              "\n",
              "  <div id=\"id_84c7005c-3d14-4149-9f4f-c5e1e7d79bf0\">\n",
              "    <style>\n",
              "      .colab-df-generate {\n",
              "        background-color: #E8F0FE;\n",
              "        border: none;\n",
              "        border-radius: 50%;\n",
              "        cursor: pointer;\n",
              "        display: none;\n",
              "        fill: #1967D2;\n",
              "        height: 32px;\n",
              "        padding: 0 0 0 0;\n",
              "        width: 32px;\n",
              "      }\n",
              "\n",
              "      .colab-df-generate:hover {\n",
              "        background-color: #E2EBFA;\n",
              "        box-shadow: 0px 1px 2px rgba(60, 64, 67, 0.3), 0px 1px 3px 1px rgba(60, 64, 67, 0.15);\n",
              "        fill: #174EA6;\n",
              "      }\n",
              "\n",
              "      [theme=dark] .colab-df-generate {\n",
              "        background-color: #3B4455;\n",
              "        fill: #D2E3FC;\n",
              "      }\n",
              "\n",
              "      [theme=dark] .colab-df-generate:hover {\n",
              "        background-color: #434B5C;\n",
              "        box-shadow: 0px 1px 3px 1px rgba(0, 0, 0, 0.15);\n",
              "        filter: drop-shadow(0px 1px 2px rgba(0, 0, 0, 0.3));\n",
              "        fill: #FFFFFF;\n",
              "      }\n",
              "    </style>\n",
              "    <button class=\"colab-df-generate\" onclick=\"generateWithVariable('train')\"\n",
              "            title=\"Generate code using this dataframe.\"\n",
              "            style=\"display:none;\">\n",
              "\n",
              "  <svg xmlns=\"http://www.w3.org/2000/svg\" height=\"24px\"viewBox=\"0 0 24 24\"\n",
              "       width=\"24px\">\n",
              "    <path d=\"M7,19H8.4L18.45,9,17,7.55,7,17.6ZM5,21V16.75L18.45,3.32a2,2,0,0,1,2.83,0l1.4,1.43a1.91,1.91,0,0,1,.58,1.4,1.91,1.91,0,0,1-.58,1.4L9.25,21ZM18.45,9,17,7.55Zm-12,3A5.31,5.31,0,0,0,4.9,8.1,5.31,5.31,0,0,0,1,6.5,5.31,5.31,0,0,0,4.9,4.9,5.31,5.31,0,0,0,6.5,1,5.31,5.31,0,0,0,8.1,4.9,5.31,5.31,0,0,0,12,6.5,5.46,5.46,0,0,0,6.5,12Z\"/>\n",
              "  </svg>\n",
              "    </button>\n",
              "    <script>\n",
              "      (() => {\n",
              "      const buttonEl =\n",
              "        document.querySelector('#id_84c7005c-3d14-4149-9f4f-c5e1e7d79bf0 button.colab-df-generate');\n",
              "      buttonEl.style.display =\n",
              "        google.colab.kernel.accessAllowed ? 'block' : 'none';\n",
              "\n",
              "      buttonEl.onclick = () => {\n",
              "        google.colab.notebook.generateWithVariable('train');\n",
              "      }\n",
              "      })();\n",
              "    </script>\n",
              "  </div>\n",
              "\n",
              "    </div>\n",
              "  </div>\n"
            ],
            "application/vnd.google.colaboratory.intrinsic+json": {
              "type": "dataframe",
              "variable_name": "train",
              "summary": "{\n  \"name\": \"train\",\n  \"rows\": 23088,\n  \"fields\": [\n    {\n      \"column\": \"premise\",\n      \"properties\": {\n        \"dtype\": \"string\",\n        \"num_unique_values\": 22277,\n        \"samples\": [\n          \"He is alive and the source of all life.\",\n          \"However, the number of neutrons in an atom can vary.\",\n          \"There are large jets called spicules extending upto the corona.\"\n        ],\n        \"semantic_type\": \"\",\n        \"description\": \"\"\n      }\n    },\n    {\n      \"column\": \"hypothesis\",\n      \"properties\": {\n        \"dtype\": \"category\",\n        \"num_unique_values\": 1541,\n        \"samples\": [\n          \"The large intestine is a wide tube connecting the small intestine with the anus.\",\n          \"Millibar is the unit used to measure air pressure.\",\n          \"Vaccination can protect even young children against diseases such as viral meningitis.\"\n        ],\n        \"semantic_type\": \"\",\n        \"description\": \"\"\n      }\n    },\n    {\n      \"column\": \"label\",\n      \"properties\": {\n        \"dtype\": \"category\",\n        \"num_unique_values\": 2,\n        \"samples\": [\n          \"entails\",\n          \"neutral\"\n        ],\n        \"semantic_type\": \"\",\n        \"description\": \"\"\n      }\n    }\n  ]\n}"
            }
          },
          "metadata": {}
        }
      ],
      "source": [
        "train = pd.read_json('train.json')\n",
        "X_train = train[['premise', 'hypothesis']]\n",
        "y_train = train['label']\n",
        "\n",
        "val = pd.read_json('val.json')\n",
        "X_val = val[['premise', 'hypothesis']]\n",
        "y_val = val['label']\n",
        "\n",
        "test = pd.read_json('test.json')\n",
        "X_test = test[['premise', 'hypothesis']]\n",
        "y_test = test['label']\n",
        "\n",
        "print(f\"Train shape: {X_train.shape}\")\n",
        "print(f\"Val shape: {X_val.shape}\")\n",
        "print(f\"Test shape: {X_test.shape}\")\n",
        "display(train)"
      ]
    },
    {
      "cell_type": "markdown",
      "source": [
        "#### 1.3.1 Label Mapping and Dicts\n",
        "Convert each row to a dict and apply a fixed label map (entails: 1, neutral: 0) so downstream code gets consistent integer labels."
      ],
      "metadata": {
        "id": "-4uxdmXtMQwK"
      }
    },
    {
      "cell_type": "code",
      "source": [
        "\n",
        "LABEL_MAP = {\"entails\": 1, \"neutral\": 0}\n",
        "\n",
        "def df_to_examples(df):\n",
        "    # Keep premise/hypothesis separate; attach deterministic int label y\n",
        "    return [\n",
        "        {\n",
        "            \"premise\": row.premise,\n",
        "            \"hypothesis\": row.hypothesis,\n",
        "            \"label\": row.label,\n",
        "            \"y\": LABEL_MAP[row.label],\n",
        "        }\n",
        "        for row in df.itertuples(index=False)\n",
        "    ]\n",
        "\n",
        "train_data = df_to_examples(train)\n",
        "val_data = df_to_examples(val)\n",
        "test_data = df_to_examples(test)\n",
        "\n",
        "# quick sanity checkk\n",
        "def describe(name, data):\n",
        "    pos = sum(ex[\"y\"] for ex in data)\n",
        "    print(f\"[{name}] #={len(data)}  entails(1)={pos}  neutral(0)={len(data)-pos}\")\n",
        "\n",
        "describe(\"train\", train_data)\n",
        "describe(\"val\", val_data)\n",
        "describe(\"test\", test_data)\n"
      ],
      "metadata": {
        "colab": {
          "base_uri": "https://localhost:8080/"
        },
        "id": "csz1UWkdNrUJ",
        "outputId": "8f0de7af-da69-44b3-a336-b8f968bc404e"
      },
      "execution_count": 6,
      "outputs": [
        {
          "output_type": "stream",
          "name": "stdout",
          "text": [
            "[train] #=23088  entails(1)=8470  neutral(0)=14618\n",
            "[val] #=1304  entails(1)=657  neutral(0)=647\n",
            "[test] #=2126  entails(1)=842  neutral(0)=1284\n"
          ]
        }
      ]
    },
    {
      "cell_type": "markdown",
      "metadata": {
        "id": "9VtFvjtVfaqe"
      },
      "source": [
        "### 1.4. Data preprocessing\n",
        "As seen above, the data contains characters that requires cleaning before passing it to the model.\n",
        "\n",
        "The preprocessing pipeline is as follows:\n",
        "- Sentences are tokenised using SpaCy.\n",
        "- A vocabulary list is constructed, including a padding and out-of-vocabulary tag.\n",
        "- A GloVe Embedding model is loaded, pretrained on twitter.\n",
        "- Tokenised sentences are converted to an indexed list of words, padded to the maximum size of the premise and hypothesis, respectively.\n",
        "\n",
        "The labels are also converted to 0 or 1 (0 = neutral, 1 = entails).\n",
        "\n",
        "#### 1.4.1. SpaCy Tokenisation\n",
        "We tokenise the premises and hypotheses for the training set - removing all non alphanumeric characters and converting words to lower case."
      ]
    },
    {
      "cell_type": "code",
      "execution_count": 7,
      "metadata": {
        "colab": {
          "base_uri": "https://localhost:8080/",
          "height": 478
        },
        "id": "ydgaNHsXfLk6",
        "outputId": "0ecca378-9e8e-4317-e8eb-496e8c846c1d"
      },
      "outputs": [
        {
          "output_type": "stream",
          "name": "stdout",
          "text": [
            "\u001b[38;5;2m✔ Download and installation successful\u001b[0m\n",
            "You can now load the package via spacy.load('en_core_web_sm')\n",
            "\u001b[38;5;3m⚠ Restart to reload dependencies\u001b[0m\n",
            "If you are in a Jupyter or Colab notebook, you may need to restart Python in\n",
            "order to load all the package's dependencies. You can do this by selecting the\n",
            "'Restart kernel' or 'Restart runtime' option.\n"
          ]
        },
        {
          "output_type": "error",
          "ename": "KeyboardInterrupt",
          "evalue": "",
          "traceback": [
            "\u001b[0;31m---------------------------------------------------------------------------\u001b[0m",
            "\u001b[0;31mKeyboardInterrupt\u001b[0m                         Traceback (most recent call last)",
            "\u001b[0;32m/tmp/ipython-input-3114573247.py\u001b[0m in \u001b[0;36m<cell line: 0>\u001b[0;34m()\u001b[0m\n\u001b[1;32m      4\u001b[0m \u001b[0mhypothesis_list\u001b[0m \u001b[0;34m=\u001b[0m \u001b[0mX_train\u001b[0m\u001b[0;34m[\u001b[0m\u001b[0;34m'hypothesis'\u001b[0m\u001b[0;34m]\u001b[0m\u001b[0;34m.\u001b[0m\u001b[0mtolist\u001b[0m\u001b[0;34m(\u001b[0m\u001b[0;34m)\u001b[0m\u001b[0;34m\u001b[0m\u001b[0;34m\u001b[0m\u001b[0m\n\u001b[1;32m      5\u001b[0m \u001b[0;34m\u001b[0m\u001b[0m\n\u001b[0;32m----> 6\u001b[0;31m \u001b[0mprem_tokens_list\u001b[0m \u001b[0;34m=\u001b[0m \u001b[0mlist\u001b[0m\u001b[0;34m(\u001b[0m\u001b[0mtokeniser\u001b[0m\u001b[0;34m.\u001b[0m\u001b[0mpipe\u001b[0m\u001b[0;34m(\u001b[0m\u001b[0mpremise_list\u001b[0m\u001b[0;34m,\u001b[0m \u001b[0mbatch_size\u001b[0m\u001b[0;34m=\u001b[0m\u001b[0;36m64\u001b[0m\u001b[0;34m)\u001b[0m\u001b[0;34m)\u001b[0m\u001b[0;34m\u001b[0m\u001b[0;34m\u001b[0m\u001b[0m\n\u001b[0m\u001b[1;32m      7\u001b[0m \u001b[0mX_train\u001b[0m\u001b[0;34m.\u001b[0m\u001b[0mloc\u001b[0m\u001b[0;34m[\u001b[0m\u001b[0;34m:\u001b[0m\u001b[0;34m,\u001b[0m \u001b[0;34m\"premise\"\u001b[0m\u001b[0;34m]\u001b[0m \u001b[0;34m=\u001b[0m \u001b[0;34m[\u001b[0m\u001b[0;34m[\u001b[0m\u001b[0mtoken\u001b[0m\u001b[0;34m.\u001b[0m\u001b[0mtext\u001b[0m\u001b[0;34m.\u001b[0m\u001b[0mlower\u001b[0m\u001b[0;34m(\u001b[0m\u001b[0;34m)\u001b[0m \u001b[0;32mfor\u001b[0m \u001b[0mtoken\u001b[0m \u001b[0;32min\u001b[0m \u001b[0mtokens\u001b[0m \u001b[0;32mif\u001b[0m \u001b[0mre\u001b[0m\u001b[0;34m.\u001b[0m\u001b[0mmatch\u001b[0m\u001b[0;34m(\u001b[0m\u001b[0;34mr'^\\w+$'\u001b[0m\u001b[0;34m,\u001b[0m \u001b[0mtoken\u001b[0m\u001b[0;34m.\u001b[0m\u001b[0mtext\u001b[0m\u001b[0;34m)\u001b[0m\u001b[0;34m]\u001b[0m \u001b[0;32mfor\u001b[0m \u001b[0mtokens\u001b[0m \u001b[0;32min\u001b[0m \u001b[0mprem_tokens_list\u001b[0m\u001b[0;34m]\u001b[0m\u001b[0;34m\u001b[0m\u001b[0;34m\u001b[0m\u001b[0m\n\u001b[1;32m      8\u001b[0m \u001b[0;34m\u001b[0m\u001b[0m\n",
            "\u001b[0;32m/usr/local/lib/python3.12/dist-packages/spacy/language.py\u001b[0m in \u001b[0;36mpipe\u001b[0;34m(self, texts, as_tuples, batch_size, disable, component_cfg, n_process)\u001b[0m\n\u001b[1;32m   1620\u001b[0m             \u001b[0;32mfor\u001b[0m \u001b[0mpipe\u001b[0m \u001b[0;32min\u001b[0m \u001b[0mpipes\u001b[0m\u001b[0;34m:\u001b[0m\u001b[0;34m\u001b[0m\u001b[0;34m\u001b[0m\u001b[0m\n\u001b[1;32m   1621\u001b[0m                 \u001b[0mdocs\u001b[0m \u001b[0;34m=\u001b[0m \u001b[0mpipe\u001b[0m\u001b[0;34m(\u001b[0m\u001b[0mdocs\u001b[0m\u001b[0;34m)\u001b[0m\u001b[0;34m\u001b[0m\u001b[0;34m\u001b[0m\u001b[0m\n\u001b[0;32m-> 1622\u001b[0;31m         \u001b[0;32mfor\u001b[0m \u001b[0mdoc\u001b[0m \u001b[0;32min\u001b[0m \u001b[0mdocs\u001b[0m\u001b[0;34m:\u001b[0m\u001b[0;34m\u001b[0m\u001b[0;34m\u001b[0m\u001b[0m\n\u001b[0m\u001b[1;32m   1623\u001b[0m             \u001b[0;32myield\u001b[0m \u001b[0mdoc\u001b[0m\u001b[0;34m\u001b[0m\u001b[0;34m\u001b[0m\u001b[0m\n\u001b[1;32m   1624\u001b[0m \u001b[0;34m\u001b[0m\u001b[0m\n",
            "\u001b[0;32m/usr/local/lib/python3.12/dist-packages/spacy/util.py\u001b[0m in \u001b[0;36m_pipe\u001b[0;34m(docs, proc, name, default_error_handler, kwargs)\u001b[0m\n\u001b[1;32m   1712\u001b[0m ) -> Iterator[\"Doc\"]:\n\u001b[1;32m   1713\u001b[0m     \u001b[0;32mif\u001b[0m \u001b[0mhasattr\u001b[0m\u001b[0;34m(\u001b[0m\u001b[0mproc\u001b[0m\u001b[0;34m,\u001b[0m \u001b[0;34m\"pipe\"\u001b[0m\u001b[0;34m)\u001b[0m\u001b[0;34m:\u001b[0m\u001b[0;34m\u001b[0m\u001b[0;34m\u001b[0m\u001b[0m\n\u001b[0;32m-> 1714\u001b[0;31m         \u001b[0;32myield\u001b[0m \u001b[0;32mfrom\u001b[0m \u001b[0mproc\u001b[0m\u001b[0;34m.\u001b[0m\u001b[0mpipe\u001b[0m\u001b[0;34m(\u001b[0m\u001b[0mdocs\u001b[0m\u001b[0;34m,\u001b[0m \u001b[0;34m**\u001b[0m\u001b[0mkwargs\u001b[0m\u001b[0;34m)\u001b[0m\u001b[0;34m\u001b[0m\u001b[0;34m\u001b[0m\u001b[0m\n\u001b[0m\u001b[1;32m   1715\u001b[0m     \u001b[0;32melse\u001b[0m\u001b[0;34m:\u001b[0m\u001b[0;34m\u001b[0m\u001b[0;34m\u001b[0m\u001b[0m\n\u001b[1;32m   1716\u001b[0m         \u001b[0;31m# We added some args for pipe that __call__ doesn't expect.\u001b[0m\u001b[0;34m\u001b[0m\u001b[0;34m\u001b[0m\u001b[0m\n",
            "\u001b[0;32m/usr/local/lib/python3.12/dist-packages/spacy/pipeline/transition_parser.pyx\u001b[0m in \u001b[0;36mpipe\u001b[0;34m()\u001b[0m\n",
            "\u001b[0;32m/usr/local/lib/python3.12/dist-packages/spacy/util.py\u001b[0m in \u001b[0;36mminibatch\u001b[0;34m(items, size)\u001b[0m\n\u001b[1;32m   1659\u001b[0m     \u001b[0;32mwhile\u001b[0m \u001b[0;32mTrue\u001b[0m\u001b[0;34m:\u001b[0m\u001b[0;34m\u001b[0m\u001b[0;34m\u001b[0m\u001b[0m\n\u001b[1;32m   1660\u001b[0m         \u001b[0mbatch_size\u001b[0m \u001b[0;34m=\u001b[0m \u001b[0mnext\u001b[0m\u001b[0;34m(\u001b[0m\u001b[0msize_\u001b[0m\u001b[0;34m)\u001b[0m\u001b[0;34m\u001b[0m\u001b[0;34m\u001b[0m\u001b[0m\n\u001b[0;32m-> 1661\u001b[0;31m         \u001b[0mbatch\u001b[0m \u001b[0;34m=\u001b[0m \u001b[0mlist\u001b[0m\u001b[0;34m(\u001b[0m\u001b[0mitertools\u001b[0m\u001b[0;34m.\u001b[0m\u001b[0mislice\u001b[0m\u001b[0;34m(\u001b[0m\u001b[0mitems\u001b[0m\u001b[0;34m,\u001b[0m \u001b[0mint\u001b[0m\u001b[0;34m(\u001b[0m\u001b[0mbatch_size\u001b[0m\u001b[0;34m)\u001b[0m\u001b[0;34m)\u001b[0m\u001b[0;34m)\u001b[0m\u001b[0;34m\u001b[0m\u001b[0;34m\u001b[0m\u001b[0m\n\u001b[0m\u001b[1;32m   1662\u001b[0m         \u001b[0;32mif\u001b[0m \u001b[0mlen\u001b[0m\u001b[0;34m(\u001b[0m\u001b[0mbatch\u001b[0m\u001b[0;34m)\u001b[0m \u001b[0;34m==\u001b[0m \u001b[0;36m0\u001b[0m\u001b[0;34m:\u001b[0m\u001b[0;34m\u001b[0m\u001b[0;34m\u001b[0m\u001b[0m\n\u001b[1;32m   1663\u001b[0m             \u001b[0;32mbreak\u001b[0m\u001b[0;34m\u001b[0m\u001b[0;34m\u001b[0m\u001b[0m\n",
            "\u001b[0;32m/usr/local/lib/python3.12/dist-packages/spacy/util.py\u001b[0m in \u001b[0;36m_pipe\u001b[0;34m(docs, proc, name, default_error_handler, kwargs)\u001b[0m\n\u001b[1;32m   1712\u001b[0m ) -> Iterator[\"Doc\"]:\n\u001b[1;32m   1713\u001b[0m     \u001b[0;32mif\u001b[0m \u001b[0mhasattr\u001b[0m\u001b[0;34m(\u001b[0m\u001b[0mproc\u001b[0m\u001b[0;34m,\u001b[0m \u001b[0;34m\"pipe\"\u001b[0m\u001b[0;34m)\u001b[0m\u001b[0;34m:\u001b[0m\u001b[0;34m\u001b[0m\u001b[0;34m\u001b[0m\u001b[0m\n\u001b[0;32m-> 1714\u001b[0;31m         \u001b[0;32myield\u001b[0m \u001b[0;32mfrom\u001b[0m \u001b[0mproc\u001b[0m\u001b[0;34m.\u001b[0m\u001b[0mpipe\u001b[0m\u001b[0;34m(\u001b[0m\u001b[0mdocs\u001b[0m\u001b[0;34m,\u001b[0m \u001b[0;34m**\u001b[0m\u001b[0mkwargs\u001b[0m\u001b[0;34m)\u001b[0m\u001b[0;34m\u001b[0m\u001b[0;34m\u001b[0m\u001b[0m\n\u001b[0m\u001b[1;32m   1715\u001b[0m     \u001b[0;32melse\u001b[0m\u001b[0;34m:\u001b[0m\u001b[0;34m\u001b[0m\u001b[0;34m\u001b[0m\u001b[0m\n\u001b[1;32m   1716\u001b[0m         \u001b[0;31m# We added some args for pipe that __call__ doesn't expect.\u001b[0m\u001b[0;34m\u001b[0m\u001b[0;34m\u001b[0m\u001b[0m\n",
            "\u001b[0;32m/usr/local/lib/python3.12/dist-packages/spacy/pipeline/pipe.pyx\u001b[0m in \u001b[0;36mpipe\u001b[0;34m()\u001b[0m\n",
            "\u001b[0;32m/usr/local/lib/python3.12/dist-packages/spacy/util.py\u001b[0m in \u001b[0;36m_pipe\u001b[0;34m(docs, proc, name, default_error_handler, kwargs)\u001b[0m\n\u001b[1;32m   1712\u001b[0m ) -> Iterator[\"Doc\"]:\n\u001b[1;32m   1713\u001b[0m     \u001b[0;32mif\u001b[0m \u001b[0mhasattr\u001b[0m\u001b[0;34m(\u001b[0m\u001b[0mproc\u001b[0m\u001b[0;34m,\u001b[0m \u001b[0;34m\"pipe\"\u001b[0m\u001b[0;34m)\u001b[0m\u001b[0;34m:\u001b[0m\u001b[0;34m\u001b[0m\u001b[0;34m\u001b[0m\u001b[0m\n\u001b[0;32m-> 1714\u001b[0;31m         \u001b[0;32myield\u001b[0m \u001b[0;32mfrom\u001b[0m \u001b[0mproc\u001b[0m\u001b[0;34m.\u001b[0m\u001b[0mpipe\u001b[0m\u001b[0;34m(\u001b[0m\u001b[0mdocs\u001b[0m\u001b[0;34m,\u001b[0m \u001b[0;34m**\u001b[0m\u001b[0mkwargs\u001b[0m\u001b[0;34m)\u001b[0m\u001b[0;34m\u001b[0m\u001b[0;34m\u001b[0m\u001b[0m\n\u001b[0m\u001b[1;32m   1715\u001b[0m     \u001b[0;32melse\u001b[0m\u001b[0;34m:\u001b[0m\u001b[0;34m\u001b[0m\u001b[0;34m\u001b[0m\u001b[0m\n\u001b[1;32m   1716\u001b[0m         \u001b[0;31m# We added some args for pipe that __call__ doesn't expect.\u001b[0m\u001b[0;34m\u001b[0m\u001b[0;34m\u001b[0m\u001b[0m\n",
            "\u001b[0;32m/usr/local/lib/python3.12/dist-packages/spacy/pipeline/pipe.pyx\u001b[0m in \u001b[0;36mpipe\u001b[0;34m()\u001b[0m\n",
            "\u001b[0;32m/usr/local/lib/python3.12/dist-packages/spacy/util.py\u001b[0m in \u001b[0;36m_pipe\u001b[0;34m(docs, proc, name, default_error_handler, kwargs)\u001b[0m\n\u001b[1;32m   1712\u001b[0m ) -> Iterator[\"Doc\"]:\n\u001b[1;32m   1713\u001b[0m     \u001b[0;32mif\u001b[0m \u001b[0mhasattr\u001b[0m\u001b[0;34m(\u001b[0m\u001b[0mproc\u001b[0m\u001b[0;34m,\u001b[0m \u001b[0;34m\"pipe\"\u001b[0m\u001b[0;34m)\u001b[0m\u001b[0;34m:\u001b[0m\u001b[0;34m\u001b[0m\u001b[0;34m\u001b[0m\u001b[0m\n\u001b[0;32m-> 1714\u001b[0;31m         \u001b[0;32myield\u001b[0m \u001b[0;32mfrom\u001b[0m \u001b[0mproc\u001b[0m\u001b[0;34m.\u001b[0m\u001b[0mpipe\u001b[0m\u001b[0;34m(\u001b[0m\u001b[0mdocs\u001b[0m\u001b[0;34m,\u001b[0m \u001b[0;34m**\u001b[0m\u001b[0mkwargs\u001b[0m\u001b[0;34m)\u001b[0m\u001b[0;34m\u001b[0m\u001b[0;34m\u001b[0m\u001b[0m\n\u001b[0m\u001b[1;32m   1715\u001b[0m     \u001b[0;32melse\u001b[0m\u001b[0;34m:\u001b[0m\u001b[0;34m\u001b[0m\u001b[0;34m\u001b[0m\u001b[0m\n\u001b[1;32m   1716\u001b[0m         \u001b[0;31m# We added some args for pipe that __call__ doesn't expect.\u001b[0m\u001b[0;34m\u001b[0m\u001b[0;34m\u001b[0m\u001b[0m\n",
            "\u001b[0;32m/usr/local/lib/python3.12/dist-packages/spacy/pipeline/transition_parser.pyx\u001b[0m in \u001b[0;36mpipe\u001b[0;34m()\u001b[0m\n",
            "\u001b[0;32m/usr/local/lib/python3.12/dist-packages/spacy/pipeline/transition_parser.pyx\u001b[0m in \u001b[0;36mspacy.pipeline.transition_parser.Parser.predict\u001b[0;34m()\u001b[0m\n",
            "\u001b[0;32m/usr/local/lib/python3.12/dist-packages/spacy/pipeline/transition_parser.pyx\u001b[0m in \u001b[0;36mspacy.pipeline.transition_parser.Parser.greedy_parse\u001b[0;34m()\u001b[0m\n",
            "\u001b[0;32m/usr/local/lib/python3.12/dist-packages/thinc/model.py\u001b[0m in \u001b[0;36mpredict\u001b[0;34m(self, X)\u001b[0m\n\u001b[1;32m    332\u001b[0m         \u001b[0monly\u001b[0m \u001b[0mthe\u001b[0m \u001b[0moutput\u001b[0m\u001b[0;34m,\u001b[0m \u001b[0minstead\u001b[0m \u001b[0mof\u001b[0m \u001b[0mthe\u001b[0m\u001b[0;31m \u001b[0m\u001b[0;31m`\u001b[0m\u001b[0;34m(\u001b[0m\u001b[0moutput\u001b[0m\u001b[0;34m,\u001b[0m \u001b[0mcallback\u001b[0m\u001b[0;34m)\u001b[0m\u001b[0;31m`\u001b[0m \u001b[0mtuple\u001b[0m\u001b[0;34m.\u001b[0m\u001b[0;34m\u001b[0m\u001b[0;34m\u001b[0m\u001b[0m\n\u001b[1;32m    333\u001b[0m         \"\"\"\n\u001b[0;32m--> 334\u001b[0;31m         \u001b[0;32mreturn\u001b[0m \u001b[0mself\u001b[0m\u001b[0;34m.\u001b[0m\u001b[0m_func\u001b[0m\u001b[0;34m(\u001b[0m\u001b[0mself\u001b[0m\u001b[0;34m,\u001b[0m \u001b[0mX\u001b[0m\u001b[0;34m,\u001b[0m \u001b[0mis_train\u001b[0m\u001b[0;34m=\u001b[0m\u001b[0;32mFalse\u001b[0m\u001b[0;34m)\u001b[0m\u001b[0;34m[\u001b[0m\u001b[0;36m0\u001b[0m\u001b[0;34m]\u001b[0m\u001b[0;34m\u001b[0m\u001b[0;34m\u001b[0m\u001b[0m\n\u001b[0m\u001b[1;32m    335\u001b[0m \u001b[0;34m\u001b[0m\u001b[0m\n\u001b[1;32m    336\u001b[0m     \u001b[0;32mdef\u001b[0m \u001b[0mfinish_update\u001b[0m\u001b[0;34m(\u001b[0m\u001b[0mself\u001b[0m\u001b[0;34m,\u001b[0m \u001b[0moptimizer\u001b[0m\u001b[0;34m:\u001b[0m \u001b[0mOptimizer\u001b[0m\u001b[0;34m)\u001b[0m \u001b[0;34m->\u001b[0m \u001b[0;32mNone\u001b[0m\u001b[0;34m:\u001b[0m\u001b[0;34m\u001b[0m\u001b[0;34m\u001b[0m\u001b[0m\n",
            "\u001b[0;32m/usr/local/lib/python3.12/dist-packages/spacy/ml/tb_framework.py\u001b[0m in \u001b[0;36mforward\u001b[0;34m(model, X, is_train)\u001b[0m\n\u001b[1;32m     31\u001b[0m \u001b[0;34m\u001b[0m\u001b[0m\n\u001b[1;32m     32\u001b[0m \u001b[0;32mdef\u001b[0m \u001b[0mforward\u001b[0m\u001b[0;34m(\u001b[0m\u001b[0mmodel\u001b[0m\u001b[0;34m,\u001b[0m \u001b[0mX\u001b[0m\u001b[0;34m,\u001b[0m \u001b[0mis_train\u001b[0m\u001b[0;34m)\u001b[0m\u001b[0;34m:\u001b[0m\u001b[0;34m\u001b[0m\u001b[0;34m\u001b[0m\u001b[0m\n\u001b[0;32m---> 33\u001b[0;31m     step_model = ParserStepModel(\n\u001b[0m\u001b[1;32m     34\u001b[0m         \u001b[0mX\u001b[0m\u001b[0;34m,\u001b[0m\u001b[0;34m\u001b[0m\u001b[0;34m\u001b[0m\u001b[0m\n\u001b[1;32m     35\u001b[0m         \u001b[0mmodel\u001b[0m\u001b[0;34m.\u001b[0m\u001b[0mlayers\u001b[0m\u001b[0;34m,\u001b[0m\u001b[0;34m\u001b[0m\u001b[0;34m\u001b[0m\u001b[0m\n",
            "\u001b[0;32m/usr/local/lib/python3.12/dist-packages/spacy/ml/parser_model.pyx\u001b[0m in \u001b[0;36mspacy.ml.parser_model.ParserStepModel.__init__\u001b[0;34m()\u001b[0m\n",
            "\u001b[0;32m/usr/local/lib/python3.12/dist-packages/spacy/ml/parser_model.pyx\u001b[0m in \u001b[0;36mspacy.ml.parser_model.precompute_hiddens.__init__\u001b[0;34m()\u001b[0m\n",
            "\u001b[0;32m/usr/local/lib/python3.12/dist-packages/thinc/model.py\u001b[0m in \u001b[0;36m__call__\u001b[0;34m(self, X, is_train)\u001b[0m\n\u001b[1;32m    308\u001b[0m         \"\"\"Call the model's `forward` function, returning the output and a\n\u001b[1;32m    309\u001b[0m         callback to compute the gradients via backpropagation.\"\"\"\n\u001b[0;32m--> 310\u001b[0;31m         \u001b[0;32mreturn\u001b[0m \u001b[0mself\u001b[0m\u001b[0;34m.\u001b[0m\u001b[0m_func\u001b[0m\u001b[0;34m(\u001b[0m\u001b[0mself\u001b[0m\u001b[0;34m,\u001b[0m \u001b[0mX\u001b[0m\u001b[0;34m,\u001b[0m \u001b[0mis_train\u001b[0m\u001b[0;34m=\u001b[0m\u001b[0mis_train\u001b[0m\u001b[0;34m)\u001b[0m\u001b[0;34m\u001b[0m\u001b[0;34m\u001b[0m\u001b[0m\n\u001b[0m\u001b[1;32m    311\u001b[0m \u001b[0;34m\u001b[0m\u001b[0m\n\u001b[1;32m    312\u001b[0m     \u001b[0;32mdef\u001b[0m \u001b[0minitialize\u001b[0m\u001b[0;34m(\u001b[0m\u001b[0mself\u001b[0m\u001b[0;34m,\u001b[0m \u001b[0mX\u001b[0m\u001b[0;34m:\u001b[0m \u001b[0mOptional\u001b[0m\u001b[0;34m[\u001b[0m\u001b[0mInT\u001b[0m\u001b[0;34m]\u001b[0m \u001b[0;34m=\u001b[0m \u001b[0;32mNone\u001b[0m\u001b[0;34m,\u001b[0m \u001b[0mY\u001b[0m\u001b[0;34m:\u001b[0m \u001b[0mOptional\u001b[0m\u001b[0;34m[\u001b[0m\u001b[0mOutT\u001b[0m\u001b[0;34m]\u001b[0m \u001b[0;34m=\u001b[0m \u001b[0;32mNone\u001b[0m\u001b[0;34m)\u001b[0m \u001b[0;34m->\u001b[0m \u001b[0;34m\"Model\"\u001b[0m\u001b[0;34m:\u001b[0m\u001b[0;34m\u001b[0m\u001b[0;34m\u001b[0m\u001b[0m\n",
            "\u001b[0;32m/usr/local/lib/python3.12/dist-packages/spacy/ml/_precomputable_affine.py\u001b[0m in \u001b[0;36mforward\u001b[0;34m(model, X, is_train)\u001b[0m\n\u001b[1;32m     24\u001b[0m     \u001b[0;31m# Preallocate array for layer output, including padding.\u001b[0m\u001b[0;34m\u001b[0m\u001b[0;34m\u001b[0m\u001b[0m\n\u001b[1;32m     25\u001b[0m     \u001b[0mYf\u001b[0m \u001b[0;34m=\u001b[0m \u001b[0mmodel\u001b[0m\u001b[0;34m.\u001b[0m\u001b[0mops\u001b[0m\u001b[0;34m.\u001b[0m\u001b[0malloc2f\u001b[0m\u001b[0;34m(\u001b[0m\u001b[0mX\u001b[0m\u001b[0;34m.\u001b[0m\u001b[0mshape\u001b[0m\u001b[0;34m[\u001b[0m\u001b[0;36m0\u001b[0m\u001b[0;34m]\u001b[0m \u001b[0;34m+\u001b[0m \u001b[0;36m1\u001b[0m\u001b[0;34m,\u001b[0m \u001b[0mnF\u001b[0m \u001b[0;34m*\u001b[0m \u001b[0mnO\u001b[0m \u001b[0;34m*\u001b[0m \u001b[0mnP\u001b[0m\u001b[0;34m,\u001b[0m \u001b[0mzeros\u001b[0m\u001b[0;34m=\u001b[0m\u001b[0;32mFalse\u001b[0m\u001b[0;34m)\u001b[0m\u001b[0;34m\u001b[0m\u001b[0;34m\u001b[0m\u001b[0m\n\u001b[0;32m---> 26\u001b[0;31m     \u001b[0mmodel\u001b[0m\u001b[0;34m.\u001b[0m\u001b[0mops\u001b[0m\u001b[0;34m.\u001b[0m\u001b[0mgemm\u001b[0m\u001b[0;34m(\u001b[0m\u001b[0mX\u001b[0m\u001b[0;34m,\u001b[0m \u001b[0mW\u001b[0m\u001b[0;34m.\u001b[0m\u001b[0mreshape\u001b[0m\u001b[0;34m(\u001b[0m\u001b[0;34m(\u001b[0m\u001b[0mnF\u001b[0m \u001b[0;34m*\u001b[0m \u001b[0mnO\u001b[0m \u001b[0;34m*\u001b[0m \u001b[0mnP\u001b[0m\u001b[0;34m,\u001b[0m \u001b[0mnI\u001b[0m\u001b[0;34m)\u001b[0m\u001b[0;34m)\u001b[0m\u001b[0;34m,\u001b[0m \u001b[0mtrans2\u001b[0m\u001b[0;34m=\u001b[0m\u001b[0;32mTrue\u001b[0m\u001b[0;34m,\u001b[0m \u001b[0mout\u001b[0m\u001b[0;34m=\u001b[0m\u001b[0mYf\u001b[0m\u001b[0;34m[\u001b[0m\u001b[0;36m1\u001b[0m\u001b[0;34m:\u001b[0m\u001b[0;34m]\u001b[0m\u001b[0;34m)\u001b[0m\u001b[0;34m\u001b[0m\u001b[0;34m\u001b[0m\u001b[0m\n\u001b[0m\u001b[1;32m     27\u001b[0m     \u001b[0mYf\u001b[0m \u001b[0;34m=\u001b[0m \u001b[0mYf\u001b[0m\u001b[0;34m.\u001b[0m\u001b[0mreshape\u001b[0m\u001b[0;34m(\u001b[0m\u001b[0;34m(\u001b[0m\u001b[0mYf\u001b[0m\u001b[0;34m.\u001b[0m\u001b[0mshape\u001b[0m\u001b[0;34m[\u001b[0m\u001b[0;36m0\u001b[0m\u001b[0;34m]\u001b[0m\u001b[0;34m,\u001b[0m \u001b[0mnF\u001b[0m\u001b[0;34m,\u001b[0m \u001b[0mnO\u001b[0m\u001b[0;34m,\u001b[0m \u001b[0mnP\u001b[0m\u001b[0;34m)\u001b[0m\u001b[0;34m)\u001b[0m\u001b[0;34m\u001b[0m\u001b[0;34m\u001b[0m\u001b[0m\n\u001b[1;32m     28\u001b[0m \u001b[0;34m\u001b[0m\u001b[0m\n",
            "\u001b[0;31mKeyboardInterrupt\u001b[0m: "
          ]
        }
      ],
      "source": [
        "spacy.cli.download('en_core_web_sm')\n",
        "tokeniser = spacy.load('en_core_web_sm')\n",
        "premise_list = X_train['premise'].tolist()\n",
        "hypothesis_list = X_train['hypothesis'].tolist()\n",
        "\n",
        "prem_tokens_list = list(tokeniser.pipe(premise_list, batch_size=64))\n",
        "X_train.loc[:, \"premise\"] = [[token.text.lower() for token in tokens if re.match(r'^\\w+$', token.text)] for tokens in prem_tokens_list]\n",
        "\n",
        "hyp_tokens_list = list(tokeniser.pipe(hypothesis_list, batch_size=64))\n",
        "X_train.loc[:, \"hypothesis\"] = [[token.text.lower() for token in tokens if re.match(r'^\\w+$', token.text)] for tokens in hyp_tokens_list]\n",
        "\n",
        "display(X_train)"
      ]
    },
    {
      "cell_type": "markdown",
      "source": [
        "##### 1.4.1.1 Tokenisation for VSE\n",
        "Deterministically tokenize premise and hypothesis separately (spaCy or lowercase-split) and attach the results as premise_tokens / hypo_tokens to each example. This keeps the raw DataFrame text intact for EDA, avoids concatenation (Siamese setup), applies the same tokenizer to all splits, and prepares for vocab building on the train split only.\n"
      ],
      "metadata": {
        "id": "ATprZGESUE22"
      }
    },
    {
      "cell_type": "code",
      "source": [
        "import spacy, re\n",
        "from spacy.cli import download as spacy_download\n",
        "\n",
        "nlp = spacy.load(\"en_core_web_sm\", disable=[\"ner\",\"parser\",\"tagger\",\"lemmatizer\"])\n",
        "\n",
        "# ---- Token filtering toggles ----\n",
        "# If you want to EXACTLY match your partner's behaviour (regex r'^\\w+$', which allows underscores):\n",
        "USE_PARTNER_REGEX = True\n",
        "\n",
        "def keep_token_text(text: str) -> bool:\n",
        "    if USE_PARTNER_REGEX:\n",
        "        # Partner's rule: letters/digits/underscore only\n",
        "        return bool(re.match(r'^\\w+$', text))\n",
        "    else:\n",
        "        # Your previous rule: alphanumeric only (no underscores)\n",
        "        return text.isalnum()\n",
        "\n",
        "def tok_doc(doc):\n",
        "    # lower-case + filter\n",
        "    return [t.text.lower() for t in doc if keep_token_text(t.text)]\n",
        "\n",
        "# ---------- DataFrame tokenisation (does NOT mutate raw text columns) ----------\n",
        "def tokenize_dataset_df(df, dataset_name=\"dataset\", batch_size=64):\n",
        "    \"\"\"\n",
        "    Returns a copy with 'premise_tokens' and 'hypothesis_tokens' columns.\n",
        "    Does not overwrite 'premise'/'hypothesis' raw text (handy for EDA).\n",
        "    \"\"\"\n",
        "    print(f\"Tokenising {dataset_name} (DataFrame view)...\")\n",
        "    out = df.copy()\n",
        "    prem_docs = list(nlp.pipe(out[\"premise\"].tolist(), batch_size=batch_size))\n",
        "    hypo_docs = list(nlp.pipe(out[\"hypothesis\"].tolist(), batch_size=batch_size))\n",
        "    out[\"premise_tokens\"] = [tok_doc(d) for d in prem_docs]\n",
        "    out[\"hypothesis_tokens\"] = [tok_doc(d) for d in hypo_docs]\n",
        "    print(f\"✓ {dataset_name} tokenised (added *_tokens columns)\")\n",
        "    return out\n",
        "\n",
        "# ---------- Attach tokens into your examples list (used by your loaders) ----------\n",
        "def attach_tokens_to_examples(df, examples, dataset_name=\"dataset\", batch_size=64):\n",
        "    \"\"\"\n",
        "    df: DataFrame with 'premise','hypothesis'\n",
        "    examples: list of dicts with keys including 'premise','hypothesis','y'\n",
        "    Side-effect: adds 'premise_tokens' and 'hypo_tokens' to each example (in place)\n",
        "    \"\"\"\n",
        "    print(f\"Attaching tokens to examples for {dataset_name}...\")\n",
        "    prem_docs = list(nlp.pipe(df['premise'].tolist(), batch_size=batch_size))\n",
        "    hypo_docs = list(nlp.pipe(df['hypothesis'].tolist(), batch_size=batch_size))\n",
        "    for ex, pdoc, hdoc in zip(examples, prem_docs, hypo_docs):\n",
        "        ex['premise_tokens'] = tok_doc(pdoc)\n",
        "        ex['hypo_tokens']   = tok_doc(hdoc)\n",
        "    print(f\"✓ Tokens attached for {dataset_name}\")\n",
        "\n",
        "# ----------------- Apply to train/val/test -----------------\n",
        "# Assumes you already have:\n",
        "#   train, val, test            -> DataFrames with 'premise','hypothesis'\n",
        "#   train_data, val_data, ...   -> list[dict] examples consumed by your dataset/dataloader\n",
        "\n",
        "attach_tokens_to_examples(train, train_data, dataset_name=\"Training set\")\n",
        "attach_tokens_to_examples(val,   val_data,   dataset_name=\"Validation set\")\n",
        "attach_tokens_to_examples(test,  test_data,  dataset_name=\"Test set\")\n",
        "\n",
        "# Optional: keep a tidy DataFrame view for quick EDA / sanity checks\n",
        "X_train_tokens = tokenize_dataset_df(train, \"Training set\")\n",
        "X_val_tokens   = tokenize_dataset_df(val,   \"Validation set\")\n",
        "X_test_tokens  = tokenize_dataset_df(test,  \"Test set\")\n",
        "\n",
        "# Peek\n",
        "display(X_train_tokens.head())\n"
      ],
      "metadata": {
        "colab": {
          "base_uri": "https://localhost:8080/",
          "height": 501
        },
        "id": "bkhqctIeUSIU",
        "outputId": "35c82dc8-024a-4a95-d949-10b2b28a1aff"
      },
      "execution_count": 8,
      "outputs": [
        {
          "output_type": "stream",
          "name": "stdout",
          "text": [
            "Attaching tokens to examples for Training set...\n",
            "✓ Tokens attached for Training set\n",
            "Attaching tokens to examples for Validation set...\n",
            "✓ Tokens attached for Validation set\n",
            "Attaching tokens to examples for Test set...\n",
            "✓ Tokens attached for Test set\n",
            "Tokenising Training set (DataFrame view)...\n",
            "✓ Training set tokenised (added *_tokens columns)\n",
            "Tokenising Validation set (DataFrame view)...\n",
            "✓ Validation set tokenised (added *_tokens columns)\n",
            "Tokenising Test set (DataFrame view)...\n",
            "✓ Test set tokenised (added *_tokens columns)\n"
          ]
        },
        {
          "output_type": "display_data",
          "data": {
            "text/plain": [
              "                                             premise  \\\n",
              "0  Pluto rotates once on its axis every 6.39 Eart...   \n",
              "1  ---Glenn =====================================...   \n",
              "2  geysers - periodic gush of hot water at the su...   \n",
              "3  Facts: Liquid water droplets can be changed in...   \n",
              "4  By comparison, the earth rotates on its axis o...   \n",
              "\n",
              "                                          hypothesis    label  \\\n",
              "0   Earth rotates on its axis once times in one day.  neutral   \n",
              "1   Earth rotates on its axis once times in one day.  entails   \n",
              "2  The surface of the sun is much hotter than alm...  neutral   \n",
              "3  Evaporation is responsible for changing liquid...  entails   \n",
              "4   Earth rotates on its axis once times in one day.  entails   \n",
              "\n",
              "                                      premise_tokens  \\\n",
              "0  [pluto, rotates, once, on, its, axis, every, e...   \n",
              "1  [once, per, day, the, earth, rotates, about, i...   \n",
              "2  [geysers, periodic, gush, of, hot, water, at, ...   \n",
              "3  [facts, liquid, water, droplets, can, be, chan...   \n",
              "4  [by, comparison, the, earth, rotates, on, its,...   \n",
              "\n",
              "                                   hypothesis_tokens  \n",
              "0  [earth, rotates, on, its, axis, once, times, i...  \n",
              "1  [earth, rotates, on, its, axis, once, times, i...  \n",
              "2  [the, surface, of, the, sun, is, much, hotter,...  \n",
              "3  [evaporation, is, responsible, for, changing, ...  \n",
              "4  [earth, rotates, on, its, axis, once, times, i...  "
            ],
            "text/html": [
              "\n",
              "  <div id=\"df-ca038cd5-b100-4e87-a64b-1ac3bb76cfc9\" class=\"colab-df-container\">\n",
              "    <div>\n",
              "<style scoped>\n",
              "    .dataframe tbody tr th:only-of-type {\n",
              "        vertical-align: middle;\n",
              "    }\n",
              "\n",
              "    .dataframe tbody tr th {\n",
              "        vertical-align: top;\n",
              "    }\n",
              "\n",
              "    .dataframe thead th {\n",
              "        text-align: right;\n",
              "    }\n",
              "</style>\n",
              "<table border=\"1\" class=\"dataframe\">\n",
              "  <thead>\n",
              "    <tr style=\"text-align: right;\">\n",
              "      <th></th>\n",
              "      <th>premise</th>\n",
              "      <th>hypothesis</th>\n",
              "      <th>label</th>\n",
              "      <th>premise_tokens</th>\n",
              "      <th>hypothesis_tokens</th>\n",
              "    </tr>\n",
              "  </thead>\n",
              "  <tbody>\n",
              "    <tr>\n",
              "      <th>0</th>\n",
              "      <td>Pluto rotates once on its axis every 6.39 Eart...</td>\n",
              "      <td>Earth rotates on its axis once times in one day.</td>\n",
              "      <td>neutral</td>\n",
              "      <td>[pluto, rotates, once, on, its, axis, every, e...</td>\n",
              "      <td>[earth, rotates, on, its, axis, once, times, i...</td>\n",
              "    </tr>\n",
              "    <tr>\n",
              "      <th>1</th>\n",
              "      <td>---Glenn =====================================...</td>\n",
              "      <td>Earth rotates on its axis once times in one day.</td>\n",
              "      <td>entails</td>\n",
              "      <td>[once, per, day, the, earth, rotates, about, i...</td>\n",
              "      <td>[earth, rotates, on, its, axis, once, times, i...</td>\n",
              "    </tr>\n",
              "    <tr>\n",
              "      <th>2</th>\n",
              "      <td>geysers - periodic gush of hot water at the su...</td>\n",
              "      <td>The surface of the sun is much hotter than alm...</td>\n",
              "      <td>neutral</td>\n",
              "      <td>[geysers, periodic, gush, of, hot, water, at, ...</td>\n",
              "      <td>[the, surface, of, the, sun, is, much, hotter,...</td>\n",
              "    </tr>\n",
              "    <tr>\n",
              "      <th>3</th>\n",
              "      <td>Facts: Liquid water droplets can be changed in...</td>\n",
              "      <td>Evaporation is responsible for changing liquid...</td>\n",
              "      <td>entails</td>\n",
              "      <td>[facts, liquid, water, droplets, can, be, chan...</td>\n",
              "      <td>[evaporation, is, responsible, for, changing, ...</td>\n",
              "    </tr>\n",
              "    <tr>\n",
              "      <th>4</th>\n",
              "      <td>By comparison, the earth rotates on its axis o...</td>\n",
              "      <td>Earth rotates on its axis once times in one day.</td>\n",
              "      <td>entails</td>\n",
              "      <td>[by, comparison, the, earth, rotates, on, its,...</td>\n",
              "      <td>[earth, rotates, on, its, axis, once, times, i...</td>\n",
              "    </tr>\n",
              "  </tbody>\n",
              "</table>\n",
              "</div>\n",
              "    <div class=\"colab-df-buttons\">\n",
              "\n",
              "  <div class=\"colab-df-container\">\n",
              "    <button class=\"colab-df-convert\" onclick=\"convertToInteractive('df-ca038cd5-b100-4e87-a64b-1ac3bb76cfc9')\"\n",
              "            title=\"Convert this dataframe to an interactive table.\"\n",
              "            style=\"display:none;\">\n",
              "\n",
              "  <svg xmlns=\"http://www.w3.org/2000/svg\" height=\"24px\" viewBox=\"0 -960 960 960\">\n",
              "    <path d=\"M120-120v-720h720v720H120Zm60-500h600v-160H180v160Zm220 220h160v-160H400v160Zm0 220h160v-160H400v160ZM180-400h160v-160H180v160Zm440 0h160v-160H620v160ZM180-180h160v-160H180v160Zm440 0h160v-160H620v160Z\"/>\n",
              "  </svg>\n",
              "    </button>\n",
              "\n",
              "  <style>\n",
              "    .colab-df-container {\n",
              "      display:flex;\n",
              "      gap: 12px;\n",
              "    }\n",
              "\n",
              "    .colab-df-convert {\n",
              "      background-color: #E8F0FE;\n",
              "      border: none;\n",
              "      border-radius: 50%;\n",
              "      cursor: pointer;\n",
              "      display: none;\n",
              "      fill: #1967D2;\n",
              "      height: 32px;\n",
              "      padding: 0 0 0 0;\n",
              "      width: 32px;\n",
              "    }\n",
              "\n",
              "    .colab-df-convert:hover {\n",
              "      background-color: #E2EBFA;\n",
              "      box-shadow: 0px 1px 2px rgba(60, 64, 67, 0.3), 0px 1px 3px 1px rgba(60, 64, 67, 0.15);\n",
              "      fill: #174EA6;\n",
              "    }\n",
              "\n",
              "    .colab-df-buttons div {\n",
              "      margin-bottom: 4px;\n",
              "    }\n",
              "\n",
              "    [theme=dark] .colab-df-convert {\n",
              "      background-color: #3B4455;\n",
              "      fill: #D2E3FC;\n",
              "    }\n",
              "\n",
              "    [theme=dark] .colab-df-convert:hover {\n",
              "      background-color: #434B5C;\n",
              "      box-shadow: 0px 1px 3px 1px rgba(0, 0, 0, 0.15);\n",
              "      filter: drop-shadow(0px 1px 2px rgba(0, 0, 0, 0.3));\n",
              "      fill: #FFFFFF;\n",
              "    }\n",
              "  </style>\n",
              "\n",
              "    <script>\n",
              "      const buttonEl =\n",
              "        document.querySelector('#df-ca038cd5-b100-4e87-a64b-1ac3bb76cfc9 button.colab-df-convert');\n",
              "      buttonEl.style.display =\n",
              "        google.colab.kernel.accessAllowed ? 'block' : 'none';\n",
              "\n",
              "      async function convertToInteractive(key) {\n",
              "        const element = document.querySelector('#df-ca038cd5-b100-4e87-a64b-1ac3bb76cfc9');\n",
              "        const dataTable =\n",
              "          await google.colab.kernel.invokeFunction('convertToInteractive',\n",
              "                                                    [key], {});\n",
              "        if (!dataTable) return;\n",
              "\n",
              "        const docLinkHtml = 'Like what you see? Visit the ' +\n",
              "          '<a target=\"_blank\" href=https://colab.research.google.com/notebooks/data_table.ipynb>data table notebook</a>'\n",
              "          + ' to learn more about interactive tables.';\n",
              "        element.innerHTML = '';\n",
              "        dataTable['output_type'] = 'display_data';\n",
              "        await google.colab.output.renderOutput(dataTable, element);\n",
              "        const docLink = document.createElement('div');\n",
              "        docLink.innerHTML = docLinkHtml;\n",
              "        element.appendChild(docLink);\n",
              "      }\n",
              "    </script>\n",
              "  </div>\n",
              "\n",
              "\n",
              "    <div id=\"df-e506cf64-2dfa-4977-8761-60c5aeaaf101\">\n",
              "      <button class=\"colab-df-quickchart\" onclick=\"quickchart('df-e506cf64-2dfa-4977-8761-60c5aeaaf101')\"\n",
              "                title=\"Suggest charts\"\n",
              "                style=\"display:none;\">\n",
              "\n",
              "<svg xmlns=\"http://www.w3.org/2000/svg\" height=\"24px\"viewBox=\"0 0 24 24\"\n",
              "     width=\"24px\">\n",
              "    <g>\n",
              "        <path d=\"M19 3H5c-1.1 0-2 .9-2 2v14c0 1.1.9 2 2 2h14c1.1 0 2-.9 2-2V5c0-1.1-.9-2-2-2zM9 17H7v-7h2v7zm4 0h-2V7h2v10zm4 0h-2v-4h2v4z\"/>\n",
              "    </g>\n",
              "</svg>\n",
              "      </button>\n",
              "\n",
              "<style>\n",
              "  .colab-df-quickchart {\n",
              "      --bg-color: #E8F0FE;\n",
              "      --fill-color: #1967D2;\n",
              "      --hover-bg-color: #E2EBFA;\n",
              "      --hover-fill-color: #174EA6;\n",
              "      --disabled-fill-color: #AAA;\n",
              "      --disabled-bg-color: #DDD;\n",
              "  }\n",
              "\n",
              "  [theme=dark] .colab-df-quickchart {\n",
              "      --bg-color: #3B4455;\n",
              "      --fill-color: #D2E3FC;\n",
              "      --hover-bg-color: #434B5C;\n",
              "      --hover-fill-color: #FFFFFF;\n",
              "      --disabled-bg-color: #3B4455;\n",
              "      --disabled-fill-color: #666;\n",
              "  }\n",
              "\n",
              "  .colab-df-quickchart {\n",
              "    background-color: var(--bg-color);\n",
              "    border: none;\n",
              "    border-radius: 50%;\n",
              "    cursor: pointer;\n",
              "    display: none;\n",
              "    fill: var(--fill-color);\n",
              "    height: 32px;\n",
              "    padding: 0;\n",
              "    width: 32px;\n",
              "  }\n",
              "\n",
              "  .colab-df-quickchart:hover {\n",
              "    background-color: var(--hover-bg-color);\n",
              "    box-shadow: 0 1px 2px rgba(60, 64, 67, 0.3), 0 1px 3px 1px rgba(60, 64, 67, 0.15);\n",
              "    fill: var(--button-hover-fill-color);\n",
              "  }\n",
              "\n",
              "  .colab-df-quickchart-complete:disabled,\n",
              "  .colab-df-quickchart-complete:disabled:hover {\n",
              "    background-color: var(--disabled-bg-color);\n",
              "    fill: var(--disabled-fill-color);\n",
              "    box-shadow: none;\n",
              "  }\n",
              "\n",
              "  .colab-df-spinner {\n",
              "    border: 2px solid var(--fill-color);\n",
              "    border-color: transparent;\n",
              "    border-bottom-color: var(--fill-color);\n",
              "    animation:\n",
              "      spin 1s steps(1) infinite;\n",
              "  }\n",
              "\n",
              "  @keyframes spin {\n",
              "    0% {\n",
              "      border-color: transparent;\n",
              "      border-bottom-color: var(--fill-color);\n",
              "      border-left-color: var(--fill-color);\n",
              "    }\n",
              "    20% {\n",
              "      border-color: transparent;\n",
              "      border-left-color: var(--fill-color);\n",
              "      border-top-color: var(--fill-color);\n",
              "    }\n",
              "    30% {\n",
              "      border-color: transparent;\n",
              "      border-left-color: var(--fill-color);\n",
              "      border-top-color: var(--fill-color);\n",
              "      border-right-color: var(--fill-color);\n",
              "    }\n",
              "    40% {\n",
              "      border-color: transparent;\n",
              "      border-right-color: var(--fill-color);\n",
              "      border-top-color: var(--fill-color);\n",
              "    }\n",
              "    60% {\n",
              "      border-color: transparent;\n",
              "      border-right-color: var(--fill-color);\n",
              "    }\n",
              "    80% {\n",
              "      border-color: transparent;\n",
              "      border-right-color: var(--fill-color);\n",
              "      border-bottom-color: var(--fill-color);\n",
              "    }\n",
              "    90% {\n",
              "      border-color: transparent;\n",
              "      border-bottom-color: var(--fill-color);\n",
              "    }\n",
              "  }\n",
              "</style>\n",
              "\n",
              "      <script>\n",
              "        async function quickchart(key) {\n",
              "          const quickchartButtonEl =\n",
              "            document.querySelector('#' + key + ' button');\n",
              "          quickchartButtonEl.disabled = true;  // To prevent multiple clicks.\n",
              "          quickchartButtonEl.classList.add('colab-df-spinner');\n",
              "          try {\n",
              "            const charts = await google.colab.kernel.invokeFunction(\n",
              "                'suggestCharts', [key], {});\n",
              "          } catch (error) {\n",
              "            console.error('Error during call to suggestCharts:', error);\n",
              "          }\n",
              "          quickchartButtonEl.classList.remove('colab-df-spinner');\n",
              "          quickchartButtonEl.classList.add('colab-df-quickchart-complete');\n",
              "        }\n",
              "        (() => {\n",
              "          let quickchartButtonEl =\n",
              "            document.querySelector('#df-e506cf64-2dfa-4977-8761-60c5aeaaf101 button');\n",
              "          quickchartButtonEl.style.display =\n",
              "            google.colab.kernel.accessAllowed ? 'block' : 'none';\n",
              "        })();\n",
              "      </script>\n",
              "    </div>\n",
              "\n",
              "    </div>\n",
              "  </div>\n"
            ],
            "application/vnd.google.colaboratory.intrinsic+json": {
              "type": "dataframe",
              "summary": "{\n  \"name\": \"display(X_train_tokens\",\n  \"rows\": 5,\n  \"fields\": [\n    {\n      \"column\": \"premise\",\n      \"properties\": {\n        \"dtype\": \"string\",\n        \"num_unique_values\": 5,\n        \"samples\": [\n          \"---Glenn ========================================================= Once per day, the earth rotates about its axis.\",\n          \"By comparison, the earth rotates on its axis once per day and revolves around the sun once per year.\",\n          \"geysers - periodic gush of hot water at the surface of the Earth.\"\n        ],\n        \"semantic_type\": \"\",\n        \"description\": \"\"\n      }\n    },\n    {\n      \"column\": \"hypothesis\",\n      \"properties\": {\n        \"dtype\": \"string\",\n        \"num_unique_values\": 3,\n        \"samples\": [\n          \"Earth rotates on its axis once times in one day.\",\n          \"The surface of the sun is much hotter than almost anything on earth.\",\n          \"Evaporation is responsible for changing liquid water into water vapor.\"\n        ],\n        \"semantic_type\": \"\",\n        \"description\": \"\"\n      }\n    },\n    {\n      \"column\": \"label\",\n      \"properties\": {\n        \"dtype\": \"category\",\n        \"num_unique_values\": 2,\n        \"samples\": [\n          \"entails\",\n          \"neutral\"\n        ],\n        \"semantic_type\": \"\",\n        \"description\": \"\"\n      }\n    },\n    {\n      \"column\": \"premise_tokens\",\n      \"properties\": {\n        \"dtype\": \"object\",\n        \"semantic_type\": \"\",\n        \"description\": \"\"\n      }\n    },\n    {\n      \"column\": \"hypothesis_tokens\",\n      \"properties\": {\n        \"dtype\": \"object\",\n        \"semantic_type\": \"\",\n        \"description\": \"\"\n      }\n    }\n  ]\n}"
            }
          },
          "metadata": {}
        }
      ]
    },
    {
      "cell_type": "markdown",
      "source": [
        "##### Sanity Check"
      ],
      "metadata": {
        "id": "sOHuvsVcRG0g"
      }
    },
    {
      "cell_type": "code",
      "source": [
        "import numpy as np\n",
        "from statistics import mean\n",
        "\n",
        "# --- Sanity checks after tokenisation ---\n",
        "\n",
        "def sanity_check_split(name, data_examples):\n",
        "    \"\"\"\n",
        "    Verify tokenisation and label distribution for a given split.\n",
        "    \"\"\"\n",
        "    # Check labels\n",
        "    ys = [ex[\"y\"] for ex in data_examples]\n",
        "    label_counts = {0: ys.count(0), 1: ys.count(1)}\n",
        "\n",
        "    # Check token lengths\n",
        "    prem_lens = np.array([len(ex.get(\"premise_tokens\", [])) for ex in data_examples])\n",
        "    hypo_lens = np.array([len(ex.get(\"hypo_tokens\", [])) for ex in data_examples])\n",
        "\n",
        "    # Summary\n",
        "    print(f\"\\n=== {name.upper()} SPLIT ===\")\n",
        "    print(f\"Label counts: {label_counts}\")\n",
        "    print(f\"Premise lens -> min:{prem_lens.min():>3}, mean:{mean(prem_lens):.1f}, max:{prem_lens.max():>3}\")\n",
        "    print(f\"Hypoth  lens -> min:{hypo_lens.min():>3}, mean:{mean(hypo_lens):.1f}, max:{hypo_lens.max():>3}\")\n",
        "    print(f\"Combined 99.5th percentile length: {np.percentile(np.r_[prem_lens, hypo_lens], 99.5):.1f}\")\n",
        "    print(f\"Example token: {data_examples[0]['premise_tokens'][:8]} -> {len(data_examples[0]['premise_tokens'])} tokens\")\n",
        "\n",
        "# Run checks for all splits\n",
        "sanity_check_split(\"train\", train_data)\n",
        "sanity_check_split(\"val\", val_data)\n",
        "sanity_check_split(\"test\", test_data)\n"
      ],
      "metadata": {
        "colab": {
          "base_uri": "https://localhost:8080/"
        },
        "id": "c7kz8ggFRJQ-",
        "outputId": "b1d2eddc-446d-4b62-8d0a-5e391a23cf2e"
      },
      "execution_count": 9,
      "outputs": [
        {
          "output_type": "stream",
          "name": "stdout",
          "text": [
            "\n",
            "=== TRAIN SPLIT ===\n",
            "Label counts: {0: 14618, 1: 8470}\n",
            "Premise lens -> min:  0, mean:18.0, max:9966\n",
            "Hypoth  lens -> min:  3, mean:11.0, max: 36\n",
            "Combined 99.5th percentile length: 42.0\n",
            "Example token: ['pluto', 'rotates', 'once', 'on', 'its', 'axis', 'every', 'earth'] -> 9 tokens\n",
            "\n",
            "=== VAL SPLIT ===\n",
            "Label counts: {0: 647, 1: 657}\n",
            "Premise lens -> min:  2, mean:17.0, max: 52\n",
            "Hypoth  lens -> min:  5, mean:12.0, max: 30\n",
            "Combined 99.5th percentile length: 43.0\n",
            "Example token: ['an', 'introduction', 'to', 'atoms', 'and', 'elements', 'compounds', 'atomic'] -> 16 tokens\n",
            "\n",
            "=== TEST SPLIT ===\n",
            "Label counts: {0: 1284, 1: 842}\n",
            "Premise lens -> min:  2, mean:16.0, max: 46\n",
            "Hypoth  lens -> min:  4, mean:12.0, max: 28\n",
            "Combined 99.5th percentile length: 40.0\n",
            "Example token: ['based', 'on', 'the', 'list', 'provided', 'of', 'the', 'uses'] -> 31 tokens\n"
          ]
        }
      ]
    },
    {
      "cell_type": "markdown",
      "metadata": {
        "id": "td6uN2sPvAOM"
      },
      "source": [
        "#### 1.4.2. Vocabulary Construction"
      ]
    },
    {
      "cell_type": "code",
      "execution_count": null,
      "metadata": {
        "colab": {
          "base_uri": "https://localhost:8080/"
        },
        "id": "9b52cccd",
        "outputId": "d40624bc-4b69-4d3c-9c4c-9250268f5bc5"
      },
      "outputs": [
        {
          "output_type": "stream",
          "name": "stdout",
          "text": [
            "\n",
            "=== TRAIN SPLIT ===\n",
            "Label counts: {0: 14618, 1: 8470}\n",
            "Premise lens -> min:  0, mean:18.0, max:9966\n",
            "Hypoth  lens -> min:  3, mean:11.0, max: 36\n",
            "Combined 99.5th percentile length: 42.0\n",
            "Example token: ['pluto', 'rotates', 'once', 'on', 'its', 'axis', 'every', 'earth'] -> 9 tokens\n",
            "\n",
            "=== VAL SPLIT ===\n",
            "Label counts: {0: 647, 1: 657}\n",
            "Premise lens -> min:  2, mean:17.0, max: 52\n",
            "Hypoth  lens -> min:  5, mean:12.0, max: 30\n",
            "Combined 99.5th percentile length: 43.0\n",
            "Example token: ['an', 'introduction', 'to', 'atoms', 'and', 'elements', 'compounds', 'atomic'] -> 16 tokens\n",
            "\n",
            "=== TEST SPLIT ===\n",
            "Label counts: {0: 1284, 1: 842}\n",
            "Premise lens -> min:  2, mean:16.0, max: 46\n",
            "Hypoth  lens -> min:  4, mean:12.0, max: 28\n",
            "Combined 99.5th percentile length: 40.0\n",
            "Example token: ['based', 'on', 'the', 'list', 'provided', 'of', 'the', 'uses'] -> 31 tokens\n"
          ]
        }
      ],
      "source": [
        "vocab_set = set([])\n",
        "for tokens in X_train['premise']:\n",
        "    for token in tokens:\n",
        "        vocab_set.add(token)\n",
        "for tokens in X_train['hypothesis']:\n",
        "    for token in tokens:\n",
        "        vocab_set.add(token)\n",
        "\n",
        "# Convert the set to a list\n",
        "vocab = ['[PAD]', '[OOV]']\n",
        "vocab.extend(list(vocab_set))\n",
        "\n",
        "wordindexes = {word: i for i, word in enumerate(vocab)}\n",
        "\n",
        "print(vocab[:50])\n",
        "\n",
        "print(f\"Vocabulary size: {len(vocab)}\")"
      ]
    },
    {
      "cell_type": "markdown",
      "source": [
        "##### 1.4.2.1\n",
        "Vocab Construction for the VSE model"
      ],
      "metadata": {
        "id": "2zivXu8IXiHf"
      }
    },
    {
      "cell_type": "code",
      "source": [
        "# NEW:\n",
        "\n",
        "from collections import Counter\n",
        "from itertools import chain\n",
        "import json\n",
        "from pathlib import Path\n",
        "\n",
        "# ---- Hyperparams (ideally these live in your Config dataclass) ----\n",
        "MIN_FREQ   = 2               # prune rare tokens\n",
        "MAX_VOCAB  = None            # e.g., set to 50_000 or leave None\n",
        "SPECIALS   = ['[PAD]', '[OOV]']\n",
        "\n",
        "# ---- 1) Count frequencies from TRAIN ONLY (premise + hypothesis) ----\n",
        "counter = Counter()\n",
        "\n",
        "# X_train_tokens has 'premise_tokens' and 'hypothesis_tokens' (lists of str)\n",
        "counter.update(chain.from_iterable(X_train_tokens['premise_tokens']))\n",
        "counter.update(chain.from_iterable(X_train_tokens['hypothesis_tokens']))\n",
        "\n",
        "# Defensive: never keep specials if they somehow appear in data\n",
        "for s in SPECIALS:\n",
        "    if s in counter:\n",
        "        del counter[s]\n",
        "\n",
        "# ---- 2) Prune by min freq ----\n",
        "items = [(tok, freq) for tok, freq in counter.items() if freq >= MIN_FREQ]\n",
        "\n",
        "# ---- 3) Deterministic order: most frequent first, tie-break by token ----\n",
        "items.sort(key=lambda x: (-x[1], x[0]))\n",
        "\n",
        "# ---- 4) Optional cap on vocab size (after pruning & sorting) ----\n",
        "if MAX_VOCAB is not None:\n",
        "    items = items[:max(0, MAX_VOCAB - len(SPECIALS))]\n",
        "\n",
        "# ---- 5) Build vocab & indexes ----\n",
        "vocab = SPECIALS + [tok for tok, _ in items]\n",
        "wordindexes = {w: i for i, w in enumerate(vocab)}  # PAD=0, OOV=1\n",
        "\n",
        "print(f\"Vocabulary size: {len(vocab)} (min_freq={MIN_FREQ}, max_vocab={MAX_VOCAB})\")\n",
        "print(\"Top-20 tokens:\", vocab[len(SPECIALS):len(SPECIALS)+20])\n",
        "\n",
        "assert wordindexes['[PAD]'] == 0 and wordindexes['[OOV]'] == 1\n",
        "\n",
        "# ---- 6) Quick coverage / OOV diagnostics on each split ----\n",
        "def oov_rate(tokens_series, word2idx):\n",
        "    total = 0\n",
        "    oov = 0\n",
        "    for toks in tokens_series:\n",
        "        total += len(toks)\n",
        "        oov += sum(1 for t in toks if t not in word2idx)\n",
        "    return (oov / max(total, 1), oov, total)\n",
        "\n",
        "for name, df in [(\"train\", X_train_tokens),\n",
        "                 (\"val\",   X_val_tokens),\n",
        "                 (\"test\",  X_test_tokens)]:\n",
        "    r, oov, tot = oov_rate(df['premise_tokens'], wordindexes)\n",
        "    r2, oov2, tot2 = oov_rate(df['hypothesis_tokens'], wordindexes)\n",
        "    comb_r = (oov + oov2) / max(tot + tot2, 1)\n",
        "    print(f\"[{name}] OOV prem:{r:.3f} ({oov}/{tot})  hyp:{r2:.3f} ({oov2}/{tot2})  combined:{comb_r:.3f}\")\n",
        "\n",
        "# ---- 7) Persist vocab (reproducibility) ----\n",
        "out_dir = Path(\"./artifacts\")\n",
        "out_dir.mkdir(parents=True, exist_ok=True)\n",
        "with open(out_dir / \"vocab.json\", \"w\") as f:\n",
        "    json.dump({\"specials\": SPECIALS, \"min_freq\": MIN_FREQ, \"max_vocab\": MAX_VOCAB, \"vocab\": vocab}, f, ensure_ascii=False, indent=2)\n",
        "print(\"Saved vocab to artifacts/vocab.json\")\n",
        "\n",
        "# BEFORE UPDATES\n",
        "# from collections import Counter\n",
        "\n",
        "# # 1) count frequencies from TRAIN ONLY (premise + hypothesis)\n",
        "# counter = Counter()\n",
        "# for toks in X_train_tokens['premise_tokens']:\n",
        "#   for token in toks:\n",
        "#     #print(toks)\n",
        "#     counter.update([token])\n",
        "\n",
        "# for toks in X_train_tokens['hypothesis_tokens']:\n",
        "#   for token in toks:\n",
        "#     #print(toks)\n",
        "#     counter.update([token])\n",
        "\n",
        "# # 2) optional pruning\n",
        "# MIN_FREQ = 2\n",
        "# items = [(tok, freq) for tok, freq in counter.items() if freq >= MIN_FREQ]\n",
        "\n",
        "# # 3) deterministic order: most frequent first, tie-break by token\n",
        "# items.sort(key=lambda x: (-x[1], x[0]))\n",
        "\n",
        "# # 4) build vocab with fixed specials\n",
        "# vocab = ['[PAD]', '[OOV]'] + [tok for tok, _ in items]\n",
        "# wordindexes = {w: i for i, w in enumerate(vocab)}  # PAD=0, OOV=1\n",
        "\n",
        "# print(\"Vocabulary size:\", len(vocab))\n",
        "# print(vocab[:50])\n",
        "\n",
        "# assert wordindexes['[PAD]'] == 0 and wordindexes['[OOV]'] == 1"
      ],
      "metadata": {
        "colab": {
          "base_uri": "https://localhost:8080/"
        },
        "id": "rdWraSmAXq4l",
        "outputId": "bff87a87-3ea2-41a8-d4bd-94493c7155fd"
      },
      "execution_count": 9,
      "outputs": [
        {
          "output_type": "stream",
          "name": "stdout",
          "text": [
            "Vocabulary size: 11236 (min_freq=2, max_vocab=None)\n",
            "Top-20 tokens: ['the', 'of', 'a', 'is', 'and', 'in', 'to', 'are', 'that', 'an', 'as', 'for', 'by', 'or', 'water', 'from', 'energy', 'on', 'with', 'it']\n",
            "[train] OOV prem:0.021 (8888/415920)  hyp:0.000 (3/270853)  combined:0.013\n",
            "[val] OOV prem:0.039 (881/22524)  hyp:0.022 (359/16169)  combined:0.032\n",
            "[test] OOV prem:0.040 (1441/35808)  hyp:0.016 (430/26405)  combined:0.030\n",
            "Saved vocab to artifacts/vocab.json\n"
          ]
        }
      ]
    },
    {
      "cell_type": "markdown",
      "metadata": {
        "id": "FhqX6JwcvDEJ"
      },
      "source": [
        "#### 1.4.3 Embedding Table Creation\n",
        "We load the GloVe embeddings, and then for each word in the training set vocabulary, we add the embedding to our lookup table. If a word in the vocabulary does not exist in the GloVe embeddings, it is embedded as zeros."
      ]
    },
    {
      "cell_type": "code",
      "execution_count": 10,
      "metadata": {
        "id": "oe6VxxHYnEji",
        "colab": {
          "base_uri": "https://localhost:8080/"
        },
        "outputId": "2bb83549-8058-4a98-abfc-2c8e17aaaabb"
      },
      "outputs": [
        {
          "output_type": "stream",
          "name": "stdout",
          "text": [
            "[==================================================] 100.0% 387.1/387.1MB downloaded\n",
            "GloVe coverage: 9547/11236 = 84.97%\n",
            "Saved embedding table to artifacts/embedding_table.npy\n"
          ]
        }
      ],
      "source": [
        "glove_embeddings = api.load(\"glove-twitter-100\") #100 dimensional\n",
        "\n",
        "emb_dim = glove_embeddings.vector_size\n",
        "\n",
        "emb_table = []\n",
        "for i, word in enumerate(vocab):\n",
        "    if word in glove_embeddings:\n",
        "        emb_table.append(glove_embeddings[word])\n",
        "    else:\n",
        "        emb_table.append(np.zeros(emb_dim))\n",
        "\n",
        "emb_table = np.array(emb_table)\n",
        "\n",
        "emb_table[wordindexes['[PAD]']] = np.zeros(emb_dim)\n",
        "emb_table[wordindexes['[OOV]']] = np.random.normal(scale=0.6, size=(emb_dim,))\n",
        "\n",
        "emb_table.shape\n",
        "\n",
        "found = sum(1 for w in vocab if w in glove_embeddings)\n",
        "coverage = found / len(vocab)\n",
        "print(f\"GloVe coverage: {found}/{len(vocab)} = {coverage:.2%}\")\n",
        "\n",
        "np.save(\"artifacts/embedding_table.npy\", emb_table)\n",
        "print(\"Saved embedding table to artifacts/embedding_table.npy\")\n",
        "\n",
        "\n",
        "# cleanup\n",
        "del glove_embeddings\n",
        "\n"
      ]
    },
    {
      "cell_type": "markdown",
      "metadata": {
        "id": "3tMv8q2DvZtg"
      },
      "source": [
        "Later, we can now create an Embedding object that can be used to lookup the embeddings for any given word. This saves us from having to load the entire vocabulary embeddings at once during training."
      ]
    },
    {
      "cell_type": "markdown",
      "metadata": {
        "id": "iqX7nBkMsl1W"
      },
      "source": [
        "### 1.5. Data visualisation\n",
        "We will visualise the data to observe any patterns that we should be aware of before preprocessing and training.\n",
        "\n",
        "First, lets observe the class balance for the train/val/test sets."
      ]
    },
    {
      "cell_type": "code",
      "execution_count": null,
      "metadata": {
        "colab": {
          "base_uri": "https://localhost:8080/"
        },
        "id": "_wPwxy8ss0nx",
        "outputId": "f9b0d807-3ead-4ba7-e9e8-faad9165d010"
      },
      "outputs": [
        {
          "output_type": "stream",
          "name": "stdout",
          "text": [
            "Training set distribution:\n",
            "Neutral = 0.63\n",
            "Entails = 0.37\n",
            "Validation set distribution:\n",
            "Neutral = 0.5\n",
            "Entails = 0.5\n",
            "Testing set distribution:\n",
            "Neutral = 0.6\n",
            "Entails = 0.4\n",
            "\n"
          ]
        }
      ],
      "source": [
        "print(\n",
        "    \"Training set distribution:\\n\"\n",
        "    f\"Neutral = {round(y_train[y_train == 'neutral'].shape[0] / y_train.shape[0],2)}\\n\"\n",
        "    f\"Entails = {round(y_train[y_train == 'entails'].shape[0] / y_train.shape[0],2)}\\n\"\n",
        "    \"Validation set distribution:\\n\"\n",
        "    f\"Neutral = {round(y_val[y_val == 'neutral'].shape[0] / y_val.shape[0],2)}\\n\"\n",
        "    f\"Entails = {round(y_val[y_val == 'entails'].shape[0] / y_val.shape[0],2)}\\n\"\n",
        "    \"Testing set distribution:\\n\"\n",
        "    f\"Neutral = {round(y_test[y_test == 'neutral'].shape[0] / y_test.shape[0],2)}\\n\"\n",
        "    f\"Entails = {round(y_test[y_test == 'entails'].shape[0] / y_test.shape[0],2)}\\n\"\n",
        ")"
      ]
    },
    {
      "cell_type": "markdown",
      "metadata": {
        "id": "7TUpK2UBtGXa"
      },
      "source": [
        "The training set is strongly skewed towards neutral samples - this will have an impact on training.\n",
        "\n",
        "Now, we will observe the distribution of the token lengths of the premises and hypotheses of the train and validation sets."
      ]
    },
    {
      "cell_type": "code",
      "execution_count": null,
      "metadata": {
        "colab": {
          "base_uri": "https://localhost:8080/",
          "height": 346
        },
        "id": "6hgkN3eDs4RY",
        "outputId": "0115587a-296a-4ca1-85e2-fb00fa0fbab0"
      },
      "outputs": [
        {
          "output_type": "display_data",
          "data": {
            "text/plain": [
              "<Figure size 1200x600 with 2 Axes>"
            ],
            "image/png": "[encoded data removed]"
          },
          "metadata": {}
        }
      ],
      "source": [
        "train_prem_lengths = [len(premise) for premise in X_train['premise']]\n",
        "train_hyp_lengths = [len(hypothesis) for hypothesis in X_train['hypothesis']]\n",
        "\n",
        "val_prem_lengths = [len(premise) for premise in X_val['premise']]\n",
        "val_hyp_lengths = [len(hypothesis) for hypothesis in X_val['hypothesis']]\n",
        "\n",
        "fig, axs = plt.subplots(1, 2, figsize=(12, 6))\n",
        "\n",
        "# Train set\n",
        "axs[0].hist(train_prem_lengths, bins=20, alpha=0.6, label='Premise')\n",
        "axs[0].hist(train_hyp_lengths, bins=20, alpha=0.6, label='Hypothesis')\n",
        "axs[0].set_title(\"Train Set Length Distribution\")\n",
        "axs[0].set_xlabel(\"Number of Tokens\")\n",
        "axs[0].set_ylabel(\"Frequency\")\n",
        "axs[0].legend()\n",
        "\n",
        "# Validation set\n",
        "axs[1].hist(val_prem_lengths, bins=20, alpha=0.6, label='Premise')\n",
        "axs[1].hist(val_hyp_lengths, bins=20, alpha=0.6, label='Hypothesis')\n",
        "axs[1].set_title(\"Validation Set Length Distribution\")\n",
        "axs[1].set_xlabel(\"Number of Tokens\")\n",
        "axs[1].set_ylabel(\"Frequency\")\n",
        "axs[1].legend()\n",
        "\n",
        "plt.tight_layout()\n",
        "plt.show()"
      ]
    },
    {
      "cell_type": "markdown",
      "metadata": {
        "id": "7sipBzYBu6qq"
      },
      "source": [
        "This indicates there are some outliers in the train set. Reviewing the ten largest premises in the training set reveals there are some abnormally large instances:"
      ]
    },
    {
      "cell_type": "code",
      "execution_count": null,
      "metadata": {
        "colab": {
          "base_uri": "https://localhost:8080/"
        },
        "id": "NAtZ6245tdg3",
        "outputId": "68706ca0-b4ca-4760-ca77-fa94a0e4cf90"
      },
      "outputs": [
        {
          "output_type": "stream",
          "name": "stdout",
          "text": [
            "[9966, 5829, 2249, 1154, 938, 705, 594, 550, 314, 111]\n"
          ]
        }
      ],
      "source": [
        "largest_prem = sorted(range(len(train_prem_lengths)), key=lambda i: train_prem_lengths[i], reverse=True)[:10]\n",
        "print([train_prem_lengths[i] for i in largest_prem])"
      ]
    },
    {
      "cell_type": "markdown",
      "metadata": {
        "id": "pMwxCmJOvTVP"
      },
      "source": [
        "Removing these outliers from the training set, we get a nicer looking plot:"
      ]
    },
    {
      "cell_type": "code",
      "execution_count": null,
      "metadata": {
        "colab": {
          "base_uri": "https://localhost:8080/",
          "height": 346
        },
        "id": "96e4bb67",
        "outputId": "25e89fcc-3596-4367-ea98-b1ca94f3fd83"
      },
      "outputs": [
        {
          "output_type": "display_data",
          "data": {
            "text/plain": [
              "<Figure size 1200x600 with 2 Axes>"
            ],
            "image/png": "[encoded data removed]"
          },
          "metadata": {}
        }
      ],
      "source": [
        "X_train = X_train.drop(X_train.index[largest_prem])\n",
        "y_train = y_train.drop(y_train.index[largest_prem])\n",
        "\n",
        "train_prem_lengths = [len(premise) for premise in X_train['premise']]\n",
        "fig, axs = plt.subplots(1, 2, figsize=(12, 6))\n",
        "\n",
        "# Train set\n",
        "axs[0].hist(train_prem_lengths, bins=20, alpha=0.6, label='Premise')\n",
        "axs[0].hist(train_hyp_lengths, bins=20, alpha=0.6, label='Hypothesis')\n",
        "axs[0].set_title(\"Train Set Length Distribution\")\n",
        "axs[0].set_xlabel(\"Number of Tokens\")\n",
        "axs[0].set_ylabel(\"Frequency\")\n",
        "axs[0].legend()\n",
        "\n",
        "# Validation set\n",
        "axs[1].hist(val_prem_lengths, bins=20, alpha=0.6, label='Premise')\n",
        "axs[1].hist(val_hyp_lengths, bins=20, alpha=0.6, label='Hypothesis')\n",
        "axs[1].set_title(\"Validation Set Length Distribution\")\n",
        "axs[1].set_xlabel(\"Number of Tokens\")\n",
        "axs[1].set_ylabel(\"Frequency\")\n",
        "axs[1].legend()\n",
        "\n",
        "plt.tight_layout()\n",
        "plt.show()"
      ]
    },
    {
      "cell_type": "markdown",
      "metadata": {
        "id": "0_-C0EzMvm42"
      },
      "source": [
        "### 1.6. Dataset Formation\n",
        "Now we create the training dataset. The tokenised premise and hypothesis sentences are encoded to be the index that corresponds to the word embedding in the embeddings table. Each sentence is then padded to be the same length as the longest respective premise or hypothesis."
      ]
    },
    {
      "cell_type": "code",
      "execution_count": null,
      "metadata": {
        "id": "HJENY7r0pLT5"
      },
      "outputs": [],
      "source": [
        "def encode_sentences(sentences):\n",
        "    encoded_sentences = []\n",
        "    for sentence in sentences:\n",
        "        encoded_sentences.append([wordindexes[word] if word in wordindexes else wordindexes['[OOV]'] for word in sentence])\n",
        "    return encoded_sentences\n",
        "\n",
        "def pad_sequences(sequences, max_length):\n",
        "    padded_sequences = []\n",
        "    for seq in sequences:\n",
        "        if len(seq) < max_length:\n",
        "            padded_seq = seq + [wordindexes['[PAD]']] * (max_length - len(seq))\n",
        "        else:\n",
        "            padded_seq = seq[:max_length]\n",
        "        padded_sequences.append(padded_seq)\n",
        "    return padded_sequences\n",
        "\n",
        "max_prem = max(len(sentence) for sentence in X_train['premise'])\n",
        "max_hyp = max(len(sentence) for sentence in X_train['hypothesis'])\n",
        "encoded_prem_train = pad_sequences(encode_sentences(X_train['premise']), max_prem)\n",
        "encoded_hyp_train = pad_sequences(encode_sentences(X_train['hypothesis']), max_hyp)\n",
        "\n",
        "encoded_prem_val = pad_sequences(encode_sentences(X_val['premise']), max_prem)\n",
        "encoded_hyp_val = pad_sequences(encode_sentences(X_val['hypothesis']), max_hyp)"
      ]
    },
    {
      "cell_type": "markdown",
      "metadata": {
        "id": "8vE8QIkEwAab"
      },
      "source": [
        "The labels are now converted to 0 for neutral, and 1 for entails."
      ]
    },
    {
      "cell_type": "code",
      "execution_count": null,
      "metadata": {
        "id": "BlpRvN-uwGp6"
      },
      "outputs": [],
      "source": [
        "y_train = y_train.map({'neutral': 0, 'entails': 1})\n",
        "y_val = y_val.map({'neutral': 0, 'entails': 1})\n",
        "y_test = y_test.map({'neutral': 0, 'entails': 1})"
      ]
    },
    {
      "cell_type": "markdown",
      "metadata": {
        "id": "6m0-kbudcfoN"
      },
      "source": [
        "Now we can create the dataset and data loaders for the train and validation set. To reduce the impact of the class imbalance in the train set, the number of neutral samples is reduced to the number of entails samples."
      ]
    },
    {
      "cell_type": "code",
      "execution_count": null,
      "metadata": {
        "id": "rSSAM1oKXBSJ"
      },
      "outputs": [],
      "source": [
        "batch_size = 16\n",
        "\n",
        "train_data = torch.utils.data.TensorDataset(torch.tensor(encoded_prem_train), torch.tensor(encoded_hyp_train), torch.tensor(y_train.values))\n",
        "\n",
        "neutral_indices = [i for i, label in enumerate(y_train.values) if label == 0]\n",
        "entails_indices = [i for i, label in enumerate(y_train.values) if label == 1]\n",
        "\n",
        "min_samplesize = min(len(neutral_indices), len(entails_indices))\n",
        "\n",
        "# random sample from training set to make sure both are the same size\n",
        "neutral_indices = random.sample(neutral_indices, min_samplesize)\n",
        "entails_indices = random.sample(entails_indices, min_samplesize)\n",
        "\n",
        "# combine the indices\n",
        "train_indices = neutral_indices + entails_indices\n",
        "random.shuffle(train_indices)\n",
        "\n",
        "train_sampler = torch.utils.data.sampler.SubsetRandomSampler(train_indices)\n",
        "train_loader = torch.utils.data.DataLoader(train_data, batch_size=batch_size, sampler=train_sampler)\n",
        "\n",
        "val_data = torch.utils.data.TensorDataset(torch.tensor(encoded_prem_val), torch.tensor(encoded_hyp_val), torch.tensor(y_val.values))\n",
        "val_loader = torch.utils.data.DataLoader(val_data, batch_size=batch_size)"
      ]
    },
    {
      "cell_type": "markdown",
      "source": [
        "#### 1.6.1 Usage for VSE"
      ],
      "metadata": {
        "id": "wo5YzTg1pL72"
      }
    },
    {
      "cell_type": "code",
      "source": [
        "import numpy as np\n",
        "import torch\n",
        "import torch.nn as nn\n",
        "import torch.nn.functional as F\n",
        "import random\n",
        "import time\n",
        "\n",
        "# ---------- Dataset ----------\n",
        "class NLIPairDataset(torch.utils.data.Dataset):\n",
        "    def __init__(self, premises_tok, hypos_tok, labels, wordindexes):\n",
        "        self.premises_tok = premises_tok   # list[list[str]]\n",
        "        self.hypos_tok = hypos_tok\n",
        "        self.labels = labels               # list[int] 0/1\n",
        "        self.wordindexes = wordindexes\n",
        "\n",
        "    def __len__(self):\n",
        "        return len(self.labels)\n",
        "\n",
        "    def encode(self, toks):\n",
        "        # map tokens to ids; OOV if missing\n",
        "        return [self.wordindexes.get(w, self.wordindexes['[OOV]']) for w in toks]\n",
        "\n",
        "    def __getitem__(self, i):\n",
        "        p_ids = torch.tensor(self.encode(self.premises_tok[i]), dtype=torch.long)\n",
        "        h_ids = torch.tensor(self.encode(self.hypos_tok[i]),    dtype=torch.long)\n",
        "        y     = torch.tensor(int(self.labels[i]), dtype=torch.long)\n",
        "        return {\"premise_ids\": p_ids, \"hypo_ids\": h_ids, \"labels\": y}\n",
        "\n",
        "# ---------- Collate (robust to empty sequences) ----------\n",
        "def collate_bilstm(batch, max_len=128, pad_id=0):\n",
        "\n",
        "    def pad_with_lengths(seqs, pad_id=0):\n",
        "        # Ensure each sequence has at least length 1 (PAD) to avoid zero-length errors\n",
        "        safe_seqs = [s if len(s) > 0 else torch.tensor([pad_id], dtype=torch.long) for s in seqs]\n",
        "        lens = torch.tensor([len(s) for s in safe_seqs], dtype=torch.long)\n",
        "        L = max(1, min(int(lens.max().item()), int(max_len)))\n",
        "        out = torch.full((len(safe_seqs), L), pad_id, dtype=torch.long)\n",
        "        for i, s in enumerate(safe_seqs):\n",
        "            s = s[:L]\n",
        "            out[i, :len(s)] = s\n",
        "        # clamp any length > L and guarantee min 1\n",
        "        lens = lens.clamp(min=1, max=L)\n",
        "        return out, lens\n",
        "\n",
        "    p_ids_list = [item[\"premise_ids\"] for item in batch]\n",
        "    h_ids_list = [item[\"hypo_ids\"]   for item in batch]\n",
        "    y_list     = [item[\"labels\"]     for item in batch]\n",
        "\n",
        "    p_pad, p_len = pad_with_lengths(p_ids_list, pad_id=pad_id)\n",
        "    h_pad, h_len = pad_with_lengths(h_ids_list, pad_id=pad_id)\n",
        "    y = torch.stack(y_list)\n",
        "\n",
        "    return {\n",
        "        \"premise_ids\": p_pad,\n",
        "        \"premise_lengths\": p_len,\n",
        "        \"hypo_ids\": h_pad,\n",
        "        \"hypo_lengths\": h_len,\n",
        "        \"labels\": y,\n",
        "    }\n",
        "\n",
        "# ---------- Build datasets ----------\n",
        "train_ds = NLIPairDataset(\n",
        "    premises_tok=X_train_tokens['premise_tokens'].tolist(),\n",
        "    hypos_tok=X_train_tokens['hypothesis_tokens'].tolist(),\n",
        "    labels=[LABEL_MAP[l] for l in y_train],\n",
        "    wordindexes=wordindexes\n",
        ")\n",
        "val_ds = NLIPairDataset(\n",
        "    premises_tok=X_val_tokens['premise_tokens'].tolist(),\n",
        "    hypos_tok=X_val_tokens['hypothesis_tokens'].tolist(),\n",
        "    labels=[LABEL_MAP[l] for l in y_val],\n",
        "    wordindexes=wordindexes\n",
        ")\n",
        "test_ds = NLIPairDataset(\n",
        "    premises_tok=X_test_tokens['premise_tokens'].tolist(),\n",
        "    hypos_tok=X_test_tokens['hypothesis_tokens'].tolist(),\n",
        "    labels=[LABEL_MAP[l] for l in y_test],\n",
        "    wordindexes=wordindexes\n",
        ")\n",
        "\n",
        "\n",
        "# Keep class balancing indices, but feed them to DataLoader via sampler\n",
        "neutral_indices = [i for i, label in enumerate(train_ds.labels) if label == 0]\n",
        "entails_indices = [i for i, label in enumerate(train_ds.labels) if label == 1]\n",
        "\n",
        "min_samplesize = min(len(neutral_indices), len(entails_indices))\n",
        "\n",
        "# random sample from training set to make sure both are the same size\n",
        "neutral_indices = random.sample(neutral_indices, min_samplesize)\n",
        "entails_indices = random.sample(entails_indices, min_samplesize)\n",
        "\n",
        "# combine the indices\n",
        "train_indices = neutral_indices + entails_indices\n",
        "random.shuffle(train_indices)\n",
        "\n",
        "train_sampler = torch.utils.data.sampler.SubsetRandomSampler(train_indices)\n",
        "\n",
        "\n",
        "# Compute MAX_LEN from datasets (not from train_data)\n",
        "prem_lens = np.array([len(toks) for toks in train_ds.premises_tok], dtype=np.int32)\n",
        "hypo_lens = np.array([len(toks) for toks in train_ds.hypos_tok],   dtype=np.int32)\n",
        "all_lens  = np.concatenate([prem_lens, hypo_lens])\n",
        "\n",
        "\n",
        "# OLD\n",
        "# # Need to re-calculate these based on the datasets, not the original X_train/train_data\n",
        "# prem_lens = np.array([len(ex[\"premise_tokens\"]) for ex in train_data]) # This still seems wrong, should be from train_ds\n",
        "# hypo_lens = np.array([len(ex[\"hypo_tokens\"]) for ex in train_data]) # This still seems wrong, should be from train_ds\n",
        "# all_lens  = np.concatenate([prem_lens, hypo_lens])\n",
        "\n",
        "p = 99.5  # value between ~95-99 (.5% is a massive outlier)\n",
        "suggested = int(np.percentile(all_lens, p)) if all_lens.size else 32\n",
        "MAX_LEN = max(1, min(suggested, 256))  # ensure >= 1\n",
        "\n",
        "trunc_frac = (all_lens > MAX_LEN).mean()\n",
        "print(f\"MAX_LEN set to {MAX_LEN} (truncates ~{trunc_frac*100:.1f}% tokens)\")\n",
        "\n",
        "\n",
        "# Dataloaders:\n",
        "\n",
        "batch_size = 64\n",
        "pad_id = wordindexes['[PAD]']\n",
        "\n",
        "train_loader = torch.utils.data.DataLoader(\n",
        "    train_ds, batch_size=batch_size,\n",
        "    sampler=train_sampler,   # enable if you want class balancing\n",
        "    shuffle=False,             # use shuffle if sampler is disabled\n",
        "    collate_fn=lambda b: collate_bilstm(b, max_len=MAX_LEN, pad_id=pad_id)\n",
        ")\n",
        "val_loader = torch.utils.data.DataLoader(\n",
        "    val_ds, batch_size=batch_size, shuffle=False,\n",
        "    collate_fn=lambda b: collate_bilstm(b, max_len=MAX_LEN, pad_id=pad_id)\n",
        ")\n",
        "test_loader = torch.utils.data.DataLoader(\n",
        "    test_ds, batch_size=batch_size, shuffle=False,\n",
        "    collate_fn=lambda b: collate_bilstm(b, max_len=MAX_LEN, pad_id=pad_id)\n",
        ")\n",
        "\n",
        "# Class weights for cross-entropy\n",
        "# Collect train labels once from the dataset (faster & cleaner than looping the loader)\n",
        "labels_train = [int(train_ds[i][\"labels\"]) for i in range(len(train_ds))]\n",
        "\n",
        "counts = np.bincount(labels_train, minlength=2)\n",
        "freq = counts / counts.sum()\n",
        "w = 1.0 / (freq + 1e-8)\n",
        "w = w / w.sum() * 2.0\n",
        "print(\"Class weights (0,1):\", w.tolist(), \" | counts:\", counts.tolist())\n",
        "\n",
        "# Save w in a variable; later (after model creation) do:\n",
        "# class_weights = torch.tensor(w, dtype=torch.float32, device=CFG.device)\n",
        "# model.class_weights = class_weights"
      ],
      "metadata": {
        "colab": {
          "base_uri": "https://localhost:8080/"
        },
        "id": "mR0TTI_UpTY2",
        "outputId": "2e069a0e-75d4-41e4-acf7-460d9c7f5075"
      },
      "execution_count": 11,
      "outputs": [
        {
          "output_type": "stream",
          "name": "stdout",
          "text": [
            "MAX_LEN set to 42 (truncates ~0.5% tokens)\n",
            "Class weights (0,1): [0.7337144890401939, 1.2662855109598061]  | counts: [14618, 8470]\n"
          ]
        }
      ]
    },
    {
      "cell_type": "markdown",
      "metadata": {
        "id": "jsNIYLgl6nei"
      },
      "source": [
        "### 1.7 Test Dataset\n",
        "Finally, we create the test dataset in a similar way the training and validation sets are created."
      ]
    },
    {
      "cell_type": "code",
      "execution_count": 16,
      "metadata": {
        "id": "UlyI_XU16nei",
        "colab": {
          "base_uri": "https://localhost:8080/",
          "height": 211
        },
        "outputId": "2fef451c-2345-4325-a142-707c047c0aff"
      },
      "outputs": [
        {
          "output_type": "error",
          "ename": "NameError",
          "evalue": "name 'pad_sequences' is not defined",
          "traceback": [
            "\u001b[0;31m---------------------------------------------------------------------------\u001b[0m",
            "\u001b[0;31mNameError\u001b[0m                                 Traceback (most recent call last)",
            "\u001b[0;32m/tmp/ipython-input-4249121838.py\u001b[0m in \u001b[0;36m<cell line: 0>\u001b[0;34m()\u001b[0m\n\u001b[1;32m      1\u001b[0m \u001b[0mmax_prem\u001b[0m \u001b[0;34m=\u001b[0m \u001b[0mmax\u001b[0m\u001b[0;34m(\u001b[0m\u001b[0mlen\u001b[0m\u001b[0;34m(\u001b[0m\u001b[0msentence\u001b[0m\u001b[0;34m)\u001b[0m \u001b[0;32mfor\u001b[0m \u001b[0msentence\u001b[0m \u001b[0;32min\u001b[0m \u001b[0mX_test\u001b[0m\u001b[0;34m[\u001b[0m\u001b[0;34m'premise'\u001b[0m\u001b[0;34m]\u001b[0m\u001b[0;34m)\u001b[0m\u001b[0;34m\u001b[0m\u001b[0;34m\u001b[0m\u001b[0m\n\u001b[1;32m      2\u001b[0m \u001b[0mmax_hyp\u001b[0m \u001b[0;34m=\u001b[0m \u001b[0mmax\u001b[0m\u001b[0;34m(\u001b[0m\u001b[0mlen\u001b[0m\u001b[0;34m(\u001b[0m\u001b[0msentence\u001b[0m\u001b[0;34m)\u001b[0m \u001b[0;32mfor\u001b[0m \u001b[0msentence\u001b[0m \u001b[0;32min\u001b[0m \u001b[0mX_test\u001b[0m\u001b[0;34m[\u001b[0m\u001b[0;34m'hypothesis'\u001b[0m\u001b[0;34m]\u001b[0m\u001b[0;34m)\u001b[0m\u001b[0;34m\u001b[0m\u001b[0;34m\u001b[0m\u001b[0m\n\u001b[0;32m----> 3\u001b[0;31m \u001b[0mencoded_prem_test\u001b[0m \u001b[0;34m=\u001b[0m \u001b[0mpad_sequences\u001b[0m\u001b[0;34m(\u001b[0m\u001b[0mencode_sentences\u001b[0m\u001b[0;34m(\u001b[0m\u001b[0mX_test\u001b[0m\u001b[0;34m[\u001b[0m\u001b[0;34m'premise'\u001b[0m\u001b[0;34m]\u001b[0m\u001b[0;34m)\u001b[0m\u001b[0;34m,\u001b[0m \u001b[0mmax_prem\u001b[0m\u001b[0;34m)\u001b[0m\u001b[0;34m\u001b[0m\u001b[0;34m\u001b[0m\u001b[0m\n\u001b[0m\u001b[1;32m      4\u001b[0m \u001b[0mencoded_hyp_test\u001b[0m \u001b[0;34m=\u001b[0m \u001b[0mpad_sequences\u001b[0m\u001b[0;34m(\u001b[0m\u001b[0mencode_sentences\u001b[0m\u001b[0;34m(\u001b[0m\u001b[0mX_test\u001b[0m\u001b[0;34m[\u001b[0m\u001b[0;34m'hypothesis'\u001b[0m\u001b[0;34m]\u001b[0m\u001b[0;34m)\u001b[0m\u001b[0;34m,\u001b[0m \u001b[0mmax_hyp\u001b[0m\u001b[0;34m)\u001b[0m\u001b[0;34m\u001b[0m\u001b[0;34m\u001b[0m\u001b[0m\n\u001b[1;32m      5\u001b[0m \u001b[0;34m\u001b[0m\u001b[0m\n",
            "\u001b[0;31mNameError\u001b[0m: name 'pad_sequences' is not defined"
          ]
        }
      ],
      "source": [
        "max_prem = max(len(sentence) for sentence in X_test['premise'])\n",
        "max_hyp = max(len(sentence) for sentence in X_test['hypothesis'])\n",
        "encoded_prem_test = pad_sequences(encode_sentences(X_test['premise']), max_prem)\n",
        "encoded_hyp_test = pad_sequences(encode_sentences(X_test['hypothesis']), max_hyp)\n",
        "\n",
        "test_dataset = torch.utils.data.TensorDataset(torch.tensor(encoded_prem_test), torch.tensor(encoded_hyp_test), torch.tensor(y_test.values))\n",
        "test_loader = torch.utils.data.DataLoader(test_dataset, batch_size=batch_size)"
      ]
    },
    {
      "cell_type": "code",
      "execution_count": null,
      "metadata": {
        "id": "eUTnYeyh6nei"
      },
      "outputs": [],
      "source": [
        "# Dataloader sample usage\n",
        "# for i, batch in enumerate(train_loader):\n",
        "    # i = batch number\n",
        "    # premises   = batch[0]\n",
        "    # hypotheses = batch[1]\n",
        "    # labels     = batch[2]"
      ]
    },
    {
      "cell_type": "markdown",
      "source": [
        "#### 1.7.1 For VSE\n",
        "(padding handled in collate_bilstm)"
      ],
      "metadata": {
        "id": "bJ-QiZwvsg0P"
      }
    },
    {
      "cell_type": "code",
      "source": [
        "# get one batch\n",
        "batch = next(iter(train_loader))\n",
        "\n",
        "# expect these keys\n",
        "print(\"keys:\", list(batch.keys()))\n",
        "assert \"premise_ids\" in batch and \"hypo_ids\" in batch\n",
        "assert \"premise_lengths\" in batch and \"hypo_lengths\" in batch\n",
        "assert \"labels\" in batch\n",
        "\n",
        "# shapes\n",
        "print(\"premise_ids shape:\", batch[\"premise_ids\"].shape)\n",
        "print(\"hypo_ids shape:   \", batch[\"hypo_ids\"].shape)\n",
        "print(\"premise_len shape:\", batch[\"premise_lengths\"].shape)\n",
        "print(\"hypo_len shape:   \", batch[\"hypo_lengths\"].shape)\n",
        "print(\"labels shape:     \", batch[\"labels\"].shape)\n",
        "\n",
        "# peek at first example\n",
        "i = 0\n",
        "p_len = int(batch[\"premise_lengths\"][i])\n",
        "h_len = int(batch[\"hypo_lengths\"][i])\n",
        "print(f\"\\nexample {i}: p_len={p_len}, h_len={h_len}, label={int(batch['labels'][i])}\")\n",
        "\n",
        "# show first few ids (should be non-zero up to length, then zeros)\n",
        "print(\"premise_ids[:15]:\", batch[\"premise_ids\"][i, :15].tolist())\n",
        "print(\"hypo_ids[:15]:   \", batch[\"hypo_ids\"][i, :15].tolist())\n",
        "\n",
        "# quick sanity: pads should be 0 and only after length\n",
        "pad_id = 0\n",
        "prem_ids = batch[\"premise_ids\"][i].tolist()\n",
        "hypo_ids  = batch[\"hypo_ids\"][i].tolist()\n",
        "\n",
        "assert all(x != pad_id for x in prem_ids[:p_len]), \"pad inside premise actual tokens?\"\n",
        "assert all(x == pad_id for x in prem_ids[p_len:]), \"no padding after premise length?\"\n",
        "\n",
        "assert all(x != pad_id for x in hypo_ids[:h_len]), \"pad inside hypo actual tokens?\"\n",
        "assert all(x == pad_id for x in hypo_ids[h_len:]), \"no padding after hypo length?\"\n"
      ],
      "metadata": {
        "colab": {
          "base_uri": "https://localhost:8080/"
        },
        "id": "qilrsMWitQHm",
        "outputId": "8d7cba04-8408-4709-ff3e-b4c82bb682cf"
      },
      "execution_count": 12,
      "outputs": [
        {
          "output_type": "stream",
          "name": "stdout",
          "text": [
            "keys: ['premise_ids', 'premise_lengths', 'hypo_ids', 'hypo_lengths', 'labels']\n",
            "premise_ids shape: torch.Size([64, 42])\n",
            "hypo_ids shape:    torch.Size([64, 23])\n",
            "premise_len shape: torch.Size([64])\n",
            "hypo_len shape:    torch.Size([64])\n",
            "labels shape:      torch.Size([64])\n",
            "\n",
            "example 0: p_len=12, h_len=12, label=0\n",
            "premise_ids[:15]: [2, 79, 5, 358, 3, 1452, 151, 25, 168, 190, 6, 74, 0, 0, 0]\n",
            "hypo_ids[:15]:    [2, 90, 3, 190, 22, 1781, 72, 59, 3, 2, 111, 139, 0, 0, 0]\n"
          ]
        }
      ]
    },
    {
      "cell_type": "markdown",
      "source": [
        "##### Saanity Check"
      ],
      "metadata": {
        "id": "KHYKObelSSka"
      }
    },
    {
      "cell_type": "code",
      "source": [
        "# dataloader check\n",
        "batch = next(iter(train_loader))\n",
        "print(\"keys:\", list(batch.keys()))\n",
        "print({k:v.shape for k,v in batch.items() if k!='labels'}, \"labels:\", batch[\"labels\"].shape)\n",
        "\n",
        "i = 0\n",
        "p_len = int(batch[\"premise_lengths\"][i]); h_len = int(batch[\"hypo_lengths\"][i])\n",
        "pad_id = 0\n",
        "prem_ids = batch[\"premise_ids\"][i].tolist()\n",
        "hypo_ids = batch[\"hypo_ids\"][i].tolist()\n",
        "\n",
        "assert all(x != pad_id for x in prem_ids[:p_len]) and all(x == pad_id for x in prem_ids[p_len:])\n",
        "assert all(x != pad_id for x in hypo_ids[:h_len]) and all(x == pad_id for x in hypo_ids[h_len:])\n",
        "print(\"batch looks sane\")"
      ],
      "metadata": {
        "colab": {
          "base_uri": "https://localhost:8080/"
        },
        "id": "u0rCukETSMHk",
        "outputId": "34763be5-f9e8-445d-adea-470a0012a4c1"
      },
      "execution_count": 13,
      "outputs": [
        {
          "output_type": "stream",
          "name": "stdout",
          "text": [
            "keys: ['premise_ids', 'premise_lengths', 'hypo_ids', 'hypo_lengths', 'labels']\n",
            "{'premise_ids': torch.Size([64, 41]), 'premise_lengths': torch.Size([64]), 'hypo_ids': torch.Size([64, 31]), 'hypo_lengths': torch.Size([64])} labels: torch.Size([64])\n",
            "batch looks sane\n"
          ]
        }
      ]
    },
    {
      "cell_type": "markdown",
      "source": [
        "# 2. Variational Siamese Encoder Model\n",
        "\n",
        "This section implements the Variational Siamese Encoder for NLI. Each sentence is encoded by a BiLSTM into a latent distribution (μ, logσ²). A latent vector z is sampled using the reparameterization trick. The premise and hypothesis encodings are then combined and passed through an MLP classifier. Training uses cross-entropy plus KL divergence to regularize the latent space.\n"
      ],
      "metadata": {
        "id": "YDSYtLYDDgB9"
      }
    },
    {
      "cell_type": "markdown",
      "source": [
        "## 2.1 Config\n",
        "configuring hyperparameters and the device"
      ],
      "metadata": {
        "id": "pCn2dcnMRLjF"
      }
    },
    {
      "cell_type": "code",
      "source": [
        "from dataclasses import dataclass, asdict\n",
        "import torch, time\n",
        "\n",
        "def default_run_name(prefix=\"run\"):\n",
        "    ts = time.strftime(\"%Y%m%d-%H%M%S\")\n",
        "    return f\"{prefix}_{ts}\"\n",
        "\n",
        "@dataclass\n",
        "class Config:\n",
        "    device: str = \"cuda\" if torch.cuda.is_available() else \"cpu\"\n",
        "\n",
        "    # --- tokenisation ---\n",
        "    spacy_model: str = \"en_core_web_sm\"\n",
        "    spacy_disable: tuple = (\"ner\",\"parser\",\"tagger\",\"lemmatizer\")\n",
        "    use_partner_regex: bool = True              # True => r'^\\w+$', False => str.isalnum()\n",
        "    token_filter_regex: str = r\"^\\w+$\"          # can loosen to r\"^[\\w\\-']+$\" if needed\n",
        "\n",
        "    # --- vocab / artefacts ---\n",
        "    artifacts_dir: str = \"artifacts\"\n",
        "    min_freq: int = 2\n",
        "    max_vocab: int | None = None                # cap if you add BoW decoder\n",
        "    pad_token: str = \"[PAD]\"\n",
        "    oov_token: str = \"[OOV]\"\n",
        "\n",
        "    # encoder\n",
        "    embedding_dim: int = 100\n",
        "    lstm_hidden: int = 300  # risen from 256\n",
        "    lstm_layers: int = 1\n",
        "    bidir: bool = True\n",
        "    dropout: float = 0.1\n",
        "\n",
        "    # --- embeddings (new) ---\n",
        "    glove_source: str = \"glove-twitter-100\"     # keep current; switch to 'glove-wiki-gigaword-100' if desired\n",
        "    set_oov_random: bool = True                 # randomise OOV row instead of zeros\n",
        "    freeze_embeddings: bool = False\n",
        "\n",
        "    #variational\n",
        "    latent_dim: int = 128  # risen from 64\n",
        "    beta: float = 0.004    # your current global beta\n",
        "    kl_anneal_steps: int = 0        # 0 = off; otherwise linear warm-up steps\n",
        "    beta_max: float = 0.004          # (new) final beta target; matches beta by default\n",
        "\n",
        "    # classifier\n",
        "    mlp_hidden: int = 256  # risen from 128\n",
        "\n",
        "    # --- training / data (minor adds) ---\n",
        "    lr: float = 2e-4\n",
        "    weight_decay: float = 0.01\n",
        "    epochs: int = 10\n",
        "    batch_size: int = 64                    # (new) used by DataLoader\n",
        "    balance_classes: bool = False           # (new) if True, use your SubsetRandomSampler\n",
        "\n",
        "    # --- seq length heuristic (new, matches your code) ---\n",
        "    max_len_percentile: float = 99.5\n",
        "    max_len_cap: int = 256\n",
        "\n",
        "    # --- threshold/calibration (optional, new) ---\n",
        "    tune_threshold_on_val: bool = True\n",
        "    temperature_scale: bool = False\n",
        "\n",
        "    # --- decoder hook (future-proof, stays inactive) ---\n",
        "    recon: str = \"feat\"                     # {\"none\",\"bow\",\"feat\"}\n",
        "    gamma: float = 0.3\n",
        "\n",
        "    #ablation toggles (kept commented in spirit)\n",
        "    run_name: str = default_run_name(\"baseline\")  # used for plots/logging\n",
        "\n",
        "CFG = Config()\n",
        "CFG.num_classes = 2\n",
        "print(\"Run:\", CFG.run_name)\n"
      ],
      "metadata": {
        "id": "qlwh_KEpKyk9",
        "colab": {
          "base_uri": "https://localhost:8080/"
        },
        "outputId": "1931e42b-5632-4610-d146-b7061989a2eb"
      },
      "execution_count": 13,
      "outputs": [
        {
          "output_type": "stream",
          "name": "stdout",
          "text": [
            "Run: baseline_20251019-005519\n"
          ]
        }
      ]
    },
    {
      "cell_type": "markdown",
      "source": [
        "## 2.2 Encoder (BiLSTM) + pooling"
      ],
      "metadata": {
        "id": "mMAe-F9VRZon"
      }
    },
    {
      "cell_type": "code",
      "source": [
        "import torch.nn as nn\n",
        "\n",
        "# Mean-pooling layer that ignores padding tokens via a mask\n",
        "class MaskedMeanPool(nn.Module):\n",
        "    def forward(self, x, mask):\n",
        "        # x: [B,L,H], mask: [B,L] (1=real, 0=pad)\n",
        "        mask = mask.float().unsqueeze(-1)\n",
        "        x = x * mask #zero-out pads\n",
        "        denom = mask.sum(dim=1).clamp_min(1e-6) #avoid zero-division\n",
        "        return x.sum(dim=1) / denom #mean of reaal tokens\n",
        "\n",
        "# BiLSTM sentence encoder with masked mean pooling over token states\n",
        "class BiLSTMEncoder(nn.Module):\n",
        "    def __init__(self, vocab_size, emb_dim=200, hidden=256, layers=1, bidir=True, dropout=0.1):\n",
        "        super().__init__()\n",
        "        self.embed = nn.Embedding(vocab_size, emb_dim, padding_idx=0)  # PAD=0\n",
        "        self.lstm = nn.LSTM(\n",
        "            input_size = emb_dim,\n",
        "            hidden_size = hidden,\n",
        "            num_layers=layers,\n",
        "            batch_first=True,\n",
        "            bidirectional=bidir,\n",
        "            dropout=dropout if layers > 1 else 0.0 #dropout only if layers > 1\n",
        "        )\n",
        "\n",
        "        self.out_dim = hidden * (2 if bidir else 1)\n",
        "        self.mean_pool = MaskedMeanPool()  # expects (seq, mask) -> [B,D]\n",
        "\n",
        "        # attention modules (single-head) for encoder-side pooling\n",
        "        # self.enc_additive = AdditiveAttention(out_dim)\n",
        "        # self.enc_scaled = ScaledDotAttention(out_dim)\n",
        "\n",
        "    def forward(self, ids, lengths):\n",
        "        # ids: [B,L], lengths: [B]\n",
        "        emb = self.embed(ids)  # [B,L,E]\n",
        "        packed = nn.utils.rnn.pack_padded_sequence(emb, lengths.cpu(), batch_first=True, enforce_sorted=False)\n",
        "        seq, _ = self.lstm(packed)\n",
        "        seq, _ = nn.utils.rnn.pad_packed_sequence(seq, batch_first=True, total_length=ids.size(1))  # [B,L,D]\n",
        "        mask = (ids != 0).long()  # [B,L], 1 for real tokens\n",
        "        s = self.mean_pool(seq, mask)  # [B,D]\n",
        "        return s\n"
      ],
      "metadata": {
        "id": "j-UQ6Ha_RcO1"
      },
      "execution_count": 14,
      "outputs": []
    },
    {
      "cell_type": "markdown",
      "source": [
        "## Attention Modules (DONT USE)\n"
      ],
      "metadata": {
        "id": "MeERdSACCGqT"
      }
    },
    {
      "cell_type": "code",
      "source": [
        "# EMPTY"
      ],
      "metadata": {
        "id": "Pc0thtTyCQOq"
      },
      "execution_count": null,
      "outputs": []
    },
    {
      "cell_type": "markdown",
      "source": [
        "## 2.3 VSE Model\n",
        "variational heads + comparator + classifier"
      ],
      "metadata": {
        "id": "8Wd8AMLhRexq"
      }
    },
    {
      "cell_type": "code",
      "source": [
        "# OLD VERSION BFORE ABLATION\n",
        "\n",
        "import torch.nn.functional as F\n",
        "import torch\n",
        "import torch.nn as nn\n",
        "\n",
        "# Variational Siamese NLI model: encodes both sentences, reparameterizes z, then classifies their relation\n",
        "class VariationalSiameseEncoder(nn.Module):\n",
        "    def __init__(self, encoder, H, D, mlp_hidden=128, dropout=0.1, recon=\"none\", gamma=0.0):\n",
        "        super().__init__()\n",
        "        self.encoder = encoder           # shared sentence encoder\n",
        "        self.mu = nn.Linear(H, D)       # mean head over sentence rep s\n",
        "        self.logvar = nn.Linear(H, D)   # log-variance head over s\n",
        "        self.classifier = nn.Sequential(\n",
        "            nn.Linear(2*D + 2*H, CFG.mlp_hidden),\n",
        "            nn.ReLU(),\n",
        "            nn.Dropout(CFG.dropout),\n",
        "            nn.Linear(CFG.mlp_hidden, 2)\n",
        "        )\n",
        "        self.recon = recon\n",
        "        self.gamma = gamma\n",
        "        if self.recon == \"feat\":\n",
        "            emb_dim = self.encoder.embed.embedding_dim  # uses your embedding table dim\n",
        "            self.rec_head = nn.Sequential(\n",
        "                nn.Linear(D, H), nn.ReLU(),\n",
        "                nn.Linear(H, emb_dim)\n",
        "            )\n",
        "        else:\n",
        "            self.rec_head = None\n",
        "\n",
        "    def _encode(self, s):\n",
        "        return self.mu(s), self.logvar(s)\n",
        "\n",
        "    def _reparam(self, mu, logv, use_mu_inference=False):\n",
        "        if use_mu_inference:    # deterministic path at eval\n",
        "            return mu\n",
        "        std = (0.5 * logv).exp()\n",
        "        eps = torch.randn_like(std)\n",
        "        return mu + std * eps\n",
        "\n",
        "    def forward(self, batch, beta=0.01, use_mu_inference=False):\n",
        "        # encode premise and hypothesis -> sentence reps s1, s2\n",
        "        s1 = self.encoder(batch[\"premise_ids\"], batch[\"premise_lengths\"])\n",
        "        s2 = self.encoder(batch[\"hypo_ids\"], batch[\"hypo_lengths\"])\n",
        "\n",
        "        # VAE heads + reparameterization for each side\n",
        "        mu1, logv1 = self._encode(s1)\n",
        "        mu2, logv2 = self._encode(s2)\n",
        "        z1 = self._reparam(mu1, logv1, use_mu_inference)\n",
        "        z2 = self._reparam(mu2, logv2, use_mu_inference)\n",
        "\n",
        "\n",
        "        # pair features: |z1−z2|, z1·z2 plus raw s1,s2 (helps classifier)\n",
        "        feat = torch.cat([torch.abs(z1 - z2), z1 * z2, s1, s2], dim=-1)\n",
        "        logits = self.classifier(feat)\n",
        "\n",
        "        if \"labels\" not in batch:\n",
        "            return {\"logits\": logits}\n",
        "\n",
        "        labels = batch[\"labels\"]\n",
        "\n",
        "        ce = F.cross_entropy(logits, labels, weight=getattr(self, \"class_weights\", None)) #OLD: ce  = F.cross_entropy(logits, labels)  # task loss\n",
        "        # KL for each side (diag Gaussian vs. N(0, I))\n",
        "        kl1 = 0.5 * torch.sum(torch.exp(logv1) + mu1**2 - 1. - logv1, dim=1).mean()\n",
        "        kl2 = 0.5 * torch.sum(torch.exp(logv2) + mu2**2 - 1. - logv2, dim=1).mean()\n",
        "        kl  = kl1 + kl2\n",
        "\n",
        "        # feature reconstruction loss (hypothesis side)\n",
        "        rec = torch.tensor(0.0, device=logits.device)\n",
        "        if self.recon == \"feat\" and self.rec_head is not None and self.gamma > 0.0:\n",
        "            # masked mean of hypothesis *embeddings* (no grad)\n",
        "            with torch.no_grad():\n",
        "                emb = self.encoder.embed(batch[\"hypo_ids\"])           # [B, L, E]\n",
        "                mask = (batch[\"hypo_ids\"] != 0).float().unsqueeze(-1) # PAD=0\n",
        "                emb_masked = emb * mask\n",
        "                denom = mask.sum(dim=1).clamp_min(1e-6)\n",
        "                h_bow = emb_masked.sum(dim=1) / denom                 # [B, E]\n",
        "            # predict it from z2\n",
        "            h_hat = self.rec_head(z2)                                  # [B, E]\n",
        "            rec = F.mse_loss(h_hat, h_bow)\n",
        "\n",
        "        loss = ce + beta * kl + self.gamma * rec\n",
        "\n",
        "        return {\"logits\": logits, \"loss_total\": loss, \"loss_task\": ce, \"loss_kl\": kl, \"loss_rec\": rec}\n"
      ],
      "metadata": {
        "id": "BtH6odJSRi4h"
      },
      "execution_count": 15,
      "outputs": []
    },
    {
      "cell_type": "markdown",
      "source": [
        "## 2.4 Build the Model"
      ],
      "metadata": {
        "id": "NTDmvl2YSMny"
      }
    },
    {
      "cell_type": "code",
      "source": [
        "# Build VSE-BiLSTM model and load pre-trained GloVe embeddings\n",
        "vocab_size = len(wordindexes) if isinstance(wordindexes, dict) else len(vocab)  # adapt to vocab container\n",
        "H = CFG.lstm_hidden * (2 if CFG.bidir else 1)         # BiLSTM doubles hidden size if bidirectional\n",
        "\n",
        "encoder = BiLSTMEncoder(\n",
        "    vocab_size=vocab_size,\n",
        "    emb_dim=CFG.embedding_dim,     #must match emb_table dim (100 for glove-twitter-100)\n",
        "    hidden=CFG.lstm_hidden,\n",
        "    layers=CFG.lstm_layers,\n",
        "    bidir=CFG.bidir,\n",
        "    dropout=CFG.dropout\n",
        ")\n",
        "\n",
        "model = VariationalSiameseEncoder(\n",
        "    encoder=encoder,\n",
        "    H=H,\n",
        "    D=CFG.latent_dim,     # latent z dim for each side\n",
        "    mlp_hidden=CFG.mlp_hidden,\n",
        "    dropout=CFG.dropout,\n",
        "    recon=CFG.recon,\n",
        "    gamma=CFG.gamma\n",
        ").to(CFG.device)\n",
        "\n",
        "#load pre-trained GloVe into the embedding layer (ensure shapes match)\n",
        "assert model.encoder.embed.weight.data.shape == torch.Size(emb_table.shape), \\\n",
        "    f\"Embedding shape mismatch: layer {tuple(model.encoder.embed.weight.shape)} vs table {emb_table.shape}\"\n",
        "\n",
        "with torch.no_grad():\n",
        "    model.encoder.embed.weight.data.copy_(torch.tensor(emb_table, dtype=torch.float32))  #init from GloVe\n",
        "\n",
        "\n",
        "sum_params = sum(p.numel() for p in model.parameters())/1e6\n",
        "\n",
        "print(\"Recon on?\", CFG.recon, \"| gamma:\", CFG.gamma,\"| emb_dim:\", model.encoder.embed.embedding_dim)\n",
        "\n",
        "print(f\"Model ready. Params: {sum_params:.2f}M  |  H={H}, D={CFG.latent_dim}\")\n"
      ],
      "metadata": {
        "id": "rmhfbxKDSQ6G",
        "colab": {
          "base_uri": "https://localhost:8080/"
        },
        "outputId": "474ca43b-4325-46b0-aee7-7a4e5f120c94"
      },
      "execution_count": 16,
      "outputs": [
        {
          "output_type": "stream",
          "name": "stdout",
          "text": [
            "Recon on? feat | gamma: 0.3 | emb_dim: 100\n",
            "Model ready. Params: 2.75M  |  H=600, D=128\n"
          ]
        }
      ]
    },
    {
      "cell_type": "markdown",
      "source": [
        "##### Sanity Check"
      ],
      "metadata": {
        "id": "hq1n0N9mSfeW"
      }
    },
    {
      "cell_type": "code",
      "source": [
        "# tiny-batch overfit (run once for debugging)\n",
        "tiny = next(iter(train_loader))\n",
        "tiny = {k: v.to(CFG.device) for k,v in tiny.items()}\n",
        "\n",
        "opt = torch.optim.AdamW(model.parameters(), lr=1e-3, weight_decay=0.0)\n",
        "\n",
        "model.train() # Set model to training mode before the loop\n",
        "for _ in range(200):\n",
        "    out = model(tiny, beta=0.0, use_mu_inference=False)  # no KL\n",
        "    opt.zero_grad()\n",
        "    out[\"loss_task\"].backward()\n",
        "    opt.step()\n",
        "\n",
        "model.eval() # Set model back to evaluation mode after the loop\n",
        "with torch.no_grad():\n",
        "    preds = model(tiny, beta=0.0, use_mu_inference=True)[\"logits\"].argmax(-1)\n",
        "    print(\"tiny overfit acc:\", (preds == tiny[\"labels\"]).float().mean().item())"
      ],
      "metadata": {
        "colab": {
          "base_uri": "https://localhost:8080/"
        },
        "id": "TiVM749MSh--",
        "outputId": "de5bed56-0599-402e-cdc6-69bc692a513c"
      },
      "execution_count": 25,
      "outputs": [
        {
          "output_type": "stream",
          "name": "stdout",
          "text": [
            "tiny overfit acc: 1.0\n"
          ]
        }
      ]
    },
    {
      "cell_type": "markdown",
      "source": [
        "## 2.5 Train/Val Loops\n",
        "\\+ best checkpoint"
      ],
      "metadata": {
        "id": "9wUcRBt69J-Z"
      }
    },
    {
      "cell_type": "code",
      "source": [
        "import time\n",
        "import csv, math, pathlib, time\n",
        "import torch\n",
        "from torch import nn, optim\n",
        "\n",
        "# Training + evaluation loops with β warm-up, grad clipping, and best-checkpoint saving\n",
        "\n",
        "def evaluate(model, loader, use_mu_inference=True):\n",
        "    model.eval()\n",
        "    total, correct = 0, 0\n",
        "    with torch.no_grad():\n",
        "        for batch in loader:\n",
        "            batch = {k: v.to(CFG.device) for k, v in batch.items()}\n",
        "            out = model(batch, beta=CFG.beta, use_mu_inference=use_mu_inference)  # deterministic path at eval\n",
        "            preds = out[\"logits\"].argmax(-1)\n",
        "            labels = batch[\"labels\"]\n",
        "            total += labels.size(0)\n",
        "            correct += (preds == labels).sum().item()\n",
        "    return correct / max(total, 1)\n",
        "\n",
        "# per-run Drive paths + CSV header (uses LOG_DIR / CKPT_DIR / CFG.run_name)\n",
        "run_dir = (LOG_DIR / CFG.run_name)\n",
        "run_dir.mkdir(parents=True, exist_ok=True)\n",
        "log_path = run_dir / \"metrics.csv\"\n",
        "best_path = CKPT_DIR / f\"best_{CFG.run_name}.pt\"\n",
        "\n",
        "with open(log_path, \"w\", newline=\"\") as f:\n",
        "    csv.writer(f).writerow([\"epoch\",\"train_loss\",\"train_task\",\"train_kl\",\"train_rec\",\"val_acc\"])\n",
        "\n",
        "optimizer = torch.optim.AdamW(model.parameters(), lr=CFG.lr, weight_decay=CFG.weight_decay) # WD on by default\n",
        "\n",
        "best_val = -1.0\n",
        "# best_path = \"best_vse_bilstm.pt\"\n",
        "\n",
        "for epoch in range(1, CFG.epochs+1):\n",
        "    model.train()\n",
        "    t0 = time.time()\n",
        "    seen = 0\n",
        "    loss_sum = task_sum = kl_sum = rec_sum = 0.0\n",
        "\n",
        "    for batch in train_loader:\n",
        "        batch = {k: v.to(CFG.device) for k, v in batch.items()}\n",
        "\n",
        "        warmup_epochs = max(1, int(0.3 * CFG.epochs)) # 30% of training\n",
        "        beta_t = CFG.beta * min(1.0, epoch / warmup_epochs)  # linear warm-up over number of epochs\n",
        "\n",
        "        out = model(batch, beta=beta_t, use_mu_inference=False)  # stochastic z during training   ---   #previous: out = model(batch, beta=CFG.beta, use_mu_inference=False)\n",
        "        rec_val = out.get(\"loss_rec\", torch.tensor(0.0, device=CFG.device))\n",
        "        loss = out[\"loss_total\"]\n",
        "        optimizer.zero_grad(set_to_none=True)\n",
        "        loss.backward()\n",
        "        torch.nn.utils.clip_grad_norm_(model.parameters(), 1.0) # clip to stabilise LSTM\n",
        "        optimizer.step()\n",
        "\n",
        "        bs = batch[\"labels\"].size(0)\n",
        "        seen += bs\n",
        "        loss_sum += out[\"loss_total\"].item() * bs\n",
        "        task_sum += out[\"loss_task\"].item() * bs\n",
        "        kl_sum += out[\"loss_kl\"].item() * bs\n",
        "        rec_sum += rec_val.item() * bs\n",
        "\n",
        "    train_loss = loss_sum / max(1, seen)\n",
        "    train_task = task_sum / max(1, seen)\n",
        "    train_kl = kl_sum / max(1, seen)\n",
        "    train_rec  = rec_sum  / max(1, seen)\n",
        "\n",
        "    val_acc = evaluate(model, val_loader, use_mu_inference=True)\n",
        "    print(f\"Epoch {epoch:02d} | {time.time()-t0:.1f}s | loss={train_loss:.4f} (task={train_task:.4f}, kl={train_kl:.4f}) | rec={train_rec:.4f} | val_acc={val_acc:.4f}\")\n",
        "\n",
        "    # quick diagnostic: average logits on val to spot class bias\n",
        "    with torch.no_grad():\n",
        "        s = torch.zeros(2, device=CFG.device); n=0\n",
        "        for b in val_loader:\n",
        "            b = {k:v.to(CFG.device) for k,v in b.items()}\n",
        "            lg = model(b, beta=0.0, use_mu_inference=True)[\"logits\"]\n",
        "            s += lg.mean(0); n += 1\n",
        "        print(\"avg val logits:\", (s/n).tolist())\n",
        "\n",
        "    #append metrics row to CSV in Drive\n",
        "    with open(log_path, \"a\", newline=\"\") as f:\n",
        "        csv.writer(f).writerow([epoch, train_loss, train_task, train_kl,train_rec, val_acc])\n",
        "\n",
        "\n",
        "    if val_acc > best_val:     # save best-by-val-acc checkpoint\n",
        "        best_val = val_acc\n",
        "        torch.save({\"state\": model.state_dict(), \"cfg\": asdict(CFG)}, best_path)\n",
        "        print(\"  saved best ->\", best_path)\n",
        "\n",
        "print(\"Best val acc:\", best_val)\n",
        "print(\"Run log CSV:\", log_path)\n",
        "print(\"Best checkpoint:\", best_path)\n"
      ],
      "metadata": {
        "colab": {
          "base_uri": "https://localhost:8080/"
        },
        "id": "80oGfue49U27",
        "outputId": "f0d15403-a34a-48d9-b289-3116aa7ceecf"
      },
      "execution_count": 26,
      "outputs": [
        {
          "output_type": "stream",
          "name": "stdout",
          "text": [
            "Epoch 01 | 7.5s | loss=0.7696 (task=0.7468, kl=4.1379) | rec=0.0575 | val_acc=0.6840\n",
            "avg val logits: [-0.3065932095050812, 0.13295242190361023]\n",
            "  saved best -> /content/drive/MyDrive/CITS4012_project/checkpoints/best_baseline_20251018-135344.pt\n",
            "Epoch 02 | 7.9s | loss=0.5354 (task=0.5237, kl=0.5447) | rec=0.0341 | val_acc=0.7140\n",
            "avg val logits: [-0.43240755796432495, 0.2623317241668701]\n",
            "  saved best -> /content/drive/MyDrive/CITS4012_project/checkpoints/best_baseline_20251018-135344.pt\n",
            "Epoch 03 | 6.9s | loss=0.4643 (task=0.4532, kl=0.3447) | rec=0.0324 | val_acc=0.7155\n",
            "avg val logits: [-0.47933024168014526, 0.27674493193626404]\n",
            "  saved best -> /content/drive/MyDrive/CITS4012_project/checkpoints/best_baseline_20251018-135344.pt\n",
            "Epoch 04 | 8.1s | loss=0.4075 (task=0.3970, kl=0.2603) | rec=0.0314 | val_acc=0.6986\n",
            "avg val logits: [-0.694449782371521, 0.42560356855392456]\n",
            "Epoch 05 | 6.9s | loss=0.3687 (task=0.3586, kl=0.2288) | rec=0.0307 | val_acc=0.7186\n",
            "avg val logits: [-0.5784201622009277, 0.3553730845451355]\n",
            "  saved best -> /content/drive/MyDrive/CITS4012_project/checkpoints/best_baseline_20251018-135344.pt\n",
            "Epoch 06 | 8.1s | loss=0.3340 (task=0.3241, kl=0.2164) | rec=0.0302 | val_acc=0.7193\n",
            "avg val logits: [-0.5324503183364868, 0.3117678165435791]\n",
            "  saved best -> /content/drive/MyDrive/CITS4012_project/checkpoints/best_baseline_20251018-135344.pt\n",
            "Epoch 07 | 8.1s | loss=0.3033 (task=0.2935, kl=0.1953) | rec=0.0298 | val_acc=0.7232\n",
            "avg val logits: [-0.5998278856277466, 0.34760212898254395]\n",
            "  saved best -> /content/drive/MyDrive/CITS4012_project/checkpoints/best_baseline_20251018-135344.pt\n",
            "Epoch 08 | 6.8s | loss=0.2771 (task=0.2675, kl=0.1792) | rec=0.0295 | val_acc=0.7462\n",
            "avg val logits: [-0.30633214116096497, 0.11479181796312332]\n",
            "  saved best -> /content/drive/MyDrive/CITS4012_project/checkpoints/best_baseline_20251018-135344.pt\n",
            "Epoch 09 | 8.2s | loss=0.2536 (task=0.2441, kl=0.1822) | rec=0.0293 | val_acc=0.7423\n",
            "avg val logits: [-0.5005941987037659, 0.2786213755607605]\n",
            "Epoch 10 | 6.9s | loss=0.2301 (task=0.2207, kl=0.1625) | rec=0.0290 | val_acc=0.7408\n",
            "avg val logits: [-0.5416451692581177, 0.29380184412002563]\n",
            "Best val acc: 0.7461656441717791\n",
            "Run log CSV: /content/drive/MyDrive/CITS4012_project/logs/baseline_20251018-135344/metrics.csv\n",
            "Best checkpoint: /content/drive/MyDrive/CITS4012_project/checkpoints/best_baseline_20251018-135344.pt\n"
          ]
        }
      ]
    },
    {
      "cell_type": "markdown",
      "source": [
        "## 2.6 Final Test Evaluation\n",
        "and confusion matrix"
      ],
      "metadata": {
        "id": "y63eUfZI7C18"
      }
    },
    {
      "cell_type": "code",
      "source": [
        "import seaborn as sns\n",
        "import matplotlib.pyplot as plt\n",
        "import numpy as np\n",
        "from sklearn.metrics import classification_report, confusion_matrix\n",
        "import os\n",
        "\n",
        "# load best\n",
        "if os.path.exists(best_path):\n",
        "    ckpt = torch.load(best_path, map_location=CFG.device)\n",
        "    model.load_state_dict(ckpt[\"state\"])\n",
        "    print(\"Loaded\", best_path)\n",
        "\n",
        "# evaluate with deterministic inference (use μ)\n",
        "model.eval()\n",
        "all_preds, all_labels = [], []\n",
        "with torch.no_grad():\n",
        "    for batch in test_loader:\n",
        "        batch = {k: v.to(CFG.device) for k, v in batch.items()}\n",
        "        out = model(batch, beta=CFG.beta, use_mu_inference=True)\n",
        "        preds = out[\"logits\"].argmax(-1).cpu().numpy()\n",
        "        labs  = batch[\"labels\"].cpu().numpy()\n",
        "        all_preds.append(preds); all_labels.append(labs)\n",
        "\n",
        "preds = np.concatenate(all_preds) if all_preds else np.array([])\n",
        "labs  = np.concatenate(all_labels) if all_labels else np.array([])\n",
        "acc = (preds == labs).mean() if preds.size else 0.0\n",
        "\n",
        "cm = np.zeros((2,2), dtype=int)\n",
        "for t,p in zip(labs, preds): cm[t,p] += 1\n",
        "\n",
        "print(f\"Test accuracy: {acc:.4f}\")\n",
        "print(\"Confusion matrix (rows=true, cols=pred):\\n\", cm)\n",
        "report = classification_report(labs, preds, target_names=[\"neutral (0)\", \"entails (1)\"], digits=3)\n",
        "print(report)\n",
        "\n",
        "labels = [\"neutral (0)\", \"entails (1)\"]\n",
        "cm = confusion_matrix(labs, preds, labels=[0,1])\n",
        "\n",
        "plt.figure(figsize=(5,4))\n",
        "sns.heatmap(cm, annot=True, fmt=\"d\", cmap=\"Blues\",\n",
        "            xticklabels=labels, yticklabels=labels)\n",
        "plt.xlabel(\"Predicted Label\")\n",
        "plt.ylabel(\"True Label\")\n",
        "plt.title(\"Confusion Matrix (rows=true, cols=pred)\")\n",
        "plt.show()"
      ],
      "metadata": {
        "colab": {
          "base_uri": "https://localhost:8080/",
          "height": 653
        },
        "id": "aQCXIH0-7K9T",
        "outputId": "75496eb5-9c37-407b-8f0d-d8e9a5c245a4"
      },
      "execution_count": 27,
      "outputs": [
        {
          "output_type": "stream",
          "name": "stdout",
          "text": [
            "Loaded /content/drive/MyDrive/CITS4012_project/checkpoints/best_baseline_20251018-135344.pt\n",
            "Test accuracy: 0.6806\n",
            "Confusion matrix (rows=true, cols=pred):\n",
            " [[814 470]\n",
            " [209 633]]\n",
            "              precision    recall  f1-score   support\n",
            "\n",
            " neutral (0)      0.796     0.634     0.706      1284\n",
            " entails (1)      0.574     0.752     0.651       842\n",
            "\n",
            "    accuracy                          0.681      2126\n",
            "   macro avg      0.685     0.693     0.678      2126\n",
            "weighted avg      0.708     0.681     0.684      2126\n",
            "\n"
          ]
        },
        {
          "output_type": "display_data",
          "data": {
            "text/plain": [
              "<Figure size 500x400 with 2 Axes>"
            ],
            "image/png": "[encoded data removed]"
          },
          "metadata": {}
        }
      ]
    },
    {
      "cell_type": "markdown",
      "source": [
        "# 3. Additional Ablation Study\n"
      ],
      "metadata": {
        "id": "sSkY3rR81ob0"
      }
    },
    {
      "cell_type": "markdown",
      "source": [
        "3.1. Utilities and Builder"
      ],
      "metadata": {
        "id": "wiAYd4e_2gNY"
      }
    },
    {
      "cell_type": "code",
      "source": [
        "# === Ablation Study Utilities (metrics, run id, builder) ===\n",
        "import csv, time, json\n",
        "import numpy as np, pandas as pd, matplotlib.pyplot as plt\n",
        "from sklearn.metrics import precision_recall_fscore_support, accuracy_score\n",
        "from dataclasses import asdict\n",
        "from pathlib import Path\n",
        "from functools import partial\n",
        "import torch\n",
        "\n",
        "# ---------- Metrics ----------\n",
        "def compute_metrics(model, loader, device=None, use_mu_inference=True, beta_for_eval=None, num_classes=2):\n",
        "    model.eval()\n",
        "    preds, labels = [], []\n",
        "    with torch.no_grad():\n",
        "        for batch in loader:\n",
        "            batch = {k: v.to(device or CFG.device) for k, v in batch.items()}\n",
        "            out = model(batch, beta=(beta_for_eval if beta_for_eval is not None else getattr(CFG,\"beta\",1.0)),\n",
        "                        use_mu_inference=use_mu_inference)\n",
        "            preds.append(out[\"logits\"].argmax(-1).cpu().numpy())\n",
        "            labels.append(batch[\"labels\"].cpu().numpy())\n",
        "    y_pred, y_true = np.concatenate(preds), np.concatenate(labels)\n",
        "    acc = accuracy_score(y_true, y_pred)\n",
        "    p, r, f1, support = precision_recall_fscore_support(y_true, y_pred, labels=list(range(num_classes)), zero_division=0)\n",
        "    return {\"accuracy\": float(acc), \"macro_f1\": float(f1.mean() if len(f1) else 0.0),\n",
        "            \"per_class_f1\": [float(x) for x in f1], \"support\": [int(x) for x in support]}\n",
        "\n",
        "def timestamp():\n",
        "    return time.strftime(\"%Y%m%d_%H%M%S\")\n",
        "\n",
        "def run_id_from_cfg(tag=\"gamma\"):\n",
        "    parts = [str(tag), f\"ep{getattr(CFG,'epochs',10)}\", f\"bs{getattr(CFG,'batch_size',64)}\",\n",
        "             f\"lr{getattr(CFG,'lr',1e-3)}\", timestamp()]\n",
        "    return \"_\".join(parts)\n",
        "\n",
        "# ---------- Model + Dataloaders Builder (no scheduler) ----------\n",
        "def build_vsae_from_cfg():\n",
        "    \"\"\"\n",
        "    Builds model + optimizer + loaders for a fresh run.\n",
        "    Uses globals from earlier cells: encoder, H, train_ds, val_ds, test_ds, collate_bilstm, pad_id, MAX_LEN,\n",
        "    and optional train_sampler.\n",
        "    \"\"\"\n",
        "    model = VariationalSiameseEncoder(\n",
        "        encoder=encoder,\n",
        "        H=H,\n",
        "        D=CFG.latent_dim,\n",
        "        mlp_hidden=CFG.mlp_hidden,\n",
        "        dropout=CFG.dropout,\n",
        "        recon=CFG.recon,\n",
        "        gamma=CFG.gamma\n",
        "    ).to(CFG.device)\n",
        "\n",
        "    optimizer = torch.optim.AdamW(model.parameters(),\n",
        "                                  lr=getattr(CFG, \"lr\", 1e-3),\n",
        "                                  weight_decay=getattr(CFG, \"weight_decay\", 0.0))\n",
        "\n",
        "    # Collate + loaders\n",
        "    _max_len = getattr(CFG, \"max_len\", MAX_LEN)\n",
        "    _pad_id  = getattr(CFG, \"pad_id\", pad_id)\n",
        "    collate  = partial(collate_bilstm, max_len=_max_len, pad_id=_pad_id)\n",
        "\n",
        "    sampler = train_sampler if \"train_sampler\" in globals() and train_sampler is not None else None\n",
        "    shuffle_flag = (sampler is None)\n",
        "\n",
        "    train_loader = torch.utils.data.DataLoader(\n",
        "        train_ds,\n",
        "        batch_size=getattr(CFG, \"batch_size\", 64),\n",
        "        sampler=sampler,\n",
        "        shuffle=shuffle_flag,\n",
        "        collate_fn=collate,\n",
        "        drop_last=True\n",
        "    )\n",
        "\n",
        "    eval_bs = getattr(CFG, \"eval_batch_size\", getattr(CFG, \"batch_size\", 64))\n",
        "    val_loader = torch.utils.data.DataLoader(val_ds, batch_size=eval_bs, shuffle=False, collate_fn=collate)\n",
        "    test_loader = torch.utils.data.DataLoader(test_ds, batch_size=eval_bs, shuffle=False, collate_fn=collate)\n",
        "\n",
        "    scheduler = None\n",
        "    return model, train_loader, val_loader, test_loader, optimizer, scheduler\n"
      ],
      "metadata": {
        "id": "IHa--dEL2jOD"
      },
      "execution_count": 17,
      "outputs": []
    },
    {
      "cell_type": "markdown",
      "source": [
        "#### 3.2. Training Wrapper"
      ],
      "metadata": {
        "id": "eXsznzmb_T1z"
      }
    },
    {
      "cell_type": "code",
      "source": [
        "def train_full_run_and_return_paths(run_name: str):\n",
        "    \"\"\"\n",
        "    Integrated version of your training loop:\n",
        "    - β warm-up\n",
        "    - grad clipping\n",
        "    - CSV logging\n",
        "    - best-by-val-acc checkpointing\n",
        "    Expects globals from build_vsae_from_cfg(): model, train_loader, val_loader, test_loader, optimizer, scheduler(None)\n",
        "    \"\"\"\n",
        "    # ---- per-run output paths ----\n",
        "    out_dir = Path(\"runs\") / run_name\n",
        "    out_dir.mkdir(parents=True, exist_ok=True)\n",
        "    log_path  = out_dir / \"train_log.csv\"\n",
        "    best_path = out_dir / \"best.pt\"\n",
        "\n",
        "    # ---- header for CSV log ----\n",
        "    with open(log_path, \"w\", newline=\"\") as f:\n",
        "        csv.writer(f).writerow([\"epoch\", \"train_loss\", \"train_task\", \"train_kl\", \"train_rec\", \"val_acc\"])\n",
        "\n",
        "    best_val = -1.0\n",
        "\n",
        "    # ---------- TRAIN + EVAL LOOP ----------\n",
        "    E = getattr(CFG, \"epochs\", 10)\n",
        "    base_beta = float(getattr(CFG, \"beta\", 1.0))\n",
        "    warmup_E  = int(getattr(CFG, \"beta_warmup_epochs\", 0))\n",
        "    use_clip  = float(getattr(CFG, \"grad_clip\", 0.0))\n",
        "\n",
        "    for epoch in range(1, E + 1):\n",
        "        model.train()\n",
        "        t_loss = t_task = t_kl = t_rec = 0.0\n",
        "        n_batches = 0\n",
        "\n",
        "        # ---- optional β warm-up ----\n",
        "        if warmup_E > 0:\n",
        "            beta = min(1.0, epoch / warmup_E) * base_beta\n",
        "        else:\n",
        "            beta = base_beta\n",
        "\n",
        "        # ---- training epoch ----\n",
        "        for batch in train_loader:\n",
        "            n_batches += 1\n",
        "            batch = {k: v.to(CFG.device) for k, v in batch.items()}\n",
        "            optimizer.zero_grad()\n",
        "\n",
        "            out = model(batch, beta=beta, use_mu_inference=False)  # stochastic z for training\n",
        "\n",
        "            # Retrieve loss tensors from the model output dictionary\n",
        "            loss_total = out.get(\"loss_total\")\n",
        "            loss_task = out.get(\"loss_task\", torch.tensor(0.0, device=CFG.device))\n",
        "            loss_kl = out.get(\"loss_kl\", torch.tensor(0.0, device=CFG.device))\n",
        "            loss_rec_val = out.get(\"loss_rec\", torch.tensor(0.0, device=CFG.device))\n",
        "\n",
        "\n",
        "            loss = loss_total # Use the total loss for backpropagation\n",
        "\n",
        "            loss.backward()\n",
        "            if use_clip and use_clip > 0:\n",
        "                torch.nn.utils.clip_grad_norm_(model.parameters(), use_clip)\n",
        "            optimizer.step()\n",
        "\n",
        "            # accumulate for logging (use .item() to get scalar values)\n",
        "            t_loss += float(loss.detach().cpu().item())\n",
        "            t_task += float(loss_task.detach().cpu().item())\n",
        "            t_kl   += float(loss_kl.detach().cpu().item())\n",
        "            t_rec  += float(loss_rec_val.detach().cpu().item())\n",
        "\n",
        "\n",
        "        # ---- average epoch stats ----\n",
        "        n_batches = max(1, n_batches)\n",
        "        train_loss = t_loss / n_batches\n",
        "        train_task = t_task / n_batches\n",
        "        train_kl   = t_kl   / n_batches\n",
        "        train_rec  = t_rec  / n_batches\n",
        "\n",
        "        # ---- validation accuracy (prefer your evaluate(); else fallback) ----\n",
        "        val_acc = None\n",
        "        try:\n",
        "            # your notebook's evaluate usually returns accuracy\n",
        "            val_acc = float(evaluate(model, val_loader, use_mu_inference=True))\n",
        "        except Exception:\n",
        "            val_metrics = compute_metrics(model, val_loader, device=CFG.device, num_classes=getattr(CFG, \"num_classes\", 2))\n",
        "            val_acc = float(val_metrics[\"accuracy\"])\n",
        "\n",
        "        # ---- log row ----\n",
        "        with open(log_path, \"a\", newline=\"\") as f:\n",
        "            csv.writer(f).writerow([epoch, train_loss, train_task, train_kl, train_rec, val_acc])\n",
        "\n",
        "        print(f\"[Epoch {epoch:03d}] beta={beta:.4f} | train: loss={train_loss:.4f} cls={train_task:.4f} kl={train_kl:.4f} rec={train_rec:.4f} | val_acc={val_acc:.4f}\")\n",
        "\n",
        "        # ---- checkpoint best ----\n",
        "        if val_acc > best_val:\n",
        "            best_val = val_acc\n",
        "            torch.save({\"state\": model.state_dict(), \"cfg\": asdict(CFG)}, best_path)\n",
        "            print(\"  saved best ->\", best_path)\n",
        "\n",
        "        # ---- (optional) scheduler guard ----\n",
        "        if \"scheduler\" in globals() and scheduler is not None:\n",
        "            try:\n",
        "                scheduler.step(val_acc)\n",
        "            except TypeError:\n",
        "                scheduler.step()\n",
        "\n",
        "    print(\"Best val acc:\", best_val)\n",
        "    print(\"Run log CSV:\", log_path)\n",
        "    print(\"Best checkpoint:\", best_path)\n",
        "    return log_path, best_path"
      ],
      "metadata": {
        "id": "qwPTXbDJ9Pfo"
      },
      "execution_count": 18,
      "outputs": []
    },
    {
      "cell_type": "markdown",
      "source": [
        "#### 3.3 Single y Run"
      ],
      "metadata": {
        "id": "PpSPP9le_OT9"
      }
    },
    {
      "cell_type": "code",
      "source": [
        "def run_single_gamma(gamma_value: float, pooling: str = None):\n",
        "    \"\"\"\n",
        "    Sets γ (and pooling, optionally), rebuilds model/loaders, trains, and evaluates.\n",
        "    Returns a dict of metrics for one configuration.\n",
        "    \"\"\"\n",
        "    CFG.gamma = float(gamma_value)\n",
        "    if hasattr(CFG, \"use_reconstruction\"):\n",
        "        CFG.use_reconstruction = (CFG.gamma > 0)\n",
        "    if pooling is not None and hasattr(CFG, \"pooling\"):\n",
        "        CFG.pooling = pooling\n",
        "\n",
        "    model, train_loader, val_loader, test_loader, optimizer, scheduler = build_vsae_from_cfg()\n",
        "\n",
        "    globals().update(dict(model=model, train_loader=train_loader,\n",
        "                          val_loader=val_loader, test_loader=test_loader,\n",
        "                          optimizer=optimizer, scheduler=scheduler))\n",
        "\n",
        "    run_name = run_id_from_cfg(tag=f\"gamma{gamma_value}\".replace(\".\", \"_\"))\n",
        "    log_path, best_path = train_full_run_and_return_paths(run_name)\n",
        "\n",
        "    # Load best checkpoint and compute metrics\n",
        "    best_state = torch.load(best_path, map_location=CFG.device)\n",
        "    model.load_state_dict(best_state[\"state\"])\n",
        "\n",
        "    val_metrics = compute_metrics(model, val_loader, device=CFG.device, num_classes=CFG.num_classes)\n",
        "    test_metrics = compute_metrics(model, test_loader, device=CFG.device, num_classes=CFG.num_classes)\n",
        "\n",
        "    return dict(\n",
        "        run=run_name,\n",
        "        gamma=float(gamma_value),\n",
        "        val_acc=val_metrics[\"accuracy\"],\n",
        "        val_macro_f1=val_metrics[\"macro_f1\"],\n",
        "        test_acc=test_metrics[\"accuracy\"],\n",
        "        test_macro_f1=test_metrics[\"macro_f1\"],\n",
        "        per_class_f1_val=json.dumps(val_metrics[\"per_class_f1\"]),\n",
        "        per_class_f1_test=json.dumps(test_metrics[\"per_class_f1\"]),\n",
        "        checkpoint=str(best_path),\n",
        "        log_csv=str(log_path)\n",
        "    )\n"
      ],
      "metadata": {
        "id": "z-KMEPRE9yBQ"
      },
      "execution_count": 19,
      "outputs": []
    },
    {
      "cell_type": "markdown",
      "source": [
        "#### 3.4. y Sweep + Plots"
      ],
      "metadata": {
        "id": "11mNXktZ_dG-"
      }
    },
    {
      "cell_type": "code",
      "source": [
        "# ==== Run γ sweep ====\n",
        "GAMMAS = [0.0, 0.1, 0.3, 0.5]\n",
        "results = []\n",
        "\n",
        "for g in GAMMAS:\n",
        "    print(f\"\\n=== Running γ={g} ===\")\n",
        "    results.append(run_single_gamma(g))\n",
        "\n",
        "res_df = pd.DataFrame(results)\n",
        "out_dir = Path(\"runs\"); out_dir.mkdir(exist_ok=True)\n",
        "csv_path = out_dir / f\"ablation_gamma_{timestamp()}.csv\"\n",
        "res_df.to_csv(csv_path, index=False)\n",
        "print(\"Saved results ->\", csv_path)\n",
        "\n",
        "# ==== Plot Macro-F1 vs γ ====\n",
        "plt.figure(figsize=(6,4))\n",
        "plt.plot(res_df[\"gamma\"], res_df[\"val_macro_f1\"], marker=\"o\", label=\"Val Macro-F1\")\n",
        "plt.plot(res_df[\"gamma\"], res_df[\"test_macro_f1\"], marker=\"x\", linestyle=\"--\", label=\"Test Macro-F1\")\n",
        "plt.xlabel(\"γ (reconstruction weight)\")\n",
        "plt.ylabel(\"Macro-F1\")\n",
        "plt.title(\"γ Sweep Ablation\")\n",
        "plt.legend()\n",
        "plt.grid(True)\n",
        "plt.show()\n",
        "\n",
        "# ==== Per-class F1 (val) ====\n",
        "plt.figure(figsize=(6,4))\n",
        "expanded = []\n",
        "for _, r in res_df.iterrows():\n",
        "    per_f1 = json.loads(r[\"per_class_f1_val\"])\n",
        "    for i, f in enumerate(per_f1):\n",
        "        expanded.append({\"gamma\": r[\"gamma\"], \"class\": i, \"f1\": f})\n",
        "per_df = pd.DataFrame(expanded)\n",
        "for cls, sub in per_df.groupby(\"class\"):\n",
        "    plt.plot(sub[\"gamma\"], sub[\"f1\"], marker=\"o\", label=f\"Class {cls}\")\n",
        "plt.xlabel(\"γ\")\n",
        "plt.ylabel(\"Per-class F1 (Val)\")\n",
        "plt.title(\"Per-class F1 vs γ\")\n",
        "plt.legend()\n",
        "plt.grid(True)\n",
        "plt.show()\n"
      ],
      "metadata": {
        "colab": {
          "base_uri": "https://localhost:8080/",
          "height": 1000
        },
        "id": "UxVqfhGL91Oc",
        "outputId": "3128e9e2-5020-4ef0-8215-90fd5bd00938"
      },
      "execution_count": 20,
      "outputs": [
        {
          "output_type": "stream",
          "name": "stdout",
          "text": [
            "\n",
            "=== Running γ=0.0 ===\n",
            "[Epoch 001] beta=0.0040 | train: loss=0.6251 cls=0.6242 kl=0.2282 rec=0.0000 | val_acc=0.6802\n",
            "  saved best -> runs/gamma0_0_ep10_bs64_lr0.0002_20251019_005605/best.pt\n",
            "[Epoch 002] beta=0.0040 | train: loss=0.5112 cls=0.5102 kl=0.2442 rec=0.0000 | val_acc=0.7048\n",
            "  saved best -> runs/gamma0_0_ep10_bs64_lr0.0002_20251019_005605/best.pt\n",
            "[Epoch 003] beta=0.0040 | train: loss=0.4383 cls=0.4373 kl=0.2404 rec=0.0000 | val_acc=0.7170\n",
            "  saved best -> runs/gamma0_0_ep10_bs64_lr0.0002_20251019_005605/best.pt\n",
            "[Epoch 004] beta=0.0040 | train: loss=0.3814 cls=0.3805 kl=0.2223 rec=0.0000 | val_acc=0.7393\n",
            "  saved best -> runs/gamma0_0_ep10_bs64_lr0.0002_20251019_005605/best.pt\n",
            "[Epoch 005] beta=0.0040 | train: loss=0.3410 cls=0.3401 kl=0.2086 rec=0.0000 | val_acc=0.7370\n",
            "[Epoch 006] beta=0.0040 | train: loss=0.3038 cls=0.3030 kl=0.1795 rec=0.0000 | val_acc=0.7362\n",
            "[Epoch 007] beta=0.0040 | train: loss=0.2747 cls=0.2740 kl=0.1707 rec=0.0000 | val_acc=0.7477\n",
            "  saved best -> runs/gamma0_0_ep10_bs64_lr0.0002_20251019_005605/best.pt\n",
            "[Epoch 008] beta=0.0040 | train: loss=0.2426 cls=0.2419 kl=0.1659 rec=0.0000 | val_acc=0.7462\n",
            "[Epoch 009] beta=0.0040 | train: loss=0.2104 cls=0.2098 kl=0.1688 rec=0.0000 | val_acc=0.7285\n",
            "[Epoch 010] beta=0.0040 | train: loss=0.1894 cls=0.1887 kl=0.1658 rec=0.0000 | val_acc=0.7423\n",
            "Best val acc: 0.7476993865030674\n",
            "Run log CSV: runs/gamma0_0_ep10_bs64_lr0.0002_20251019_005605/train_log.csv\n",
            "Best checkpoint: runs/gamma0_0_ep10_bs64_lr0.0002_20251019_005605/best.pt\n",
            "\n",
            "=== Running γ=0.1 ===\n",
            "[Epoch 001] beta=0.0040 | train: loss=0.3041 cls=0.2952 kl=0.4881 rec=0.0689 | val_acc=0.7423\n",
            "  saved best -> runs/gamma0_1_ep10_bs64_lr0.0002_20251019_005712/best.pt\n",
            "[Epoch 002] beta=0.0040 | train: loss=0.2391 cls=0.2346 kl=0.2594 rec=0.0347 | val_acc=0.7492\n",
            "  saved best -> runs/gamma0_1_ep10_bs64_lr0.0002_20251019_005712/best.pt\n",
            "[Epoch 003] beta=0.0040 | train: loss=0.2124 cls=0.2082 kl=0.2394 rec=0.0328 | val_acc=0.7416\n",
            "[Epoch 004] beta=0.0040 | train: loss=0.1870 cls=0.1830 kl=0.2152 rec=0.0316 | val_acc=0.7454\n",
            "[Epoch 005] beta=0.0040 | train: loss=0.1622 cls=0.1583 kl=0.2074 rec=0.0307 | val_acc=0.7393\n",
            "[Epoch 006] beta=0.0040 | train: loss=0.1428 cls=0.1390 kl=0.1832 rec=0.0302 | val_acc=0.7354\n",
            "[Epoch 007] beta=0.0040 | train: loss=0.1234 cls=0.1198 kl=0.1718 rec=0.0297 | val_acc=0.7301\n",
            "[Epoch 008] beta=0.0040 | train: loss=0.1084 cls=0.1047 kl=0.1805 rec=0.0294 | val_acc=0.7324\n",
            "[Epoch 009] beta=0.0040 | train: loss=0.0882 cls=0.0846 kl=0.1600 rec=0.0292 | val_acc=0.7270\n",
            "[Epoch 010] beta=0.0040 | train: loss=0.0769 cls=0.0733 kl=0.1776 rec=0.0290 | val_acc=0.7255\n",
            "Best val acc: 0.7492331288343558\n",
            "Run log CSV: runs/gamma0_1_ep10_bs64_lr0.0002_20251019_005712/train_log.csv\n",
            "Best checkpoint: runs/gamma0_1_ep10_bs64_lr0.0002_20251019_005712/best.pt\n",
            "\n",
            "=== Running γ=0.3 ===\n",
            "[Epoch 001] beta=0.0040 | train: loss=0.2769 cls=0.2551 kl=0.5858 rec=0.0650 | val_acc=0.7285\n",
            "  saved best -> runs/gamma0_3_ep10_bs64_lr0.0002_20251019_005820/best.pt\n",
            "[Epoch 002] beta=0.0040 | train: loss=0.2053 cls=0.1937 kl=0.3039 rec=0.0346 | val_acc=0.7393\n",
            "  saved best -> runs/gamma0_3_ep10_bs64_lr0.0002_20251019_005820/best.pt\n",
            "[Epoch 003] beta=0.0040 | train: loss=0.1809 cls=0.1701 kl=0.2626 rec=0.0326 | val_acc=0.7446\n",
            "  saved best -> runs/gamma0_3_ep10_bs64_lr0.0002_20251019_005820/best.pt\n",
            "[Epoch 004] beta=0.0040 | train: loss=0.1553 cls=0.1448 kl=0.2515 rec=0.0314 | val_acc=0.7393\n",
            "[Epoch 005] beta=0.0040 | train: loss=0.1390 cls=0.1290 kl=0.2057 rec=0.0306 | val_acc=0.7308\n",
            "[Epoch 006] beta=0.0040 | train: loss=0.1214 cls=0.1116 kl=0.1996 rec=0.0300 | val_acc=0.7523\n",
            "  saved best -> runs/gamma0_3_ep10_bs64_lr0.0002_20251019_005820/best.pt\n",
            "[Epoch 007] beta=0.0040 | train: loss=0.0998 cls=0.0903 kl=0.1807 rec=0.0296 | val_acc=0.7239\n",
            "[Epoch 008] beta=0.0040 | train: loss=0.0876 cls=0.0781 kl=0.1946 rec=0.0293 | val_acc=0.7278\n",
            "[Epoch 009] beta=0.0040 | train: loss=0.0718 cls=0.0624 kl=0.1725 rec=0.0290 | val_acc=0.7339\n",
            "[Epoch 010] beta=0.0040 | train: loss=0.0591 cls=0.0498 kl=0.1617 rec=0.0288 | val_acc=0.7193\n",
            "Best val acc: 0.7523006134969326\n",
            "Run log CSV: runs/gamma0_3_ep10_bs64_lr0.0002_20251019_005820/train_log.csv\n",
            "Best checkpoint: runs/gamma0_3_ep10_bs64_lr0.0002_20251019_005820/best.pt\n",
            "\n",
            "=== Running γ=0.5 ===\n",
            "[Epoch 001] beta=0.0040 | train: loss=0.1827 cls=0.1481 kl=0.6859 rec=0.0638 | val_acc=0.7285\n",
            "  saved best -> runs/gamma0_5_ep10_bs64_lr0.0002_20251019_005929/best.pt\n",
            "[Epoch 002] beta=0.0040 | train: loss=0.1067 cls=0.0883 kl=0.3195 rec=0.0343 | val_acc=0.7416\n",
            "  saved best -> runs/gamma0_5_ep10_bs64_lr0.0002_20251019_005929/best.pt\n",
            "[Epoch 003] beta=0.0040 | train: loss=0.0889 cls=0.0717 kl=0.2772 rec=0.0323 | val_acc=0.7293\n",
            "[Epoch 004] beta=0.0040 | train: loss=0.0746 cls=0.0581 kl=0.2448 rec=0.0311 | val_acc=0.7270\n",
            "[Epoch 005] beta=0.0040 | train: loss=0.0710 cls=0.0549 kl=0.2316 rec=0.0303 | val_acc=0.7262\n",
            "[Epoch 006] beta=0.0040 | train: loss=0.0658 cls=0.0501 kl=0.2171 rec=0.0297 | val_acc=0.7385\n",
            "[Epoch 007] beta=0.0040 | train: loss=0.0513 cls=0.0359 kl=0.1941 rec=0.0293 | val_acc=0.7216\n",
            "[Epoch 008] beta=0.0040 | train: loss=0.0446 cls=0.0294 kl=0.1845 rec=0.0289 | val_acc=0.7477\n",
            "  saved best -> runs/gamma0_5_ep10_bs64_lr0.0002_20251019_005929/best.pt\n",
            "[Epoch 009] beta=0.0040 | train: loss=0.0443 cls=0.0291 kl=0.2072 rec=0.0287 | val_acc=0.7339\n",
            "[Epoch 010] beta=0.0040 | train: loss=0.0364 cls=0.0214 kl=0.1705 rec=0.0285 | val_acc=0.7316\n",
            "Best val acc: 0.7476993865030674\n",
            "Run log CSV: runs/gamma0_5_ep10_bs64_lr0.0002_20251019_005929/train_log.csv\n",
            "Best checkpoint: runs/gamma0_5_ep10_bs64_lr0.0002_20251019_005929/best.pt\n",
            "Saved results -> runs/ablation_gamma_20251019_010038.csv\n"
          ]
        },
        {
          "output_type": "display_data",
          "data": {
            "text/plain": [
              "<Figure size 600x400 with 1 Axes>"
            ],
            "image/png": "[encoded data removed]"
          },
          "metadata": {}
        },
        {
          "output_type": "display_data",
          "data": {
            "text/plain": [
              "<Figure size 600x400 with 1 Axes>"
            ],
            "image/png": "[encoded data removed]"
          },
          "metadata": {}
        }
      ]
    },
    {
      "cell_type": "markdown",
      "source": [
        "#### 3.5. Builder Test"
      ],
      "metadata": {
        "id": "_f-FwzXe_i6V"
      }
    },
    {
      "cell_type": "code",
      "source": [
        "m, trn, val, tst, opt, sch = build_vsae_from_cfg()\n",
        "print(\"Model:\", type(m).__name__)\n",
        "print(\"Train/Val/Test loader sizes:\", len(trn), len(val), len(tst))\n",
        "print(\"Optimizer:\", opt)\n",
        "print(\"Scheduler:\", sch)\n"
      ],
      "metadata": {
        "colab": {
          "base_uri": "https://localhost:8080/"
        },
        "id": "xp-rmB1895Gu",
        "outputId": "e79f85b3-0a0d-4cf1-c1e1-3cd50fafd6ae"
      },
      "execution_count": 27,
      "outputs": [
        {
          "output_type": "stream",
          "name": "stdout",
          "text": [
            "Model: VariationalSiameseEncoder\n",
            "Train/Val/Test loader sizes: 264 21 34\n",
            "Optimizer: AdamW (\n",
            "Parameter Group 0\n",
            "    amsgrad: False\n",
            "    betas: (0.9, 0.999)\n",
            "    capturable: False\n",
            "    decoupled_weight_decay: True\n",
            "    differentiable: False\n",
            "    eps: 1e-08\n",
            "    foreach: None\n",
            "    fused: None\n",
            "    lr: 0.0002\n",
            "    maximize: False\n",
            "    weight_decay: 0.01\n",
            ")\n",
            "Scheduler: None\n"
          ]
        }
      ]
    }
  ],
  "metadata": {
    "accelerator": "GPU",
    "colab": {
      "gpuType": "T4",
      "provenance": []
    },
    "kernelspec": {
      "display_name": ".venv",
      "language": "python",
      "name": "python3"
    },
    "language_info": {
      "codemirror_mode": {
        "name": "ipython",
        "version": 3
      },
      "file_extension": ".py",
      "mimetype": "text/x-python",
      "name": "python",
      "nbconvert_exporter": "python",
      "pygments_lexer": "ipython3",
      "version": "3.11.0"
    }
  },
  "nbformat": 4,
  "nbformat_minor": 0
}