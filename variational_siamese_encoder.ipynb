{
  "cells": [
    {
      "cell_type": "code",
      "execution_count": null,
      "metadata": {
        "colab": {
          "base_uri": "https://localhost:8080/"
        },
        "id": "j4Bsr_N269DE",
        "outputId": "01a7179b-eec4-4731-f030-70a2b98b5bf6"
      },
      "outputs": [
        {
          "name": "stdout",
          "output_type": "stream",
          "text": [
            "Cloning into 'nlp-project'...\n",
            "fatal: could not read Username for 'https://github.com': No such device or address\n",
            "[Errno 2] No such file or directory: 'nlp-project'\n",
            "/content\n",
            "fatal: not a git repository (or any of the parent directories): .git\n",
            "fatal: not a git repository (or any of the parent directories): .git\n"
          ]
        }
      ],
      "source": [
        "# Clone the repo from your branch\n",
        "!rm -rf nlp-project\n",
        "!git clone -b 5-variational-siamese-encoder https://github.com/MahitGtg/nlp-project.git\n",
        "\n",
        "# Move into the repo\n",
        "%cd nlp-project\n",
        "\n",
        "# Check which branch you are on\n",
        "!git branch\n",
        "!git status\n",
        "\n"
      ]
    },
    {
      "cell_type": "markdown",
      "metadata": {
        "id": "ZeNVhtG0clTY"
      },
      "source": [
        "# 2025 CITS4012 Project 2\n",
        "\n",
        "## 1. Preprocessing\n",
        "\n",
        "### 1.1. Import Libraries\n",
        "Libraries are imported for the entire project.\n",
        "\n",
        "*Note: Just add to this list as needed*"
      ]
    },
    {
      "cell_type": "code",
      "execution_count": 2,
      "metadata": {
        "colab": {
          "base_uri": "https://localhost:8080/"
        },
        "id": "ZHKYoflWbaOB",
        "outputId": "e3442063-c635-4c8a-9ffb-0b368de741b1"
      },
      "outputs": [
        {
          "name": "stdout",
          "output_type": "stream",
          "text": [
            "Requirement already satisfied: gensim in c:\\users\\justmitch\\documents\\cits4012\\.venv\\lib\\site-packages (4.3.3)\n",
            "Requirement already satisfied: numpy<2.0,>=1.18.5 in c:\\users\\justmitch\\documents\\cits4012\\.venv\\lib\\site-packages (from gensim) (1.26.4)\n",
            "Requirement already satisfied: scipy<1.14.0,>=1.7.0 in c:\\users\\justmitch\\documents\\cits4012\\.venv\\lib\\site-packages (from gensim) (1.13.1)\n",
            "Requirement already satisfied: smart-open>=1.8.1 in c:\\users\\justmitch\\documents\\cits4012\\.venv\\lib\\site-packages (from gensim) (7.3.0.post1)\n",
            "Requirement already satisfied: wrapt in c:\\users\\justmitch\\documents\\cits4012\\.venv\\lib\\site-packages (from smart-open>=1.8.1->gensim) (1.17.3)\n",
            "Note: you may need to restart the kernel to use updated packages.\n"
          ]
        }
      ],
      "source": [
        "%pip install gensim\n",
        "import gensim.downloader as api\n",
        "\n",
        "# from pydrive2.auth import GoogleAuth\n",
        "# from pydrive2.drive import GoogleDrive\n",
        "# from google.colab import auth\n",
        "# from oauth2client.client import GoogleCredentials\n",
        "\n",
        "import pandas as pd\n",
        "import numpy as np\n",
        "import random\n",
        "import matplotlib.pyplot as plt\n",
        "import sys\n",
        "import time\n",
        "import torch\n",
        "import spacy\n",
        "import re\n",
        "\n",
        "torch.manual_seed(42)\n",
        "random.seed(42)"
      ]
    },
    {
      "cell_type": "markdown",
      "metadata": {
        "id": "lm0j1IPpdoMH"
      },
      "source": [
        "### 1.2. Retrieve Data\n",
        "First, we need to retrieve the train/val/test datafiles from the Google Drive."
      ]
    },
    {
      "cell_type": "code",
      "execution_count": 2,
      "metadata": {
        "id": "Sf7SEIIWbbFB"
      },
      "outputs": [],
      "source": [
        "auth.authenticate_user()\n",
        "gauth = GoogleAuth()\n",
        "gauth.credentials = GoogleCredentials.get_application_default()\n",
        "drive = GoogleDrive(gauth)"
      ]
    },
    {
      "cell_type": "code",
      "execution_count": 3,
      "metadata": {
        "id": "BBuq3Zf_bdai"
      },
      "outputs": [],
      "source": [
        "train_fileid = \"1YEOo5vd8DXXUCf1FXCR1D3PxWR9XxQKv\"\n",
        "val_fileid = \"15FEgtzzTVDMQcNVMgwIwqoAJeF9vmtrX\"\n",
        "test_fileid = \"179nwaOvdkZ3ogsBaTSJvpZEIjq20uiG-\"\n",
        "\n",
        "train_file = drive.CreateFile({'id': train_fileid})\n",
        "val_file = drive.CreateFile({'id': val_fileid})\n",
        "test_file = drive.CreateFile({'id': test_fileid})\n",
        "\n",
        "train_file.GetContentFile('train.json')\n",
        "val_file.GetContentFile('val.json')\n",
        "test_file.GetContentFile('test.json')"
      ]
    },
    {
      "cell_type": "markdown",
      "metadata": {
        "id": "d1jcNQxncz-Y"
      },
      "source": [
        "### 1.3. Read in the Data\n",
        "We now read in each dataset, splitting the input data and target data. The data shapes and a sample of the training data are shown below."
      ]
    },
    {
      "cell_type": "code",
      "execution_count": 3,
      "metadata": {
        "colab": {
          "base_uri": "https://localhost:8080/",
          "height": 476
        },
        "id": "iFkL1hHIcYQD",
        "outputId": "43ae3e76-da32-4611-e632-16dbd9d8d48b"
      },
      "outputs": [
        {
          "name": "stdout",
          "output_type": "stream",
          "text": [
            "Train shape: (23088, 2)\n",
            "Val shape: (1304, 2)\n",
            "Test shape: (2126, 2)\n"
          ]
        },
        {
          "data": {
            "application/vnd.microsoft.datawrangler.viewer.v0+json": {
              "columns": [
                {
                  "name": "index",
                  "rawType": "int64",
                  "type": "integer"
                },
                {
                  "name": "premise",
                  "rawType": "object",
                  "type": "string"
                },
                {
                  "name": "hypothesis",
                  "rawType": "object",
                  "type": "string"
                },
                {
                  "name": "label",
                  "rawType": "object",
                  "type": "string"
                }
              ],
              "ref": "65522230-61bd-460a-98d8-5846f3697cc0",
              "rows": [
                [
                  "0",
                  "Pluto rotates once on its axis every 6.39 Earth days;",
                  "Earth rotates on its axis once times in one day.",
                  "neutral"
                ],
                [
                  "1",
                  "---Glenn ========================================================= Once per day, the earth rotates about its axis.",
                  "Earth rotates on its axis once times in one day.",
                  "entails"
                ],
                [
                  "2",
                  "geysers - periodic gush of hot water at the surface of the Earth.",
                  "The surface of the sun is much hotter than almost anything on earth.",
                  "neutral"
                ],
                [
                  "3",
                  "Facts: Liquid water droplets can be changed into invisible water vapor through a process called evaporation .",
                  "Evaporation is responsible for changing liquid water into water vapor.",
                  "entails"
                ],
                [
                  "4",
                  "By comparison, the earth rotates on its axis once per day and revolves around the sun once per year.",
                  "Earth rotates on its axis once times in one day.",
                  "entails"
                ],
                [
                  "5",
                  "Pluto is about 39 times more distant from the Sun than is the Earth, and it takes about 250 Earth years for Pluto to make one complete revolution around the Sun.",
                  "Earth makes a complete revolution around the sun about once every year.",
                  "neutral"
                ],
                [
                  "6",
                  "It takes Pluto 247.7 Earth years to make one revolution around the Sun.",
                  "Earth makes a complete revolution around the sun about once every year.",
                  "neutral"
                ],
                [
                  "7",
                  "Multicellular organisms that have a eukaryotic cell type, mitochondria and a complex nervous system.",
                  "Single-celled organisms and multicellular organisms have this in common: both have a way to get rid of waste materials.",
                  "neutral"
                ],
                [
                  "8",
                  "Distribution Water on earth is located primarily in the oceans (97.2%), polar caps (2.14%), ground water(0.61%), and surface water(0.009%).",
                  "Most of earth's water is located in oceans",
                  "entails"
                ],
                [
                  "9",
                  "migratory birds which fly from South America to winter in Arctic Circle, where they",
                  "Many species of birds in new england fly south for the winter months to find an environment with more food.",
                  "neutral"
                ],
                [
                  "10",
                  "Younger children learn about different forms of energy, including heat, light and sound, though concrete activities.",
                  "Heat, light, and sound are all different forms of energy.",
                  "entails"
                ],
                [
                  "11",
                  "When enough condensation forms, it will rain and water the plants.",
                  "Dew forming on plants during a cold night is an example of water condensing.",
                  "neutral"
                ],
                [
                  "12",
                  "The photosynthesis of the past is what had stored the Sun's energy that ultimately produced coal;",
                  "Coal is nonrenewable, and the sun is renewable is how coal and the sun compare as sources of energy.",
                  "neutral"
                ],
                [
                  "13",
                  "Around the liquid stor- age and liquid recovery systems, rain water runoff would be controlled by collection into a sump system.",
                  "Rain is an example of liquid water.",
                  "neutral"
                ],
                [
                  "14",
                  "In this last example, it isn't even loudness or sound at all that needs to be made.",
                  "The sound in a loud classroom is an example of a form of energy.",
                  "neutral"
                ],
                [
                  "15",
                  "When these winds are strong, they deflect moister air moving up from the Gulf coast and cold air masses moving down from the Arctic;",
                  "The best explanation for how air masses move across the united states is that the prevailing westerlies move air masses from west to east across the united states but may be deflected by the jet stream.",
                  "neutral"
                ],
                [
                  "16",
                  "Evaporation : The process that changes water (liquid) into water vapor (gas).",
                  "Evaporation is responsible for changing liquid water into water vapor.",
                  "entails"
                ],
                [
                  "17",
                  "A long-day plant (a plant that flowers in the early summer in response to increasing day length) will be used to isolate the appropriate promoters.",
                  "A(n) increase in length happens to metal railroad tracks during the heat of a summer day.",
                  "neutral"
                ],
                [
                  "18",
                  "Why do we find few or no human fossils in most sedimentary rock?",
                  "Most fossils are found in sedimentary rocks because organisms can be preserved in sedimentary rock.",
                  "neutral"
                ],
                [
                  "19",
                  "Even if you don't live near a stream or river (though most people do), there are many little things you can do to help prevent too much water and soil run-off from contaminating streams and rivers where anadromous fishes live: Keep your lawn vegetated.",
                  "People can help keep a forest a good place for birds to live by preventing too many trees from being cut down.",
                  "neutral"
                ],
                [
                  "20",
                  "MINERALS A mineral is any naturally-occurring, homogeneous solid that has a definite chemical composition and a distinctive internal crystal structure.",
                  "A mineral is described as a solid natural material with a crystal structure.",
                  "entails"
                ],
                [
                  "21",
                  "Selfish Cells Threaten Multicellular Life, Trends in Ecology and Evolution Excerpt: How far have conflicts at the cell and organism level influenced the evolution of multicellularity?",
                  "Single-celled organisms and multicellular organisms have this in common: both have a way to get rid of waste materials.",
                  "neutral"
                ],
                [
                  "22",
                  "Frogs replace them with lungs in the transition from tadpoles to adults.",
                  "A frog develops (a/an) lungs as it changes from a tadpole to an adult frog.",
                  "entails"
                ],
                [
                  "23",
                  "3) The earth is far enough from the sun so that its surface temperature isn't unbearably hot .",
                  "The surface of the sun is much hotter than almost anything on earth.",
                  "neutral"
                ],
                [
                  "24",
                  "Solar system: the Sun and all bodies orbiting around it.",
                  "The largest body in our solar system is the sun.",
                  "neutral"
                ],
                [
                  "25",
                  "The sun and stars appeared exactly as they do to us upon earth.",
                  "From earth, the sun appears brighter than any other star because the sun is the closest star",
                  "neutral"
                ],
                [
                  "26",
                  "Indeed, these and most fungi are multicellular organisms made up of cells have cell walls, a typical plant characteristic.",
                  "Single-celled organisms and multicellular organisms have this in common: both have a way to get rid of waste materials.",
                  "neutral"
                ],
                [
                  "27",
                  "For example, active health is offered in every grade to teach students to monitor their own healthy habits such as nutrition, substance abuse and smoking.",
                  "Exercising every day is an example of a good health habit.",
                  "neutral"
                ],
                [
                  "28",
                  "Identify her master traits and provide an example from the reading for each trait.",
                  "Being able to read is an example of a learned trait.",
                  "neutral"
                ],
                [
                  "29",
                  "On Titan, rain and clouds are most likely made up of liquid methane, not water.",
                  "Rain is an example of liquid water.",
                  "neutral"
                ],
                [
                  "30",
                  "CSX operates a north-south length of railroad track that connects Chrisman and Paris.",
                  "A(n) increase in length happens to metal railroad tracks during the heat of a summer day.",
                  "neutral"
                ],
                [
                  "31",
                  "Slugs, believe it or not have a very important purpose. They are decomposers, which means they eats wastes and organic materials of other organisms. They help get rid of the t…rash that animals leave behind.",
                  "Single-celled organisms and multicellular organisms have this in common: both have a way to get rid of waste materials.",
                  "neutral"
                ],
                [
                  "32",
                  "I 4.4.3d Different forms of energy include heat, light, electrical, mechanical, sound, nuclear, and chemical.",
                  "Heat, light, and sound are all different forms of energy.",
                  "entails"
                ],
                [
                  "33",
                  "Your eyes of blue and hair that's straight, Comes through heredity, inheriting a human trait.",
                  "A human offspring inherit blue eyes.",
                  "entails"
                ],
                [
                  "34",
                  "Energy, heat and/or sound are forms of matter.",
                  "Heat, light, and sound are all different forms of energy.",
                  "neutral"
                ],
                [
                  "35",
                  "What good are cactus spines?",
                  "The spines of a cactus help it survive because spines protect the cactus from animals.",
                  "neutral"
                ],
                [
                  "36",
                  "The energy in the coal came from the sun and was stored in the plants.",
                  "Coal is nonrenewable, and the sun is renewable is how coal and the sun compare as sources of energy.",
                  "neutral"
                ],
                [
                  "37",
                  "Of course, the Sun is the closest star to Earth.",
                  "From earth, the sun appears brighter than any other star because the sun is the closest star",
                  "entails"
                ],
                [
                  "38",
                  "Pumpkin Fruit RollUps Chop pumpkin and cook in saucepan until soft.",
                  "A pumpkin is a fruit.",
                  "neutral"
                ],
                [
                  "39",
                  "Wait for a series of blue blocks to appear and fill the slot.",
                  "A blue block appears blue in the sunlight if only blue light is reflected by the block.",
                  "neutral"
                ],
                [
                  "40",
                  "Be able to give examples of the marketing applications of these types of learning.",
                  "Being able to read is an example of a learned trait.",
                  "neutral"
                ],
                [
                  "41",
                  "as, to inject cold water into a condenser;",
                  "Dew forming on plants during a cold night is an example of water condensing.",
                  "neutral"
                ],
                [
                  "42",
                  "The cholla, with its long spines, provides a well protected home for the cactus wren and its young.",
                  "The spines of a cactus help it survive because spines protect the cactus from animals.",
                  "neutral"
                ],
                [
                  "43",
                  "turbulent flow) air flow rate The mass/volume of air moved per unit of time through a space opening or duct.",
                  "The best explanation for how air masses move across the united states is that the prevailing westerlies move air masses from west to east across the united states but may be deflected by the jet stream.",
                  "neutral"
                ],
                [
                  "44",
                  "As a House of Animals There are many trees living in woods, and their flowers, nuts and fruits support the life of small animals such as a squirrel.",
                  "A squirrel storing nuts is preparing for a seasonal change in the environment.",
                  "neutral"
                ],
                [
                  "45",
                  "We may, for example, respond to a loud noise by saying \"That sounded like a gunshot.\"",
                  "The sound in a loud classroom is an example of a form of energy.",
                  "neutral"
                ],
                [
                  "46",
                  "Now the carbon atom we are following is sent out inlo the air as a part of a carbon dioxide molecule again.",
                  "Air is made of atoms.",
                  "neutral"
                ],
                [
                  "47",
                  "In some programs, genetic counselors use DNA fingerprint information to help prospective parents understand the risk of having an affected child.",
                  "Children resemble their parents because they have similar dna.",
                  "neutral"
                ],
                [
                  "48",
                  "Genes determine all inherited traits including those that give the individual specific characteristics (blue eyes rather than brown eyes) as well as common characteristics (two eyes, two arms, etc.).",
                  "A human offspring inherit blue eyes.",
                  "entails"
                ],
                [
                  "49",
                  "An organism eats other living things to survive;",
                  "A moose eats a plant is an example of a living thing that depends on another living thing to survive.",
                  "entails"
                ]
              ],
              "shape": {
                "columns": 3,
                "rows": 23088
              }
            },
            "text/html": [
              "<div>\n",
              "<style scoped>\n",
              "    .dataframe tbody tr th:only-of-type {\n",
              "        vertical-align: middle;\n",
              "    }\n",
              "\n",
              "    .dataframe tbody tr th {\n",
              "        vertical-align: top;\n",
              "    }\n",
              "\n",
              "    .dataframe thead th {\n",
              "        text-align: right;\n",
              "    }\n",
              "</style>\n",
              "<table border=\"1\" class=\"dataframe\">\n",
              "  <thead>\n",
              "    <tr style=\"text-align: right;\">\n",
              "      <th></th>\n",
              "      <th>premise</th>\n",
              "      <th>hypothesis</th>\n",
              "      <th>label</th>\n",
              "    </tr>\n",
              "  </thead>\n",
              "  <tbody>\n",
              "    <tr>\n",
              "      <th>0</th>\n",
              "      <td>Pluto rotates once on its axis every 6.39 Eart...</td>\n",
              "      <td>Earth rotates on its axis once times in one day.</td>\n",
              "      <td>neutral</td>\n",
              "    </tr>\n",
              "    <tr>\n",
              "      <th>1</th>\n",
              "      <td>---Glenn =====================================...</td>\n",
              "      <td>Earth rotates on its axis once times in one day.</td>\n",
              "      <td>entails</td>\n",
              "    </tr>\n",
              "    <tr>\n",
              "      <th>2</th>\n",
              "      <td>geysers - periodic gush of hot water at the su...</td>\n",
              "      <td>The surface of the sun is much hotter than alm...</td>\n",
              "      <td>neutral</td>\n",
              "    </tr>\n",
              "    <tr>\n",
              "      <th>3</th>\n",
              "      <td>Facts: Liquid water droplets can be changed in...</td>\n",
              "      <td>Evaporation is responsible for changing liquid...</td>\n",
              "      <td>entails</td>\n",
              "    </tr>\n",
              "    <tr>\n",
              "      <th>4</th>\n",
              "      <td>By comparison, the earth rotates on its axis o...</td>\n",
              "      <td>Earth rotates on its axis once times in one day.</td>\n",
              "      <td>entails</td>\n",
              "    </tr>\n",
              "    <tr>\n",
              "      <th>...</th>\n",
              "      <td>...</td>\n",
              "      <td>...</td>\n",
              "      <td>...</td>\n",
              "    </tr>\n",
              "    <tr>\n",
              "      <th>23083</th>\n",
              "      <td>which is not only the motion of our bodies, bu...</td>\n",
              "      <td>Work is done only if a force is exerted in the...</td>\n",
              "      <td>neutral</td>\n",
              "    </tr>\n",
              "    <tr>\n",
              "      <th>23084</th>\n",
              "      <td>The Red Star, that celestial curse whose eccen...</td>\n",
              "      <td>Red-shift refers to a shift toward red in the ...</td>\n",
              "      <td>neutral</td>\n",
              "    </tr>\n",
              "    <tr>\n",
              "      <th>23085</th>\n",
              "      <td>The lines in the spectrum of a luminous body s...</td>\n",
              "      <td>Red-shift refers to a shift toward red in the ...</td>\n",
              "      <td>entails</td>\n",
              "    </tr>\n",
              "    <tr>\n",
              "      <th>23086</th>\n",
              "      <td>The radial velocity of a star away from or tow...</td>\n",
              "      <td>Red-shift refers to a shift toward red in the ...</td>\n",
              "      <td>entails</td>\n",
              "    </tr>\n",
              "    <tr>\n",
              "      <th>23087</th>\n",
              "      <td>This expansion causes the light from distant s...</td>\n",
              "      <td>Red-shift refers to a shift toward red in the ...</td>\n",
              "      <td>entails</td>\n",
              "    </tr>\n",
              "  </tbody>\n",
              "</table>\n",
              "<p>23088 rows × 3 columns</p>\n",
              "</div>"
            ],
            "text/plain": [
              "                                                 premise  \\\n",
              "0      Pluto rotates once on its axis every 6.39 Eart...   \n",
              "1      ---Glenn =====================================...   \n",
              "2      geysers - periodic gush of hot water at the su...   \n",
              "3      Facts: Liquid water droplets can be changed in...   \n",
              "4      By comparison, the earth rotates on its axis o...   \n",
              "...                                                  ...   \n",
              "23083  which is not only the motion of our bodies, bu...   \n",
              "23084  The Red Star, that celestial curse whose eccen...   \n",
              "23085  The lines in the spectrum of a luminous body s...   \n",
              "23086  The radial velocity of a star away from or tow...   \n",
              "23087  This expansion causes the light from distant s...   \n",
              "\n",
              "                                              hypothesis    label  \n",
              "0       Earth rotates on its axis once times in one day.  neutral  \n",
              "1       Earth rotates on its axis once times in one day.  entails  \n",
              "2      The surface of the sun is much hotter than alm...  neutral  \n",
              "3      Evaporation is responsible for changing liquid...  entails  \n",
              "4       Earth rotates on its axis once times in one day.  entails  \n",
              "...                                                  ...      ...  \n",
              "23083  Work is done only if a force is exerted in the...  neutral  \n",
              "23084  Red-shift refers to a shift toward red in the ...  neutral  \n",
              "23085  Red-shift refers to a shift toward red in the ...  entails  \n",
              "23086  Red-shift refers to a shift toward red in the ...  entails  \n",
              "23087  Red-shift refers to a shift toward red in the ...  entails  \n",
              "\n",
              "[23088 rows x 3 columns]"
            ]
          },
          "metadata": {},
          "output_type": "display_data"
        }
      ],
      "source": [
        "train = pd.read_json('train.json')\n",
        "X_train = train[['premise', 'hypothesis']]\n",
        "y_train = train['label']\n",
        "\n",
        "val = pd.read_json('val.json')\n",
        "X_val = val[['premise', 'hypothesis']]\n",
        "y_val = val['label']\n",
        "\n",
        "test = pd.read_json('test.json')\n",
        "X_test = test[['premise', 'hypothesis']]\n",
        "y_test = test['label']\n",
        "\n",
        "print(f\"Train shape: {X_train.shape}\")\n",
        "print(f\"Val shape: {X_val.shape}\")\n",
        "print(f\"Test shape: {X_test.shape}\")\n",
        "display(train)"
      ]
    },
    {
      "cell_type": "markdown",
      "metadata": {
        "id": "-4uxdmXtMQwK"
      },
      "source": [
        "#### 1.3.1 Label Mapping and Dicts\n",
        "Convert each row to a dict and apply a fixed label map (entails: 1, neutral: 0) so downstream code gets consistent integer labels."
      ]
    },
    {
      "cell_type": "code",
      "execution_count": 7,
      "metadata": {
        "colab": {
          "base_uri": "https://localhost:8080/"
        },
        "id": "csz1UWkdNrUJ",
        "outputId": "e2af99cf-4171-423a-901d-018f7d7e128f"
      },
      "outputs": [
        {
          "name": "stdout",
          "output_type": "stream",
          "text": [
            "[train] #=23088  entails(1)=8470  neutral(0)=14618\n",
            "[val] #=1304  entails(1)=657  neutral(0)=647\n",
            "[test] #=2126  entails(1)=842  neutral(0)=1284\n"
          ]
        }
      ],
      "source": [
        "\n",
        "LABEL_MAP = {\"entails\": 1, \"neutral\": 0}\n",
        "\n",
        "def df_to_examples(df):\n",
        "    # Keep premise/hypothesis separate; attach deterministic int label y\n",
        "    return [\n",
        "        {\n",
        "            \"premise\": row.premise,\n",
        "            \"hypothesis\": row.hypothesis,\n",
        "            \"label\": row.label,\n",
        "            \"y\": LABEL_MAP[row.label],\n",
        "        }\n",
        "        for row in df.itertuples(index=False)\n",
        "    ]\n",
        "\n",
        "train_data = df_to_examples(train)\n",
        "val_data = df_to_examples(val)\n",
        "test_data = df_to_examples(test)\n",
        "\n",
        "# quick sanity checkk\n",
        "def describe(name, data):\n",
        "    pos = sum(ex[\"y\"] for ex in data)\n",
        "    print(f\"[{name}] #={len(data)}  entails(1)={pos}  neutral(0)={len(data)-pos}\")\n",
        "\n",
        "describe(\"train\", train_data)\n",
        "describe(\"val\", val_data)\n",
        "describe(\"test\", test_data)\n"
      ]
    },
    {
      "cell_type": "markdown",
      "metadata": {
        "id": "9VtFvjtVfaqe"
      },
      "source": [
        "### 1.4. Data preprocessing\n",
        "As seen above, the data contains characters that requires cleaning before passing it to the model.\n",
        "\n",
        "The preprocessing pipeline is as follows:\n",
        "- Sentences are tokenised using SpaCy.\n",
        "- A vocabulary list is constructed, including a padding and out-of-vocabulary tag.\n",
        "- A GloVe Embedding model is loaded, pretrained on twitter.\n",
        "- Tokenised sentences are converted to an indexed list of words, padded to the maximum size of the premise and hypothesis, respectively.\n",
        "\n",
        "The labels are also converted to 0 or 1 (0 = neutral, 1 = entails).\n",
        "\n",
        "#### 1.4.1. SpaCy Tokenisation\n",
        "We tokenise the premises and hypotheses for the training set - removing all non alphanumeric characters and converting words to lower case."
      ]
    },
    {
      "cell_type": "code",
      "execution_count": 4,
      "metadata": {
        "colab": {
          "base_uri": "https://localhost:8080/",
          "height": 684
        },
        "id": "ydgaNHsXfLk6",
        "outputId": "45e8a4a3-6c29-4ae2-9d99-125ed0de93e6"
      },
      "outputs": [
        {
          "name": "stdout",
          "output_type": "stream",
          "text": [
            "\u001b[38;5;2m✔ Download and installation successful\u001b[0m\n",
            "You can now load the package via spacy.load('en_core_web_sm')\n",
            "\u001b[38;5;3m⚠ Restart to reload dependencies\u001b[0m\n",
            "If you are in a Jupyter or Colab notebook, you may need to restart Python in\n",
            "order to load all the package's dependencies. You can do this by selecting the\n",
            "'Restart kernel' or 'Restart runtime' option.\n"
          ]
        },
        {
          "data": {
            "application/vnd.microsoft.datawrangler.viewer.v0+json": {
              "columns": [
                {
                  "name": "index",
                  "rawType": "int64",
                  "type": "integer"
                },
                {
                  "name": "premise",
                  "rawType": "object",
                  "type": "unknown"
                },
                {
                  "name": "hypothesis",
                  "rawType": "object",
                  "type": "unknown"
                }
              ],
              "ref": "b6bbc059-dd05-4402-ba5b-e2ff599cb36b",
              "rows": [
                [
                  "0",
                  "['pluto', 'rotates', 'once', 'on', 'its', 'axis', 'every', 'earth', 'days']",
                  "['earth', 'rotates', 'on', 'its', 'axis', 'once', 'times', 'in', 'one', 'day']"
                ],
                [
                  "1",
                  "['once', 'per', 'day', 'the', 'earth', 'rotates', 'about', 'its', 'axis']",
                  "['earth', 'rotates', 'on', 'its', 'axis', 'once', 'times', 'in', 'one', 'day']"
                ],
                [
                  "2",
                  "['geysers', 'periodic', 'gush', 'of', 'hot', 'water', 'at', 'the', 'surface', 'of', 'the', 'earth']",
                  "['the', 'surface', 'of', 'the', 'sun', 'is', 'much', 'hotter', 'than', 'almost', 'anything', 'on', 'earth']"
                ],
                [
                  "3",
                  "['facts', 'liquid', 'water', 'droplets', 'can', 'be', 'changed', 'into', 'invisible', 'water', 'vapor', 'through', 'a', 'process', 'called', 'evaporation']",
                  "['evaporation', 'is', 'responsible', 'for', 'changing', 'liquid', 'water', 'into', 'water', 'vapor']"
                ],
                [
                  "4",
                  "['by', 'comparison', 'the', 'earth', 'rotates', 'on', 'its', 'axis', 'once', 'per', 'day', 'and', 'revolves', 'around', 'the', 'sun', 'once', 'per', 'year']",
                  "['earth', 'rotates', 'on', 'its', 'axis', 'once', 'times', 'in', 'one', 'day']"
                ],
                [
                  "5",
                  "['pluto', 'is', 'about', '39', 'times', 'more', 'distant', 'from', 'the', 'sun', 'than', 'is', 'the', 'earth', 'and', 'it', 'takes', 'about', '250', 'earth', 'years', 'for', 'pluto', 'to', 'make', 'one', 'complete', 'revolution', 'around', 'the', 'sun']",
                  "['earth', 'makes', 'a', 'complete', 'revolution', 'around', 'the', 'sun', 'about', 'once', 'every', 'year']"
                ],
                [
                  "6",
                  "['it', 'takes', 'pluto', 'earth', 'years', 'to', 'make', 'one', 'revolution', 'around', 'the', 'sun']",
                  "['earth', 'makes', 'a', 'complete', 'revolution', 'around', 'the', 'sun', 'about', 'once', 'every', 'year']"
                ],
                [
                  "7",
                  "['multicellular', 'organisms', 'that', 'have', 'a', 'eukaryotic', 'cell', 'type', 'mitochondria', 'and', 'a', 'complex', 'nervous', 'system']",
                  "['single', 'celled', 'organisms', 'and', 'multicellular', 'organisms', 'have', 'this', 'in', 'common', 'both', 'have', 'a', 'way', 'to', 'get', 'rid', 'of', 'waste', 'materials']"
                ],
                [
                  "8",
                  "['distribution', 'water', 'on', 'earth', 'is', 'located', 'primarily', 'in', 'the', 'oceans', 'polar', 'caps', 'ground', 'and', 'surface']",
                  "['most', 'of', 'earth', 'water', 'is', 'located', 'in', 'oceans']"
                ],
                [
                  "9",
                  "['migratory', 'birds', 'which', 'fly', 'from', 'south', 'america', 'to', 'winter', 'in', 'arctic', 'circle', 'where', 'they']",
                  "['many', 'species', 'of', 'birds', 'in', 'new', 'england', 'fly', 'south', 'for', 'the', 'winter', 'months', 'to', 'find', 'an', 'environment', 'with', 'more', 'food']"
                ],
                [
                  "10",
                  "['younger', 'children', 'learn', 'about', 'different', 'forms', 'of', 'energy', 'including', 'heat', 'light', 'and', 'sound', 'though', 'concrete', 'activities']",
                  "['heat', 'light', 'and', 'sound', 'are', 'all', 'different', 'forms', 'of', 'energy']"
                ],
                [
                  "11",
                  "['when', 'enough', 'condensation', 'forms', 'it', 'will', 'rain', 'and', 'water', 'the', 'plants']",
                  "['dew', 'forming', 'on', 'plants', 'during', 'a', 'cold', 'night', 'is', 'an', 'example', 'of', 'water', 'condensing']"
                ],
                [
                  "12",
                  "['the', 'photosynthesis', 'of', 'the', 'past', 'is', 'what', 'had', 'stored', 'the', 'sun', 'energy', 'that', 'ultimately', 'produced', 'coal']",
                  "['coal', 'is', 'nonrenewable', 'and', 'the', 'sun', 'is', 'renewable', 'is', 'how', 'coal', 'and', 'the', 'sun', 'compare', 'as', 'sources', 'of', 'energy']"
                ],
                [
                  "13",
                  "['around', 'the', 'liquid', 'age', 'and', 'liquid', 'recovery', 'systems', 'rain', 'water', 'runoff', 'would', 'be', 'controlled', 'by', 'collection', 'into', 'a', 'sump', 'system']",
                  "['rain', 'is', 'an', 'example', 'of', 'liquid', 'water']"
                ],
                [
                  "14",
                  "['in', 'this', 'last', 'example', 'it', 'is', 'even', 'loudness', 'or', 'sound', 'at', 'all', 'that', 'needs', 'to', 'be', 'made']",
                  "['the', 'sound', 'in', 'a', 'loud', 'classroom', 'is', 'an', 'example', 'of', 'a', 'form', 'of', 'energy']"
                ],
                [
                  "15",
                  "['when', 'these', 'winds', 'are', 'strong', 'they', 'deflect', 'moister', 'air', 'moving', 'up', 'from', 'the', 'gulf', 'coast', 'and', 'cold', 'air', 'masses', 'moving', 'down', 'from', 'the', 'arctic']",
                  "['the', 'best', 'explanation', 'for', 'how', 'air', 'masses', 'move', 'across', 'the', 'united', 'states', 'is', 'that', 'the', 'prevailing', 'westerlies', 'move', 'air', 'masses', 'from', 'west', 'to', 'east', 'across', 'the', 'united', 'states', 'but', 'may', 'be', 'deflected', 'by', 'the', 'jet', 'stream']"
                ],
                [
                  "16",
                  "['evaporation', 'the', 'process', 'that', 'changes', 'water', 'liquid', 'into', 'water', 'vapor', 'gas']",
                  "['evaporation', 'is', 'responsible', 'for', 'changing', 'liquid', 'water', 'into', 'water', 'vapor']"
                ],
                [
                  "17",
                  "['a', 'long', 'day', 'plant', 'a', 'plant', 'that', 'flowers', 'in', 'the', 'early', 'summer', 'in', 'response', 'to', 'increasing', 'day', 'length', 'will', 'be', 'used', 'to', 'isolate', 'the', 'appropriate', 'promoters']",
                  "['increase', 'in', 'length', 'happens', 'to', 'metal', 'railroad', 'tracks', 'during', 'the', 'heat', 'of', 'a', 'summer', 'day']"
                ],
                [
                  "18",
                  "['why', 'do', 'we', 'find', 'few', 'or', 'no', 'human', 'fossils', 'in', 'most', 'sedimentary', 'rock']",
                  "['most', 'fossils', 'are', 'found', 'in', 'sedimentary', 'rocks', 'because', 'organisms', 'can', 'be', 'preserved', 'in', 'sedimentary', 'rock']"
                ],
                [
                  "19",
                  "['even', 'if', 'you', 'do', 'live', 'near', 'a', 'stream', 'or', 'river', 'though', 'most', 'people', 'do', 'there', 'are', 'many', 'little', 'things', 'you', 'can', 'do', 'to', 'help', 'prevent', 'too', 'much', 'water', 'and', 'soil', 'run', 'off', 'from', 'contaminating', 'streams', 'and', 'rivers', 'where', 'anadromous', 'fishes', 'live', 'keep', 'your', 'lawn', 'vegetated']",
                  "['people', 'can', 'help', 'keep', 'a', 'forest', 'a', 'good', 'place', 'for', 'birds', 'to', 'live', 'by', 'preventing', 'too', 'many', 'trees', 'from', 'being', 'cut', 'down']"
                ],
                [
                  "20",
                  "['minerals', 'a', 'mineral', 'is', 'any', 'naturally', 'occurring', 'homogeneous', 'solid', 'that', 'has', 'a', 'definite', 'chemical', 'composition', 'and', 'a', 'distinctive', 'internal', 'crystal', 'structure']",
                  "['a', 'mineral', 'is', 'described', 'as', 'a', 'solid', 'natural', 'material', 'with', 'a', 'crystal', 'structure']"
                ],
                [
                  "21",
                  "['selfish', 'cells', 'threaten', 'multicellular', 'life', 'trends', 'in', 'ecology', 'and', 'evolution', 'excerpt', 'how', 'far', 'have', 'conflicts', 'at', 'the', 'cell', 'and', 'organism', 'level', 'influenced', 'the', 'evolution', 'of', 'multicellularity']",
                  "['single', 'celled', 'organisms', 'and', 'multicellular', 'organisms', 'have', 'this', 'in', 'common', 'both', 'have', 'a', 'way', 'to', 'get', 'rid', 'of', 'waste', 'materials']"
                ],
                [
                  "22",
                  "['frogs', 'replace', 'them', 'with', 'lungs', 'in', 'the', 'transition', 'from', 'tadpoles', 'to', 'adults']",
                  "['a', 'frog', 'develops', 'a', 'an', 'lungs', 'as', 'it', 'changes', 'from', 'a', 'tadpole', 'to', 'an', 'adult', 'frog']"
                ],
                [
                  "23",
                  "['3', 'the', 'earth', 'is', 'far', 'enough', 'from', 'the', 'sun', 'so', 'that', 'its', 'surface', 'temperature', 'is', 'unbearably', 'hot']",
                  "['the', 'surface', 'of', 'the', 'sun', 'is', 'much', 'hotter', 'than', 'almost', 'anything', 'on', 'earth']"
                ],
                [
                  "24",
                  "['solar', 'system', 'the', 'sun', 'and', 'all', 'bodies', 'orbiting', 'around', 'it']",
                  "['the', 'largest', 'body', 'in', 'our', 'solar', 'system', 'is', 'the', 'sun']"
                ],
                [
                  "25",
                  "['the', 'sun', 'and', 'stars', 'appeared', 'exactly', 'as', 'they', 'do', 'to', 'us', 'upon', 'earth']",
                  "['from', 'earth', 'the', 'sun', 'appears', 'brighter', 'than', 'any', 'other', 'star', 'because', 'the', 'sun', 'is', 'the', 'closest', 'star']"
                ],
                [
                  "26",
                  "['indeed', 'these', 'and', 'most', 'fungi', 'are', 'multicellular', 'organisms', 'made', 'up', 'of', 'cells', 'have', 'cell', 'walls', 'a', 'typical', 'plant', 'characteristic']",
                  "['single', 'celled', 'organisms', 'and', 'multicellular', 'organisms', 'have', 'this', 'in', 'common', 'both', 'have', 'a', 'way', 'to', 'get', 'rid', 'of', 'waste', 'materials']"
                ],
                [
                  "27",
                  "['for', 'example', 'active', 'health', 'is', 'offered', 'in', 'every', 'grade', 'to', 'teach', 'students', 'to', 'monitor', 'their', 'own', 'healthy', 'habits', 'such', 'as', 'nutrition', 'substance', 'abuse', 'and', 'smoking']",
                  "['exercising', 'every', 'day', 'is', 'an', 'example', 'of', 'a', 'good', 'health', 'habit']"
                ],
                [
                  "28",
                  "['identify', 'her', 'master', 'traits', 'and', 'provide', 'an', 'example', 'from', 'the', 'reading', 'for', 'each', 'trait']",
                  "['being', 'able', 'to', 'read', 'is', 'an', 'example', 'of', 'a', 'learned', 'trait']"
                ],
                [
                  "29",
                  "['on', 'titan', 'rain', 'and', 'clouds', 'are', 'most', 'likely', 'made', 'up', 'of', 'liquid', 'methane', 'not', 'water']",
                  "['rain', 'is', 'an', 'example', 'of', 'liquid', 'water']"
                ],
                [
                  "30",
                  "['csx', 'operates', 'a', 'north', 'south', 'length', 'of', 'railroad', 'track', 'that', 'connects', 'chrisman', 'and', 'paris']",
                  "['increase', 'in', 'length', 'happens', 'to', 'metal', 'railroad', 'tracks', 'during', 'the', 'heat', 'of', 'a', 'summer', 'day']"
                ],
                [
                  "31",
                  "['slugs', 'believe', 'it', 'or', 'not', 'have', 'a', 'very', 'important', 'purpose', 'they', 'are', 'decomposers', 'which', 'means', 'they', 'eats', 'wastes', 'and', 'organic', 'materials', 'of', 'other', 'organisms', 'they', 'help', 'get', 'rid', 'of', 'the', 't', 'rash', 'that', 'animals', 'leave', 'behind']",
                  "['single', 'celled', 'organisms', 'and', 'multicellular', 'organisms', 'have', 'this', 'in', 'common', 'both', 'have', 'a', 'way', 'to', 'get', 'rid', 'of', 'waste', 'materials']"
                ],
                [
                  "32",
                  "['i', 'different', 'forms', 'of', 'energy', 'include', 'heat', 'light', 'electrical', 'mechanical', 'sound', 'nuclear', 'and', 'chemical']",
                  "['heat', 'light', 'and', 'sound', 'are', 'all', 'different', 'forms', 'of', 'energy']"
                ],
                [
                  "33",
                  "['your', 'eyes', 'of', 'blue', 'and', 'hair', 'that', 'straight', 'comes', 'through', 'heredity', 'inheriting', 'a', 'human', 'trait']",
                  "['a', 'human', 'offspring', 'inherit', 'blue', 'eyes']"
                ],
                [
                  "34",
                  "['energy', 'heat', 'sound', 'are', 'forms', 'of', 'matter']",
                  "['heat', 'light', 'and', 'sound', 'are', 'all', 'different', 'forms', 'of', 'energy']"
                ],
                [
                  "35",
                  "['what', 'good', 'are', 'cactus', 'spines']",
                  "['the', 'spines', 'of', 'a', 'cactus', 'help', 'it', 'survive', 'because', 'spines', 'protect', 'the', 'cactus', 'from', 'animals']"
                ],
                [
                  "36",
                  "['the', 'energy', 'in', 'the', 'coal', 'came', 'from', 'the', 'sun', 'and', 'was', 'stored', 'in', 'the', 'plants']",
                  "['coal', 'is', 'nonrenewable', 'and', 'the', 'sun', 'is', 'renewable', 'is', 'how', 'coal', 'and', 'the', 'sun', 'compare', 'as', 'sources', 'of', 'energy']"
                ],
                [
                  "37",
                  "['of', 'course', 'the', 'sun', 'is', 'the', 'closest', 'star', 'to', 'earth']",
                  "['from', 'earth', 'the', 'sun', 'appears', 'brighter', 'than', 'any', 'other', 'star', 'because', 'the', 'sun', 'is', 'the', 'closest', 'star']"
                ],
                [
                  "38",
                  "['pumpkin', 'fruit', 'rollups', 'chop', 'pumpkin', 'and', 'cook', 'in', 'saucepan', 'until', 'soft']",
                  "['a', 'pumpkin', 'is', 'a', 'fruit']"
                ],
                [
                  "39",
                  "['wait', 'for', 'a', 'series', 'of', 'blue', 'blocks', 'to', 'appear', 'and', 'fill', 'the', 'slot']",
                  "['a', 'blue', 'block', 'appears', 'blue', 'in', 'the', 'sunlight', 'if', 'only', 'blue', 'light', 'is', 'reflected', 'by', 'the', 'block']"
                ],
                [
                  "40",
                  "['be', 'able', 'to', 'give', 'examples', 'of', 'the', 'marketing', 'applications', 'of', 'these', 'types', 'of', 'learning']",
                  "['being', 'able', 'to', 'read', 'is', 'an', 'example', 'of', 'a', 'learned', 'trait']"
                ],
                [
                  "41",
                  "['as', 'to', 'inject', 'cold', 'water', 'into', 'a', 'condenser']",
                  "['dew', 'forming', 'on', 'plants', 'during', 'a', 'cold', 'night', 'is', 'an', 'example', 'of', 'water', 'condensing']"
                ],
                [
                  "42",
                  "['the', 'cholla', 'with', 'its', 'long', 'spines', 'provides', 'a', 'well', 'protected', 'home', 'for', 'the', 'cactus', 'wren', 'and', 'its', 'young']",
                  "['the', 'spines', 'of', 'a', 'cactus', 'help', 'it', 'survive', 'because', 'spines', 'protect', 'the', 'cactus', 'from', 'animals']"
                ],
                [
                  "43",
                  "['turbulent', 'flow', 'air', 'flow', 'rate', 'the', 'mass', 'volume', 'of', 'air', 'moved', 'per', 'unit', 'of', 'time', 'through', 'a', 'space', 'opening', 'or', 'duct']",
                  "['the', 'best', 'explanation', 'for', 'how', 'air', 'masses', 'move', 'across', 'the', 'united', 'states', 'is', 'that', 'the', 'prevailing', 'westerlies', 'move', 'air', 'masses', 'from', 'west', 'to', 'east', 'across', 'the', 'united', 'states', 'but', 'may', 'be', 'deflected', 'by', 'the', 'jet', 'stream']"
                ],
                [
                  "44",
                  "['as', 'a', 'house', 'of', 'animals', 'there', 'are', 'many', 'trees', 'living', 'in', 'woods', 'and', 'their', 'flowers', 'nuts', 'and', 'fruits', 'support', 'the', 'life', 'of', 'small', 'animals', 'such', 'as', 'a', 'squirrel']",
                  "['a', 'squirrel', 'storing', 'nuts', 'is', 'preparing', 'for', 'a', 'seasonal', 'change', 'in', 'the', 'environment']"
                ],
                [
                  "45",
                  "['we', 'may', 'for', 'example', 'respond', 'to', 'a', 'loud', 'noise', 'by', 'saying', 'that', 'sounded', 'like', 'a', 'gunshot']",
                  "['the', 'sound', 'in', 'a', 'loud', 'classroom', 'is', 'an', 'example', 'of', 'a', 'form', 'of', 'energy']"
                ],
                [
                  "46",
                  "['now', 'the', 'carbon', 'atom', 'we', 'are', 'following', 'is', 'sent', 'out', 'inlo', 'the', 'air', 'as', 'a', 'part', 'of', 'a', 'carbon', 'dioxide', 'molecule', 'again']",
                  "['air', 'is', 'made', 'of', 'atoms']"
                ],
                [
                  "47",
                  "['in', 'some', 'programs', 'genetic', 'counselors', 'use', 'dna', 'fingerprint', 'information', 'to', 'help', 'prospective', 'parents', 'understand', 'the', 'risk', 'of', 'having', 'an', 'affected', 'child']",
                  "['children', 'resemble', 'their', 'parents', 'because', 'they', 'have', 'similar', 'dna']"
                ],
                [
                  "48",
                  "['genes', 'determine', 'all', 'inherited', 'traits', 'including', 'those', 'that', 'give', 'the', 'individual', 'specific', 'characteristics', 'blue', 'eyes', 'rather', 'than', 'brown', 'eyes', 'as', 'well', 'as', 'common', 'characteristics', 'two', 'eyes', 'two', 'arms', 'etc']",
                  "['a', 'human', 'offspring', 'inherit', 'blue', 'eyes']"
                ],
                [
                  "49",
                  "['an', 'organism', 'eats', 'other', 'living', 'things', 'to', 'survive']",
                  "['a', 'moose', 'eats', 'a', 'plant', 'is', 'an', 'example', 'of', 'a', 'living', 'thing', 'that', 'depends', 'on', 'another', 'living', 'thing', 'to', 'survive']"
                ]
              ],
              "shape": {
                "columns": 2,
                "rows": 23088
              }
            },
            "text/html": [
              "<div>\n",
              "<style scoped>\n",
              "    .dataframe tbody tr th:only-of-type {\n",
              "        vertical-align: middle;\n",
              "    }\n",
              "\n",
              "    .dataframe tbody tr th {\n",
              "        vertical-align: top;\n",
              "    }\n",
              "\n",
              "    .dataframe thead th {\n",
              "        text-align: right;\n",
              "    }\n",
              "</style>\n",
              "<table border=\"1\" class=\"dataframe\">\n",
              "  <thead>\n",
              "    <tr style=\"text-align: right;\">\n",
              "      <th></th>\n",
              "      <th>premise</th>\n",
              "      <th>hypothesis</th>\n",
              "    </tr>\n",
              "  </thead>\n",
              "  <tbody>\n",
              "    <tr>\n",
              "      <th>0</th>\n",
              "      <td>[pluto, rotates, once, on, its, axis, every, e...</td>\n",
              "      <td>[earth, rotates, on, its, axis, once, times, i...</td>\n",
              "    </tr>\n",
              "    <tr>\n",
              "      <th>1</th>\n",
              "      <td>[once, per, day, the, earth, rotates, about, i...</td>\n",
              "      <td>[earth, rotates, on, its, axis, once, times, i...</td>\n",
              "    </tr>\n",
              "    <tr>\n",
              "      <th>2</th>\n",
              "      <td>[geysers, periodic, gush, of, hot, water, at, ...</td>\n",
              "      <td>[the, surface, of, the, sun, is, much, hotter,...</td>\n",
              "    </tr>\n",
              "    <tr>\n",
              "      <th>3</th>\n",
              "      <td>[facts, liquid, water, droplets, can, be, chan...</td>\n",
              "      <td>[evaporation, is, responsible, for, changing, ...</td>\n",
              "    </tr>\n",
              "    <tr>\n",
              "      <th>4</th>\n",
              "      <td>[by, comparison, the, earth, rotates, on, its,...</td>\n",
              "      <td>[earth, rotates, on, its, axis, once, times, i...</td>\n",
              "    </tr>\n",
              "    <tr>\n",
              "      <th>...</th>\n",
              "      <td>...</td>\n",
              "      <td>...</td>\n",
              "    </tr>\n",
              "    <tr>\n",
              "      <th>23083</th>\n",
              "      <td>[which, is, not, only, the, motion, of, our, b...</td>\n",
              "      <td>[work, is, done, only, if, a, force, is, exert...</td>\n",
              "    </tr>\n",
              "    <tr>\n",
              "      <th>23084</th>\n",
              "      <td>[the, red, star, that, celestial, curse, whose...</td>\n",
              "      <td>[red, shift, refers, to, a, shift, toward, red...</td>\n",
              "    </tr>\n",
              "    <tr>\n",
              "      <th>23085</th>\n",
              "      <td>[the, lines, in, the, spectrum, of, a, luminou...</td>\n",
              "      <td>[red, shift, refers, to, a, shift, toward, red...</td>\n",
              "    </tr>\n",
              "    <tr>\n",
              "      <th>23086</th>\n",
              "      <td>[the, radial, velocity, of, a, star, away, fro...</td>\n",
              "      <td>[red, shift, refers, to, a, shift, toward, red...</td>\n",
              "    </tr>\n",
              "    <tr>\n",
              "      <th>23087</th>\n",
              "      <td>[this, expansion, causes, the, light, from, di...</td>\n",
              "      <td>[red, shift, refers, to, a, shift, toward, red...</td>\n",
              "    </tr>\n",
              "  </tbody>\n",
              "</table>\n",
              "<p>23088 rows × 2 columns</p>\n",
              "</div>"
            ],
            "text/plain": [
              "                                                 premise  \\\n",
              "0      [pluto, rotates, once, on, its, axis, every, e...   \n",
              "1      [once, per, day, the, earth, rotates, about, i...   \n",
              "2      [geysers, periodic, gush, of, hot, water, at, ...   \n",
              "3      [facts, liquid, water, droplets, can, be, chan...   \n",
              "4      [by, comparison, the, earth, rotates, on, its,...   \n",
              "...                                                  ...   \n",
              "23083  [which, is, not, only, the, motion, of, our, b...   \n",
              "23084  [the, red, star, that, celestial, curse, whose...   \n",
              "23085  [the, lines, in, the, spectrum, of, a, luminou...   \n",
              "23086  [the, radial, velocity, of, a, star, away, fro...   \n",
              "23087  [this, expansion, causes, the, light, from, di...   \n",
              "\n",
              "                                              hypothesis  \n",
              "0      [earth, rotates, on, its, axis, once, times, i...  \n",
              "1      [earth, rotates, on, its, axis, once, times, i...  \n",
              "2      [the, surface, of, the, sun, is, much, hotter,...  \n",
              "3      [evaporation, is, responsible, for, changing, ...  \n",
              "4      [earth, rotates, on, its, axis, once, times, i...  \n",
              "...                                                  ...  \n",
              "23083  [work, is, done, only, if, a, force, is, exert...  \n",
              "23084  [red, shift, refers, to, a, shift, toward, red...  \n",
              "23085  [red, shift, refers, to, a, shift, toward, red...  \n",
              "23086  [red, shift, refers, to, a, shift, toward, red...  \n",
              "23087  [red, shift, refers, to, a, shift, toward, red...  \n",
              "\n",
              "[23088 rows x 2 columns]"
            ]
          },
          "metadata": {},
          "output_type": "display_data"
        }
      ],
      "source": [
        "spacy.cli.download('en_core_web_sm')\n",
        "tokeniser = spacy.load('en_core_web_sm')\n",
        "premise_list = X_train['premise'].tolist()\n",
        "hypothesis_list = X_train['hypothesis'].tolist()\n",
        "\n",
        "prem_tokens_list = list(tokeniser.pipe(premise_list, batch_size=64))\n",
        "X_train.loc[:, \"premise\"] = [[token.text.lower() for token in tokens if re.match(r'^\\w+$', token.text)] for tokens in prem_tokens_list]\n",
        "\n",
        "hyp_tokens_list = list(tokeniser.pipe(hypothesis_list, batch_size=64))\n",
        "X_train.loc[:, \"hypothesis\"] = [[token.text.lower() for token in tokens if re.match(r'^\\w+$', token.text)] for tokens in hyp_tokens_list]\n",
        "\n",
        "display(X_train)"
      ]
    },
    {
      "cell_type": "markdown",
      "metadata": {
        "id": "ATprZGESUE22"
      },
      "source": [
        "##### 1.4.1.1 Tokenisation for VSE\n",
        "Deterministically tokenize premise and hypothesis separately (spaCy or lowercase-split) and attach the results as premise_tokens / hypo_tokens to each example. This keeps the raw DataFrame text intact for EDA, avoids concatenation (Siamese setup), applies the same tokenizer to all splits, and prepares for vocab building on the train split only.\n"
      ]
    },
    {
      "cell_type": "code",
      "execution_count": 9,
      "metadata": {
        "colab": {
          "base_uri": "https://localhost:8080/",
          "height": 293
        },
        "id": "bkhqctIeUSIU",
        "outputId": "51b40cef-e5ab-4da7-c74c-5441478e6f42"
      },
      "outputs": [
        {
          "data": {
            "application/vnd.google.colaboratory.intrinsic+json": {
              "summary": "{\n  \"name\": \"display(X_train_tokens\",\n  \"rows\": 5,\n  \"fields\": [\n    {\n      \"column\": \"premise\",\n      \"properties\": {\n        \"dtype\": \"string\",\n        \"num_unique_values\": 5,\n        \"samples\": [\n          \"---Glenn ========================================================= Once per day, the earth rotates about its axis.\",\n          \"By comparison, the earth rotates on its axis once per day and revolves around the sun once per year.\",\n          \"geysers - periodic gush of hot water at the surface of the Earth.\"\n        ],\n        \"semantic_type\": \"\",\n        \"description\": \"\"\n      }\n    },\n    {\n      \"column\": \"hypothesis\",\n      \"properties\": {\n        \"dtype\": \"string\",\n        \"num_unique_values\": 3,\n        \"samples\": [\n          \"Earth rotates on its axis once times in one day.\",\n          \"The surface of the sun is much hotter than almost anything on earth.\",\n          \"Evaporation is responsible for changing liquid water into water vapor.\"\n        ],\n        \"semantic_type\": \"\",\n        \"description\": \"\"\n      }\n    },\n    {\n      \"column\": \"premise_tokens\",\n      \"properties\": {\n        \"dtype\": \"object\",\n        \"semantic_type\": \"\",\n        \"description\": \"\"\n      }\n    },\n    {\n      \"column\": \"hypothesis_tokens\",\n      \"properties\": {\n        \"dtype\": \"object\",\n        \"semantic_type\": \"\",\n        \"description\": \"\"\n      }\n    }\n  ]\n}",
              "type": "dataframe"
            },
            "text/html": [
              "\n",
              "  <div id=\"df-1fb71c5e-a55d-439f-a117-067ea4e04eb3\" class=\"colab-df-container\">\n",
              "    <div>\n",
              "<style scoped>\n",
              "    .dataframe tbody tr th:only-of-type {\n",
              "        vertical-align: middle;\n",
              "    }\n",
              "\n",
              "    .dataframe tbody tr th {\n",
              "        vertical-align: top;\n",
              "    }\n",
              "\n",
              "    .dataframe thead th {\n",
              "        text-align: right;\n",
              "    }\n",
              "</style>\n",
              "<table border=\"1\" class=\"dataframe\">\n",
              "  <thead>\n",
              "    <tr style=\"text-align: right;\">\n",
              "      <th></th>\n",
              "      <th>premise</th>\n",
              "      <th>hypothesis</th>\n",
              "      <th>premise_tokens</th>\n",
              "      <th>hypothesis_tokens</th>\n",
              "    </tr>\n",
              "  </thead>\n",
              "  <tbody>\n",
              "    <tr>\n",
              "      <th>0</th>\n",
              "      <td>Pluto rotates once on its axis every 6.39 Eart...</td>\n",
              "      <td>Earth rotates on its axis once times in one day.</td>\n",
              "      <td>[pluto, rotates, once, on, its, axis, every, e...</td>\n",
              "      <td>[earth, rotates, on, its, axis, once, times, i...</td>\n",
              "    </tr>\n",
              "    <tr>\n",
              "      <th>1</th>\n",
              "      <td>---Glenn =====================================...</td>\n",
              "      <td>Earth rotates on its axis once times in one day.</td>\n",
              "      <td>[once, per, day, the, earth, rotates, about, i...</td>\n",
              "      <td>[earth, rotates, on, its, axis, once, times, i...</td>\n",
              "    </tr>\n",
              "    <tr>\n",
              "      <th>2</th>\n",
              "      <td>geysers - periodic gush of hot water at the su...</td>\n",
              "      <td>The surface of the sun is much hotter than alm...</td>\n",
              "      <td>[geysers, periodic, gush, of, hot, water, at, ...</td>\n",
              "      <td>[the, surface, of, the, sun, is, much, hotter,...</td>\n",
              "    </tr>\n",
              "    <tr>\n",
              "      <th>3</th>\n",
              "      <td>Facts: Liquid water droplets can be changed in...</td>\n",
              "      <td>Evaporation is responsible for changing liquid...</td>\n",
              "      <td>[facts, liquid, water, droplets, can, be, chan...</td>\n",
              "      <td>[evaporation, is, responsible, for, changing, ...</td>\n",
              "    </tr>\n",
              "    <tr>\n",
              "      <th>4</th>\n",
              "      <td>By comparison, the earth rotates on its axis o...</td>\n",
              "      <td>Earth rotates on its axis once times in one day.</td>\n",
              "      <td>[by, comparison, the, earth, rotates, on, its,...</td>\n",
              "      <td>[earth, rotates, on, its, axis, once, times, i...</td>\n",
              "    </tr>\n",
              "  </tbody>\n",
              "</table>\n",
              "</div>\n",
              "    <div class=\"colab-df-buttons\">\n",
              "\n",
              "  <div class=\"colab-df-container\">\n",
              "    <button class=\"colab-df-convert\" onclick=\"convertToInteractive('df-1fb71c5e-a55d-439f-a117-067ea4e04eb3')\"\n",
              "            title=\"Convert this dataframe to an interactive table.\"\n",
              "            style=\"display:none;\">\n",
              "\n",
              "  <svg xmlns=\"http://www.w3.org/2000/svg\" height=\"24px\" viewBox=\"0 -960 960 960\">\n",
              "    <path d=\"M120-120v-720h720v720H120Zm60-500h600v-160H180v160Zm220 220h160v-160H400v160Zm0 220h160v-160H400v160ZM180-400h160v-160H180v160Zm440 0h160v-160H620v160ZM180-180h160v-160H180v160Zm440 0h160v-160H620v160Z\"/>\n",
              "  </svg>\n",
              "    </button>\n",
              "\n",
              "  <style>\n",
              "    .colab-df-container {\n",
              "      display:flex;\n",
              "      gap: 12px;\n",
              "    }\n",
              "\n",
              "    .colab-df-convert {\n",
              "      background-color: #E8F0FE;\n",
              "      border: none;\n",
              "      border-radius: 50%;\n",
              "      cursor: pointer;\n",
              "      display: none;\n",
              "      fill: #1967D2;\n",
              "      height: 32px;\n",
              "      padding: 0 0 0 0;\n",
              "      width: 32px;\n",
              "    }\n",
              "\n",
              "    .colab-df-convert:hover {\n",
              "      background-color: #E2EBFA;\n",
              "      box-shadow: 0px 1px 2px rgba(60, 64, 67, 0.3), 0px 1px 3px 1px rgba(60, 64, 67, 0.15);\n",
              "      fill: #174EA6;\n",
              "    }\n",
              "\n",
              "    .colab-df-buttons div {\n",
              "      margin-bottom: 4px;\n",
              "    }\n",
              "\n",
              "    [theme=dark] .colab-df-convert {\n",
              "      background-color: #3B4455;\n",
              "      fill: #D2E3FC;\n",
              "    }\n",
              "\n",
              "    [theme=dark] .colab-df-convert:hover {\n",
              "      background-color: #434B5C;\n",
              "      box-shadow: 0px 1px 3px 1px rgba(0, 0, 0, 0.15);\n",
              "      filter: drop-shadow(0px 1px 2px rgba(0, 0, 0, 0.3));\n",
              "      fill: #FFFFFF;\n",
              "    }\n",
              "  </style>\n",
              "\n",
              "    <script>\n",
              "      const buttonEl =\n",
              "        document.querySelector('#df-1fb71c5e-a55d-439f-a117-067ea4e04eb3 button.colab-df-convert');\n",
              "      buttonEl.style.display =\n",
              "        google.colab.kernel.accessAllowed ? 'block' : 'none';\n",
              "\n",
              "      async function convertToInteractive(key) {\n",
              "        const element = document.querySelector('#df-1fb71c5e-a55d-439f-a117-067ea4e04eb3');\n",
              "        const dataTable =\n",
              "          await google.colab.kernel.invokeFunction('convertToInteractive',\n",
              "                                                    [key], {});\n",
              "        if (!dataTable) return;\n",
              "\n",
              "        const docLinkHtml = 'Like what you see? Visit the ' +\n",
              "          '<a target=\"_blank\" href=https://colab.research.google.com/notebooks/data_table.ipynb>data table notebook</a>'\n",
              "          + ' to learn more about interactive tables.';\n",
              "        element.innerHTML = '';\n",
              "        dataTable['output_type'] = 'display_data';\n",
              "        await google.colab.output.renderOutput(dataTable, element);\n",
              "        const docLink = document.createElement('div');\n",
              "        docLink.innerHTML = docLinkHtml;\n",
              "        element.appendChild(docLink);\n",
              "      }\n",
              "    </script>\n",
              "  </div>\n",
              "\n",
              "\n",
              "    <div id=\"df-49f73f91-a8b8-4013-a4f2-29218f82ad1d\">\n",
              "      <button class=\"colab-df-quickchart\" onclick=\"quickchart('df-49f73f91-a8b8-4013-a4f2-29218f82ad1d')\"\n",
              "                title=\"Suggest charts\"\n",
              "                style=\"display:none;\">\n",
              "\n",
              "<svg xmlns=\"http://www.w3.org/2000/svg\" height=\"24px\"viewBox=\"0 0 24 24\"\n",
              "     width=\"24px\">\n",
              "    <g>\n",
              "        <path d=\"M19 3H5c-1.1 0-2 .9-2 2v14c0 1.1.9 2 2 2h14c1.1 0 2-.9 2-2V5c0-1.1-.9-2-2-2zM9 17H7v-7h2v7zm4 0h-2V7h2v10zm4 0h-2v-4h2v4z\"/>\n",
              "    </g>\n",
              "</svg>\n",
              "      </button>\n",
              "\n",
              "<style>\n",
              "  .colab-df-quickchart {\n",
              "      --bg-color: #E8F0FE;\n",
              "      --fill-color: #1967D2;\n",
              "      --hover-bg-color: #E2EBFA;\n",
              "      --hover-fill-color: #174EA6;\n",
              "      --disabled-fill-color: #AAA;\n",
              "      --disabled-bg-color: #DDD;\n",
              "  }\n",
              "\n",
              "  [theme=dark] .colab-df-quickchart {\n",
              "      --bg-color: #3B4455;\n",
              "      --fill-color: #D2E3FC;\n",
              "      --hover-bg-color: #434B5C;\n",
              "      --hover-fill-color: #FFFFFF;\n",
              "      --disabled-bg-color: #3B4455;\n",
              "      --disabled-fill-color: #666;\n",
              "  }\n",
              "\n",
              "  .colab-df-quickchart {\n",
              "    background-color: var(--bg-color);\n",
              "    border: none;\n",
              "    border-radius: 50%;\n",
              "    cursor: pointer;\n",
              "    display: none;\n",
              "    fill: var(--fill-color);\n",
              "    height: 32px;\n",
              "    padding: 0;\n",
              "    width: 32px;\n",
              "  }\n",
              "\n",
              "  .colab-df-quickchart:hover {\n",
              "    background-color: var(--hover-bg-color);\n",
              "    box-shadow: 0 1px 2px rgba(60, 64, 67, 0.3), 0 1px 3px 1px rgba(60, 64, 67, 0.15);\n",
              "    fill: var(--button-hover-fill-color);\n",
              "  }\n",
              "\n",
              "  .colab-df-quickchart-complete:disabled,\n",
              "  .colab-df-quickchart-complete:disabled:hover {\n",
              "    background-color: var(--disabled-bg-color);\n",
              "    fill: var(--disabled-fill-color);\n",
              "    box-shadow: none;\n",
              "  }\n",
              "\n",
              "  .colab-df-spinner {\n",
              "    border: 2px solid var(--fill-color);\n",
              "    border-color: transparent;\n",
              "    border-bottom-color: var(--fill-color);\n",
              "    animation:\n",
              "      spin 1s steps(1) infinite;\n",
              "  }\n",
              "\n",
              "  @keyframes spin {\n",
              "    0% {\n",
              "      border-color: transparent;\n",
              "      border-bottom-color: var(--fill-color);\n",
              "      border-left-color: var(--fill-color);\n",
              "    }\n",
              "    20% {\n",
              "      border-color: transparent;\n",
              "      border-left-color: var(--fill-color);\n",
              "      border-top-color: var(--fill-color);\n",
              "    }\n",
              "    30% {\n",
              "      border-color: transparent;\n",
              "      border-left-color: var(--fill-color);\n",
              "      border-top-color: var(--fill-color);\n",
              "      border-right-color: var(--fill-color);\n",
              "    }\n",
              "    40% {\n",
              "      border-color: transparent;\n",
              "      border-right-color: var(--fill-color);\n",
              "      border-top-color: var(--fill-color);\n",
              "    }\n",
              "    60% {\n",
              "      border-color: transparent;\n",
              "      border-right-color: var(--fill-color);\n",
              "    }\n",
              "    80% {\n",
              "      border-color: transparent;\n",
              "      border-right-color: var(--fill-color);\n",
              "      border-bottom-color: var(--fill-color);\n",
              "    }\n",
              "    90% {\n",
              "      border-color: transparent;\n",
              "      border-bottom-color: var(--fill-color);\n",
              "    }\n",
              "  }\n",
              "</style>\n",
              "\n",
              "      <script>\n",
              "        async function quickchart(key) {\n",
              "          const quickchartButtonEl =\n",
              "            document.querySelector('#' + key + ' button');\n",
              "          quickchartButtonEl.disabled = true;  // To prevent multiple clicks.\n",
              "          quickchartButtonEl.classList.add('colab-df-spinner');\n",
              "          try {\n",
              "            const charts = await google.colab.kernel.invokeFunction(\n",
              "                'suggestCharts', [key], {});\n",
              "          } catch (error) {\n",
              "            console.error('Error during call to suggestCharts:', error);\n",
              "          }\n",
              "          quickchartButtonEl.classList.remove('colab-df-spinner');\n",
              "          quickchartButtonEl.classList.add('colab-df-quickchart-complete');\n",
              "        }\n",
              "        (() => {\n",
              "          let quickchartButtonEl =\n",
              "            document.querySelector('#df-49f73f91-a8b8-4013-a4f2-29218f82ad1d button');\n",
              "          quickchartButtonEl.style.display =\n",
              "            google.colab.kernel.accessAllowed ? 'block' : 'none';\n",
              "        })();\n",
              "      </script>\n",
              "    </div>\n",
              "\n",
              "    </div>\n",
              "  </div>\n"
            ],
            "text/plain": [
              "                                             premise  \\\n",
              "0  Pluto rotates once on its axis every 6.39 Eart...   \n",
              "1  ---Glenn =====================================...   \n",
              "2  geysers - periodic gush of hot water at the su...   \n",
              "3  Facts: Liquid water droplets can be changed in...   \n",
              "4  By comparison, the earth rotates on its axis o...   \n",
              "\n",
              "                                          hypothesis  \\\n",
              "0   Earth rotates on its axis once times in one day.   \n",
              "1   Earth rotates on its axis once times in one day.   \n",
              "2  The surface of the sun is much hotter than alm...   \n",
              "3  Evaporation is responsible for changing liquid...   \n",
              "4   Earth rotates on its axis once times in one day.   \n",
              "\n",
              "                                      premise_tokens  \\\n",
              "0  [pluto, rotates, once, on, its, axis, every, e...   \n",
              "1  [once, per, day, the, earth, rotates, about, i...   \n",
              "2  [geysers, periodic, gush, of, hot, water, at, ...   \n",
              "3  [facts, liquid, water, droplets, can, be, chan...   \n",
              "4  [by, comparison, the, earth, rotates, on, its,...   \n",
              "\n",
              "                                   hypothesis_tokens  \n",
              "0  [earth, rotates, on, its, axis, once, times, i...  \n",
              "1  [earth, rotates, on, its, axis, once, times, i...  \n",
              "2  [the, surface, of, the, sun, is, much, hotter,...  \n",
              "3  [evaporation, is, responsible, for, changing, ...  \n",
              "4  [earth, rotates, on, its, axis, once, times, i...  "
            ]
          },
          "metadata": {},
          "output_type": "display_data"
        }
      ],
      "source": [
        "import spacy, re\n",
        "\n",
        "# light spaCy pipeline, faster tokenisation\n",
        "nlp = spacy.load(\"en_core_web_sm\", disable=[\"ner\",\"parser\",\"tagger\",\"lemmatizer\"])\n",
        "\n",
        "def keep_token(t):\n",
        "    # mimic your ^\\w+$ but exclude underscores if you want; choose one:\n",
        "    # return bool(re.match(r'^[A-Za-z0-9]+$', t.text))     # letters+digits only\n",
        "    return t.text.isalnum()                                # simpler, close in spirit\n",
        "\n",
        "def tok_doc(doc):\n",
        "    return [t.text.lower() for t in doc if keep_token(t)]\n",
        "\n",
        "def attach_tokens_to_examples(df, examples):\n",
        "    # df: DataFrame with 'premise','hypothesis'\n",
        "    # examples: list of dicts already holding 'premise','hypothesis','y'\n",
        "    prem_docs = list(nlp.pipe(df['premise'].tolist(), batch_size=64))\n",
        "    hypo_docs = list(nlp.pipe(df['hypothesis'].tolist(), batch_size=64))\n",
        "    for ex, pdoc, hdoc in zip(examples, prem_docs, hypo_docs):\n",
        "        ex['premise_tokens'] = tok_doc(pdoc)\n",
        "        ex['hypo_tokens'] = tok_doc(hdoc)\n",
        "\n",
        "# assume train_data/val_data/test_data has been created\n",
        "attach_tokens_to_examples(train, train_data)\n",
        "attach_tokens_to_examples(val, val_data)\n",
        "attach_tokens_to_examples(test, test_data)\n",
        "\n",
        "# keep DataFrame view for EDA without mutating text columns\n",
        "X_train_tokens = train[['premise','hypothesis']].copy()\n",
        "X_train_tokens['premise_tokens'] = [ex['premise_tokens'] for ex in train_data]\n",
        "X_train_tokens['hypothesis_tokens'] = [ex['hypo_tokens'] for ex in train_data]\n",
        "display(X_train_tokens.head())\n"
      ]
    },
    {
      "cell_type": "markdown",
      "metadata": {
        "id": "sOHuvsVcRG0g"
      },
      "source": [
        "##### Sanity Check"
      ]
    },
    {
      "cell_type": "code",
      "execution_count": 10,
      "metadata": {
        "colab": {
          "base_uri": "https://localhost:8080/"
        },
        "id": "c7kz8ggFRJQ-",
        "outputId": "362b32ba-42dc-4e1f-d18b-91f2f66b6da1"
      },
      "outputs": [
        {
          "name": "stdout",
          "output_type": "stream",
          "text": [
            "train labels: {0: 14618, 1: 8470}\n",
            "min lens: 0 3\n",
            "p99.5: 42.0\n"
          ]
        }
      ],
      "source": [
        "import numpy as np\n",
        "\n",
        "#sanity after tokenisation\n",
        "ys = [ex[\"y\"] for ex in train_data]\n",
        "print(\"train labels:\", {0: ys.count(0), 1: ys.count(1)})\n",
        "\n",
        "import numpy as np\n",
        "prem_lens = np.array([len(ex[\"premise_tokens\"]) for ex in train_data])\n",
        "hypo_lens = np.array([len(ex[\"hypo_tokens\"])    for ex in train_data])\n",
        "print(\"min lens:\", prem_lens.min(), hypo_lens.min())\n",
        "print(\"p99.5:\", np.percentile(np.r_[prem_lens,hypo_lens],99.5))"
      ]
    },
    {
      "cell_type": "markdown",
      "metadata": {
        "id": "td6uN2sPvAOM"
      },
      "source": [
        "#### 1.4.2. Vocabulary Construction"
      ]
    },
    {
      "cell_type": "code",
      "execution_count": 5,
      "metadata": {
        "colab": {
          "base_uri": "https://localhost:8080/"
        },
        "id": "9b52cccd",
        "outputId": "668ef50f-49e3-4f0a-fcfd-814715bc5881"
      },
      "outputs": [
        {
          "name": "stdout",
          "output_type": "stream",
          "text": [
            "Vocabulary size: 20127\n"
          ]
        }
      ],
      "source": [
        "vocab_set = set([])\n",
        "for tokens in X_train['premise']:\n",
        "    for token in tokens:\n",
        "        vocab_set.add(token)\n",
        "for tokens in X_train['hypothesis']:\n",
        "    for token in tokens:\n",
        "        vocab_set.add(token)\n",
        "\n",
        "# Convert the set to a list\n",
        "vocab = ['[PAD]', '[OOV]']\n",
        "vocab.extend(list(vocab_set))\n",
        "\n",
        "wordindexes = {word: i for i, word in enumerate(vocab)}\n",
        "\n",
        "print(f\"Vocabulary size: {len(vocab)}\")"
      ]
    },
    {
      "cell_type": "markdown",
      "metadata": {
        "id": "2zivXu8IXiHf"
      },
      "source": [
        "##### 1.4.2.1\n",
        "Vocab Construction for the VSE model"
      ]
    },
    {
      "cell_type": "code",
      "execution_count": 11,
      "metadata": {
        "colab": {
          "base_uri": "https://localhost:8080/"
        },
        "id": "rdWraSmAXq4l",
        "outputId": "877e0809-5d07-49d9-8f82-b5c09863f480"
      },
      "outputs": [
        {
          "name": "stdout",
          "output_type": "stream",
          "text": [
            "Vocabulary size: 105\n"
          ]
        }
      ],
      "source": [
        "from collections import Counter\n",
        "\n",
        "# 1) count frequencies from TRAIN ONLY (premise + hypothesis)\n",
        "counter = Counter()\n",
        "for toks in X_train['premise']:\n",
        "    counter.update(toks)\n",
        "for toks in X_train['hypothesis']:\n",
        "    counter.update(toks)\n",
        "\n",
        "# 2) optional pruning\n",
        "MIN_FREQ = 2\n",
        "items = [(tok, freq) for tok, freq in counter.items() if freq >= MIN_FREQ]\n",
        "\n",
        "# 3) deterministic order: most frequent first, tie-break by token\n",
        "items.sort(key=lambda x: (-x[1], x[0]))\n",
        "\n",
        "# 4) build vocab with fixed specials\n",
        "vocab = ['[PAD]', '[OOV]'] + [tok for tok, _ in items]\n",
        "wordindexes = {w: i for i, w in enumerate(vocab)}  # PAD=0, OOV=1\n",
        "\n",
        "print(\"Vocabulary size:\", len(vocab))\n",
        "assert wordindexes['[PAD]'] == 0 and wordindexes['[OOV]'] == 1\n"
      ]
    },
    {
      "cell_type": "markdown",
      "metadata": {
        "id": "FhqX6JwcvDEJ"
      },
      "source": [
        "#### 1.4.3 Embedding Table Creation\n",
        "We load the GloVe embeddings, and then for each word in the training set vocabulary, we add the embedding to our lookup table. If a word in the vocabulary does not exist in the GloVe embeddings, it is embedded as zeros."
      ]
    },
    {
      "cell_type": "code",
      "execution_count": 6,
      "metadata": {
        "colab": {
          "base_uri": "https://localhost:8080/"
        },
        "id": "oe6VxxHYnEji",
        "outputId": "d4eef0b6-c06a-40b8-887d-1e92a2f6328a"
      },
      "outputs": [],
      "source": [
        "glove_embeddings = api.load(\"glove-twitter-100\") #100 dimensional\n",
        "\n",
        "emb_dim = glove_embeddings.vector_size\n",
        "emb_table = []\n",
        "for i, word in enumerate(vocab):\n",
        "    if word in glove_embeddings:\n",
        "        emb_table.append(glove_embeddings[word])\n",
        "    else:\n",
        "        emb_table.append(np.zeros(emb_dim))\n",
        "\n",
        "emb_table = np.array(emb_table)\n",
        "emb_table.shape\n",
        "del glove_embeddings"
      ]
    },
    {
      "cell_type": "markdown",
      "metadata": {
        "id": "3tMv8q2DvZtg"
      },
      "source": [
        "Later, we can now create an Embedding object that can be used to lookup the embeddings for any given word. This saves us from having to load the entire vocabulary embeddings at once during training."
      ]
    },
    {
      "cell_type": "markdown",
      "metadata": {
        "id": "iqX7nBkMsl1W"
      },
      "source": [
        "### 1.5. Data visualisation\n",
        "We will visualise the data to observe any patterns that we should be aware of before preprocessing and training.\n",
        "\n",
        "First, lets observe the class balance for the train/val/test sets."
      ]
    },
    {
      "cell_type": "code",
      "execution_count": 7,
      "metadata": {
        "colab": {
          "base_uri": "https://localhost:8080/"
        },
        "id": "_wPwxy8ss0nx",
        "outputId": "f9b0d807-3ead-4ba7-e9e8-faad9165d010"
      },
      "outputs": [
        {
          "name": "stdout",
          "output_type": "stream",
          "text": [
            "Training set distribution:\n",
            "Neutral = 0.63\n",
            "Entails = 0.37\n",
            "Validation set distribution:\n",
            "Neutral = 0.5\n",
            "Entails = 0.5\n",
            "Testing set distribution:\n",
            "Neutral = 0.6\n",
            "Entails = 0.4\n",
            "\n"
          ]
        }
      ],
      "source": [
        "print(\n",
        "    \"Training set distribution:\\n\"\n",
        "    f\"Neutral = {round(y_train[y_train == 'neutral'].shape[0] / y_train.shape[0],2)}\\n\"\n",
        "    f\"Entails = {round(y_train[y_train == 'entails'].shape[0] / y_train.shape[0],2)}\\n\"\n",
        "    \"Validation set distribution:\\n\"\n",
        "    f\"Neutral = {round(y_val[y_val == 'neutral'].shape[0] / y_val.shape[0],2)}\\n\"\n",
        "    f\"Entails = {round(y_val[y_val == 'entails'].shape[0] / y_val.shape[0],2)}\\n\"\n",
        "    \"Testing set distribution:\\n\"\n",
        "    f\"Neutral = {round(y_test[y_test == 'neutral'].shape[0] / y_test.shape[0],2)}\\n\"\n",
        "    f\"Entails = {round(y_test[y_test == 'entails'].shape[0] / y_test.shape[0],2)}\\n\"\n",
        ")"
      ]
    },
    {
      "cell_type": "markdown",
      "metadata": {
        "id": "7TUpK2UBtGXa"
      },
      "source": [
        "The training set is strongly skewed towards neutral samples - this will have an impact on training.\n",
        "\n",
        "Now, we will observe the distribution of the token lengths of the premises and hypotheses of the train and validation sets."
      ]
    },
    {
      "cell_type": "code",
      "execution_count": 8,
      "metadata": {
        "colab": {
          "base_uri": "https://localhost:8080/",
          "height": 346
        },
        "id": "6hgkN3eDs4RY",
        "outputId": "0115587a-296a-4ca1-85e2-fb00fa0fbab0"
      },
      "outputs": [
        {
          "data": {
            "image/png": "[encoded data removed]",
            "text/plain": [
              "<Figure size 1200x600 with 2 Axes>"
            ]
          },
          "metadata": {},
          "output_type": "display_data"
        }
      ],
      "source": [
        "train_prem_lengths = [len(premise) for premise in X_train['premise']]\n",
        "train_hyp_lengths = [len(hypothesis) for hypothesis in X_train['hypothesis']]\n",
        "\n",
        "val_prem_lengths = [len(premise) for premise in X_val['premise']]\n",
        "val_hyp_lengths = [len(hypothesis) for hypothesis in X_val['hypothesis']]\n",
        "\n",
        "fig, axs = plt.subplots(1, 2, figsize=(12, 6))\n",
        "\n",
        "# Train set\n",
        "axs[0].hist(train_prem_lengths, bins=20, alpha=0.6, label='Premise')\n",
        "axs[0].hist(train_hyp_lengths, bins=20, alpha=0.6, label='Hypothesis')\n",
        "axs[0].set_title(\"Train Set Length Distribution\")\n",
        "axs[0].set_xlabel(\"Number of Tokens\")\n",
        "axs[0].set_ylabel(\"Frequency\")\n",
        "axs[0].legend()\n",
        "\n",
        "# Validation set\n",
        "axs[1].hist(val_prem_lengths, bins=20, alpha=0.6, label='Premise')\n",
        "axs[1].hist(val_hyp_lengths, bins=20, alpha=0.6, label='Hypothesis')\n",
        "axs[1].set_title(\"Validation Set Length Distribution\")\n",
        "axs[1].set_xlabel(\"Number of Tokens\")\n",
        "axs[1].set_ylabel(\"Frequency\")\n",
        "axs[1].legend()\n",
        "\n",
        "plt.tight_layout()\n",
        "plt.show()"
      ]
    },
    {
      "cell_type": "markdown",
      "metadata": {
        "id": "7sipBzYBu6qq"
      },
      "source": [
        "This indicates there are some outliers in the train set. Reviewing the ten largest premises in the training set reveals there are some abnormally large instances:"
      ]
    },
    {
      "cell_type": "code",
      "execution_count": 9,
      "metadata": {
        "colab": {
          "base_uri": "https://localhost:8080/"
        },
        "id": "NAtZ6245tdg3",
        "outputId": "68706ca0-b4ca-4760-ca77-fa94a0e4cf90"
      },
      "outputs": [
        {
          "name": "stdout",
          "output_type": "stream",
          "text": [
            "[9966, 5829, 2249, 1154, 938, 705, 594, 550, 314, 111]\n"
          ]
        }
      ],
      "source": [
        "largest_prem = sorted(range(len(train_prem_lengths)), key=lambda i: train_prem_lengths[i], reverse=True)[:10]\n",
        "print([train_prem_lengths[i] for i in largest_prem])"
      ]
    },
    {
      "cell_type": "markdown",
      "metadata": {
        "id": "pMwxCmJOvTVP"
      },
      "source": [
        "Removing these outliers from the training set, we get a nicer looking plot:"
      ]
    },
    {
      "cell_type": "code",
      "execution_count": 10,
      "metadata": {
        "colab": {
          "base_uri": "https://localhost:8080/",
          "height": 346
        },
        "id": "96e4bb67",
        "outputId": "25e89fcc-3596-4367-ea98-b1ca94f3fd83"
      },
      "outputs": [
        {
          "data": {
            "image/png": "[encoded data removed]",
            "text/plain": [
              "<Figure size 1200x600 with 2 Axes>"
            ]
          },
          "metadata": {},
          "output_type": "display_data"
        }
      ],
      "source": [
        "X_train = X_train.drop(X_train.index[largest_prem])\n",
        "y_train = y_train.drop(y_train.index[largest_prem])\n",
        "\n",
        "train_prem_lengths = [len(premise) for premise in X_train['premise']]\n",
        "fig, axs = plt.subplots(1, 2, figsize=(12, 6))\n",
        "\n",
        "# Train set\n",
        "axs[0].hist(train_prem_lengths, bins=20, alpha=0.6, label='Premise')\n",
        "axs[0].hist(train_hyp_lengths, bins=20, alpha=0.6, label='Hypothesis')\n",
        "axs[0].set_title(\"Train Set Length Distribution\")\n",
        "axs[0].set_xlabel(\"Number of Tokens\")\n",
        "axs[0].set_ylabel(\"Frequency\")\n",
        "axs[0].legend()\n",
        "\n",
        "# Validation set\n",
        "axs[1].hist(val_prem_lengths, bins=20, alpha=0.6, label='Premise')\n",
        "axs[1].hist(val_hyp_lengths, bins=20, alpha=0.6, label='Hypothesis')\n",
        "axs[1].set_title(\"Validation Set Length Distribution\")\n",
        "axs[1].set_xlabel(\"Number of Tokens\")\n",
        "axs[1].set_ylabel(\"Frequency\")\n",
        "axs[1].legend()\n",
        "\n",
        "plt.tight_layout()\n",
        "plt.show()"
      ]
    },
    {
      "cell_type": "markdown",
      "metadata": {
        "id": "0_-C0EzMvm42"
      },
      "source": [
        "### 1.6. Dataset Formation\n",
        "Now we create the training dataset. The tokenised premise and hypothesis sentences are encoded to be the index that corresponds to the word embedding in the embeddings table. Each sentence is then padded to be the same length as the longest respective premise or hypothesis."
      ]
    },
    {
      "cell_type": "code",
      "execution_count": 11,
      "metadata": {
        "id": "HJENY7r0pLT5"
      },
      "outputs": [],
      "source": [
        "def encode_sentences(sentences):\n",
        "    encoded_sentences = []\n",
        "    for sentence in sentences:\n",
        "        encoded_sentences.append([wordindexes[word] if word in wordindexes else wordindexes['[OOV]'] for word in sentence])\n",
        "    return encoded_sentences\n",
        "\n",
        "def pad_sequences(sequences, max_length):\n",
        "    padded_sequences = []\n",
        "    for seq in sequences:\n",
        "        if len(seq) < max_length:\n",
        "            padded_seq = seq + [wordindexes['[PAD]']] * (max_length - len(seq))\n",
        "        else:\n",
        "            padded_seq = seq[:max_length]\n",
        "        padded_sequences.append(padded_seq)\n",
        "    return padded_sequences\n",
        "\n",
        "max_prem = max(len(sentence) for sentence in X_train['premise'])\n",
        "max_hyp = max(len(sentence) for sentence in X_train['hypothesis'])\n",
        "encoded_prem_train = pad_sequences(encode_sentences(X_train['premise']), max_prem)\n",
        "encoded_hyp_train = pad_sequences(encode_sentences(X_train['hypothesis']), max_hyp)\n",
        "\n",
        "encoded_prem_val = pad_sequences(encode_sentences(X_val['premise']), max_prem)\n",
        "encoded_hyp_val = pad_sequences(encode_sentences(X_val['hypothesis']), max_hyp)"
      ]
    },
    {
      "cell_type": "markdown",
      "metadata": {
        "id": "8vE8QIkEwAab"
      },
      "source": [
        "The labels are now converted to 0 for neutral, and 1 for entails."
      ]
    },
    {
      "cell_type": "code",
      "execution_count": 12,
      "metadata": {
        "id": "BlpRvN-uwGp6"
      },
      "outputs": [],
      "source": [
        "y_train = y_train.map({'neutral': 0, 'entails': 1})\n",
        "y_val = y_val.map({'neutral': 0, 'entails': 1})\n",
        "y_test = y_test.map({'neutral': 0, 'entails': 1})"
      ]
    },
    {
      "cell_type": "markdown",
      "metadata": {
        "id": "6m0-kbudcfoN"
      },
      "source": [
        "Now we can create the dataset and data loaders for the train and validation set. To reduce the impact of the class imbalance in the train set, the number of neutral samples is reduced to the number of entails samples."
      ]
    },
    {
      "cell_type": "code",
      "execution_count": 13,
      "metadata": {
        "id": "rSSAM1oKXBSJ"
      },
      "outputs": [],
      "source": [
        "batch_size = 64\n",
        "\n",
        "train_data = torch.utils.data.TensorDataset(torch.tensor(encoded_prem_train), torch.tensor(encoded_hyp_train), torch.tensor(y_train.values))\n",
        "train_loader = torch.utils.data.DataLoader(train_data, batch_size=batch_size)\n",
        "\n",
        "val_data = torch.utils.data.TensorDataset(torch.tensor(encoded_prem_val), torch.tensor(encoded_hyp_val), torch.tensor(y_val.values))\n",
        "val_loader = torch.utils.data.DataLoader(val_data, batch_size=batch_size)"
      ]
    },
    {
      "cell_type": "code",
      "execution_count": 14,
      "metadata": {},
      "outputs": [
        {
          "name": "stdout",
          "output_type": "stream",
          "text": [
            "Class counts: tensor([14611,  8467])\n",
            "Class weights: tensor([0.7338, 1.2662])\n"
          ]
        }
      ],
      "source": [
        "class_counts = torch.bincount(torch.tensor(y_train.values))\n",
        "class_weights = 1.0 / class_counts.float()\n",
        "class_weights = class_weights / class_weights.sum() * len(class_weights)\n",
        "\n",
        "print(f\"Class counts: {class_counts}\")\n",
        "print(f\"Class weights: {class_weights}\")"
      ]
    },
    {
      "cell_type": "markdown",
      "metadata": {
        "id": "wo5YzTg1pL72"
      },
      "source": [
        "#### 1.6.1 Usage for VSE"
      ]
    },
    {
      "cell_type": "code",
      "execution_count": 26,
      "metadata": {
        "colab": {
          "base_uri": "https://localhost:8080/"
        },
        "id": "mR0TTI_UpTY2",
        "outputId": "cb8dfb43-20c1-4731-8ee8-d8b3fe44d52c"
      },
      "outputs": [
        {
          "name": "stdout",
          "output_type": "stream",
          "text": [
            "len stats → mean=14.9, p95=29, p98=35, max=9944\n",
            "MAX_LEN set to 42 (truncates ~0.5% tokens)\n",
            "Class weights (0,1): [0.7337144613265991, 1.2662855386734009]  | counts: [14618, 8470]\n"
          ]
        }
      ],
      "source": [
        "import numpy as np\n",
        "\n",
        "class NLIPairDataset(torch.utils.data.Dataset):\n",
        "    def __init__(self, premises_tok, hypos_tok, labels, wordindexes):\n",
        "        self.premises_tok = premises_tok   # list of token lists\n",
        "        self.hypos_tok = hypos_tok\n",
        "        self.labels = labels         # list/array of ints 0/1\n",
        "        self.wordindexes = wordindexes\n",
        "\n",
        "    def __len__(self): return len(self.labels)\n",
        "\n",
        "    def encode(self, toks):\n",
        "        return [self.wordindexes.get(w, self.wordindexes['[OOV]']) for w in toks]\n",
        "\n",
        "    def __getitem__(self, i):\n",
        "        p_ids = torch.tensor(self.encode(self.premises_tok[i]), dtype=torch.long)\n",
        "        h_ids = torch.tensor(self.encode(self.hypos_tok[i]),    dtype=torch.long)\n",
        "        y = torch.tensor(int(self.labels[i]), dtype=torch.long)\n",
        "        return {\"premise_ids\": p_ids, \"hypo_ids\": h_ids, \"labels\": y}\n",
        "\n",
        "def collate_bilstm(batch, max_len=128, pad_id=0):\n",
        "\n",
        "    def pad_with_lengths(seqs, pad_id=0):\n",
        "        lens = torch.tensor([len(s) for s in seqs], dtype=torch.long)\n",
        "        L = min(max(lens).item(), max_len)\n",
        "        out = torch.full((len(seqs), L), pad_id, dtype=torch.long)\n",
        "        for i, s in enumerate(seqs):\n",
        "            s = s[:L]; out[i, :len(s)] = s\n",
        "        return out, lens.clamp_max(L)\n",
        "\n",
        "    p = [b[\"premise_ids\"] for b in batch]\n",
        "    h = [b[\"hypo_ids\"]    for b in batch]\n",
        "    y = torch.stack([b[\"labels\"] for b in batch])\n",
        "\n",
        "    p_pad, p_len = pad_with_lengths(p, pad_id=wordindexes['[PAD]'])\n",
        "    h_pad, h_len = pad_with_lengths(h, pad_id=wordindexes['[PAD]'])\n",
        "\n",
        "    return {\n",
        "        \"premise_ids\": p_pad,\n",
        "        \"premise_lengths\": p_len,\n",
        "        \"hypo_ids\": h_pad,\n",
        "        \"hypo_lengths\": h_len,\n",
        "        \"labels\": y,\n",
        "    }\n",
        "\n",
        "# Build datasets from your existing tokenised lists\n",
        "train_ds = NLIPairDataset(\n",
        "    premises_tok=X_train['premise'].tolist(),   # token lists\n",
        "    hypos_tok=X_train['hypothesis'].tolist(),\n",
        "    labels=[LABEL_MAP[l] for l in y_train],     # ensure int labels\n",
        "    wordindexes=wordindexes\n",
        ")\n",
        "\n",
        "val_ds = NLIPairDataset(\n",
        "    premises_tok=X_val['premise'].tolist(),\n",
        "    hypos_tok=X_val['hypothesis'].tolist(),\n",
        "    labels=[LABEL_MAP[l] for l in y_val],\n",
        "    wordindexes=wordindexes\n",
        ")\n",
        "\n",
        "test_ds = NLIPairDataset(\n",
        "    premises_tok=X_test['premise'].tolist(),\n",
        "    hypos_tok=X_test['hypothesis'].tolist(),\n",
        "    labels=[LABEL_MAP[l] for l in y_test],\n",
        "    wordindexes=wordindexes\n",
        ")\n",
        "\n",
        "# Keep class balancing indices, but feed them to DataLoader via sampler\n",
        "neutral_indices = [i for i, label in enumerate(train_ds.labels) if label == 0]\n",
        "entails_indices = [i for i, label in enumerate(train_ds.labels) if label == 1]\n",
        "\n",
        "min_samplesize = min(len(neutral_indices), len(entails_indices))\n",
        "\n",
        "# random sample from training set to make sure both are the same size\n",
        "neutral_indices = random.sample(neutral_indices, min_samplesize)\n",
        "entails_indices = random.sample(entails_indices, min_samplesize)\n",
        "\n",
        "# combine the indices\n",
        "train_indices = neutral_indices + entails_indices\n",
        "random.shuffle(train_indices)\n",
        "\n",
        "train_sampler = torch.utils.data.sampler.SubsetRandomSampler(train_indices)\n",
        "\n",
        "prem_lens = np.array([len(ex[\"premise_tokens\"]) for ex in train_data])\n",
        "hypo_lens = np.array([len(ex[\"hypo_tokens\"]) for ex in train_data])\n",
        "all_lens  = np.concatenate([prem_lens, hypo_lens])\n",
        "\n",
        "p = 99.5  # value between ~95-99 (.5% is a massive outlier)\n",
        "suggested = int(np.percentile(all_lens, p))\n",
        "MAX_LEN = min(suggested, 256)  # hard cap to keep things fast\n",
        "\n",
        "trunc_frac = (all_lens > MAX_LEN).mean()\n",
        "print(f\"len stats → mean={all_lens.mean():.1f}, p95={np.percentile(all_lens,95):.0f}, p98={np.percentile(all_lens,98):.0f}, max={all_lens.max()}\")\n",
        "print(f\"MAX_LEN set to {MAX_LEN} (truncates ~{trunc_frac*100:.1f}% tokens)\")\n",
        "\n",
        "\n",
        "batch_size = 32\n",
        "train_loader = torch.utils.data.DataLoader(\n",
        "    train_ds, batch_size=batch_size,\n",
        "    # sampler=train_sampler,             # your SubsetRandomSampler\n",
        "    collate_fn=lambda b: collate_bilstm(b, max_len=MAX_LEN, pad_id=wordindexes['[PAD]'])\n",
        ")\n",
        "val_loader = torch.utils.data.DataLoader(\n",
        "    val_ds, batch_size=batch_size, shuffle=False,\n",
        "    collate_fn=lambda b: collate_bilstm(b, max_len=MAX_LEN, pad_id=wordindexes['[PAD]'])\n",
        ")\n",
        "test_loader = torch.utils.data.DataLoader(\n",
        "    test_ds, batch_size=batch_size, shuffle=False,\n",
        "    collate_fn=lambda b: collate_bilstm(b, max_len=MAX_LEN, pad_id=wordindexes['[PAD]'])\n",
        ")\n",
        "# Class weights for cross-entropy\n",
        "# Collect train labels once from the dataset (faster & cleaner than looping the loader)\n",
        "import numpy as np, torch\n",
        "labels_train = [train_ds[i][\"labels\"] for i in range(len(train_ds))]  # assume __getitem__ returns dict with \"labels\"\n",
        "counts = np.bincount(labels_train, minlength=2)\n",
        "freq = counts / counts.sum()\n",
        "w = 1.0 / (freq + 1e-8)                           # inverse-frequency\n",
        "w = w / w.sum() * 2.0                             # mild normalisation (sum≈2 keeps CE scale reasonable)\n",
        "model.class_weights = torch.tensor(w, dtype=torch.float32, device=CFG.device)\n",
        "print(\"Class weights (0,1):\", model.class_weights.tolist(), \" | counts:\", counts.tolist())"
      ]
    },
    {
      "cell_type": "markdown",
      "metadata": {
        "id": "jsNIYLgl6nei"
      },
      "source": [
        "### 1.7 Test Dataset\n",
        "Finally, we create the test dataset in a similar way the training and validation sets are created."
      ]
    },
    {
      "cell_type": "code",
      "execution_count": 15,
      "metadata": {
        "id": "UlyI_XU16nei"
      },
      "outputs": [],
      "source": [
        "max_prem = max(len(sentence) for sentence in X_test['premise'])\n",
        "max_hyp = max(len(sentence) for sentence in X_test['hypothesis'])\n",
        "encoded_prem_test = pad_sequences(encode_sentences(X_test['premise']), max_prem)\n",
        "encoded_hyp_test = pad_sequences(encode_sentences(X_test['hypothesis']), max_hyp)\n",
        "\n",
        "test_dataset = torch.utils.data.TensorDataset(torch.tensor(encoded_prem_test), torch.tensor(encoded_hyp_test), torch.tensor(y_test.values))\n",
        "test_loader = torch.utils.data.DataLoader(test_dataset, batch_size=batch_size)"
      ]
    },
    {
      "cell_type": "code",
      "execution_count": null,
      "metadata": {
        "id": "eUTnYeyh6nei"
      },
      "outputs": [],
      "source": [
        "# Dataloader sample usage\n",
        "# for i, batch in enumerate(train_loader):\n",
        "    # i = batch number\n",
        "    # premises   = batch[0]\n",
        "    # hypotheses = batch[1]\n",
        "    # labels     = batch[2]"
      ]
    },
    {
      "cell_type": "markdown",
      "metadata": {
        "id": "bJ-QiZwvsg0P"
      },
      "source": [
        "#### 1.7.1 For VSE\n",
        "(padding handled in collate_bilstm)"
      ]
    },
    {
      "cell_type": "code",
      "execution_count": 14,
      "metadata": {
        "colab": {
          "base_uri": "https://localhost:8080/"
        },
        "id": "qilrsMWitQHm",
        "outputId": "e4c050ab-56a7-435d-e726-396f71524afd"
      },
      "outputs": [
        {
          "name": "stdout",
          "output_type": "stream",
          "text": [
            "keys: ['premise_ids', 'premise_lengths', 'hypo_ids', 'hypo_lengths', 'labels']\n",
            "premise_ids shape: torch.Size([32, 42])\n",
            "hypo_ids shape:    torch.Size([32, 42])\n",
            "premise_len shape: torch.Size([32])\n",
            "hypo_len shape:    torch.Size([32])\n",
            "labels shape:      torch.Size([32])\n",
            "\n",
            "example 0: p_len=42, h_len=42, label=0\n",
            "premise_ids[:15]: [38, 11, 16, 4, 6, 2, 10, 6, 4, 5, 4, 3, 7, 2, 6]\n",
            "hypo_ids[:15]:    [37, 5, 10, 4, 12, 2, 10, 6, 4, 5, 4, 3, 7, 2, 6]\n"
          ]
        }
      ],
      "source": [
        "# get one batch\n",
        "batch = next(iter(train_loader))\n",
        "\n",
        "# expect these keys\n",
        "print(\"keys:\", list(batch.keys()))\n",
        "assert \"premise_ids\" in batch and \"hypo_ids\" in batch\n",
        "assert \"premise_lengths\" in batch and \"hypo_lengths\" in batch\n",
        "assert \"labels\" in batch\n",
        "\n",
        "# shapes\n",
        "print(\"premise_ids shape:\", batch[\"premise_ids\"].shape)\n",
        "print(\"hypo_ids shape:   \", batch[\"hypo_ids\"].shape)\n",
        "print(\"premise_len shape:\", batch[\"premise_lengths\"].shape)\n",
        "print(\"hypo_len shape:   \", batch[\"hypo_lengths\"].shape)\n",
        "print(\"labels shape:     \", batch[\"labels\"].shape)\n",
        "\n",
        "# peek at first example\n",
        "i = 0\n",
        "p_len = int(batch[\"premise_lengths\"][i])\n",
        "h_len = int(batch[\"hypo_lengths\"][i])\n",
        "print(f\"\\nexample {i}: p_len={p_len}, h_len={h_len}, label={int(batch['labels'][i])}\")\n",
        "\n",
        "# show first few ids (should be non-zero up to length, then zeros)\n",
        "print(\"premise_ids[:15]:\", batch[\"premise_ids\"][i, :15].tolist())\n",
        "print(\"hypo_ids[:15]:   \", batch[\"hypo_ids\"][i, :15].tolist())\n",
        "\n",
        "# quick sanity: pads should be 0 and only after length\n",
        "pad_id = 0\n",
        "prem_ids = batch[\"premise_ids\"][i].tolist()\n",
        "hypo_ids  = batch[\"hypo_ids\"][i].tolist()\n",
        "\n",
        "assert all(x != pad_id for x in prem_ids[:p_len]), \"pad inside premise actual tokens?\"\n",
        "assert all(x == pad_id for x in prem_ids[p_len:]), \"no padding after premise length?\"\n",
        "\n",
        "assert all(x != pad_id for x in hypo_ids[:h_len]), \"pad inside hypo actual tokens?\"\n",
        "assert all(x == pad_id for x in hypo_ids[h_len:]), \"no padding after hypo length?\"\n"
      ]
    },
    {
      "cell_type": "markdown",
      "metadata": {
        "id": "KHYKObelSSka"
      },
      "source": [
        "##### Saanity Check"
      ]
    },
    {
      "cell_type": "code",
      "execution_count": 16,
      "metadata": {
        "colab": {
          "base_uri": "https://localhost:8080/"
        },
        "id": "u0rCukETSMHk",
        "outputId": "8baa226c-9028-49e6-e733-c50aa915d6be"
      },
      "outputs": [
        {
          "ename": "AttributeError",
          "evalue": "'list' object has no attribute 'keys'",
          "output_type": "error",
          "traceback": [
            "\u001b[31m---------------------------------------------------------------------------\u001b[39m",
            "\u001b[31mAttributeError\u001b[39m                            Traceback (most recent call last)",
            "\u001b[36mCell\u001b[39m\u001b[36m \u001b[39m\u001b[32mIn[16]\u001b[39m\u001b[32m, line 3\u001b[39m\n\u001b[32m      1\u001b[39m \u001b[38;5;66;03m# dataloader check\u001b[39;00m\n\u001b[32m      2\u001b[39m batch = \u001b[38;5;28mnext\u001b[39m(\u001b[38;5;28miter\u001b[39m(train_loader))\n\u001b[32m----> \u001b[39m\u001b[32m3\u001b[39m \u001b[38;5;28mprint\u001b[39m(\u001b[33m\"\u001b[39m\u001b[33mkeys:\u001b[39m\u001b[33m\"\u001b[39m, \u001b[38;5;28mlist\u001b[39m(\u001b[43mbatch\u001b[49m\u001b[43m.\u001b[49m\u001b[43mkeys\u001b[49m()))\n\u001b[32m      4\u001b[39m \u001b[38;5;28mprint\u001b[39m({k:v.shape \u001b[38;5;28;01mfor\u001b[39;00m k,v \u001b[38;5;129;01min\u001b[39;00m batch.items() \u001b[38;5;28;01mif\u001b[39;00m k!=\u001b[33m'\u001b[39m\u001b[33mlabels\u001b[39m\u001b[33m'\u001b[39m}, \u001b[33m\"\u001b[39m\u001b[33mlabels:\u001b[39m\u001b[33m\"\u001b[39m, batch[\u001b[33m\"\u001b[39m\u001b[33mlabels\u001b[39m\u001b[33m\"\u001b[39m].shape)\n\u001b[32m      6\u001b[39m i = \u001b[32m0\u001b[39m\n",
            "\u001b[31mAttributeError\u001b[39m: 'list' object has no attribute 'keys'"
          ]
        }
      ],
      "source": [
        "# dataloader check\n",
        "batch = next(iter(train_loader))\n",
        "print(\"keys:\", list(batch.keys()))\n",
        "print({k:v.shape for k,v in batch.items() if k!='labels'}, \"labels:\", batch[\"labels\"].shape)\n",
        "\n",
        "i = 0\n",
        "p_len = int(batch[\"premise_lengths\"][i]); h_len = int(batch[\"hypo_lengths\"][i])\n",
        "pad_id = 0\n",
        "prem_ids = batch[\"premise_ids\"][i].tolist()\n",
        "hypo_ids = batch[\"hypo_ids\"][i].tolist()\n",
        "\n",
        "assert all(x != pad_id for x in prem_ids[:p_len]) and all(x == pad_id for x in prem_ids[p_len:])\n",
        "assert all(x != pad_id for x in hypo_ids[:h_len]) and all(x == pad_id for x in hypo_ids[h_len:])\n",
        "print(\"batch looks sane\")"
      ]
    },
    {
      "cell_type": "markdown",
      "metadata": {
        "id": "YDSYtLYDDgB9"
      },
      "source": [
        "# 2. Variational Siamese Encoder Model\n",
        "\n",
        "This section implements the Variational Siamese Encoder for NLI. Each sentence is encoded by a BiLSTM into a latent distribution (μ, logσ²). A latent vector z is sampled using the reparameterization trick. The premise and hypothesis encodings are then combined and passed through an MLP classifier. Training uses cross-entropy plus KL divergence to regularize the latent space.\n"
      ]
    },
    {
      "cell_type": "markdown",
      "metadata": {
        "id": "pCn2dcnMRLjF"
      },
      "source": [
        "## 2.1 Config\n",
        "configuring hyperparameters and the device"
      ]
    },
    {
      "cell_type": "code",
      "execution_count": 60,
      "metadata": {
        "id": "qlwh_KEpKyk9"
      },
      "outputs": [],
      "source": [
        "from dataclasses import dataclass, asdict\n",
        "\n",
        "@dataclass\n",
        "class Config:\n",
        "    device: str = \"cuda\" if torch.cuda.is_available() else \"cpu\"\n",
        "    embedding_dim: int = emb_dim # MITCH: Pass embedding dimensions from variable\n",
        "    lstm_hidden: int = 300 #risen from 256\n",
        "    lstm_layers: int = 1\n",
        "    bidir: bool = True\n",
        "    dropout: float = 0.1\n",
        "    latent_dim: int = 128 #risen from 64\n",
        "    beta: float = 0.004 #starting low (initially rising too high)\n",
        "    mlp_hidden: int = 256 #risen from 128\n",
        "    lr: float = 1e-5 # MITCH: Dropped learning rate\n",
        "    weight_decay: float = 0.01\n",
        "    epochs: int = 10\n",
        "    class_weights: list = class_weights.to(\"cuda\" if torch.cuda.is_available() else \"cpu\") # MITCH: Added class weights to config\n",
        "\n",
        "CFG = Config()"
      ]
    },
    {
      "cell_type": "markdown",
      "metadata": {
        "id": "mMAe-F9VRZon"
      },
      "source": [
        "## 2.2 Encoder (BiLSTM) + pooling"
      ]
    },
    {
      "cell_type": "code",
      "execution_count": 56,
      "metadata": {
        "id": "j-UQ6Ha_RcO1"
      },
      "outputs": [],
      "source": [
        "import torch.nn as nn\n",
        "\n",
        "# Mean-pooling layer that ignores padding tokens via a mask\n",
        "class MaskedMeanPool(nn.Module):\n",
        "    def forward(self, x, mask):\n",
        "        # x: [B,L,H], mask: [B,L] (1=real, 0=pad)\n",
        "        mask = mask.float().unsqueeze(-1)\n",
        "        x = x * mask #zero-out pads\n",
        "        denom = mask.sum(dim=1).clamp_min(1e-6) #avoid zero-division\n",
        "        return x.sum(dim=1) / denom #mean of reaal tokens\n",
        "\n",
        "# BiLSTM sentence encoder with masked mean pooling over token states\n",
        "class BiLSTMEncoder(nn.Module):\n",
        "    def __init__(self, vocab_size, emb_dim, hidden=256, layers=1, bidir=True, dropout=0.1): # MITCH: Removed pre-set size on emb_dim\n",
        "        super().__init__()\n",
        "        self.embed = nn.Embedding(vocab_size, emb_dim, padding_idx=0)  # PAD=0\n",
        "        self.embed.weight.data.copy_(torch.from_numpy(emb_table))\n",
        "        self.embed.weight.requires_grad = False\n",
        "        \n",
        "        self.lstm = nn.LSTM(\n",
        "            emb_dim, hidden, num_layers=layers, batch_first=True,\n",
        "            bidirectional=bidir, dropout=dropout if layers > 1 else 0.0 #dropout only if layers > 1\n",
        "        )\n",
        "        self.hidden = hidden * (2 if bidir else 1) #biLSTM doubles the hidden size\n",
        "        self.pool = MaskedMeanPool()\n",
        "\n",
        "    def forward(self, ids): # MITCH: Removed passing lengths\n",
        "        emb = self.embed(ids)  # [B,L,E]\n",
        "        # packed = nn.utils.rnn.pack_padded_sequence(emb, lengths.cpu(), batch_first=True, enforce_sorted=False)\n",
        "        seq, _ = self.lstm(emb)\n",
        "        # seq, _ = nn.utils.rnn.pad_packed_sequence(seq, batch_first=True, total_length=ids.size(1))  # [B,L,H]\n",
        "        mask = (ids != 0).long()\n",
        "        s = self.pool(seq, mask)  # [B,H]\n",
        "        return s\n"
      ]
    },
    {
      "cell_type": "markdown",
      "metadata": {
        "id": "8Wd8AMLhRexq"
      },
      "source": [
        "## 2.3 VSE Model\n",
        "variational heads + comparator + classifier"
      ]
    },
    {
      "cell_type": "code",
      "execution_count": 57,
      "metadata": {
        "id": "BtH6odJSRi4h"
      },
      "outputs": [],
      "source": [
        "import torch.nn.functional as F\n",
        "import torch\n",
        "\n",
        "# Variational Siamese NLI model: encodes both sentences, reparameterizes z, then classifies their relation\n",
        "class VariationalSiameseEncoder(nn.Module):\n",
        "    def __init__(self, encoder, H, D, mlp_hidden=128, dropout=0.1):\n",
        "        super().__init__()\n",
        "        self.encoder = encoder           # shared sentence encoder ϕ\n",
        "        self.mu = nn.Linear(H, D)       # mean head over sentence rep s\n",
        "        self.logvar = nn.Linear(H, D)   # log-variance head over s\n",
        "        self.classifier = nn.Sequential(\n",
        "            nn.Linear(2*D + 2*H, CFG.mlp_hidden),\n",
        "            nn.ReLU(),\n",
        "            nn.Dropout(CFG.dropout),\n",
        "            nn.Linear(CFG.mlp_hidden, 2)\n",
        "\n",
        "            # nn.Linear(2*D, mlp_hidden),\n",
        "            # nn.ReLU(),\n",
        "            # nn.Dropout(dropout),\n",
        "            # nn.Linear(mlp_hidden, 2)\n",
        "        )\n",
        "\n",
        "    def _encode(self, s):\n",
        "        return self.mu(s), self.logvar(s)\n",
        "\n",
        "    def _reparam(self, mu, logv, use_mu_inference=False):\n",
        "        if use_mu_inference:    # deterministic path at eval\n",
        "            return mu\n",
        "        std = (0.5 * logv).exp()\n",
        "        eps = torch.randn_like(std)\n",
        "        return mu + std * eps\n",
        "\n",
        "    def forward(self, batch, beta=0.01, use_mu_inference=False):\n",
        "        premises = batch[0]           # MITCH: Retrieve data from batch list\n",
        "        hypotheses = batch[1]         # MITCH: Retrieve data from batch list\n",
        "        # encode premise and hypothesis -> sentence reps s1, s2\n",
        "        s1 = self.encoder(premises)   # MITCH: Changed Encoder Input to just the batch info\n",
        "        s2 = self.encoder(hypotheses) # MITCH: Changed Encoder Input to just the batch info\n",
        "\n",
        "        # VAE heads + reparameterization for each side\n",
        "        mu1, logv1 = self._encode(s1)\n",
        "        mu2, logv2 = self._encode(s2)\n",
        "        z1 = self._reparam(mu1, logv1, use_mu_inference)\n",
        "        z2 = self._reparam(mu2, logv2, use_mu_inference)\n",
        "\n",
        "\n",
        "        # pair features: |z1−z2|, z1·z2 plus raw s1,s2 (helps classifier)\n",
        "        feat = torch.cat([torch.abs(z1 - z2), z1 * z2, s1, s2], dim=-1)\n",
        "        logits = self.classifier(feat)\n",
        "\n",
        "        # if \"labels\" not in batch:\n",
        "        #     return {\"logits\": logits}\n",
        "        if len(batch) != 3: # MITCH: will equal 3 if labels provided, 2 if not\n",
        "            return {\"logits\": logits}\n",
        "\n",
        "        labels = batch[2] # Mitch: List not Dict\n",
        "        ce = F.cross_entropy(logits, labels, weight=CFG.class_weights) #OLD: ce  = F.cross_entropy(logits, labels)  # task loss\n",
        "        # KL for each side (diag Gaussian vs. N(0, I))\n",
        "        kl1 = 0.5 * torch.sum(torch.exp(logv1) + mu1**2 - 1. - logv1, dim=1).mean()\n",
        "        kl2 = 0.5 * torch.sum(torch.exp(logv2) + mu2**2 - 1. - logv2, dim=1).mean()\n",
        "        kl  = kl1 + kl2\n",
        "        loss = ce + beta * kl\n",
        "        return {\"logits\": logits, \"loss_total\": loss, \"loss_task\": ce, \"loss_kl\": kl}\n"
      ]
    },
    {
      "cell_type": "markdown",
      "metadata": {
        "id": "NTDmvl2YSMny"
      },
      "source": [
        "## 2.4 Build the Model"
      ]
    },
    {
      "cell_type": "code",
      "execution_count": 62,
      "metadata": {
        "colab": {
          "base_uri": "https://localhost:8080/"
        },
        "id": "rmhfbxKDSQ6G",
        "outputId": "ffbc5573-81bb-42aa-bcfc-dbb66737e2c3"
      },
      "outputs": [
        {
          "name": "stdout",
          "output_type": "stream",
          "text": [
            "Model ready. Params: 3.50M  |  H=600, D=128\n"
          ]
        }
      ],
      "source": [
        "# Build VSE-BiLSTM model and load pre-trained GloVe embeddings\n",
        "# vocab_size = len(wordindexes) if isinstance(wordindexes, dict) else len(vocab)  # adapt to vocab container\n",
        "vocab_size = len(vocab)\n",
        "H = CFG.lstm_hidden * (2 if CFG.bidir else 1)         # BiLSTM doubles hidden size if bidirectional\n",
        "\n",
        "encoder = BiLSTMEncoder(\n",
        "    vocab_size=vocab_size,\n",
        "    emb_dim=CFG.embedding_dim,     #must match emb_table dim (100 for glove-twitter-100)\n",
        "    hidden=CFG.lstm_hidden,\n",
        "    layers=CFG.lstm_layers,\n",
        "    bidir=CFG.bidir,\n",
        "    dropout=CFG.dropout\n",
        ")\n",
        "\n",
        "model = VariationalSiameseEncoder(\n",
        "    encoder=encoder,\n",
        "    H=H,\n",
        "    D=CFG.latent_dim,     # latent z dim for each side\n",
        "    mlp_hidden=CFG.mlp_hidden,\n",
        "    dropout=CFG.dropout\n",
        ").to(CFG.device)\n",
        "\n",
        "# #load pre-trained GloVe into the embedding layer (ensure shapes match)\n",
        "# assert model.encoder.embed.weight.data.shape == torch.Size(emb_table.shape), \\\n",
        "#     f\"Embedding shape mismatch: layer {tuple(model.encoder.embed.weight.shape)} vs table {emb_table.shape}\"\n",
        "\n",
        "# with torch.no_grad():\n",
        "#     model.encoder.embed.weight.data.copy_(torch.tensor(emb_table, dtype=torch.float32))  #init from GloVe\n",
        "\n",
        "\n",
        "sum_params = sum(p.numel() for p in model.parameters())/1e6\n",
        "print(f\"Model ready. Params: {sum_params:.2f}M  |  H={H}, D={CFG.latent_dim}\")\n"
      ]
    },
    {
      "cell_type": "markdown",
      "metadata": {
        "id": "hq1n0N9mSfeW"
      },
      "source": [
        "##### Sanity Check"
      ]
    },
    {
      "cell_type": "code",
      "execution_count": 31,
      "metadata": {
        "colab": {
          "base_uri": "https://localhost:8080/"
        },
        "id": "TiVM749MSh--",
        "outputId": "db1427f5-cc39-4fb6-907b-b7d2bb0f98ed"
      },
      "outputs": [
        {
          "name": "stdout",
          "output_type": "stream",
          "text": [
            "tiny overfit acc: 1.0\n"
          ]
        }
      ],
      "source": [
        "# tiny-batch overfit (run once for debugging)\n",
        "tiny = next(iter(train_loader))\n",
        "tiny = {k: v.to(CFG.device) for k,v in tiny.items()}\n",
        "\n",
        "opt = torch.optim.AdamW(model.parameters(), lr=1e-3, weight_decay=0.0)\n",
        "\n",
        "model.train() # Set model to training mode before the loop\n",
        "for _ in range(200):\n",
        "    out = model(tiny, beta=0.0, use_mu_inference=False)  # no KL\n",
        "    opt.zero_grad()\n",
        "    out[\"loss_task\"].backward()\n",
        "    opt.step()\n",
        "\n",
        "model.eval() # Set model back to evaluation mode after the loop\n",
        "with torch.no_grad():\n",
        "    preds = model(tiny, beta=0.0, use_mu_inference=True)[\"logits\"].argmax(-1)\n",
        "    print(\"tiny overfit acc:\", (preds == tiny[\"labels\"]).float().mean().item())"
      ]
    },
    {
      "cell_type": "markdown",
      "metadata": {
        "id": "9wUcRBt69J-Z"
      },
      "source": [
        "## 2.5 Train/Val Loops\n",
        "\\+ best checkpoint"
      ]
    },
    {
      "cell_type": "code",
      "execution_count": 63,
      "metadata": {
        "colab": {
          "base_uri": "https://localhost:8080/"
        },
        "id": "80oGfue49U27",
        "outputId": "07ff42d3-99ec-45ea-81ee-6794921871b1"
      },
      "outputs": [
        {
          "name": "stdout",
          "output_type": "stream",
          "text": [
            "Epoch 01 | 6.5s | loss=0.6958 (task=0.6953, kl=0.3513) | val_acc=0.5038\n",
            "  saved best -> best_vse_bilstm.pt\n",
            "Epoch 02 | 6.3s | loss=0.6926 (task=0.6921, kl=0.1722) | val_acc=0.5038\n",
            "Epoch 03 | 6.9s | loss=0.6894 (task=0.6890, kl=0.0837) | val_acc=0.5038\n",
            "Epoch 04 | 6.4s | loss=0.6808 (task=0.6805, kl=0.0735) | val_acc=0.5061\n",
            "  saved best -> best_vse_bilstm.pt\n",
            "Epoch 05 | 6.1s | loss=0.6689 (task=0.6685, kl=0.0827) | val_acc=0.5069\n",
            "  saved best -> best_vse_bilstm.pt\n",
            "Epoch 06 | 7.2s | loss=0.6617 (task=0.6614, kl=0.0778) | val_acc=0.5069\n",
            "Epoch 07 | 6.8s | loss=0.6541 (task=0.6538, kl=0.0762) | val_acc=0.5069\n",
            "Epoch 08 | 5.8s | loss=0.6461 (task=0.6458, kl=0.0795) | val_acc=0.5061\n",
            "Epoch 09 | 6.4s | loss=0.6372 (task=0.6369, kl=0.0849) | val_acc=0.5061\n",
            "Epoch 10 | 6.8s | loss=0.6266 (task=0.6263, kl=0.0941) | val_acc=0.5061\n",
            "Best val acc: 0.5069018404907976\n"
          ]
        }
      ],
      "source": [
        "import time\n",
        "\n",
        "# Training + evaluation loops with β warm-up, grad clipping, and best-checkpoint saving\n",
        "\n",
        "def evaluate(model, loader, use_mu_inference=True):\n",
        "    model.eval()\n",
        "    total, correct = 0, 0\n",
        "    with torch.no_grad():\n",
        "        for batch in loader:\n",
        "            batch = [batch[0].to(CFG.device), batch[1].to(CFG.device), batch[2].to(CFG.device)]\n",
        "            # batch = {k: v.to(CFG.device) for k, v in batch.items()}\n",
        "            out = model(batch, beta=CFG.beta, use_mu_inference=use_mu_inference)  # deterministic path at eval\n",
        "            preds = out[\"logits\"].argmax(-1)\n",
        "            labels = batch[2]\n",
        "            total += labels.size(0)\n",
        "            correct += (preds == labels).sum().item()\n",
        "    return correct / max(total, 1)\n",
        "\n",
        "optimizer = torch.optim.AdamW(model.parameters(), lr=CFG.lr, weight_decay=CFG.weight_decay) # WD on by default\n",
        "\n",
        "best_val = -1.0\n",
        "best_path = \"best_vse_bilstm.pt\"\n",
        "\n",
        "for epoch in range(1, CFG.epochs+1):\n",
        "    model.train()\n",
        "    t0 = time.time()\n",
        "    seen = 0\n",
        "    loss_sum = task_sum = kl_sum = 0.0\n",
        "\n",
        "    for batch in train_loader:\n",
        "        batch = [batch[0].to(CFG.device), batch[1].to(CFG.device), batch[2].to(CFG.device)]\n",
        "        # batch = {k: v.to(CFG.device) for k, v in batch.items()}\n",
        "        warmup_epochs = max(1, int(0.3 * CFG.epochs)) # 30% of training\n",
        "        beta_t = CFG.beta * min(1.0, epoch / warmup_epochs)  # linear warm-up over number of epochs\n",
        "        out = model(batch, beta=beta_t, use_mu_inference=False)  # stochastic z during training   ---   #previous: out = model(batch, beta=CFG.beta, use_mu_inference=False)\n",
        "        loss = out[\"loss_total\"]\n",
        "        optimizer.zero_grad(set_to_none=True)\n",
        "        loss.backward()\n",
        "        torch.nn.utils.clip_grad_norm_(model.parameters(), 1.0) # clip to stabilise LSTM\n",
        "        optimizer.step()\n",
        "\n",
        "        # bs = batch[\"labels\"].size(0)\n",
        "        bs = batch_size\n",
        "        seen += bs\n",
        "        loss_sum += out[\"loss_total\"].item() * bs\n",
        "        task_sum += out[\"loss_task\"].item() * bs\n",
        "        kl_sum += out[\"loss_kl\"].item() * bs\n",
        "\n",
        "    train_loss = loss_sum / max(1, seen)\n",
        "    train_task = task_sum / max(1, seen)\n",
        "    train_kl = kl_sum / max(1, seen)\n",
        "    val_acc = evaluate(model, val_loader, use_mu_inference=True)\n",
        "    print(f\"Epoch {epoch:02d} | {time.time()-t0:.1f}s | loss={train_loss:.4f} (task={train_task:.4f}, kl={train_kl:.4f}) | val_acc={val_acc:.4f}\")\n",
        "\n",
        "    # quick diagnostic: average logits on val to spot class bias\n",
        "    # with torch.no_grad():\n",
        "    #     s = torch.zeros(2, device=CFG.device); n=0\n",
        "    #     for b in val_loader:\n",
        "    #         b = {k:v.to(CFG.device) for k,v in b.items()}\n",
        "    #         lg = model(b, beta=0.0, use_mu_inference=True)[\"logits\"]\n",
        "    #         s += lg.mean(0); n += 1\n",
        "    #     print(\"avg val logits:\", (s/n).tolist())\n",
        "\n",
        "    if val_acc > best_val:     # save best-by-val-acc checkpoint\n",
        "        best_val = val_acc\n",
        "        torch.save({\"state\": model.state_dict(), \"cfg\": asdict(CFG)}, best_path)\n",
        "        print(\"  saved best ->\", best_path)\n",
        "\n",
        "print(\"Best val acc:\", best_val)\n"
      ]
    },
    {
      "cell_type": "markdown",
      "metadata": {
        "id": "y63eUfZI7C18"
      },
      "source": [
        "## 2.6 Final Test Evaluation\n",
        "and confusion matrix"
      ]
    },
    {
      "cell_type": "code",
      "execution_count": 65,
      "metadata": {
        "colab": {
          "base_uri": "https://localhost:8080/",
          "height": 653
        },
        "id": "aQCXIH0-7K9T",
        "outputId": "15393e9f-a946-4909-8147-096d20c1eb03"
      },
      "outputs": [
        {
          "name": "stdout",
          "output_type": "stream",
          "text": [
            "Loaded best_vse_bilstm.pt\n",
            "Test accuracy: 0.3965\n",
            "Confusion matrix (rows=true, cols=pred):\n",
            " [[   1 1283]\n",
            " [   0  842]]\n",
            "              precision    recall  f1-score   support\n",
            "\n",
            " neutral (0)      1.000     0.001     0.002      1284\n",
            " entails (1)      0.396     1.000     0.568       842\n",
            "\n",
            "    accuracy                          0.397      2126\n",
            "   macro avg      0.698     0.500     0.285      2126\n",
            "weighted avg      0.761     0.397     0.226      2126\n",
            "\n"
          ]
        },
        {
          "data": {
            "image/png": "[encoded data removed]",
            "text/plain": [
              "<Figure size 500x400 with 2 Axes>"
            ]
          },
          "metadata": {},
          "output_type": "display_data"
        }
      ],
      "source": [
        "import seaborn as sns\n",
        "import matplotlib.pyplot as plt\n",
        "import numpy as np\n",
        "from sklearn.metrics import classification_report, confusion_matrix\n",
        "import os\n",
        "\n",
        "# load best\n",
        "if os.path.exists(best_path):\n",
        "    ckpt = torch.load(best_path, map_location=CFG.device)\n",
        "    model.load_state_dict(ckpt[\"state\"])\n",
        "    print(\"Loaded\", best_path)\n",
        "\n",
        "# evaluate with deterministic inference (use μ)\n",
        "model.eval()\n",
        "all_preds, all_labels = [], []\n",
        "with torch.no_grad():\n",
        "    for batch in test_loader:\n",
        "        # batch = {k: v.to(CFG.device) for k, v in batch.items()} \n",
        "        batch = [batch[0].to(CFG.device), batch[1].to(CFG.device), batch[2].to(CFG.device)]\n",
        "        out = model(batch, beta=CFG.beta, use_mu_inference=True)\n",
        "        preds = out[\"logits\"].argmax(-1).cpu().numpy()\n",
        "        labs  = batch[2].cpu().numpy()\n",
        "        all_preds.append(preds); all_labels.append(labs)\n",
        "\n",
        "preds = np.concatenate(all_preds) if all_preds else np.array([])\n",
        "labs  = np.concatenate(all_labels) if all_labels else np.array([])\n",
        "acc = (preds == labs).mean() if preds.size else 0.0\n",
        "\n",
        "cm = np.zeros((2,2), dtype=int)\n",
        "for t,p in zip(labs, preds): cm[t,p] += 1\n",
        "\n",
        "print(f\"Test accuracy: {acc:.4f}\")\n",
        "print(\"Confusion matrix (rows=true, cols=pred):\\n\", cm)\n",
        "report = classification_report(labs, preds, target_names=[\"neutral (0)\", \"entails (1)\"], digits=3)\n",
        "print(report)\n",
        "\n",
        "labels = [\"neutral (0)\", \"entails (1)\"]\n",
        "cm = confusion_matrix(labs, preds, labels=[0,1])\n",
        "\n",
        "plt.figure(figsize=(5,4))\n",
        "sns.heatmap(cm, annot=True, fmt=\"d\", cmap=\"Blues\",\n",
        "            xticklabels=labels, yticklabels=labels)\n",
        "plt.xlabel(\"Predicted Label\")\n",
        "plt.ylabel(\"True Label\")\n",
        "plt.title(\"Confusion Matrix (rows=true, cols=pred)\")\n",
        "plt.show()"
      ]
    }
  ],
  "metadata": {
    "accelerator": "GPU",
    "colab": {
      "gpuType": "T4",
      "provenance": []
    },
    "kernelspec": {
      "display_name": ".venv",
      "language": "python",
      "name": "python3"
    },
    "language_info": {
      "codemirror_mode": {
        "name": "ipython",
        "version": 3
      },
      "file_extension": ".py",
      "mimetype": "text/x-python",
      "name": "python",
      "nbconvert_exporter": "python",
      "pygments_lexer": "ipython3",
      "version": "3.11.0"
    }
  },
  "nbformat": 4,
  "nbformat_minor": 0
}
