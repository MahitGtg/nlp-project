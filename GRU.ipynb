{
 "cells": [
  {
   "cell_type": "markdown",
   "metadata": {
    "id": "ZeNVhtG0clTY"
   },
   "source": [
    "# 2025 CITS4012 Project 2\n",
    "\n",
    "## 1. Preprocessing\n",
    "\n",
    "### 1.1. Import Libraries\n",
    "Libraries are imported for the entire project.\n",
    "\n",
    "*Note: Just add to this list as needed*"
   ]
  },
  {
   "cell_type": "code",
   "execution_count": 36,
   "metadata": {
    "colab": {
     "base_uri": "https://localhost:8080/"
    },
    "id": "ZHKYoflWbaOB",
    "outputId": "04a1c479-c26a-40d2-f7b8-01a684a90319"
   },
   "outputs": [
    {
     "name": "stdout",
     "output_type": "stream",
     "text": [
      "Requirement already satisfied: gensim in c:\\users\\justmitch\\documents\\cits4012\\.venv\\lib\\site-packages (4.3.3)\n",
      "Requirement already satisfied: numpy<2.0,>=1.18.5 in c:\\users\\justmitch\\documents\\cits4012\\.venv\\lib\\site-packages (from gensim) (1.26.4)\n",
      "Requirement already satisfied: scipy<1.14.0,>=1.7.0 in c:\\users\\justmitch\\documents\\cits4012\\.venv\\lib\\site-packages (from gensim) (1.13.1)\n",
      "Requirement already satisfied: smart-open>=1.8.1 in c:\\users\\justmitch\\documents\\cits4012\\.venv\\lib\\site-packages (from gensim) (7.3.0.post1)\n",
      "Requirement already satisfied: wrapt in c:\\users\\justmitch\\documents\\cits4012\\.venv\\lib\\site-packages (from smart-open>=1.8.1->gensim) (1.17.3)\n",
      "Note: you may need to restart the kernel to use updated packages.\n"
     ]
    }
   ],
   "source": [
    "%pip install gensim\n",
    "import gensim.downloader as api\n",
    "\n",
    "# from pydrive2.auth import GoogleAuth\n",
    "# from pydrive2.drive import GoogleDrive\n",
    "# from google.colab import auth\n",
    "# from oauth2client.client import GoogleCredentials\n",
    "import pandas as pd\n",
    "import numpy as np\n",
    "import random\n",
    "import matplotlib.pyplot as plt\n",
    "plt.rc('text', usetex=True)\n",
    "plt.rc('font', family='serif')\n",
    "import itertools\n",
    "import sys\n",
    "import time\n",
    "import torch\n",
    "import spacy\n",
    "import re\n",
    "from sklearn.metrics import classification_report, confusion_matrix, ConfusionMatrixDisplay\n",
    "\n",
    "torch.manual_seed(42)\n",
    "random.seed(42)"
   ]
  },
  {
   "cell_type": "markdown",
   "metadata": {
    "id": "lm0j1IPpdoMH"
   },
   "source": [
    "### 1.2. Retrieve Data\n",
    "First, we need to retrieve the train/val/test datafiles from the Google Drive."
   ]
  },
  {
   "cell_type": "code",
   "execution_count": null,
   "metadata": {
    "id": "Sf7SEIIWbbFB"
   },
   "outputs": [],
   "source": [
    "auth.authenticate_user()\n",
    "gauth = GoogleAuth()\n",
    "gauth.credentials = GoogleCredentials.get_application_default()\n",
    "drive = GoogleDrive(gauth)"
   ]
  },
  {
   "cell_type": "code",
   "execution_count": null,
   "metadata": {
    "id": "BBuq3Zf_bdai"
   },
   "outputs": [
    {
     "ename": "NameError",
     "evalue": "name 'drive' is not defined",
     "output_type": "error",
     "traceback": [
      "\u001b[31m---------------------------------------------------------------------------\u001b[39m",
      "\u001b[31mNameError\u001b[39m                                 Traceback (most recent call last)",
      "\u001b[36mCell\u001b[39m\u001b[36m \u001b[39m\u001b[32mIn[2]\u001b[39m\u001b[32m, line 5\u001b[39m\n\u001b[32m      2\u001b[39m val_fileid = \u001b[33m\"\u001b[39m\u001b[33m15FEgtzzTVDMQcNVMgwIwqoAJeF9vmtrX\u001b[39m\u001b[33m\"\u001b[39m\n\u001b[32m      3\u001b[39m test_fileid = \u001b[33m\"\u001b[39m\u001b[33m179nwaOvdkZ3ogsBaTSJvpZEIjq20uiG-\u001b[39m\u001b[33m\"\u001b[39m\n\u001b[32m----> \u001b[39m\u001b[32m5\u001b[39m train_file = \u001b[43mdrive\u001b[49m.CreateFile({\u001b[33m'\u001b[39m\u001b[33mid\u001b[39m\u001b[33m'\u001b[39m: train_fileid})\n\u001b[32m      6\u001b[39m val_file = drive.CreateFile({\u001b[33m'\u001b[39m\u001b[33mid\u001b[39m\u001b[33m'\u001b[39m: val_fileid})\n\u001b[32m      7\u001b[39m test_file = drive.CreateFile({\u001b[33m'\u001b[39m\u001b[33mid\u001b[39m\u001b[33m'\u001b[39m: test_fileid})\n",
      "\u001b[31mNameError\u001b[39m: name 'drive' is not defined"
     ]
    }
   ],
   "source": [
    "train_fileid = \"1YEOo5vd8DXXUCf1FXCR1D3PxWR9XxQKv\"\n",
    "val_fileid = \"15FEgtzzTVDMQcNVMgwIwqoAJeF9vmtrX\"\n",
    "test_fileid = \"179nwaOvdkZ3ogsBaTSJvpZEIjq20uiG-\"\n",
    "\n",
    "train_file = drive.CreateFile({'id': train_fileid})\n",
    "val_file = drive.CreateFile({'id': val_fileid})\n",
    "test_file = drive.CreateFile({'id': test_fileid})\n",
    "\n",
    "train_file.GetContentFile('train.json')\n",
    "val_file.GetContentFile('val.json')\n",
    "test_file.GetContentFile('test.json')"
   ]
  },
  {
   "cell_type": "markdown",
   "metadata": {
    "id": "d1jcNQxncz-Y"
   },
   "source": [
    "### 1.3. Read in the Data\n",
    "We now read in each dataset, splitting the input data and target data. The data shapes and a sample of the training data are shown below."
   ]
  },
  {
   "cell_type": "code",
   "execution_count": 50,
   "metadata": {
    "colab": {
     "base_uri": "https://localhost:8080/",
     "height": 475
    },
    "id": "iFkL1hHIcYQD",
    "outputId": "6a1bcc36-de64-4f7d-fad9-82bd728e326a"
   },
   "outputs": [
    {
     "name": "stdout",
     "output_type": "stream",
     "text": [
      "Train shape: (23088, 2)\n",
      "Val shape: (1304, 2)\n",
      "Test shape: (2126, 2)\n"
     ]
    },
    {
     "data": {
      "application/vnd.microsoft.datawrangler.viewer.v0+json": {
       "columns": [
        {
         "name": "index",
         "rawType": "int64",
         "type": "integer"
        },
        {
         "name": "premise",
         "rawType": "object",
         "type": "string"
        },
        {
         "name": "hypothesis",
         "rawType": "object",
         "type": "string"
        },
        {
         "name": "label",
         "rawType": "object",
         "type": "string"
        }
       ],
       "ref": "66638aa0-6288-4a96-b90d-352469818abd",
       "rows": [
        [
         "0",
         "Pluto rotates once on its axis every 6.39 Earth days;",
         "Earth rotates on its axis once times in one day.",
         "neutral"
        ],
        [
         "1",
         "---Glenn ========================================================= Once per day, the earth rotates about its axis.",
         "Earth rotates on its axis once times in one day.",
         "entails"
        ],
        [
         "2",
         "geysers - periodic gush of hot water at the surface of the Earth.",
         "The surface of the sun is much hotter than almost anything on earth.",
         "neutral"
        ],
        [
         "3",
         "Facts: Liquid water droplets can be changed into invisible water vapor through a process called evaporation .",
         "Evaporation is responsible for changing liquid water into water vapor.",
         "entails"
        ],
        [
         "4",
         "By comparison, the earth rotates on its axis once per day and revolves around the sun once per year.",
         "Earth rotates on its axis once times in one day.",
         "entails"
        ],
        [
         "5",
         "Pluto is about 39 times more distant from the Sun than is the Earth, and it takes about 250 Earth years for Pluto to make one complete revolution around the Sun.",
         "Earth makes a complete revolution around the sun about once every year.",
         "neutral"
        ],
        [
         "6",
         "It takes Pluto 247.7 Earth years to make one revolution around the Sun.",
         "Earth makes a complete revolution around the sun about once every year.",
         "neutral"
        ],
        [
         "7",
         "Multicellular organisms that have a eukaryotic cell type, mitochondria and a complex nervous system.",
         "Single-celled organisms and multicellular organisms have this in common: both have a way to get rid of waste materials.",
         "neutral"
        ],
        [
         "8",
         "Distribution Water on earth is located primarily in the oceans (97.2%), polar caps (2.14%), ground water(0.61%), and surface water(0.009%).",
         "Most of earth's water is located in oceans",
         "entails"
        ],
        [
         "9",
         "migratory birds which fly from South America to winter in Arctic Circle, where they",
         "Many species of birds in new england fly south for the winter months to find an environment with more food.",
         "neutral"
        ],
        [
         "10",
         "Younger children learn about different forms of energy, including heat, light and sound, though concrete activities.",
         "Heat, light, and sound are all different forms of energy.",
         "entails"
        ],
        [
         "11",
         "When enough condensation forms, it will rain and water the plants.",
         "Dew forming on plants during a cold night is an example of water condensing.",
         "neutral"
        ],
        [
         "12",
         "The photosynthesis of the past is what had stored the Sun's energy that ultimately produced coal;",
         "Coal is nonrenewable, and the sun is renewable is how coal and the sun compare as sources of energy.",
         "neutral"
        ],
        [
         "13",
         "Around the liquid stor- age and liquid recovery systems, rain water runoff would be controlled by collection into a sump system.",
         "Rain is an example of liquid water.",
         "neutral"
        ],
        [
         "14",
         "In this last example, it isn't even loudness or sound at all that needs to be made.",
         "The sound in a loud classroom is an example of a form of energy.",
         "neutral"
        ],
        [
         "15",
         "When these winds are strong, they deflect moister air moving up from the Gulf coast and cold air masses moving down from the Arctic;",
         "The best explanation for how air masses move across the united states is that the prevailing westerlies move air masses from west to east across the united states but may be deflected by the jet stream.",
         "neutral"
        ],
        [
         "16",
         "Evaporation : The process that changes water (liquid) into water vapor (gas).",
         "Evaporation is responsible for changing liquid water into water vapor.",
         "entails"
        ],
        [
         "17",
         "A long-day plant (a plant that flowers in the early summer in response to increasing day length) will be used to isolate the appropriate promoters.",
         "A(n) increase in length happens to metal railroad tracks during the heat of a summer day.",
         "neutral"
        ],
        [
         "18",
         "Why do we find few or no human fossils in most sedimentary rock?",
         "Most fossils are found in sedimentary rocks because organisms can be preserved in sedimentary rock.",
         "neutral"
        ],
        [
         "19",
         "Even if you don't live near a stream or river (though most people do), there are many little things you can do to help prevent too much water and soil run-off from contaminating streams and rivers where anadromous fishes live: Keep your lawn vegetated.",
         "People can help keep a forest a good place for birds to live by preventing too many trees from being cut down.",
         "neutral"
        ],
        [
         "20",
         "MINERALS A mineral is any naturally-occurring, homogeneous solid that has a definite chemical composition and a distinctive internal crystal structure.",
         "A mineral is described as a solid natural material with a crystal structure.",
         "entails"
        ],
        [
         "21",
         "Selfish Cells Threaten Multicellular Life, Trends in Ecology and Evolution Excerpt: How far have conflicts at the cell and organism level influenced the evolution of multicellularity?",
         "Single-celled organisms and multicellular organisms have this in common: both have a way to get rid of waste materials.",
         "neutral"
        ],
        [
         "22",
         "Frogs replace them with lungs in the transition from tadpoles to adults.",
         "A frog develops (a/an) lungs as it changes from a tadpole to an adult frog.",
         "entails"
        ],
        [
         "23",
         "3) The earth is far enough from the sun so that its surface temperature isn't unbearably hot .",
         "The surface of the sun is much hotter than almost anything on earth.",
         "neutral"
        ],
        [
         "24",
         "Solar system: the Sun and all bodies orbiting around it.",
         "The largest body in our solar system is the sun.",
         "neutral"
        ],
        [
         "25",
         "The sun and stars appeared exactly as they do to us upon earth.",
         "From earth, the sun appears brighter than any other star because the sun is the closest star",
         "neutral"
        ],
        [
         "26",
         "Indeed, these and most fungi are multicellular organisms made up of cells have cell walls, a typical plant characteristic.",
         "Single-celled organisms and multicellular organisms have this in common: both have a way to get rid of waste materials.",
         "neutral"
        ],
        [
         "27",
         "For example, active health is offered in every grade to teach students to monitor their own healthy habits such as nutrition, substance abuse and smoking.",
         "Exercising every day is an example of a good health habit.",
         "neutral"
        ],
        [
         "28",
         "Identify her master traits and provide an example from the reading for each trait.",
         "Being able to read is an example of a learned trait.",
         "neutral"
        ],
        [
         "29",
         "On Titan, rain and clouds are most likely made up of liquid methane, not water.",
         "Rain is an example of liquid water.",
         "neutral"
        ],
        [
         "30",
         "CSX operates a north-south length of railroad track that connects Chrisman and Paris.",
         "A(n) increase in length happens to metal railroad tracks during the heat of a summer day.",
         "neutral"
        ],
        [
         "31",
         "Slugs, believe it or not have a very important purpose. They are decomposers, which means they eats wastes and organic materials of other organisms. They help get rid of the t…rash that animals leave behind.",
         "Single-celled organisms and multicellular organisms have this in common: both have a way to get rid of waste materials.",
         "neutral"
        ],
        [
         "32",
         "I 4.4.3d Different forms of energy include heat, light, electrical, mechanical, sound, nuclear, and chemical.",
         "Heat, light, and sound are all different forms of energy.",
         "entails"
        ],
        [
         "33",
         "Your eyes of blue and hair that's straight, Comes through heredity, inheriting a human trait.",
         "A human offspring inherit blue eyes.",
         "entails"
        ],
        [
         "34",
         "Energy, heat and/or sound are forms of matter.",
         "Heat, light, and sound are all different forms of energy.",
         "neutral"
        ],
        [
         "35",
         "What good are cactus spines?",
         "The spines of a cactus help it survive because spines protect the cactus from animals.",
         "neutral"
        ],
        [
         "36",
         "The energy in the coal came from the sun and was stored in the plants.",
         "Coal is nonrenewable, and the sun is renewable is how coal and the sun compare as sources of energy.",
         "neutral"
        ],
        [
         "37",
         "Of course, the Sun is the closest star to Earth.",
         "From earth, the sun appears brighter than any other star because the sun is the closest star",
         "entails"
        ],
        [
         "38",
         "Pumpkin Fruit RollUps Chop pumpkin and cook in saucepan until soft.",
         "A pumpkin is a fruit.",
         "neutral"
        ],
        [
         "39",
         "Wait for a series of blue blocks to appear and fill the slot.",
         "A blue block appears blue in the sunlight if only blue light is reflected by the block.",
         "neutral"
        ],
        [
         "40",
         "Be able to give examples of the marketing applications of these types of learning.",
         "Being able to read is an example of a learned trait.",
         "neutral"
        ],
        [
         "41",
         "as, to inject cold water into a condenser;",
         "Dew forming on plants during a cold night is an example of water condensing.",
         "neutral"
        ],
        [
         "42",
         "The cholla, with its long spines, provides a well protected home for the cactus wren and its young.",
         "The spines of a cactus help it survive because spines protect the cactus from animals.",
         "neutral"
        ],
        [
         "43",
         "turbulent flow) air flow rate The mass/volume of air moved per unit of time through a space opening or duct.",
         "The best explanation for how air masses move across the united states is that the prevailing westerlies move air masses from west to east across the united states but may be deflected by the jet stream.",
         "neutral"
        ],
        [
         "44",
         "As a House of Animals There are many trees living in woods, and their flowers, nuts and fruits support the life of small animals such as a squirrel.",
         "A squirrel storing nuts is preparing for a seasonal change in the environment.",
         "neutral"
        ],
        [
         "45",
         "We may, for example, respond to a loud noise by saying \"That sounded like a gunshot.\"",
         "The sound in a loud classroom is an example of a form of energy.",
         "neutral"
        ],
        [
         "46",
         "Now the carbon atom we are following is sent out inlo the air as a part of a carbon dioxide molecule again.",
         "Air is made of atoms.",
         "neutral"
        ],
        [
         "47",
         "In some programs, genetic counselors use DNA fingerprint information to help prospective parents understand the risk of having an affected child.",
         "Children resemble their parents because they have similar dna.",
         "neutral"
        ],
        [
         "48",
         "Genes determine all inherited traits including those that give the individual specific characteristics (blue eyes rather than brown eyes) as well as common characteristics (two eyes, two arms, etc.).",
         "A human offspring inherit blue eyes.",
         "entails"
        ],
        [
         "49",
         "An organism eats other living things to survive;",
         "A moose eats a plant is an example of a living thing that depends on another living thing to survive.",
         "entails"
        ]
       ],
       "shape": {
        "columns": 3,
        "rows": 23088
       }
      },
      "text/html": [
       "<div>\n",
       "<style scoped>\n",
       "    .dataframe tbody tr th:only-of-type {\n",
       "        vertical-align: middle;\n",
       "    }\n",
       "\n",
       "    .dataframe tbody tr th {\n",
       "        vertical-align: top;\n",
       "    }\n",
       "\n",
       "    .dataframe thead th {\n",
       "        text-align: right;\n",
       "    }\n",
       "</style>\n",
       "<table border=\"1\" class=\"dataframe\">\n",
       "  <thead>\n",
       "    <tr style=\"text-align: right;\">\n",
       "      <th></th>\n",
       "      <th>premise</th>\n",
       "      <th>hypothesis</th>\n",
       "      <th>label</th>\n",
       "    </tr>\n",
       "  </thead>\n",
       "  <tbody>\n",
       "    <tr>\n",
       "      <th>0</th>\n",
       "      <td>Pluto rotates once on its axis every 6.39 Eart...</td>\n",
       "      <td>Earth rotates on its axis once times in one day.</td>\n",
       "      <td>neutral</td>\n",
       "    </tr>\n",
       "    <tr>\n",
       "      <th>1</th>\n",
       "      <td>---Glenn =====================================...</td>\n",
       "      <td>Earth rotates on its axis once times in one day.</td>\n",
       "      <td>entails</td>\n",
       "    </tr>\n",
       "    <tr>\n",
       "      <th>2</th>\n",
       "      <td>geysers - periodic gush of hot water at the su...</td>\n",
       "      <td>The surface of the sun is much hotter than alm...</td>\n",
       "      <td>neutral</td>\n",
       "    </tr>\n",
       "    <tr>\n",
       "      <th>3</th>\n",
       "      <td>Facts: Liquid water droplets can be changed in...</td>\n",
       "      <td>Evaporation is responsible for changing liquid...</td>\n",
       "      <td>entails</td>\n",
       "    </tr>\n",
       "    <tr>\n",
       "      <th>4</th>\n",
       "      <td>By comparison, the earth rotates on its axis o...</td>\n",
       "      <td>Earth rotates on its axis once times in one day.</td>\n",
       "      <td>entails</td>\n",
       "    </tr>\n",
       "    <tr>\n",
       "      <th>...</th>\n",
       "      <td>...</td>\n",
       "      <td>...</td>\n",
       "      <td>...</td>\n",
       "    </tr>\n",
       "    <tr>\n",
       "      <th>23083</th>\n",
       "      <td>which is not only the motion of our bodies, bu...</td>\n",
       "      <td>Work is done only if a force is exerted in the...</td>\n",
       "      <td>neutral</td>\n",
       "    </tr>\n",
       "    <tr>\n",
       "      <th>23084</th>\n",
       "      <td>The Red Star, that celestial curse whose eccen...</td>\n",
       "      <td>Red-shift refers to a shift toward red in the ...</td>\n",
       "      <td>neutral</td>\n",
       "    </tr>\n",
       "    <tr>\n",
       "      <th>23085</th>\n",
       "      <td>The lines in the spectrum of a luminous body s...</td>\n",
       "      <td>Red-shift refers to a shift toward red in the ...</td>\n",
       "      <td>entails</td>\n",
       "    </tr>\n",
       "    <tr>\n",
       "      <th>23086</th>\n",
       "      <td>The radial velocity of a star away from or tow...</td>\n",
       "      <td>Red-shift refers to a shift toward red in the ...</td>\n",
       "      <td>entails</td>\n",
       "    </tr>\n",
       "    <tr>\n",
       "      <th>23087</th>\n",
       "      <td>This expansion causes the light from distant s...</td>\n",
       "      <td>Red-shift refers to a shift toward red in the ...</td>\n",
       "      <td>entails</td>\n",
       "    </tr>\n",
       "  </tbody>\n",
       "</table>\n",
       "<p>23088 rows × 3 columns</p>\n",
       "</div>"
      ],
      "text/plain": [
       "                                                 premise  \\\n",
       "0      Pluto rotates once on its axis every 6.39 Eart...   \n",
       "1      ---Glenn =====================================...   \n",
       "2      geysers - periodic gush of hot water at the su...   \n",
       "3      Facts: Liquid water droplets can be changed in...   \n",
       "4      By comparison, the earth rotates on its axis o...   \n",
       "...                                                  ...   \n",
       "23083  which is not only the motion of our bodies, bu...   \n",
       "23084  The Red Star, that celestial curse whose eccen...   \n",
       "23085  The lines in the spectrum of a luminous body s...   \n",
       "23086  The radial velocity of a star away from or tow...   \n",
       "23087  This expansion causes the light from distant s...   \n",
       "\n",
       "                                              hypothesis    label  \n",
       "0       Earth rotates on its axis once times in one day.  neutral  \n",
       "1       Earth rotates on its axis once times in one day.  entails  \n",
       "2      The surface of the sun is much hotter than alm...  neutral  \n",
       "3      Evaporation is responsible for changing liquid...  entails  \n",
       "4       Earth rotates on its axis once times in one day.  entails  \n",
       "...                                                  ...      ...  \n",
       "23083  Work is done only if a force is exerted in the...  neutral  \n",
       "23084  Red-shift refers to a shift toward red in the ...  neutral  \n",
       "23085  Red-shift refers to a shift toward red in the ...  entails  \n",
       "23086  Red-shift refers to a shift toward red in the ...  entails  \n",
       "23087  Red-shift refers to a shift toward red in the ...  entails  \n",
       "\n",
       "[23088 rows x 3 columns]"
      ]
     },
     "metadata": {},
     "output_type": "display_data"
    }
   ],
   "source": [
    "train = pd.read_json('train.json')\n",
    "X_train = train[['premise', 'hypothesis']]\n",
    "y_train = train['label']\n",
    "\n",
    "val = pd.read_json('val.json')\n",
    "X_val = val[['premise', 'hypothesis']]\n",
    "y_val = val['label']\n",
    "\n",
    "test = pd.read_json('test.json')\n",
    "X_test = test[['premise', 'hypothesis']]\n",
    "y_test = test['label']\n",
    "\n",
    "print(f\"Train shape: {X_train.shape}\")\n",
    "print(f\"Val shape: {X_val.shape}\")\n",
    "print(f\"Test shape: {X_test.shape}\")\n",
    "display(train)"
   ]
  },
  {
   "cell_type": "markdown",
   "metadata": {
    "id": "9VtFvjtVfaqe"
   },
   "source": [
    "### 1.4. Data preprocessing\n",
    "As seen above, the data contains characters that requires cleaning before passing it to the model.\n",
    "\n",
    "The preprocessing pipeline is as follows:\n",
    "- Sentences are tokenised using SpaCy.\n",
    "- A vocabulary list is constructed, including a padding and out-of-vocabulary tag.\n",
    "- A GloVe Embedding model is loaded, pretrained on twitter.\n",
    "- Tokenised sentences are converted to an indexed list of words, padded to the maximum size of the premise and hypothesis, respectively.\n",
    "\n",
    "The labels are also converted to 0 or 1 (0 = neutral, 1 = entails).\n",
    "\n",
    "#### 1.4.1. SpaCy Tokenisation\n",
    "We tokenise the premises and hypotheses for the training set - removing all non alphanumeric characters and converting words to lower case."
   ]
  },
  {
   "cell_type": "code",
   "execution_count": 51,
   "metadata": {
    "colab": {
     "base_uri": "https://localhost:8080/",
     "height": 423
    },
    "id": "ydgaNHsXfLk6",
    "outputId": "879f825f-b721-4817-cfb2-b38a1f571920"
   },
   "outputs": [
    {
     "name": "stdout",
     "output_type": "stream",
     "text": [
      "\u001b[38;5;2m✔ Download and installation successful\u001b[0m\n",
      "You can now load the package via spacy.load('en_core_web_sm')\n",
      "\u001b[38;5;3m⚠ Restart to reload dependencies\u001b[0m\n",
      "If you are in a Jupyter or Colab notebook, you may need to restart Python in\n",
      "order to load all the package's dependencies. You can do this by selecting the\n",
      "'Restart kernel' or 'Restart runtime' option.\n"
     ]
    },
    {
     "data": {
      "application/vnd.microsoft.datawrangler.viewer.v0+json": {
       "columns": [
        {
         "name": "index",
         "rawType": "int64",
         "type": "integer"
        },
        {
         "name": "premise",
         "rawType": "object",
         "type": "unknown"
        },
        {
         "name": "hypothesis",
         "rawType": "object",
         "type": "unknown"
        }
       ],
       "ref": "09b3927e-ed0c-4fdb-9997-0879fec080a2",
       "rows": [
        [
         "0",
         "['pluto', 'rotates', 'once', 'on', 'its', 'axis', 'every', 'earth', 'days']",
         "['earth', 'rotates', 'on', 'its', 'axis', 'once', 'times', 'in', 'one', 'day']"
        ],
        [
         "1",
         "['once', 'per', 'day', 'the', 'earth', 'rotates', 'about', 'its', 'axis']",
         "['earth', 'rotates', 'on', 'its', 'axis', 'once', 'times', 'in', 'one', 'day']"
        ],
        [
         "2",
         "['geysers', 'periodic', 'gush', 'of', 'hot', 'water', 'at', 'the', 'surface', 'of', 'the', 'earth']",
         "['the', 'surface', 'of', 'the', 'sun', 'is', 'much', 'hotter', 'than', 'almost', 'anything', 'on', 'earth']"
        ],
        [
         "3",
         "['facts', 'liquid', 'water', 'droplets', 'can', 'be', 'changed', 'into', 'invisible', 'water', 'vapor', 'through', 'a', 'process', 'called', 'evaporation']",
         "['evaporation', 'is', 'responsible', 'for', 'changing', 'liquid', 'water', 'into', 'water', 'vapor']"
        ],
        [
         "4",
         "['by', 'comparison', 'the', 'earth', 'rotates', 'on', 'its', 'axis', 'once', 'per', 'day', 'and', 'revolves', 'around', 'the', 'sun', 'once', 'per', 'year']",
         "['earth', 'rotates', 'on', 'its', 'axis', 'once', 'times', 'in', 'one', 'day']"
        ],
        [
         "5",
         "['pluto', 'is', 'about', '39', 'times', 'more', 'distant', 'from', 'the', 'sun', 'than', 'is', 'the', 'earth', 'and', 'it', 'takes', 'about', '250', 'earth', 'years', 'for', 'pluto', 'to', 'make', 'one', 'complete', 'revolution', 'around', 'the', 'sun']",
         "['earth', 'makes', 'a', 'complete', 'revolution', 'around', 'the', 'sun', 'about', 'once', 'every', 'year']"
        ],
        [
         "6",
         "['it', 'takes', 'pluto', 'earth', 'years', 'to', 'make', 'one', 'revolution', 'around', 'the', 'sun']",
         "['earth', 'makes', 'a', 'complete', 'revolution', 'around', 'the', 'sun', 'about', 'once', 'every', 'year']"
        ],
        [
         "7",
         "['multicellular', 'organisms', 'that', 'have', 'a', 'eukaryotic', 'cell', 'type', 'mitochondria', 'and', 'a', 'complex', 'nervous', 'system']",
         "['single', 'celled', 'organisms', 'and', 'multicellular', 'organisms', 'have', 'this', 'in', 'common', 'both', 'have', 'a', 'way', 'to', 'get', 'rid', 'of', 'waste', 'materials']"
        ],
        [
         "8",
         "['distribution', 'water', 'on', 'earth', 'is', 'located', 'primarily', 'in', 'the', 'oceans', 'polar', 'caps', 'ground', 'and', 'surface']",
         "['most', 'of', 'earth', 'water', 'is', 'located', 'in', 'oceans']"
        ],
        [
         "9",
         "['migratory', 'birds', 'which', 'fly', 'from', 'south', 'america', 'to', 'winter', 'in', 'arctic', 'circle', 'where', 'they']",
         "['many', 'species', 'of', 'birds', 'in', 'new', 'england', 'fly', 'south', 'for', 'the', 'winter', 'months', 'to', 'find', 'an', 'environment', 'with', 'more', 'food']"
        ],
        [
         "10",
         "['younger', 'children', 'learn', 'about', 'different', 'forms', 'of', 'energy', 'including', 'heat', 'light', 'and', 'sound', 'though', 'concrete', 'activities']",
         "['heat', 'light', 'and', 'sound', 'are', 'all', 'different', 'forms', 'of', 'energy']"
        ],
        [
         "11",
         "['when', 'enough', 'condensation', 'forms', 'it', 'will', 'rain', 'and', 'water', 'the', 'plants']",
         "['dew', 'forming', 'on', 'plants', 'during', 'a', 'cold', 'night', 'is', 'an', 'example', 'of', 'water', 'condensing']"
        ],
        [
         "12",
         "['the', 'photosynthesis', 'of', 'the', 'past', 'is', 'what', 'had', 'stored', 'the', 'sun', 'energy', 'that', 'ultimately', 'produced', 'coal']",
         "['coal', 'is', 'nonrenewable', 'and', 'the', 'sun', 'is', 'renewable', 'is', 'how', 'coal', 'and', 'the', 'sun', 'compare', 'as', 'sources', 'of', 'energy']"
        ],
        [
         "13",
         "['around', 'the', 'liquid', 'age', 'and', 'liquid', 'recovery', 'systems', 'rain', 'water', 'runoff', 'would', 'be', 'controlled', 'by', 'collection', 'into', 'a', 'sump', 'system']",
         "['rain', 'is', 'an', 'example', 'of', 'liquid', 'water']"
        ],
        [
         "14",
         "['in', 'this', 'last', 'example', 'it', 'is', 'even', 'loudness', 'or', 'sound', 'at', 'all', 'that', 'needs', 'to', 'be', 'made']",
         "['the', 'sound', 'in', 'a', 'loud', 'classroom', 'is', 'an', 'example', 'of', 'a', 'form', 'of', 'energy']"
        ],
        [
         "15",
         "['when', 'these', 'winds', 'are', 'strong', 'they', 'deflect', 'moister', 'air', 'moving', 'up', 'from', 'the', 'gulf', 'coast', 'and', 'cold', 'air', 'masses', 'moving', 'down', 'from', 'the', 'arctic']",
         "['the', 'best', 'explanation', 'for', 'how', 'air', 'masses', 'move', 'across', 'the', 'united', 'states', 'is', 'that', 'the', 'prevailing', 'westerlies', 'move', 'air', 'masses', 'from', 'west', 'to', 'east', 'across', 'the', 'united', 'states', 'but', 'may', 'be', 'deflected', 'by', 'the', 'jet', 'stream']"
        ],
        [
         "16",
         "['evaporation', 'the', 'process', 'that', 'changes', 'water', 'liquid', 'into', 'water', 'vapor', 'gas']",
         "['evaporation', 'is', 'responsible', 'for', 'changing', 'liquid', 'water', 'into', 'water', 'vapor']"
        ],
        [
         "17",
         "['a', 'long', 'day', 'plant', 'a', 'plant', 'that', 'flowers', 'in', 'the', 'early', 'summer', 'in', 'response', 'to', 'increasing', 'day', 'length', 'will', 'be', 'used', 'to', 'isolate', 'the', 'appropriate', 'promoters']",
         "['increase', 'in', 'length', 'happens', 'to', 'metal', 'railroad', 'tracks', 'during', 'the', 'heat', 'of', 'a', 'summer', 'day']"
        ],
        [
         "18",
         "['why', 'do', 'we', 'find', 'few', 'or', 'no', 'human', 'fossils', 'in', 'most', 'sedimentary', 'rock']",
         "['most', 'fossils', 'are', 'found', 'in', 'sedimentary', 'rocks', 'because', 'organisms', 'can', 'be', 'preserved', 'in', 'sedimentary', 'rock']"
        ],
        [
         "19",
         "['even', 'if', 'you', 'do', 'live', 'near', 'a', 'stream', 'or', 'river', 'though', 'most', 'people', 'do', 'there', 'are', 'many', 'little', 'things', 'you', 'can', 'do', 'to', 'help', 'prevent', 'too', 'much', 'water', 'and', 'soil', 'run', 'off', 'from', 'contaminating', 'streams', 'and', 'rivers', 'where', 'anadromous', 'fishes', 'live', 'keep', 'your', 'lawn', 'vegetated']",
         "['people', 'can', 'help', 'keep', 'a', 'forest', 'a', 'good', 'place', 'for', 'birds', 'to', 'live', 'by', 'preventing', 'too', 'many', 'trees', 'from', 'being', 'cut', 'down']"
        ],
        [
         "20",
         "['minerals', 'a', 'mineral', 'is', 'any', 'naturally', 'occurring', 'homogeneous', 'solid', 'that', 'has', 'a', 'definite', 'chemical', 'composition', 'and', 'a', 'distinctive', 'internal', 'crystal', 'structure']",
         "['a', 'mineral', 'is', 'described', 'as', 'a', 'solid', 'natural', 'material', 'with', 'a', 'crystal', 'structure']"
        ],
        [
         "21",
         "['selfish', 'cells', 'threaten', 'multicellular', 'life', 'trends', 'in', 'ecology', 'and', 'evolution', 'excerpt', 'how', 'far', 'have', 'conflicts', 'at', 'the', 'cell', 'and', 'organism', 'level', 'influenced', 'the', 'evolution', 'of', 'multicellularity']",
         "['single', 'celled', 'organisms', 'and', 'multicellular', 'organisms', 'have', 'this', 'in', 'common', 'both', 'have', 'a', 'way', 'to', 'get', 'rid', 'of', 'waste', 'materials']"
        ],
        [
         "22",
         "['frogs', 'replace', 'them', 'with', 'lungs', 'in', 'the', 'transition', 'from', 'tadpoles', 'to', 'adults']",
         "['a', 'frog', 'develops', 'a', 'an', 'lungs', 'as', 'it', 'changes', 'from', 'a', 'tadpole', 'to', 'an', 'adult', 'frog']"
        ],
        [
         "23",
         "['3', 'the', 'earth', 'is', 'far', 'enough', 'from', 'the', 'sun', 'so', 'that', 'its', 'surface', 'temperature', 'is', 'unbearably', 'hot']",
         "['the', 'surface', 'of', 'the', 'sun', 'is', 'much', 'hotter', 'than', 'almost', 'anything', 'on', 'earth']"
        ],
        [
         "24",
         "['solar', 'system', 'the', 'sun', 'and', 'all', 'bodies', 'orbiting', 'around', 'it']",
         "['the', 'largest', 'body', 'in', 'our', 'solar', 'system', 'is', 'the', 'sun']"
        ],
        [
         "25",
         "['the', 'sun', 'and', 'stars', 'appeared', 'exactly', 'as', 'they', 'do', 'to', 'us', 'upon', 'earth']",
         "['from', 'earth', 'the', 'sun', 'appears', 'brighter', 'than', 'any', 'other', 'star', 'because', 'the', 'sun', 'is', 'the', 'closest', 'star']"
        ],
        [
         "26",
         "['indeed', 'these', 'and', 'most', 'fungi', 'are', 'multicellular', 'organisms', 'made', 'up', 'of', 'cells', 'have', 'cell', 'walls', 'a', 'typical', 'plant', 'characteristic']",
         "['single', 'celled', 'organisms', 'and', 'multicellular', 'organisms', 'have', 'this', 'in', 'common', 'both', 'have', 'a', 'way', 'to', 'get', 'rid', 'of', 'waste', 'materials']"
        ],
        [
         "27",
         "['for', 'example', 'active', 'health', 'is', 'offered', 'in', 'every', 'grade', 'to', 'teach', 'students', 'to', 'monitor', 'their', 'own', 'healthy', 'habits', 'such', 'as', 'nutrition', 'substance', 'abuse', 'and', 'smoking']",
         "['exercising', 'every', 'day', 'is', 'an', 'example', 'of', 'a', 'good', 'health', 'habit']"
        ],
        [
         "28",
         "['identify', 'her', 'master', 'traits', 'and', 'provide', 'an', 'example', 'from', 'the', 'reading', 'for', 'each', 'trait']",
         "['being', 'able', 'to', 'read', 'is', 'an', 'example', 'of', 'a', 'learned', 'trait']"
        ],
        [
         "29",
         "['on', 'titan', 'rain', 'and', 'clouds', 'are', 'most', 'likely', 'made', 'up', 'of', 'liquid', 'methane', 'not', 'water']",
         "['rain', 'is', 'an', 'example', 'of', 'liquid', 'water']"
        ],
        [
         "30",
         "['csx', 'operates', 'a', 'north', 'south', 'length', 'of', 'railroad', 'track', 'that', 'connects', 'chrisman', 'and', 'paris']",
         "['increase', 'in', 'length', 'happens', 'to', 'metal', 'railroad', 'tracks', 'during', 'the', 'heat', 'of', 'a', 'summer', 'day']"
        ],
        [
         "31",
         "['slugs', 'believe', 'it', 'or', 'not', 'have', 'a', 'very', 'important', 'purpose', 'they', 'are', 'decomposers', 'which', 'means', 'they', 'eats', 'wastes', 'and', 'organic', 'materials', 'of', 'other', 'organisms', 'they', 'help', 'get', 'rid', 'of', 'the', 't', 'rash', 'that', 'animals', 'leave', 'behind']",
         "['single', 'celled', 'organisms', 'and', 'multicellular', 'organisms', 'have', 'this', 'in', 'common', 'both', 'have', 'a', 'way', 'to', 'get', 'rid', 'of', 'waste', 'materials']"
        ],
        [
         "32",
         "['i', 'different', 'forms', 'of', 'energy', 'include', 'heat', 'light', 'electrical', 'mechanical', 'sound', 'nuclear', 'and', 'chemical']",
         "['heat', 'light', 'and', 'sound', 'are', 'all', 'different', 'forms', 'of', 'energy']"
        ],
        [
         "33",
         "['your', 'eyes', 'of', 'blue', 'and', 'hair', 'that', 'straight', 'comes', 'through', 'heredity', 'inheriting', 'a', 'human', 'trait']",
         "['a', 'human', 'offspring', 'inherit', 'blue', 'eyes']"
        ],
        [
         "34",
         "['energy', 'heat', 'sound', 'are', 'forms', 'of', 'matter']",
         "['heat', 'light', 'and', 'sound', 'are', 'all', 'different', 'forms', 'of', 'energy']"
        ],
        [
         "35",
         "['what', 'good', 'are', 'cactus', 'spines']",
         "['the', 'spines', 'of', 'a', 'cactus', 'help', 'it', 'survive', 'because', 'spines', 'protect', 'the', 'cactus', 'from', 'animals']"
        ],
        [
         "36",
         "['the', 'energy', 'in', 'the', 'coal', 'came', 'from', 'the', 'sun', 'and', 'was', 'stored', 'in', 'the', 'plants']",
         "['coal', 'is', 'nonrenewable', 'and', 'the', 'sun', 'is', 'renewable', 'is', 'how', 'coal', 'and', 'the', 'sun', 'compare', 'as', 'sources', 'of', 'energy']"
        ],
        [
         "37",
         "['of', 'course', 'the', 'sun', 'is', 'the', 'closest', 'star', 'to', 'earth']",
         "['from', 'earth', 'the', 'sun', 'appears', 'brighter', 'than', 'any', 'other', 'star', 'because', 'the', 'sun', 'is', 'the', 'closest', 'star']"
        ],
        [
         "38",
         "['pumpkin', 'fruit', 'rollups', 'chop', 'pumpkin', 'and', 'cook', 'in', 'saucepan', 'until', 'soft']",
         "['a', 'pumpkin', 'is', 'a', 'fruit']"
        ],
        [
         "39",
         "['wait', 'for', 'a', 'series', 'of', 'blue', 'blocks', 'to', 'appear', 'and', 'fill', 'the', 'slot']",
         "['a', 'blue', 'block', 'appears', 'blue', 'in', 'the', 'sunlight', 'if', 'only', 'blue', 'light', 'is', 'reflected', 'by', 'the', 'block']"
        ],
        [
         "40",
         "['be', 'able', 'to', 'give', 'examples', 'of', 'the', 'marketing', 'applications', 'of', 'these', 'types', 'of', 'learning']",
         "['being', 'able', 'to', 'read', 'is', 'an', 'example', 'of', 'a', 'learned', 'trait']"
        ],
        [
         "41",
         "['as', 'to', 'inject', 'cold', 'water', 'into', 'a', 'condenser']",
         "['dew', 'forming', 'on', 'plants', 'during', 'a', 'cold', 'night', 'is', 'an', 'example', 'of', 'water', 'condensing']"
        ],
        [
         "42",
         "['the', 'cholla', 'with', 'its', 'long', 'spines', 'provides', 'a', 'well', 'protected', 'home', 'for', 'the', 'cactus', 'wren', 'and', 'its', 'young']",
         "['the', 'spines', 'of', 'a', 'cactus', 'help', 'it', 'survive', 'because', 'spines', 'protect', 'the', 'cactus', 'from', 'animals']"
        ],
        [
         "43",
         "['turbulent', 'flow', 'air', 'flow', 'rate', 'the', 'mass', 'volume', 'of', 'air', 'moved', 'per', 'unit', 'of', 'time', 'through', 'a', 'space', 'opening', 'or', 'duct']",
         "['the', 'best', 'explanation', 'for', 'how', 'air', 'masses', 'move', 'across', 'the', 'united', 'states', 'is', 'that', 'the', 'prevailing', 'westerlies', 'move', 'air', 'masses', 'from', 'west', 'to', 'east', 'across', 'the', 'united', 'states', 'but', 'may', 'be', 'deflected', 'by', 'the', 'jet', 'stream']"
        ],
        [
         "44",
         "['as', 'a', 'house', 'of', 'animals', 'there', 'are', 'many', 'trees', 'living', 'in', 'woods', 'and', 'their', 'flowers', 'nuts', 'and', 'fruits', 'support', 'the', 'life', 'of', 'small', 'animals', 'such', 'as', 'a', 'squirrel']",
         "['a', 'squirrel', 'storing', 'nuts', 'is', 'preparing', 'for', 'a', 'seasonal', 'change', 'in', 'the', 'environment']"
        ],
        [
         "45",
         "['we', 'may', 'for', 'example', 'respond', 'to', 'a', 'loud', 'noise', 'by', 'saying', 'that', 'sounded', 'like', 'a', 'gunshot']",
         "['the', 'sound', 'in', 'a', 'loud', 'classroom', 'is', 'an', 'example', 'of', 'a', 'form', 'of', 'energy']"
        ],
        [
         "46",
         "['now', 'the', 'carbon', 'atom', 'we', 'are', 'following', 'is', 'sent', 'out', 'inlo', 'the', 'air', 'as', 'a', 'part', 'of', 'a', 'carbon', 'dioxide', 'molecule', 'again']",
         "['air', 'is', 'made', 'of', 'atoms']"
        ],
        [
         "47",
         "['in', 'some', 'programs', 'genetic', 'counselors', 'use', 'dna', 'fingerprint', 'information', 'to', 'help', 'prospective', 'parents', 'understand', 'the', 'risk', 'of', 'having', 'an', 'affected', 'child']",
         "['children', 'resemble', 'their', 'parents', 'because', 'they', 'have', 'similar', 'dna']"
        ],
        [
         "48",
         "['genes', 'determine', 'all', 'inherited', 'traits', 'including', 'those', 'that', 'give', 'the', 'individual', 'specific', 'characteristics', 'blue', 'eyes', 'rather', 'than', 'brown', 'eyes', 'as', 'well', 'as', 'common', 'characteristics', 'two', 'eyes', 'two', 'arms', 'etc']",
         "['a', 'human', 'offspring', 'inherit', 'blue', 'eyes']"
        ],
        [
         "49",
         "['an', 'organism', 'eats', 'other', 'living', 'things', 'to', 'survive']",
         "['a', 'moose', 'eats', 'a', 'plant', 'is', 'an', 'example', 'of', 'a', 'living', 'thing', 'that', 'depends', 'on', 'another', 'living', 'thing', 'to', 'survive']"
        ]
       ],
       "shape": {
        "columns": 2,
        "rows": 23088
       }
      },
      "text/html": [
       "<div>\n",
       "<style scoped>\n",
       "    .dataframe tbody tr th:only-of-type {\n",
       "        vertical-align: middle;\n",
       "    }\n",
       "\n",
       "    .dataframe tbody tr th {\n",
       "        vertical-align: top;\n",
       "    }\n",
       "\n",
       "    .dataframe thead th {\n",
       "        text-align: right;\n",
       "    }\n",
       "</style>\n",
       "<table border=\"1\" class=\"dataframe\">\n",
       "  <thead>\n",
       "    <tr style=\"text-align: right;\">\n",
       "      <th></th>\n",
       "      <th>premise</th>\n",
       "      <th>hypothesis</th>\n",
       "    </tr>\n",
       "  </thead>\n",
       "  <tbody>\n",
       "    <tr>\n",
       "      <th>0</th>\n",
       "      <td>[pluto, rotates, once, on, its, axis, every, e...</td>\n",
       "      <td>[earth, rotates, on, its, axis, once, times, i...</td>\n",
       "    </tr>\n",
       "    <tr>\n",
       "      <th>1</th>\n",
       "      <td>[once, per, day, the, earth, rotates, about, i...</td>\n",
       "      <td>[earth, rotates, on, its, axis, once, times, i...</td>\n",
       "    </tr>\n",
       "    <tr>\n",
       "      <th>2</th>\n",
       "      <td>[geysers, periodic, gush, of, hot, water, at, ...</td>\n",
       "      <td>[the, surface, of, the, sun, is, much, hotter,...</td>\n",
       "    </tr>\n",
       "    <tr>\n",
       "      <th>3</th>\n",
       "      <td>[facts, liquid, water, droplets, can, be, chan...</td>\n",
       "      <td>[evaporation, is, responsible, for, changing, ...</td>\n",
       "    </tr>\n",
       "    <tr>\n",
       "      <th>4</th>\n",
       "      <td>[by, comparison, the, earth, rotates, on, its,...</td>\n",
       "      <td>[earth, rotates, on, its, axis, once, times, i...</td>\n",
       "    </tr>\n",
       "    <tr>\n",
       "      <th>...</th>\n",
       "      <td>...</td>\n",
       "      <td>...</td>\n",
       "    </tr>\n",
       "    <tr>\n",
       "      <th>23083</th>\n",
       "      <td>[which, is, not, only, the, motion, of, our, b...</td>\n",
       "      <td>[work, is, done, only, if, a, force, is, exert...</td>\n",
       "    </tr>\n",
       "    <tr>\n",
       "      <th>23084</th>\n",
       "      <td>[the, red, star, that, celestial, curse, whose...</td>\n",
       "      <td>[red, shift, refers, to, a, shift, toward, red...</td>\n",
       "    </tr>\n",
       "    <tr>\n",
       "      <th>23085</th>\n",
       "      <td>[the, lines, in, the, spectrum, of, a, luminou...</td>\n",
       "      <td>[red, shift, refers, to, a, shift, toward, red...</td>\n",
       "    </tr>\n",
       "    <tr>\n",
       "      <th>23086</th>\n",
       "      <td>[the, radial, velocity, of, a, star, away, fro...</td>\n",
       "      <td>[red, shift, refers, to, a, shift, toward, red...</td>\n",
       "    </tr>\n",
       "    <tr>\n",
       "      <th>23087</th>\n",
       "      <td>[this, expansion, causes, the, light, from, di...</td>\n",
       "      <td>[red, shift, refers, to, a, shift, toward, red...</td>\n",
       "    </tr>\n",
       "  </tbody>\n",
       "</table>\n",
       "<p>23088 rows × 2 columns</p>\n",
       "</div>"
      ],
      "text/plain": [
       "                                                 premise  \\\n",
       "0      [pluto, rotates, once, on, its, axis, every, e...   \n",
       "1      [once, per, day, the, earth, rotates, about, i...   \n",
       "2      [geysers, periodic, gush, of, hot, water, at, ...   \n",
       "3      [facts, liquid, water, droplets, can, be, chan...   \n",
       "4      [by, comparison, the, earth, rotates, on, its,...   \n",
       "...                                                  ...   \n",
       "23083  [which, is, not, only, the, motion, of, our, b...   \n",
       "23084  [the, red, star, that, celestial, curse, whose...   \n",
       "23085  [the, lines, in, the, spectrum, of, a, luminou...   \n",
       "23086  [the, radial, velocity, of, a, star, away, fro...   \n",
       "23087  [this, expansion, causes, the, light, from, di...   \n",
       "\n",
       "                                              hypothesis  \n",
       "0      [earth, rotates, on, its, axis, once, times, i...  \n",
       "1      [earth, rotates, on, its, axis, once, times, i...  \n",
       "2      [the, surface, of, the, sun, is, much, hotter,...  \n",
       "3      [evaporation, is, responsible, for, changing, ...  \n",
       "4      [earth, rotates, on, its, axis, once, times, i...  \n",
       "...                                                  ...  \n",
       "23083  [work, is, done, only, if, a, force, is, exert...  \n",
       "23084  [red, shift, refers, to, a, shift, toward, red...  \n",
       "23085  [red, shift, refers, to, a, shift, toward, red...  \n",
       "23086  [red, shift, refers, to, a, shift, toward, red...  \n",
       "23087  [red, shift, refers, to, a, shift, toward, red...  \n",
       "\n",
       "[23088 rows x 2 columns]"
      ]
     },
     "metadata": {},
     "output_type": "display_data"
    }
   ],
   "source": [
    "spacy.cli.download('en_core_web_sm')\n",
    "tokeniser = spacy.load('en_core_web_sm')\n",
    "premise_list = X_train['premise'].tolist()\n",
    "hypothesis_list = X_train['hypothesis'].tolist()\n",
    "\n",
    "prem_tokens_list = list(tokeniser.pipe(premise_list, batch_size=64))\n",
    "X_train.loc[:, \"premise\"] = [[token.text.lower() for token in tokens if re.match(r'^\\w+$', token.text)] for tokens in prem_tokens_list]\n",
    "\n",
    "hyp_tokens_list = list(tokeniser.pipe(hypothesis_list, batch_size=64))\n",
    "X_train.loc[:, \"hypothesis\"] = [[token.text.lower() for token in tokens if re.match(r'^\\w+$', token.text)] for tokens in hyp_tokens_list]\n",
    "\n",
    "display(X_train)"
   ]
  },
  {
   "cell_type": "markdown",
   "metadata": {
    "id": "td6uN2sPvAOM"
   },
   "source": [
    "#### 1.4.2. Vocabulary Construction"
   ]
  },
  {
   "cell_type": "code",
   "execution_count": 52,
   "metadata": {
    "colab": {
     "base_uri": "https://localhost:8080/"
    },
    "id": "9b52cccd",
    "outputId": "0fcd3a87-6873-4463-e5b8-3ebd2da1513d"
   },
   "outputs": [
    {
     "name": "stdout",
     "output_type": "stream",
     "text": [
      "Vocabulary size: 20127\n"
     ]
    }
   ],
   "source": [
    "vocab_set = set([])\n",
    "for tokens in X_train['premise']:\n",
    "    for token in tokens:\n",
    "        vocab_set.add(token)\n",
    "for tokens in X_train['hypothesis']:\n",
    "    for token in tokens:\n",
    "        vocab_set.add(token)\n",
    "\n",
    "# Convert the set to a list\n",
    "vocab = ['[PAD]', '[OOV]']\n",
    "vocab.extend(list(vocab_set))\n",
    "\n",
    "wordindexes = {word: i for i, word in enumerate(vocab)}\n",
    "\n",
    "print(f\"Vocabulary size: {len(vocab)}\")"
   ]
  },
  {
   "cell_type": "markdown",
   "metadata": {
    "id": "FhqX6JwcvDEJ"
   },
   "source": [
    "#### 1.4.3 Embedding Table Creation\n",
    "We load the GloVe embeddings, and then for each word in the training set vocabulary, we add the embedding to our lookup table. If a word in the vocabulary does not exist in the GloVe embeddings, it is embedded as zeros."
   ]
  },
  {
   "cell_type": "code",
   "execution_count": 53,
   "metadata": {
    "colab": {
     "base_uri": "https://localhost:8080/"
    },
    "id": "oe6VxxHYnEji",
    "outputId": "11c856b7-4010-44b5-efe6-fbd077015de0"
   },
   "outputs": [
    {
     "data": {
      "text/plain": [
       "(20127, 100)"
      ]
     },
     "execution_count": 53,
     "metadata": {},
     "output_type": "execute_result"
    }
   ],
   "source": [
    "glove_embeddings = api.load(\"glove-twitter-100\")\n",
    "\n",
    "emb_dim = glove_embeddings.vector_size\n",
    "emb_table = []\n",
    "for i, word in enumerate(vocab):\n",
    "    if word in glove_embeddings:\n",
    "        emb_table.append(glove_embeddings[word])\n",
    "    else:\n",
    "        emb_table.append(np.zeros(emb_dim))\n",
    "\n",
    "emb_table = np.array(emb_table)\n",
    "emb_table.shape"
   ]
  },
  {
   "cell_type": "markdown",
   "metadata": {
    "id": "3tMv8q2DvZtg"
   },
   "source": [
    "Later, we can now create an Embedding object that can be used to lookup the embeddings for any given word. This saves us from having to load the entire vocabulary embeddings at once during training."
   ]
  },
  {
   "cell_type": "markdown",
   "metadata": {
    "id": "iqX7nBkMsl1W"
   },
   "source": [
    "### 1.5. Data visualisation\n",
    "We will visualise the data to observe any patterns that we should be aware of before preprocessing and training.\n",
    "\n",
    "First, lets observe the class balance for the train/val/test sets."
   ]
  },
  {
   "cell_type": "code",
   "execution_count": 56,
   "metadata": {
    "colab": {
     "base_uri": "https://localhost:8080/"
    },
    "id": "_wPwxy8ss0nx",
    "outputId": "7e20e682-93d8-4945-8bd7-628668189561"
   },
   "outputs": [
    {
     "name": "stdout",
     "output_type": "stream",
     "text": [
      "Training set distribution:\n",
      "Neutral = 0.63\n",
      "Entails = 0.37\n",
      "Validation set distribution:\n",
      "Neutral = 0.5\n",
      "Entails = 0.5\n",
      "Testing set distribution:\n",
      "Neutral = 0.6\n",
      "Entails = 0.4\n",
      "\n"
     ]
    }
   ],
   "source": [
    "print(\n",
    "    \"Training set distribution:\\n\"\n",
    "    f\"Neutral = {round(y_train[y_train == 'neutral'].shape[0] / y_train.shape[0],2)}\\n\"\n",
    "    f\"Entails = {round(y_train[y_train == 'entails'].shape[0] / y_train.shape[0],2)}\\n\"\n",
    "    \"Validation set distribution:\\n\"\n",
    "    f\"Neutral = {round(y_val[y_val == 'neutral'].shape[0] / y_val.shape[0],2)}\\n\"\n",
    "    f\"Entails = {round(y_val[y_val == 'entails'].shape[0] / y_val.shape[0],2)}\\n\"\n",
    "    \"Testing set distribution:\\n\"\n",
    "    f\"Neutral = {round(y_test[y_test == 'neutral'].shape[0] / y_test.shape[0],2)}\\n\"\n",
    "    f\"Entails = {round(y_test[y_test == 'entails'].shape[0] / y_test.shape[0],2)}\\n\"\n",
    ")"
   ]
  },
  {
   "cell_type": "markdown",
   "metadata": {
    "id": "7TUpK2UBtGXa"
   },
   "source": [
    "The training set is strongly skewed towards neutral samples - this will have an impact on training.\n",
    "\n",
    "Now, we will observe the distribution of the token lengths of the premises and hypotheses of the train and validation sets."
   ]
  },
  {
   "cell_type": "code",
   "execution_count": 55,
   "metadata": {
    "colab": {
     "base_uri": "https://localhost:8080/",
     "height": 607
    },
    "id": "6hgkN3eDs4RY",
    "outputId": "6d72f375-da0f-4298-b12e-d860280a32aa"
   },
   "outputs": [
    {
     "data": {
      "image/png": "[encoded data removed]",
      "text/plain": [
       "<Figure size 1800x600 with 3 Axes>"
      ]
     },
     "metadata": {},
     "output_type": "display_data"
    }
   ],
   "source": [
    "train_prem_lengths = [len(premise) for premise in X_train['premise']]\n",
    "train_hyp_lengths = [len(hypothesis) for hypothesis in X_train['hypothesis']]\n",
    "\n",
    "val_prem_lengths = [len(premise) for premise in X_val['premise']]\n",
    "val_hyp_lengths = [len(hypothesis) for hypothesis in X_val['hypothesis']]\n",
    "\n",
    "test_prem_lengths = [len(premise) for premise in X_test['premise']]\n",
    "test_hyp_lengths = [len(hypothesis) for hypothesis in X_test['hypothesis']]\n",
    "\n",
    "fig, axs = plt.subplots(1, 3, figsize=(18, 6))\n",
    "\n",
    "# Train set\n",
    "axs[0].hist(train_prem_lengths, bins=20, alpha=0.6, label='Premise')\n",
    "axs[0].hist(train_hyp_lengths, bins=20, alpha=0.6, label='Hypothesis')\n",
    "axs[0].set_title(\"Train Set Length Distribution\")\n",
    "axs[0].set_xlabel(\"Number of Tokens\")\n",
    "axs[0].set_ylabel(\"Frequency\")\n",
    "axs[0].legend()\n",
    "\n",
    "# Validation set\n",
    "axs[1].hist(val_prem_lengths, bins=20, alpha=0.6, label='Premise')\n",
    "axs[1].hist(val_hyp_lengths, bins=20, alpha=0.6, label='Hypothesis')\n",
    "axs[1].set_title(\"Validation Set Length Distribution\")\n",
    "axs[1].set_xlabel(\"Number of Tokens\")\n",
    "axs[1].set_ylabel(\"Frequency\")\n",
    "axs[1].legend()\n",
    "\n",
    "axs[2].hist(test_prem_lengths, bins=20, alpha=0.6, label='Premise')\n",
    "axs[2].hist(test_hyp_lengths, bins=20, alpha=0.6, label='Hypothesis')\n",
    "axs[2].set_title(\"Test Set Length Distribution\")\n",
    "axs[2].set_xlabel(\"Number of Tokens\")\n",
    "axs[2].set_ylabel(\"Frequency\")\n",
    "axs[2].legend()\n",
    "\n",
    "plt.tight_layout()\n",
    "plt.show()"
   ]
  },
  {
   "cell_type": "markdown",
   "metadata": {
    "id": "7sipBzYBu6qq"
   },
   "source": [
    "This indicates there are some outliers in the train set. To remove outliers (both small and large outliers), we removed the smallest and largest 2.5% of premises from the training set."
   ]
  },
  {
   "cell_type": "code",
   "execution_count": 57,
   "metadata": {},
   "outputs": [],
   "source": [
    "lower_prem, upper_prem = np.percentile(train_prem_lengths, [2.5, 97.5])\n",
    "keep_indices = [i for i, pl in enumerate(train_prem_lengths) if lower_prem <= pl <= upper_prem]\n",
    "X_train = X_train.iloc[keep_indices].reset_index(drop=True)\n",
    "y_train = y_train.iloc[keep_indices].reset_index(drop=True)"
   ]
  },
  {
   "cell_type": "markdown",
   "metadata": {
    "id": "pMwxCmJOvTVP"
   },
   "source": [
    "Removing these outliers from the training set, we get a nicer looking plot:"
   ]
  },
  {
   "cell_type": "code",
   "execution_count": 58,
   "metadata": {
    "colab": {
     "base_uri": "https://localhost:8080/",
     "height": 607
    },
    "id": "96e4bb67",
    "outputId": "a304610f-6ad3-4bcb-ccca-c5b6f51bd745"
   },
   "outputs": [
    {
     "data": {
      "image/png": "[encoded data removed]",
      "text/plain": [
       "<Figure size 1800x600 with 3 Axes>"
      ]
     },
     "metadata": {},
     "output_type": "display_data"
    }
   ],
   "source": [
    "train_prem_lengths = [len(premise) for premise in X_train['premise']]\n",
    "train_hyp_lengths = [len(hypothesis) for hypothesis in X_train['hypothesis']]\n",
    "\n",
    "fig, axs = plt.subplots(1, 3, figsize=(18, 6))\n",
    "\n",
    "# Train set\n",
    "axs[0].hist(train_prem_lengths, bins=20, alpha=0.6, label='Premise')\n",
    "axs[0].hist(train_hyp_lengths, bins=20, alpha=0.6, label='Hypothesis')\n",
    "axs[0].set_title(\"Train Set Length Distribution\")\n",
    "axs[0].set_xlabel(\"Number of Tokens\")\n",
    "axs[0].set_ylabel(\"Frequency\")\n",
    "axs[0].legend()\n",
    "\n",
    "# Validation set\n",
    "axs[1].hist(val_prem_lengths, bins=20, alpha=0.6, label='Premise')\n",
    "axs[1].hist(val_hyp_lengths, bins=20, alpha=0.6, label='Hypothesis')\n",
    "axs[1].set_title(\"Validation Set Length Distribution\")\n",
    "axs[1].set_xlabel(\"Number of Tokens\")\n",
    "axs[1].set_ylabel(\"Frequency\")\n",
    "axs[1].legend()\n",
    "\n",
    "axs[2].hist(test_prem_lengths, bins=20, alpha=0.6, label='Premise')\n",
    "axs[2].hist(test_hyp_lengths, bins=20, alpha=0.6, label='Hypothesis')\n",
    "axs[2].set_title(\"Test Set Length Distribution\")\n",
    "axs[2].set_xlabel(\"Number of Tokens\")\n",
    "axs[2].set_ylabel(\"Frequency\")\n",
    "axs[2].legend()\n",
    "\n",
    "plt.tight_layout()\n",
    "plt.show()"
   ]
  },
  {
   "cell_type": "markdown",
   "metadata": {
    "id": "0_-C0EzMvm42"
   },
   "source": [
    "### 1.6. Dataset Formation\n",
    "Now we create the training dataset. The tokenised premise and hypothesis sentences are encoded to be the index that corresponds to the word embedding in the embeddings table. Each sentence is then padded to be the same length as the longest respective premise or hypothesis."
   ]
  },
  {
   "cell_type": "code",
   "execution_count": 59,
   "metadata": {
    "id": "HJENY7r0pLT5"
   },
   "outputs": [],
   "source": [
    "def encode_sentences(sentences):\n",
    "    encoded_sentences = []\n",
    "    for sentence in sentences:\n",
    "        encoded_sentences.append([wordindexes[word] if word in wordindexes else wordindexes['[OOV]'] for word in sentence])\n",
    "    return encoded_sentences\n",
    "\n",
    "def pad_sequences(sequences, max_length):\n",
    "    padded_sequences = []\n",
    "    for seq in sequences:\n",
    "        if len(seq) < max_length:\n",
    "            padded_seq = seq + [wordindexes['[PAD]']] * (max_length - len(seq))\n",
    "        else:\n",
    "            padded_seq = seq[:max_length]\n",
    "        padded_sequences.append(padded_seq)\n",
    "    return padded_sequences\n",
    "\n",
    "max_prem = max(len(sentence) for sentence in X_train['premise'])\n",
    "max_hyp = max(len(sentence) for sentence in X_train['hypothesis'])\n",
    "encoded_prem_train = pad_sequences(encode_sentences(X_train['premise']), max_prem)\n",
    "encoded_hyp_train = pad_sequences(encode_sentences(X_train['hypothesis']), max_hyp)\n",
    "\n",
    "encoded_prem_val = pad_sequences(encode_sentences(X_val['premise']), max_prem)\n",
    "encoded_hyp_val = pad_sequences(encode_sentences(X_val['hypothesis']), max_hyp)"
   ]
  },
  {
   "cell_type": "markdown",
   "metadata": {
    "id": "8vE8QIkEwAab"
   },
   "source": [
    "The labels are now converted to 0 for neutral, and 1 for entails."
   ]
  },
  {
   "cell_type": "code",
   "execution_count": 60,
   "metadata": {
    "id": "BlpRvN-uwGp6"
   },
   "outputs": [],
   "source": [
    "y_train = y_train.map({'neutral': 0, 'entails': 1})\n",
    "y_val = y_val.map({'neutral': 0, 'entails': 1})\n",
    "y_test = y_test.map({'neutral': 0, 'entails': 1})"
   ]
  },
  {
   "cell_type": "markdown",
   "metadata": {
    "id": "6m0-kbudcfoN"
   },
   "source": [
    "Now we can create the dataset and data loaders for the train and validation set. To reduce the impact of the class imbalance in the train set, the number of neutral samples is reduced to the number of entails samples."
   ]
  },
  {
   "cell_type": "code",
   "execution_count": 61,
   "metadata": {
    "id": "rSSAM1oKXBSJ"
   },
   "outputs": [],
   "source": [
    "batch_size = 64\n",
    "\n",
    "train_data = torch.utils.data.TensorDataset(torch.tensor(encoded_prem_train), torch.tensor(encoded_hyp_train), torch.tensor(y_train.values))\n",
    "train_loader = torch.utils.data.DataLoader(train_data, batch_size=batch_size)\n",
    "\n",
    "val_data = torch.utils.data.TensorDataset(torch.tensor(encoded_prem_val), torch.tensor(encoded_hyp_val), torch.tensor(y_val.values))\n",
    "val_loader = torch.utils.data.DataLoader(val_data, batch_size=batch_size)"
   ]
  },
  {
   "cell_type": "code",
   "execution_count": 62,
   "metadata": {},
   "outputs": [
    {
     "name": "stdout",
     "output_type": "stream",
     "text": [
      "Class counts: tensor([13914,  8284])\n",
      "Class weights: tensor([0.7464, 1.2536])\n"
     ]
    }
   ],
   "source": [
    "class_counts = torch.bincount(torch.tensor(y_train.values))\n",
    "class_weights = 1.0 / class_counts.float()\n",
    "class_weights = class_weights / class_weights.sum() * len(class_weights)\n",
    "\n",
    "print(f\"Class counts: {class_counts}\")\n",
    "print(f\"Class weights: {class_weights}\")"
   ]
  },
  {
   "cell_type": "markdown",
   "metadata": {},
   "source": [
    "### 1.7 Test Dataset\n",
    "Finally, we create the test dataset in a similar way the training and validation sets are created."
   ]
  },
  {
   "cell_type": "code",
   "execution_count": 63,
   "metadata": {},
   "outputs": [],
   "source": [
    "max_prem = max(len(sentence) for sentence in X_test['premise'])\n",
    "max_hyp = max(len(sentence) for sentence in X_test['hypothesis'])\n",
    "encoded_prem_test = pad_sequences(encode_sentences(X_test['premise']), max_prem)\n",
    "encoded_hyp_test = pad_sequences(encode_sentences(X_test['hypothesis']), max_hyp)\n",
    "\n",
    "test_dataset = torch.utils.data.TensorDataset(torch.tensor(encoded_prem_test), torch.tensor(encoded_hyp_test), torch.tensor(y_test.values))\n",
    "test_loader = torch.utils.data.DataLoader(test_dataset, batch_size=batch_size)"
   ]
  },
  {
   "cell_type": "markdown",
   "metadata": {},
   "source": [
    "## 2. GRU Model\n",
    "To test the model, I have created a sample Bidirectional GRU model.\n",
    "\n",
    "### 2.1. Training the Model\n",
    "This first model is a Bidirectional GRU"
   ]
  },
  {
   "cell_type": "code",
   "execution_count": 76,
   "metadata": {},
   "outputs": [],
   "source": [
    "class BiGRU(torch.nn.Module):\n",
    "    def __init__(self, embedding_dim, individual_dim=64, combined_dim=128, linear_dim=64, num_layers=4, dropout=0.4):\n",
    "        super(BiGRU, self).__init__()\n",
    "        self.embeddings = torch.nn.Embedding(len(vocab), embedding_dim, padding_idx=wordindexes['[PAD]'])\n",
    "        self.embeddings.weight.data.copy_(torch.from_numpy(emb_table))\n",
    "        self.embeddings.weight.requires_grad = False\n",
    "\n",
    "        self.norm = torch.nn.LayerNorm(embedding_dim)\n",
    "        self.merged_norm = torch.nn.LayerNorm(combined_dim * 2)\n",
    "\n",
    "        self.prem_gru = torch.nn.GRU(embedding_dim, individual_dim, num_layers, batch_first=True, bidirectional=True)\n",
    "        self.hyp_gru = torch.nn.GRU(embedding_dim, individual_dim, num_layers, batch_first=True, bidirectional=True)\n",
    "\n",
    "        self.combined_gru = torch.nn.GRU(individual_dim * 2, combined_dim, num_layers, batch_first=True, bidirectional=True)\n",
    "        \n",
    "        self.mlp = torch.nn.Sequential(\n",
    "            torch.nn.Dropout(dropout),\n",
    "            torch.nn.Linear(combined_dim * 2, linear_dim),\n",
    "            torch.nn.ReLU(),\n",
    "            torch.nn.Dropout(dropout),\n",
    "            torch.nn.Linear(linear_dim, 2),\n",
    "        )\n",
    "\n",
    "    def forward(self, prem, hyp):\n",
    "        prem = self.embeddings(prem)\n",
    "        hyp = self.embeddings(hyp)\n",
    "\n",
    "        prem = self.norm(prem) \n",
    "        hyp = self.norm(hyp)\n",
    "\n",
    "        prem_out, _ = self.prem_gru(prem)\n",
    "        hyp_out, _ = self.hyp_gru(hyp)\n",
    "\n",
    "        merged_out = torch.cat((prem_out, hyp_out), dim=1)\n",
    "        merged_out, _ = self.combined_gru(merged_out)\n",
    "        merged_out = torch.mean(merged_out, dim=1)\n",
    "        merged_out = self.merged_norm(merged_out)\n",
    "\n",
    "        logits = self.mlp(merged_out)\n",
    "        return logits"
   ]
  },
  {
   "cell_type": "markdown",
   "metadata": {},
   "source": [
    "Training function:"
   ]
  },
  {
   "cell_type": "code",
   "execution_count": 69,
   "metadata": {},
   "outputs": [],
   "source": [
    "def train_model(model, optimiser, epochs, criterion, train_loader, val_loader, device):\n",
    "\n",
    "    for epoch in range(epochs):\n",
    "        model.train()\n",
    "\n",
    "        train_loss = 0\n",
    "        start_time = time.time()\n",
    "\n",
    "        for i, batch in enumerate(train_loader):\n",
    "            if i % 100 == 0:\n",
    "                sys.stdout.write(f\"\\rEpoch: ({(epoch + 1):02} / {epochs:02}) | Batch: ({i} / {len(train_loader)}) | Loss: {train_loss / (i+1)}\")\n",
    "                sys.stdout.flush()\n",
    "\n",
    "            premises = batch[0].to(device)\n",
    "            hypotheses = batch[1].to(device)\n",
    "            labels = batch[2].to(device).long()\n",
    "\n",
    "            optimiser.zero_grad()\n",
    "            outputs = model(premises, hypotheses)\n",
    "\n",
    "            loss = criterion(outputs, labels)\n",
    "            train_loss += loss.item()\n",
    "            loss.backward()\n",
    "            optimiser.step()\n",
    "\n",
    "\n",
    "        model.eval()\n",
    "        with torch.no_grad():\n",
    "            val_loss = 0\n",
    "            correct = 0\n",
    "\n",
    "            for batch in val_loader:\n",
    "                premises = batch[0].to(device)\n",
    "                hypotheses = batch[1].to(device)\n",
    "                labels = batch[2].to(device).long()\n",
    "                outputs = model(premises, hypotheses)\n",
    "                loss = criterion(outputs, labels)\n",
    "                val_loss += loss.item()\n",
    "\n",
    "                preds = torch.argmax(outputs, dim=1)\n",
    "                correct += (preds == labels).sum().item()\n",
    "\n",
    "            val_loss = val_loss / len(val_loader)\n",
    "            val_acc = correct / len(val_loader.dataset)\n",
    "\n",
    "        epoch_time = (time.time() - start_time)\n",
    "        epoch_min = int(epoch_time // 60)\n",
    "        epoch_sec = int(epoch_time % 60)\n",
    "        train_loss = train_loss / len(train_loader)\n",
    "        sys.stdout.write(f\"\\rEpoch: ({(epoch + 1):02} / {epochs:02}) | Time: {epoch_min:02d}:{epoch_sec:02d} | Train Loss: {train_loss:.4f} | Val Loss: {val_loss:.4f} | Val Accuracy: {val_acc:.2f}\\n\")\n",
    "    \n",
    "    # Return final validation loss\n",
    "    return val_loss"
   ]
  },
  {
   "cell_type": "markdown",
   "metadata": {},
   "source": [
    "Now we can perform hyperparameter optimisation to find the parameters that achieve the highest performance:"
   ]
  },
  {
   "cell_type": "code",
   "execution_count": 77,
   "metadata": {},
   "outputs": [
    {
     "name": "stdout",
     "output_type": "stream",
     "text": [
      "Testing (0/36): (64, 64, 64, 3, 0.4)\n",
      "Epoch: (01 / 05) | Time: 00:03 | Train Loss: 0.7061 | Val Loss: 0.6740 | Val Accuracy: 0.51\n",
      "Epoch: (02 / 05) | Time: 00:02 | Train Loss: 0.6961 | Val Loss: 0.6744 | Val Accuracy: 0.51\n",
      "Epoch: (03 / 05) | Time: 00:02 | Train Loss: 0.6915 | Val Loss: 0.6761 | Val Accuracy: 0.51\n",
      "Epoch: (04 / 05) | Time: 00:02 | Train Loss: 0.6879 | Val Loss: 0.6747 | Val Accuracy: 0.51\n",
      "Epoch: (05 / 05) | Time: 00:03 | Train Loss: 0.6844 | Val Loss: 0.6732 | Val Accuracy: 0.51\n",
      "Best Hyperparameters: [(64, 64, 64, 3, 0.4)] | Loss: 0.6732269866125924\n",
      "Testing (1/36): (64, 64, 64, 4, 0.4)\n",
      "Epoch: (01 / 05) | Time: 00:03 | Train Loss: 0.7079 | Val Loss: 0.6946 | Val Accuracy: 0.48\n",
      "Epoch: (02 / 05) | Time: 00:03 | Train Loss: 0.7003 | Val Loss: 0.6883 | Val Accuracy: 0.51\n",
      "Epoch: (03 / 05) | Time: 00:03 | Train Loss: 0.6942 | Val Loss: 0.6868 | Val Accuracy: 0.51\n",
      "Epoch: (04 / 05) | Time: 00:03 | Train Loss: 0.6892 | Val Loss: 0.6832 | Val Accuracy: 0.51\n",
      "Epoch: (05 / 05) | Time: 00:03 | Train Loss: 0.6867 | Val Loss: 0.6781 | Val Accuracy: 0.51\n",
      "Testing (2/36): (64, 64, 64, 5, 0.4)\n",
      "Epoch: (01 / 05) | Time: 00:04 | Train Loss: 0.7086 | Val Loss: 0.7004 | Val Accuracy: 0.50\n",
      "Epoch: (02 / 05) | Time: 00:04 | Train Loss: 0.7002 | Val Loss: 0.6905 | Val Accuracy: 0.51\n",
      "Epoch: (03 / 05) | Time: 00:04 | Train Loss: 0.6941 | Val Loss: 0.6860 | Val Accuracy: 0.51\n",
      "Epoch: (04 / 05) | Time: 00:04 | Train Loss: 0.6938 | Val Loss: 0.6821 | Val Accuracy: 0.51\n",
      "Epoch: (05 / 05) | Time: 00:04 | Train Loss: 0.6896 | Val Loss: 0.6768 | Val Accuracy: 0.51\n",
      "Testing (3/36): (64, 64, 128, 3, 0.4)\n",
      "Epoch: (01 / 05) | Time: 00:02 | Train Loss: 0.7144 | Val Loss: 0.6860 | Val Accuracy: 0.51\n",
      "Epoch: (02 / 05) | Time: 00:02 | Train Loss: 0.7029 | Val Loss: 0.6864 | Val Accuracy: 0.51\n",
      "Epoch: (03 / 05) | Time: 00:02 | Train Loss: 0.6945 | Val Loss: 0.6848 | Val Accuracy: 0.51\n",
      "Epoch: (04 / 05) | Time: 00:03 | Train Loss: 0.6925 | Val Loss: 0.6789 | Val Accuracy: 0.51\n",
      "Epoch: (05 / 05) | Time: 00:03 | Train Loss: 0.6868 | Val Loss: 0.6731 | Val Accuracy: 0.51\n",
      "Best Hyperparameters: [(64, 64, 128, 3, 0.4)] | Loss: 0.6731152789933341\n",
      "Testing (4/36): (64, 64, 128, 4, 0.4)\n",
      "Epoch: (01 / 05) | Time: 00:03 | Train Loss: 0.7150 | Val Loss: 0.7009 | Val Accuracy: 0.50\n",
      "Epoch: (02 / 05) | Time: 00:03 | Train Loss: 0.7038 | Val Loss: 0.6913 | Val Accuracy: 0.49\n",
      "Epoch: (03 / 05) | Time: 00:03 | Train Loss: 0.6986 | Val Loss: 0.6831 | Val Accuracy: 0.51\n",
      "Epoch: (04 / 05) | Time: 00:03 | Train Loss: 0.6936 | Val Loss: 0.6795 | Val Accuracy: 0.51\n",
      "Epoch: (05 / 05) | Time: 00:03 | Train Loss: 0.6892 | Val Loss: 0.6767 | Val Accuracy: 0.51\n",
      "Testing (5/36): (64, 64, 128, 5, 0.4)\n",
      "Epoch: (01 / 05) | Time: 00:04 | Train Loss: 0.7106 | Val Loss: 0.7075 | Val Accuracy: 0.50\n",
      "Epoch: (02 / 05) | Time: 00:03 | Train Loss: 0.6997 | Val Loss: 0.7019 | Val Accuracy: 0.50\n",
      "Epoch: (03 / 05) | Time: 00:03 | Train Loss: 0.6953 | Val Loss: 0.6903 | Val Accuracy: 0.50\n",
      "Epoch: (04 / 05) | Time: 00:04 | Train Loss: 0.6905 | Val Loss: 0.6867 | Val Accuracy: 0.51\n",
      "Epoch: (05 / 05) | Time: 00:04 | Train Loss: 0.6868 | Val Loss: 0.6807 | Val Accuracy: 0.51\n",
      "Testing (6/36): (64, 64, 256, 3, 0.4)\n",
      "Epoch: (01 / 05) | Time: 00:02 | Train Loss: 0.7078 | Val Loss: 0.6831 | Val Accuracy: 0.51\n",
      "Epoch: (02 / 05) | Time: 00:02 | Train Loss: 0.7045 | Val Loss: 0.6756 | Val Accuracy: 0.51\n",
      "Epoch: (03 / 05) | Time: 00:02 | Train Loss: 0.6949 | Val Loss: 0.6700 | Val Accuracy: 0.51\n",
      "Epoch: (04 / 05) | Time: 00:02 | Train Loss: 0.6905 | Val Loss: 0.6657 | Val Accuracy: 0.51\n",
      "Epoch: (05 / 05) | Time: 00:02 | Train Loss: 0.6857 | Val Loss: 0.6642 | Val Accuracy: 0.51\n",
      "Best Hyperparameters: [(64, 64, 256, 3, 0.4)] | Loss: 0.6642284648759025\n",
      "Testing (7/36): (64, 64, 256, 4, 0.4)\n",
      "Epoch: (01 / 05) | Time: 00:03 | Train Loss: 0.7062 | Val Loss: 0.6841 | Val Accuracy: 0.51\n",
      "Epoch: (02 / 05) | Time: 00:03 | Train Loss: 0.6986 | Val Loss: 0.6735 | Val Accuracy: 0.51\n",
      "Epoch: (03 / 05) | Time: 00:03 | Train Loss: 0.6944 | Val Loss: 0.6679 | Val Accuracy: 0.51\n",
      "Epoch: (04 / 05) | Time: 00:03 | Train Loss: 0.6913 | Val Loss: 0.6641 | Val Accuracy: 0.51\n",
      "Epoch: (05 / 05) | Time: 00:03 | Train Loss: 0.6862 | Val Loss: 0.6622 | Val Accuracy: 0.51\n",
      "Best Hyperparameters: [(64, 64, 256, 4, 0.4)] | Loss: 0.662240017028082\n",
      "Testing (8/36): (64, 64, 256, 5, 0.4)\n",
      "Epoch: (01 / 05) | Time: 00:04 | Train Loss: 0.7118 | Val Loss: 0.6932 | Val Accuracy: 0.51\n",
      "Epoch: (02 / 05) | Time: 00:03 | Train Loss: 0.7032 | Val Loss: 0.6778 | Val Accuracy: 0.51\n",
      "Epoch: (03 / 05) | Time: 00:04 | Train Loss: 0.6993 | Val Loss: 0.6713 | Val Accuracy: 0.51\n",
      "Epoch: (04 / 05) | Time: 00:04 | Train Loss: 0.6934 | Val Loss: 0.6663 | Val Accuracy: 0.51\n",
      "Epoch: (05 / 05) | Time: 00:04 | Train Loss: 0.6897 | Val Loss: 0.6646 | Val Accuracy: 0.51\n",
      "Testing (9/36): (64, 128, 64, 3, 0.4)\n",
      "Epoch: (01 / 05) | Time: 00:03 | Train Loss: 0.7062 | Val Loss: 0.7029 | Val Accuracy: 0.50\n",
      "Epoch: (02 / 05) | Time: 00:03 | Train Loss: 0.6951 | Val Loss: 0.6882 | Val Accuracy: 0.51\n",
      "Epoch: (03 / 05) | Time: 00:03 | Train Loss: 0.6904 | Val Loss: 0.6964 | Val Accuracy: 0.47\n",
      "Epoch: (04 / 05) | Time: 00:03 | Train Loss: 0.6871 | Val Loss: 0.6924 | Val Accuracy: 0.48\n",
      "Epoch: (05 / 05) | Time: 00:03 | Train Loss: 0.6813 | Val Loss: 0.6822 | Val Accuracy: 0.51\n",
      "Testing (10/36): (64, 128, 64, 4, 0.4)\n",
      "Epoch: (01 / 05) | Time: 00:03 | Train Loss: 0.6975 | Val Loss: 0.6896 | Val Accuracy: 0.51\n",
      "Epoch: (02 / 05) | Time: 00:03 | Train Loss: 0.6931 | Val Loss: 0.6861 | Val Accuracy: 0.51\n",
      "Epoch: (03 / 05) | Time: 00:03 | Train Loss: 0.6896 | Val Loss: 0.6846 | Val Accuracy: 0.51\n",
      "Epoch: (04 / 05) | Time: 00:03 | Train Loss: 0.6837 | Val Loss: 0.6746 | Val Accuracy: 0.51\n",
      "Epoch: (05 / 05) | Time: 00:03 | Train Loss: 0.6760 | Val Loss: 0.6681 | Val Accuracy: 0.51\n",
      "Testing (11/36): (64, 128, 64, 5, 0.4)\n",
      "Epoch: (01 / 05) | Time: 00:04 | Train Loss: 0.6985 | Val Loss: 0.6888 | Val Accuracy: 0.51\n",
      "Epoch: (02 / 05) | Time: 00:04 | Train Loss: 0.6912 | Val Loss: 0.6821 | Val Accuracy: 0.51\n",
      "Epoch: (03 / 05) | Time: 00:04 | Train Loss: 0.6886 | Val Loss: 0.6711 | Val Accuracy: 0.51\n",
      "Epoch: (04 / 05) | Time: 00:04 | Train Loss: 0.6839 | Val Loss: 0.6661 | Val Accuracy: 0.51\n",
      "Epoch: (05 / 05) | Time: 00:04 | Train Loss: 0.6784 | Val Loss: 0.6626 | Val Accuracy: 0.51\n",
      "Testing (12/36): (64, 128, 128, 3, 0.4)\n",
      "Epoch: (01 / 05) | Time: 00:03 | Train Loss: 0.7005 | Val Loss: 0.7213 | Val Accuracy: 0.50\n",
      "Epoch: (02 / 05) | Time: 00:03 | Train Loss: 0.6916 | Val Loss: 0.7059 | Val Accuracy: 0.49\n",
      "Epoch: (03 / 05) | Time: 00:03 | Train Loss: 0.6893 | Val Loss: 0.7005 | Val Accuracy: 0.48\n",
      "Epoch: (04 / 05) | Time: 00:03 | Train Loss: 0.6863 | Val Loss: 0.6865 | Val Accuracy: 0.51\n",
      "Epoch: (05 / 05) | Time: 00:03 | Train Loss: 0.6828 | Val Loss: 0.6792 | Val Accuracy: 0.51\n",
      "Testing (13/36): (64, 128, 128, 4, 0.4)\n",
      "Epoch: (01 / 05) | Time: 00:03 | Train Loss: 0.7068 | Val Loss: 0.6940 | Val Accuracy: 0.49\n",
      "Epoch: (02 / 05) | Time: 00:03 | Train Loss: 0.6940 | Val Loss: 0.6889 | Val Accuracy: 0.51\n",
      "Epoch: (03 / 05) | Time: 00:03 | Train Loss: 0.6892 | Val Loss: 0.6801 | Val Accuracy: 0.51\n",
      "Epoch: (04 / 05) | Time: 00:03 | Train Loss: 0.6836 | Val Loss: 0.6744 | Val Accuracy: 0.51\n",
      "Epoch: (05 / 05) | Time: 00:03 | Train Loss: 0.6793 | Val Loss: 0.6672 | Val Accuracy: 0.51\n",
      "Testing (14/36): (64, 128, 128, 5, 0.4)\n",
      "Epoch: (01 / 05) | Time: 00:04 | Train Loss: 0.7058 | Val Loss: 0.7304 | Val Accuracy: 0.50\n",
      "Epoch: (02 / 05) | Time: 00:04 | Train Loss: 0.6961 | Val Loss: 0.7098 | Val Accuracy: 0.50\n",
      "Epoch: (03 / 05) | Time: 00:04 | Train Loss: 0.6911 | Val Loss: 0.6925 | Val Accuracy: 0.48\n",
      "Epoch: (04 / 05) | Time: 00:04 | Train Loss: 0.6847 | Val Loss: 0.6754 | Val Accuracy: 0.51\n",
      "Epoch: (05 / 05) | Time: 00:04 | Train Loss: 0.6776 | Val Loss: 0.6665 | Val Accuracy: 0.51\n",
      "Testing (15/36): (64, 128, 256, 3, 0.4)\n",
      "Epoch: (01 / 05) | Time: 00:03 | Train Loss: 0.7106 | Val Loss: 0.6935 | Val Accuracy: 0.47\n",
      "Epoch: (02 / 05) | Time: 00:03 | Train Loss: 0.6943 | Val Loss: 0.6878 | Val Accuracy: 0.50\n",
      "Epoch: (03 / 05) | Time: 00:03 | Train Loss: 0.6926 | Val Loss: 0.6801 | Val Accuracy: 0.51\n",
      "Epoch: (04 / 05) | Time: 00:03 | Train Loss: 0.6864 | Val Loss: 0.6760 | Val Accuracy: 0.51\n",
      "Epoch: (05 / 05) | Time: 00:03 | Train Loss: 0.6833 | Val Loss: 0.6742 | Val Accuracy: 0.51\n",
      "Testing (16/36): (64, 128, 256, 4, 0.4)\n",
      "Epoch: (01 / 05) | Time: 00:03 | Train Loss: 0.7166 | Val Loss: 0.7308 | Val Accuracy: 0.50\n",
      "Epoch: (02 / 05) | Time: 00:03 | Train Loss: 0.6997 | Val Loss: 0.7250 | Val Accuracy: 0.50\n",
      "Epoch: (03 / 05) | Time: 00:03 | Train Loss: 0.6917 | Val Loss: 0.7197 | Val Accuracy: 0.50\n",
      "Epoch: (04 / 05) | Time: 00:03 | Train Loss: 0.6871 | Val Loss: 0.7140 | Val Accuracy: 0.49\n",
      "Epoch: (05 / 05) | Time: 00:03 | Train Loss: 0.6826 | Val Loss: 0.7049 | Val Accuracy: 0.47\n",
      "Testing (17/36): (64, 128, 256, 5, 0.4)\n",
      "Epoch: (01 / 05) | Time: 00:04 | Train Loss: 0.7049 | Val Loss: 0.6809 | Val Accuracy: 0.51\n",
      "Epoch: (02 / 05) | Time: 00:04 | Train Loss: 0.6947 | Val Loss: 0.6696 | Val Accuracy: 0.51\n",
      "Epoch: (03 / 05) | Time: 00:04 | Train Loss: 0.6889 | Val Loss: 0.6647 | Val Accuracy: 0.51\n",
      "Epoch: (04 / 05) | Time: 00:04 | Train Loss: 0.6823 | Val Loss: 0.6618 | Val Accuracy: 0.51\n",
      "Epoch: (05 / 05) | Time: 00:04 | Train Loss: 0.6757 | Val Loss: 0.6628 | Val Accuracy: 0.51\n",
      "Testing (18/36): (128, 64, 64, 3, 0.4)\n",
      "Epoch: (01 / 05) | Time: 00:03 | Train Loss: 0.7255 | Val Loss: 0.7224 | Val Accuracy: 0.50\n",
      "Epoch: (02 / 05) | Time: 00:03 | Train Loss: 0.6940 | Val Loss: 0.6898 | Val Accuracy: 0.48\n",
      "Epoch: (03 / 05) | Time: 00:03 | Train Loss: 0.6863 | Val Loss: 0.6802 | Val Accuracy: 0.51\n",
      "Epoch: (04 / 05) | Time: 00:03 | Train Loss: 0.6816 | Val Loss: 0.6730 | Val Accuracy: 0.51\n",
      "Epoch: (05 / 05) | Time: 00:03 | Train Loss: 0.6778 | Val Loss: 0.6691 | Val Accuracy: 0.51\n",
      "Testing (19/36): (128, 64, 64, 4, 0.4)\n",
      "Epoch: (01 / 05) | Time: 00:03 | Train Loss: 0.7012 | Val Loss: 0.6954 | Val Accuracy: 0.50\n",
      "Epoch: (02 / 05) | Time: 00:03 | Train Loss: 0.6952 | Val Loss: 0.6921 | Val Accuracy: 0.50\n",
      "Epoch: (03 / 05) | Time: 00:03 | Train Loss: 0.6886 | Val Loss: 0.6831 | Val Accuracy: 0.51\n",
      "Epoch: (04 / 05) | Time: 00:03 | Train Loss: 0.6842 | Val Loss: 0.6774 | Val Accuracy: 0.51\n",
      "Epoch: (05 / 05) | Time: 00:03 | Train Loss: 0.6808 | Val Loss: 0.6750 | Val Accuracy: 0.51\n",
      "Testing (20/36): (128, 64, 64, 5, 0.4)\n",
      "Epoch: (01 / 05) | Time: 00:04 | Train Loss: 0.7034 | Val Loss: 0.6905 | Val Accuracy: 0.50\n",
      "Epoch: (02 / 05) | Time: 00:04 | Train Loss: 0.6956 | Val Loss: 0.6790 | Val Accuracy: 0.51\n",
      "Epoch: (03 / 05) | Time: 00:04 | Train Loss: 0.6892 | Val Loss: 0.6678 | Val Accuracy: 0.51\n",
      "Epoch: (04 / 05) | Time: 00:04 | Train Loss: 0.6845 | Val Loss: 0.6644 | Val Accuracy: 0.51\n",
      "Epoch: (05 / 05) | Time: 00:04 | Train Loss: 0.6742 | Val Loss: 0.6681 | Val Accuracy: 0.51\n",
      "Testing (21/36): (128, 64, 128, 3, 0.4)\n",
      "Epoch: (01 / 05) | Time: 00:03 | Train Loss: 0.7094 | Val Loss: 0.6807 | Val Accuracy: 0.51\n",
      "Epoch: (02 / 05) | Time: 00:03 | Train Loss: 0.6963 | Val Loss: 0.6705 | Val Accuracy: 0.51\n",
      "Epoch: (03 / 05) | Time: 00:03 | Train Loss: 0.6897 | Val Loss: 0.6681 | Val Accuracy: 0.51\n",
      "Epoch: (04 / 05) | Time: 00:03 | Train Loss: 0.6831 | Val Loss: 0.6644 | Val Accuracy: 0.51\n",
      "Epoch: (05 / 05) | Time: 00:03 | Train Loss: 0.6761 | Val Loss: 0.6629 | Val Accuracy: 0.51\n",
      "Testing (22/36): (128, 64, 128, 4, 0.4)\n",
      "Epoch: (01 / 05) | Time: 00:03 | Train Loss: 0.7050 | Val Loss: 0.6937 | Val Accuracy: 0.47\n",
      "Epoch: (02 / 05) | Time: 00:03 | Train Loss: 0.6936 | Val Loss: 0.6840 | Val Accuracy: 0.51\n",
      "Epoch: (03 / 05) | Time: 00:03 | Train Loss: 0.6870 | Val Loss: 0.6742 | Val Accuracy: 0.51\n",
      "Epoch: (04 / 05) | Time: 00:03 | Train Loss: 0.6805 | Val Loss: 0.6671 | Val Accuracy: 0.51\n",
      "Epoch: (05 / 05) | Time: 00:03 | Train Loss: 0.6732 | Val Loss: 0.6635 | Val Accuracy: 0.51\n",
      "Testing (23/36): (128, 64, 128, 5, 0.4)\n",
      "Epoch: (01 / 05) | Time: 00:04 | Train Loss: 0.7074 | Val Loss: 0.7015 | Val Accuracy: 0.49\n",
      "Epoch: (02 / 05) | Time: 00:04 | Train Loss: 0.6931 | Val Loss: 0.6852 | Val Accuracy: 0.51\n",
      "Epoch: (03 / 05) | Time: 00:04 | Train Loss: 0.6872 | Val Loss: 0.6691 | Val Accuracy: 0.51\n",
      "Epoch: (04 / 05) | Time: 00:04 | Train Loss: 0.6811 | Val Loss: 0.6653 | Val Accuracy: 0.51\n",
      "Epoch: (05 / 05) | Time: 00:04 | Train Loss: 0.6707 | Val Loss: 0.6639 | Val Accuracy: 0.51\n",
      "Testing (24/36): (128, 64, 256, 3, 0.4)\n",
      "Epoch: (01 / 05) | Time: 00:03 | Train Loss: 0.7029 | Val Loss: 0.6794 | Val Accuracy: 0.51\n",
      "Epoch: (02 / 05) | Time: 00:03 | Train Loss: 0.6943 | Val Loss: 0.6694 | Val Accuracy: 0.51\n",
      "Epoch: (03 / 05) | Time: 00:03 | Train Loss: 0.6902 | Val Loss: 0.6659 | Val Accuracy: 0.51\n",
      "Epoch: (04 / 05) | Time: 00:03 | Train Loss: 0.6848 | Val Loss: 0.6636 | Val Accuracy: 0.51\n",
      "Epoch: (05 / 05) | Time: 00:03 | Train Loss: 0.6769 | Val Loss: 0.6621 | Val Accuracy: 0.51\n",
      "Best Hyperparameters: [(128, 64, 256, 3, 0.4)] | Loss: 0.6621267909095401\n",
      "Testing (25/36): (128, 64, 256, 4, 0.4)\n",
      "Epoch: (01 / 05) | Time: 00:03 | Train Loss: 0.7000 | Val Loss: 0.6851 | Val Accuracy: 0.51\n",
      "Epoch: (02 / 05) | Time: 00:03 | Train Loss: 0.6938 | Val Loss: 0.6776 | Val Accuracy: 0.51\n",
      "Epoch: (03 / 05) | Time: 00:03 | Train Loss: 0.6891 | Val Loss: 0.6724 | Val Accuracy: 0.51\n",
      "Epoch: (04 / 05) | Time: 00:03 | Train Loss: 0.6823 | Val Loss: 0.6661 | Val Accuracy: 0.51\n",
      "Epoch: (05 / 05) | Time: 00:03 | Train Loss: 0.6778 | Val Loss: 0.6635 | Val Accuracy: 0.51\n",
      "Testing (26/36): (128, 64, 256, 5, 0.4)\n",
      "Epoch: (01 / 05) | Time: 00:04 | Train Loss: 0.7159 | Val Loss: 0.7235 | Val Accuracy: 0.50\n",
      "Epoch: (02 / 05) | Time: 00:04 | Train Loss: 0.7006 | Val Loss: 0.7025 | Val Accuracy: 0.48\n",
      "Epoch: (03 / 05) | Time: 00:04 | Train Loss: 0.6947 | Val Loss: 0.6829 | Val Accuracy: 0.51\n",
      "Epoch: (04 / 05) | Time: 00:04 | Train Loss: 0.6888 | Val Loss: 0.6703 | Val Accuracy: 0.51\n",
      "Epoch: (05 / 05) | Time: 00:04 | Train Loss: 0.6752 | Val Loss: 0.6685 | Val Accuracy: 0.51\n",
      "Testing (27/36): (128, 128, 64, 3, 0.4)\n",
      "Epoch: (01 / 05) | Time: 00:03 | Train Loss: 0.6984 | Val Loss: 0.7017 | Val Accuracy: 0.49\n",
      "Epoch: (02 / 05) | Time: 00:03 | Train Loss: 0.6884 | Val Loss: 0.6872 | Val Accuracy: 0.51\n",
      "Epoch: (03 / 05) | Time: 00:03 | Train Loss: 0.6808 | Val Loss: 0.6783 | Val Accuracy: 0.51\n",
      "Epoch: (04 / 05) | Time: 00:03 | Train Loss: 0.6757 | Val Loss: 0.6702 | Val Accuracy: 0.51\n",
      "Epoch: (05 / 05) | Time: 00:03 | Train Loss: 0.6683 | Val Loss: 0.6661 | Val Accuracy: 0.51\n",
      "Testing (28/36): (128, 128, 64, 4, 0.4)\n",
      "Epoch: (01 / 05) | Time: 00:04 | Train Loss: 0.6966 | Val Loss: 0.6829 | Val Accuracy: 0.51\n",
      "Epoch: (02 / 05) | Time: 00:04 | Train Loss: 0.6876 | Val Loss: 0.6797 | Val Accuracy: 0.51\n",
      "Epoch: (03 / 05) | Time: 00:04 | Train Loss: 0.6778 | Val Loss: 0.6725 | Val Accuracy: 0.51\n",
      "Epoch: (04 / 05) | Time: 00:04 | Train Loss: 0.6713 | Val Loss: 0.6728 | Val Accuracy: 0.51\n",
      "Epoch: (05 / 05) | Time: 00:04 | Train Loss: 0.6676 | Val Loss: 0.6707 | Val Accuracy: 0.51\n",
      "Testing (29/36): (128, 128, 64, 5, 0.4)\n",
      "Epoch: (01 / 05) | Time: 00:05 | Train Loss: 0.7006 | Val Loss: 0.6875 | Val Accuracy: 0.51\n",
      "Epoch: (02 / 05) | Time: 00:05 | Train Loss: 0.6906 | Val Loss: 0.6724 | Val Accuracy: 0.51\n",
      "Epoch: (03 / 05) | Time: 00:05 | Train Loss: 0.6821 | Val Loss: 0.6668 | Val Accuracy: 0.51\n",
      "Epoch: (04 / 05) | Time: 00:05 | Train Loss: 0.6740 | Val Loss: 0.6654 | Val Accuracy: 0.51\n",
      "Epoch: (05 / 05) | Time: 00:05 | Train Loss: 0.6619 | Val Loss: 0.6645 | Val Accuracy: 0.51\n",
      "Testing (30/36): (128, 128, 128, 3, 0.4)\n",
      "Epoch: (01 / 05) | Time: 00:03 | Train Loss: 0.7061 | Val Loss: 0.6767 | Val Accuracy: 0.51\n",
      "Epoch: (02 / 05) | Time: 00:03 | Train Loss: 0.6917 | Val Loss: 0.6678 | Val Accuracy: 0.51\n",
      "Epoch: (03 / 05) | Time: 00:03 | Train Loss: 0.6854 | Val Loss: 0.6633 | Val Accuracy: 0.51\n",
      "Epoch: (04 / 05) | Time: 00:03 | Train Loss: 0.6769 | Val Loss: 0.6628 | Val Accuracy: 0.51\n",
      "Epoch: (05 / 05) | Time: 00:03 | Train Loss: 0.6722 | Val Loss: 0.6645 | Val Accuracy: 0.51\n",
      "Testing (31/36): (128, 128, 128, 4, 0.4)\n",
      "Epoch: (01 / 05) | Time: 00:04 | Train Loss: 0.7005 | Val Loss: 0.6946 | Val Accuracy: 0.49\n",
      "Epoch: (02 / 05) | Time: 00:04 | Train Loss: 0.6877 | Val Loss: 0.6823 | Val Accuracy: 0.51\n",
      "Epoch: (03 / 05) | Time: 00:04 | Train Loss: 0.6809 | Val Loss: 0.6680 | Val Accuracy: 0.51\n",
      "Epoch: (04 / 05) | Time: 00:04 | Train Loss: 0.6699 | Val Loss: 0.6624 | Val Accuracy: 0.51\n",
      "Epoch: (05 / 05) | Time: 00:04 | Train Loss: 0.6603 | Val Loss: 0.6716 | Val Accuracy: 0.51\n",
      "Testing (32/36): (128, 128, 128, 5, 0.4)\n",
      "Epoch: (01 / 05) | Time: 00:05 | Train Loss: 0.7035 | Val Loss: 0.7052 | Val Accuracy: 0.50\n",
      "Epoch: (02 / 05) | Time: 00:05 | Train Loss: 0.6913 | Val Loss: 0.6854 | Val Accuracy: 0.51\n",
      "Epoch: (03 / 05) | Time: 00:05 | Train Loss: 0.6841 | Val Loss: 0.6697 | Val Accuracy: 0.51\n",
      "Epoch: (04 / 05) | Time: 00:05 | Train Loss: 0.6767 | Val Loss: 0.6690 | Val Accuracy: 0.51\n",
      "Epoch: (05 / 05) | Time: 00:05 | Train Loss: 0.6691 | Val Loss: 0.6676 | Val Accuracy: 0.51\n",
      "Testing (33/36): (128, 128, 256, 3, 0.4)\n",
      "Epoch: (01 / 05) | Time: 00:03 | Train Loss: 0.7036 | Val Loss: 0.6875 | Val Accuracy: 0.50\n",
      "Epoch: (02 / 05) | Time: 00:03 | Train Loss: 0.6893 | Val Loss: 0.6712 | Val Accuracy: 0.51\n",
      "Epoch: (03 / 05) | Time: 00:03 | Train Loss: 0.6814 | Val Loss: 0.6647 | Val Accuracy: 0.51\n",
      "Epoch: (04 / 05) | Time: 00:03 | Train Loss: 0.6724 | Val Loss: 0.6645 | Val Accuracy: 0.51\n",
      "Epoch: (05 / 05) | Time: 00:03 | Train Loss: 0.6580 | Val Loss: 0.6772 | Val Accuracy: 0.51\n",
      "Testing (34/36): (128, 128, 256, 4, 0.4)\n",
      "Epoch: (01 / 05) | Time: 00:04 | Train Loss: 0.7042 | Val Loss: 0.6876 | Val Accuracy: 0.51\n",
      "Epoch: (02 / 05) | Time: 00:04 | Train Loss: 0.6910 | Val Loss: 0.6777 | Val Accuracy: 0.51\n",
      "Epoch: (03 / 05) | Time: 00:04 | Train Loss: 0.6860 | Val Loss: 0.6699 | Val Accuracy: 0.51\n",
      "Epoch: (04 / 05) | Time: 00:04 | Train Loss: 0.6766 | Val Loss: 0.6646 | Val Accuracy: 0.51\n",
      "Epoch: (05 / 05) | Time: 00:04 | Train Loss: 0.6662 | Val Loss: 0.6640 | Val Accuracy: 0.51\n",
      "Testing (35/36): (128, 128, 256, 5, 0.4)\n",
      "Epoch: (01 / 05) | Time: 00:05 | Train Loss: 0.7006 | Val Loss: 0.6881 | Val Accuracy: 0.51\n",
      "Epoch: (02 / 05) | Time: 00:05 | Train Loss: 0.6919 | Val Loss: 0.6712 | Val Accuracy: 0.51\n",
      "Epoch: (03 / 05) | Time: 00:06 | Train Loss: 0.6824 | Val Loss: 0.6633 | Val Accuracy: 0.51\n",
      "Epoch: (04 / 05) | Time: 00:05 | Train Loss: 0.6699 | Val Loss: 0.6625 | Val Accuracy: 0.51\n",
      "Epoch: (05 / 05) | Time: 00:05 | Train Loss: 0.6539 | Val Loss: 0.6626 | Val Accuracy: 0.51\n",
      "Search complete. Best Hyperparameters: (128, 64, 256, 3, 0.4).\n"
     ]
    }
   ],
   "source": [
    "torch.manual_seed(42)\n",
    "device = 'cuda' if torch.cuda.is_available() else 'cpu'\n",
    "class_weights = class_weights.to(device)\n",
    "ind_dims_options = [64, 128]\n",
    "comb_dims_options = [64, 128]\n",
    "linear_dims_options = [64, 128, 256]\n",
    "num_layers_options = [3, 4, 5]\n",
    "dropout_options = [0.4]\n",
    "epochs = 5\n",
    "\n",
    "best_model = None\n",
    "best_hyperparams = None\n",
    "best_val_loss = 100 # arbitrary large number\n",
    "\n",
    "all_hyperparams = list(itertools.product(ind_dims_options, comb_dims_options, linear_dims_options, num_layers_options, dropout_options))\n",
    "\n",
    "for i, hyperparams in enumerate(all_hyperparams):\n",
    "    print(f\"Testing ({i}/{len(all_hyperparams)}): {hyperparams}\")\n",
    "    model = BiGRU(emb_dim, hyperparams[0], hyperparams[1], hyperparams[2], hyperparams[3], hyperparams[4])\n",
    "    model.to(device)\n",
    "    optimiser = torch.optim.Adam(model.parameters(), lr=1e-5, weight_decay=1e-5)\n",
    "    criterion = torch.nn.CrossEntropyLoss(weight=class_weights)\n",
    "    val_loss = train_model(model, optimiser, epochs, criterion, train_loader, val_loader, device)\n",
    "    if val_loss < best_val_loss:\n",
    "        best_val_loss = val_loss\n",
    "        best_hyperparams = hyperparams\n",
    "        best_model = model\n",
    "        print(f\"Best Hyperparameters: [{hyperparams}] | Loss: {best_val_loss}\")\n",
    "\n",
    "print(f\"Search complete. Best Hyperparameters: {best_hyperparams}.\")"
   ]
  },
  {
   "cell_type": "markdown",
   "metadata": {},
   "source": [
    "Retrain the best model hyperparameters:"
   ]
  },
  {
   "cell_type": "code",
   "execution_count": 70,
   "metadata": {},
   "outputs": [
    {
     "name": "stdout",
     "output_type": "stream",
     "text": [
      "Epoch: (01 / 05) | Time: 00:03 | Train Loss: 0.7072 | Val Loss: 0.6685 | Val Accuracy: 0.51\n",
      "Epoch: (02 / 05) | Time: 00:03 | Train Loss: 0.6931 | Val Loss: 0.6649 | Val Accuracy: 0.51\n",
      "Epoch: (03 / 05) | Time: 00:02 | Train Loss: 0.6782 | Val Loss: 0.6637 | Val Accuracy: 0.51\n",
      "Epoch: (04 / 05) | Time: 00:02 | Train Loss: 0.6669 | Val Loss: 0.6644 | Val Accuracy: 0.51\n",
      "Epoch: (05 / 05) | Time: 00:02 | Train Loss: 0.6580 | Val Loss: 0.6677 | Val Accuracy: 0.51\n"
     ]
    }
   ],
   "source": [
    "device = 'cuda' if torch.cuda.is_available() else 'cpu'\n",
    "class_weights = class_weights.to(device)\n",
    "best_hyperparams = [128, 128, 512, 4, 0.4] # As above\n",
    "model = BiGRU(emb_dim, individual_dim=best_hyperparams[0], combined_dim=best_hyperparams[1], linear_dim=best_hyperparams[2], num_layers=best_hyperparams[3], dropout=best_hyperparams[4])\n",
    "model.to(device)\n",
    "optimiser = torch.optim.Adam(model.parameters(), lr=1e-5, weight_decay=1e-5)\n",
    "criterion = torch.nn.CrossEntropyLoss(weight=class_weights)\n",
    "val_loss = train_model(model, optimiser, 5, criterion, train_loader, val_loader, device)"
   ]
  },
  {
   "cell_type": "markdown",
   "metadata": {},
   "source": [
    "### 2.2. Testing Model on Test Dataset"
   ]
  },
  {
   "cell_type": "code",
   "execution_count": 78,
   "metadata": {},
   "outputs": [
    {
     "name": "stdout",
     "output_type": "stream",
     "text": [
      "              precision    recall  f1-score   support\n",
      "\n",
      "         0.0       0.64      0.48      0.55      1284\n",
      "         1.0       0.42      0.58      0.49       842\n",
      "\n",
      "    accuracy                           0.52      2126\n",
      "   macro avg       0.53      0.53      0.52      2126\n",
      "weighted avg       0.55      0.52      0.53      2126\n",
      "\n"
     ]
    },
    {
     "data": {
      "image/png": "[encoded data removed]",
      "text/plain": [
       "<Figure size 640x480 with 1 Axes>"
      ]
     },
     "metadata": {},
     "output_type": "display_data"
    }
   ],
   "source": [
    "model = best_model\n",
    "model.eval()\n",
    "\n",
    "all_labels = []\n",
    "all_predictions = []\n",
    "with torch.no_grad():\n",
    "    for batch in test_loader:\n",
    "        premises = batch[0].to(device)\n",
    "        hypotheses = batch[1].to(device)\n",
    "        labels = batch[2].to(device).float()\n",
    "        outputs = model(premises, hypotheses)\n",
    "        preds = torch.argmax(outputs, dim=1)\n",
    "        all_labels.extend(labels.cpu().numpy().flatten())\n",
    "        all_predictions.extend(preds.cpu().numpy().flatten())\n",
    "\n",
    "print(classification_report(all_labels, all_predictions))\n",
    "\n",
    "cm = confusion_matrix(all_labels, all_predictions)\n",
    "disp = ConfusionMatrixDisplay(confusion_matrix=cm, display_labels=[\"neutral\", \"entails\"])\n",
    "disp.plot(colorbar=False)\n",
    "\n",
    "plt.show()"
   ]
  }
 ],
 "metadata": {
  "accelerator": "GPU",
  "colab": {
   "gpuType": "T4",
   "provenance": []
  },
  "kernelspec": {
   "display_name": ".venv",
   "language": "python",
   "name": "python3"
  },
  "language_info": {
   "codemirror_mode": {
    "name": "ipython",
    "version": 3
   },
   "file_extension": ".py",
   "mimetype": "text/x-python",
   "name": "python",
   "nbconvert_exporter": "python",
   "pygments_lexer": "ipython3",
   "version": "3.11.0"
  }
 },
 "nbformat": 4,
 "nbformat_minor": 0
}
