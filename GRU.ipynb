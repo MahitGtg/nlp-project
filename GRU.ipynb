{
 "cells": [
  {
   "cell_type": "markdown",
   "metadata": {
    "id": "ZeNVhtG0clTY"
   },
   "source": [
    "# 2025 CITS4012 Project 2\n",
    "\n",
    "## 1. Preprocessing\n",
    "\n",
    "### 1.1. Import Libraries\n",
    "Libraries are imported for the entire project.\n",
    "\n",
    "*Note: Just add to this list as needed*"
   ]
  },
  {
   "cell_type": "code",
   "execution_count": 1,
   "metadata": {
    "colab": {
     "base_uri": "https://localhost:8080/"
    },
    "id": "ZHKYoflWbaOB",
    "outputId": "04a1c479-c26a-40d2-f7b8-01a684a90319"
   },
   "outputs": [
    {
     "name": "stdout",
     "output_type": "stream",
     "text": [
      "Requirement already satisfied: gensim in c:\\users\\justmitch\\documents\\cits4012\\.venv\\lib\\site-packages (4.3.3)\n",
      "Requirement already satisfied: numpy<2.0,>=1.18.5 in c:\\users\\justmitch\\documents\\cits4012\\.venv\\lib\\site-packages (from gensim) (1.26.4)\n",
      "Requirement already satisfied: scipy<1.14.0,>=1.7.0 in c:\\users\\justmitch\\documents\\cits4012\\.venv\\lib\\site-packages (from gensim) (1.13.1)\n",
      "Requirement already satisfied: smart-open>=1.8.1 in c:\\users\\justmitch\\documents\\cits4012\\.venv\\lib\\site-packages (from gensim) (7.3.0.post1)\n",
      "Requirement already satisfied: wrapt in c:\\users\\justmitch\\documents\\cits4012\\.venv\\lib\\site-packages (from smart-open>=1.8.1->gensim) (1.17.3)\n",
      "Note: you may need to restart the kernel to use updated packages.\n"
     ]
    }
   ],
   "source": [
    "%pip install gensim\n",
    "import gensim.downloader as api\n",
    "\n",
    "# from pydrive2.auth import GoogleAuth\n",
    "# from pydrive2.drive import GoogleDrive\n",
    "# from google.colab import auth\n",
    "# from oauth2client.client import GoogleCredentials\n",
    "import pandas as pd\n",
    "import numpy as np\n",
    "import random\n",
    "import matplotlib.pyplot as plt\n",
    "plt.rc('text', usetex=True)\n",
    "plt.rc('font', family='serif')\n",
    "import itertools\n",
    "import sys\n",
    "import time\n",
    "import torch\n",
    "import spacy\n",
    "import re\n",
    "from sklearn.metrics import classification_report, confusion_matrix, ConfusionMatrixDisplay\n",
    "\n",
    "torch.manual_seed(42)\n",
    "random.seed(42)"
   ]
  },
  {
   "cell_type": "markdown",
   "metadata": {
    "id": "lm0j1IPpdoMH"
   },
   "source": [
    "### 1.2. Retrieve Data\n",
    "First, we need to retrieve the train/val/test datafiles from the Google Drive."
   ]
  },
  {
   "cell_type": "code",
   "execution_count": null,
   "metadata": {
    "id": "Sf7SEIIWbbFB"
   },
   "outputs": [],
   "source": [
    "auth.authenticate_user()\n",
    "gauth = GoogleAuth()\n",
    "gauth.credentials = GoogleCredentials.get_application_default()\n",
    "drive = GoogleDrive(gauth)"
   ]
  },
  {
   "cell_type": "code",
   "execution_count": null,
   "metadata": {
    "id": "BBuq3Zf_bdai"
   },
   "outputs": [],
   "source": [
    "train_fileid = \"1YEOo5vd8DXXUCf1FXCR1D3PxWR9XxQKv\"\n",
    "val_fileid = \"15FEgtzzTVDMQcNVMgwIwqoAJeF9vmtrX\"\n",
    "test_fileid = \"179nwaOvdkZ3ogsBaTSJvpZEIjq20uiG-\"\n",
    "\n",
    "train_file = drive.CreateFile({'id': train_fileid})\n",
    "val_file = drive.CreateFile({'id': val_fileid})\n",
    "test_file = drive.CreateFile({'id': test_fileid})\n",
    "\n",
    "train_file.GetContentFile('train.json')\n",
    "val_file.GetContentFile('val.json')\n",
    "test_file.GetContentFile('test.json')"
   ]
  },
  {
   "cell_type": "markdown",
   "metadata": {
    "id": "d1jcNQxncz-Y"
   },
   "source": [
    "### 1.3. Read in the Data\n",
    "We now read in each dataset, splitting the input data and target data. The data shapes and a sample of the training data are shown below."
   ]
  },
  {
   "cell_type": "code",
   "execution_count": 73,
   "metadata": {
    "colab": {
     "base_uri": "https://localhost:8080/",
     "height": 475
    },
    "id": "iFkL1hHIcYQD",
    "outputId": "6a1bcc36-de64-4f7d-fad9-82bd728e326a"
   },
   "outputs": [
    {
     "name": "stdout",
     "output_type": "stream",
     "text": [
      "Train shape: (23088, 2)\n",
      "Val shape: (1304, 2)\n",
      "Test shape: (2126, 2)\n"
     ]
    }
   ],
   "source": [
    "train = pd.read_json('train.json')\n",
    "X_train = train[['premise', 'hypothesis']]\n",
    "y_train = train['label']\n",
    "\n",
    "val = pd.read_json('val.json')\n",
    "X_val = val[['premise', 'hypothesis']]\n",
    "y_val = val['label']\n",
    "\n",
    "test = pd.read_json('test.json')\n",
    "X_test = test[['premise', 'hypothesis']]\n",
    "y_test = test['label']\n",
    "\n",
    "print(f\"Train shape: {X_train.shape}\")\n",
    "print(f\"Val shape: {X_val.shape}\")\n",
    "print(f\"Test shape: {X_test.shape}\")"
   ]
  },
  {
   "cell_type": "markdown",
   "metadata": {
    "id": "9VtFvjtVfaqe"
   },
   "source": [
    "### 1.4. Data preprocessing\n",
    "As seen above, the data contains characters that requires cleaning before passing it to the model.\n",
    "\n",
    "The preprocessing pipeline is as follows:\n",
    "- Sentences are tokenised using SpaCy.\n",
    "- A vocabulary list is constructed, including a padding and out-of-vocabulary tag.\n",
    "- A GloVe Embedding model is loaded, pretrained on twitter.\n",
    "- Tokenised sentences are converted to an indexed list of words, padded to the maximum size of the premise and hypothesis, respectively.\n",
    "\n",
    "The labels are also converted to 0 or 1 (0 = neutral, 1 = entails).\n",
    "\n",
    "#### 1.4.1. SpaCy Tokenisation\n",
    "We tokenise the premises and hypotheses for the datasets - removing all non alphanumeric characters and converting words to lower case. Stopwords are removed, to remove words that do not contribute meaningfully to sentence interpretation."
   ]
  },
  {
   "cell_type": "code",
   "execution_count": 74,
   "metadata": {
    "colab": {
     "base_uri": "https://localhost:8080/",
     "height": 423
    },
    "id": "ydgaNHsXfLk6",
    "outputId": "879f825f-b721-4817-cfb2-b38a1f571920"
   },
   "outputs": [
    {
     "name": "stdout",
     "output_type": "stream",
     "text": [
      "\u001b[38;5;2m✔ Download and installation successful\u001b[0m\n",
      "You can now load the package via spacy.load('en_core_web_sm')\n",
      "\u001b[38;5;3m⚠ Restart to reload dependencies\u001b[0m\n",
      "If you are in a Jupyter or Colab notebook, you may need to restart Python in\n",
      "order to load all the package's dependencies. You can do this by selecting the\n",
      "'Restart kernel' or 'Restart runtime' option.\n"
     ]
    },
    {
     "data": {
      "text/plain": [
       "<bound method NDFrame.head of                                                  premise  \\\n",
       "0      [pluto, rotates, once, on, its, axis, every, e...   \n",
       "1      [once, per, day, the, earth, rotates, about, i...   \n",
       "2      [geysers, periodic, gush, of, hot, water, at, ...   \n",
       "3      [facts, liquid, water, droplets, can, be, chan...   \n",
       "4      [by, comparison, the, earth, rotates, on, its,...   \n",
       "...                                                  ...   \n",
       "23083  [which, is, not, only, the, motion, of, our, b...   \n",
       "23084  [the, red, star, that, celestial, curse, whose...   \n",
       "23085  [the, lines, in, the, spectrum, of, a, luminou...   \n",
       "23086  [the, radial, velocity, of, a, star, away, fro...   \n",
       "23087  [this, expansion, causes, the, light, from, di...   \n",
       "\n",
       "                                              hypothesis  \n",
       "0      [earth, rotates, on, its, axis, once, times, i...  \n",
       "1      [earth, rotates, on, its, axis, once, times, i...  \n",
       "2      [the, surface, of, the, sun, is, much, hotter,...  \n",
       "3      [evaporation, is, responsible, for, changing, ...  \n",
       "4      [earth, rotates, on, its, axis, once, times, i...  \n",
       "...                                                  ...  \n",
       "23083  [work, is, done, only, if, a, force, is, exert...  \n",
       "23084  [red, shift, refers, to, a, shift, toward, red...  \n",
       "23085  [red, shift, refers, to, a, shift, toward, red...  \n",
       "23086  [red, shift, refers, to, a, shift, toward, red...  \n",
       "23087  [red, shift, refers, to, a, shift, toward, red...  \n",
       "\n",
       "[23088 rows x 2 columns]>"
      ]
     },
     "execution_count": 74,
     "metadata": {},
     "output_type": "execute_result"
    }
   ],
   "source": [
    "spacy.cli.download('en_core_web_sm')\n",
    "tokeniser = spacy.load('en_core_web_sm')\n",
    "\n",
    "for dataset in [X_train, X_val, X_test]:\n",
    "    premise_list = dataset['premise'].tolist()\n",
    "    hypothesis_list = dataset['hypothesis'].tolist()\n",
    "\n",
    "    prem_tokens_list = list(tokeniser.pipe(premise_list, batch_size=64))\n",
    "    dataset.loc[:, \"premise\"] = [[token.text.lower() for token in tokens if re.match(r'^\\w+$', token.text)] for tokens in prem_tokens_list]\n",
    "\n",
    "    hyp_tokens_list = list(tokeniser.pipe(hypothesis_list, batch_size=64))\n",
    "    dataset.loc[:, \"hypothesis\"] = [[token.text.lower() for token in tokens if re.match(r'^\\w+$', token.text)] for tokens in hyp_tokens_list]\n",
    "\n",
    "X_train.head"
   ]
  },
  {
   "cell_type": "markdown",
   "metadata": {
    "id": "td6uN2sPvAOM"
   },
   "source": [
    "#### 1.4.2. Vocabulary Construction\n",
    "We construct the vocabulary from the training set words."
   ]
  },
  {
   "cell_type": "code",
   "execution_count": 75,
   "metadata": {
    "colab": {
     "base_uri": "https://localhost:8080/"
    },
    "id": "9b52cccd",
    "outputId": "0fcd3a87-6873-4463-e5b8-3ebd2da1513d"
   },
   "outputs": [
    {
     "name": "stdout",
     "output_type": "stream",
     "text": [
      "Vocabulary size: 20127\n"
     ]
    }
   ],
   "source": [
    "vocab_set = set([])\n",
    "for tokens in X_train['premise']:\n",
    "    for token in tokens:\n",
    "        vocab_set.add(token)\n",
    "for tokens in X_train['hypothesis']:\n",
    "    for token in tokens:\n",
    "        vocab_set.add(token)\n",
    "\n",
    "# Convert the set to a list\n",
    "vocab = ['[PAD]', '[OOV]']\n",
    "vocab.extend(list(vocab_set))\n",
    "\n",
    "wordindexes = {word: i for i, word in enumerate(vocab)}\n",
    "\n",
    "print(f\"Vocabulary size: {len(vocab)}\")"
   ]
  },
  {
   "cell_type": "markdown",
   "metadata": {
    "id": "FhqX6JwcvDEJ"
   },
   "source": [
    "#### 1.4.3 Embedding Table Creation\n",
    "We load the GloVe embeddings, and then for each word in the training set vocabulary, we add the embedding to our lookup table. If a word in the vocabulary does not exist in the GloVe embeddings, it is embedded as zeros."
   ]
  },
  {
   "cell_type": "code",
   "execution_count": 76,
   "metadata": {
    "colab": {
     "base_uri": "https://localhost:8080/"
    },
    "id": "oe6VxxHYnEji",
    "outputId": "11c856b7-4010-44b5-efe6-fbd077015de0"
   },
   "outputs": [
    {
     "data": {
      "text/plain": [
       "(20127, 100)"
      ]
     },
     "execution_count": 76,
     "metadata": {},
     "output_type": "execute_result"
    }
   ],
   "source": [
    "glove_embeddings = api.load(\"glove-twitter-100\")\n",
    "\n",
    "emb_dim = glove_embeddings.vector_size\n",
    "emb_table = []\n",
    "for i, word in enumerate(vocab):\n",
    "    if word in glove_embeddings:\n",
    "        emb_table.append(glove_embeddings[word])\n",
    "    else:\n",
    "        emb_table.append(np.zeros(emb_dim))\n",
    "\n",
    "emb_table = np.array(emb_table)\n",
    "emb_table.shape"
   ]
  },
  {
   "cell_type": "markdown",
   "metadata": {
    "id": "3tMv8q2DvZtg"
   },
   "source": [
    "Later, we can now create an Embedding object that can be used to lookup the embeddings for any given word. This saves us from having to load the entire vocabulary embeddings at once during training."
   ]
  },
  {
   "cell_type": "markdown",
   "metadata": {
    "id": "iqX7nBkMsl1W"
   },
   "source": [
    "### 1.5. Data visualisation\n",
    "We will visualise the data to observe any patterns that we should be aware of before preprocessing and training.\n",
    "\n",
    "First, lets observe the class balance for the train/val/test sets."
   ]
  },
  {
   "cell_type": "code",
   "execution_count": 78,
   "metadata": {
    "colab": {
     "base_uri": "https://localhost:8080/"
    },
    "id": "_wPwxy8ss0nx",
    "outputId": "7e20e682-93d8-4945-8bd7-628668189561"
   },
   "outputs": [
    {
     "name": "stdout",
     "output_type": "stream",
     "text": [
      "Training set distribution:\n",
      "Neutral = 0.63\n",
      "Entails = 0.37\n",
      "Validation set distribution:\n",
      "Neutral = 0.5\n",
      "Entails = 0.5\n",
      "Testing set distribution:\n",
      "Neutral = 0.6\n",
      "Entails = 0.4\n",
      "\n"
     ]
    }
   ],
   "source": [
    "print(\n",
    "    \"Training set distribution:\\n\"\n",
    "    f\"Neutral = {round(y_train[y_train == 'neutral'].shape[0] / y_train.shape[0],2)}\\n\"\n",
    "    f\"Entails = {round(y_train[y_train == 'entails'].shape[0] / y_train.shape[0],2)}\\n\"\n",
    "    \"Validation set distribution:\\n\"\n",
    "    f\"Neutral = {round(y_val[y_val == 'neutral'].shape[0] / y_val.shape[0],2)}\\n\"\n",
    "    f\"Entails = {round(y_val[y_val == 'entails'].shape[0] / y_val.shape[0],2)}\\n\"\n",
    "    \"Testing set distribution:\\n\"\n",
    "    f\"Neutral = {round(y_test[y_test == 'neutral'].shape[0] / y_test.shape[0],2)}\\n\"\n",
    "    f\"Entails = {round(y_test[y_test == 'entails'].shape[0] / y_test.shape[0],2)}\\n\"\n",
    ")"
   ]
  },
  {
   "cell_type": "markdown",
   "metadata": {
    "id": "7TUpK2UBtGXa"
   },
   "source": [
    "The training set is strongly skewed towards neutral samples - this will have an impact on training.\n",
    "\n",
    "Now, we will observe the distribution of the token lengths of the premises and hypotheses of the train and validation sets."
   ]
  },
  {
   "cell_type": "code",
   "execution_count": 79,
   "metadata": {
    "colab": {
     "base_uri": "https://localhost:8080/",
     "height": 607
    },
    "id": "6hgkN3eDs4RY",
    "outputId": "6d72f375-da0f-4298-b12e-d860280a32aa"
   },
   "outputs": [
    {
     "data": {
      "image/png": "[encoded data removed]",
      "text/plain": [
       "<Figure size 1800x600 with 3 Axes>"
      ]
     },
     "metadata": {},
     "output_type": "display_data"
    }
   ],
   "source": [
    "train_prem_lengths = [len(premise) for premise in X_train['premise']]\n",
    "train_hyp_lengths = [len(hypothesis) for hypothesis in X_train['hypothesis']]\n",
    "\n",
    "val_prem_lengths = [len(premise) for premise in X_val['premise']]\n",
    "val_hyp_lengths = [len(hypothesis) for hypothesis in X_val['hypothesis']]\n",
    "\n",
    "test_prem_lengths = [len(premise) for premise in X_test['premise']]\n",
    "test_hyp_lengths = [len(hypothesis) for hypothesis in X_test['hypothesis']]\n",
    "\n",
    "fig, axs = plt.subplots(1, 3, figsize=(18, 6))\n",
    "\n",
    "# Train set\n",
    "axs[0].hist(train_prem_lengths, bins=20, alpha=0.6, label='Premise')\n",
    "axs[0].hist(train_hyp_lengths, bins=20, alpha=0.6, label='Hypothesis')\n",
    "axs[0].set_title(\"Train Set Length Distribution\")\n",
    "\n",
    "# Validation set\n",
    "axs[1].hist(val_prem_lengths, bins=20, alpha=0.6, label='Premise')\n",
    "axs[1].hist(val_hyp_lengths, bins=20, alpha=0.6, label='Hypothesis')\n",
    "axs[1].set_title(\"Validation Set Length Distribution\")\n",
    "\n",
    "axs[2].hist(test_prem_lengths, bins=20, alpha=0.6, label='Premise')\n",
    "axs[2].hist(test_hyp_lengths, bins=20, alpha=0.6, label='Hypothesis')\n",
    "axs[2].set_title(\"Test Set Length Distribution\")\n",
    "\n",
    "for ax in axs:\n",
    "    ax.tick_params(axis='both', labelsize=14)\n",
    "    ax.set_xlabel(\"Number of Tokens\", fontsize=14)\n",
    "    ax.set_ylabel(\"Frequency\", fontsize=14)\n",
    "    ax.set_xlim(0)\n",
    "    ax.legend(fontsize=14)\n",
    "    ax.grid(zorder=0, alpha=0.5)\n",
    "\n",
    "plt.tight_layout()\n",
    "plt.show()"
   ]
  },
  {
   "cell_type": "markdown",
   "metadata": {
    "id": "7sipBzYBu6qq"
   },
   "source": [
    "This indicates there are some outliers in the train set. To remove outliers (both small and large outliers), we removed the smallest and largest 2.5% of premises from the training set. Their corresponding hypotheses are also removed."
   ]
  },
  {
   "cell_type": "code",
   "execution_count": 80,
   "metadata": {},
   "outputs": [],
   "source": [
    "lower_prem, upper_prem = np.percentile(train_prem_lengths, [2.5, 97.5])\n",
    "keep_indices = [i for i, pl in enumerate(train_prem_lengths) if lower_prem <= pl <= upper_prem]\n",
    "X_train = X_train.iloc[keep_indices].reset_index(drop=True)\n",
    "y_train = y_train.iloc[keep_indices].reset_index(drop=True)"
   ]
  },
  {
   "cell_type": "markdown",
   "metadata": {
    "id": "pMwxCmJOvTVP"
   },
   "source": [
    "Removing these outliers from the training set, we get a nicer looking plot:"
   ]
  },
  {
   "cell_type": "code",
   "execution_count": 81,
   "metadata": {
    "colab": {
     "base_uri": "https://localhost:8080/",
     "height": 607
    },
    "id": "96e4bb67",
    "outputId": "a304610f-6ad3-4bcb-ccca-c5b6f51bd745"
   },
   "outputs": [
    {
     "data": {
      "image/png": "[encoded data removed]",
      "text/plain": [
       "<Figure size 1800x600 with 3 Axes>"
      ]
     },
     "metadata": {},
     "output_type": "display_data"
    }
   ],
   "source": [
    "train_prem_lengths = [len(premise) for premise in X_train['premise']]\n",
    "train_hyp_lengths = [len(hypothesis) for hypothesis in X_train['hypothesis']]\n",
    "\n",
    "fig, axs = plt.subplots(1, 3, figsize=(18, 6))\n",
    "min_length = 0\n",
    "max_length = 60\n",
    "xticks = np.arange(min_length, max_length+10, 10)\n",
    "\n",
    "# Train set\n",
    "axs[0].hist(train_prem_lengths, bins=20, alpha=0.6, label='Premise')\n",
    "axs[0].hist(train_hyp_lengths, bins=20, alpha=0.6, label='Hypothesis')\n",
    "axs[0].set_title(\"Train Set Length Distribution\", fontsize=16)\n",
    "\n",
    "# Validation set\n",
    "axs[1].hist(val_prem_lengths, bins=20, alpha=0.6, label='Premise')\n",
    "axs[1].hist(val_hyp_lengths, bins=20, alpha=0.6, label='Hypothesis')\n",
    "axs[1].set_title(\"Validation Set Length Distribution\", fontsize=16)\n",
    "\n",
    "axs[2].hist(test_prem_lengths, bins=20, alpha=0.6, label='Premise')\n",
    "axs[2].hist(test_hyp_lengths, bins=20, alpha=0.6, label='Hypothesis')\n",
    "axs[2].set_title(\"Test Set Length Distribution\", fontsize=16)\n",
    "\n",
    "for ax in axs:\n",
    "    ax.tick_params(axis='both', labelsize=14)\n",
    "    ax.set_xlabel(\"Number of Tokens\", fontsize=14)\n",
    "    ax.set_ylabel(\"Frequency\", fontsize=14)\n",
    "    ax.set_xticks(xticks)\n",
    "    ax.set_xlim(0)\n",
    "    ax.legend(fontsize=14)\n",
    "    ax.grid(zorder=0, alpha=0.5)\n",
    "\n",
    "plt.tight_layout()\n",
    "plt.savefig(\"set_distributions.pdf\", transparent=True, bbox_inches='tight')\n",
    "plt.show()"
   ]
  },
  {
   "cell_type": "markdown",
   "metadata": {
    "id": "0_-C0EzMvm42"
   },
   "source": [
    "### 1.6. Dataset Formation\n",
    "Now we create the training dataset. The tokenised premise and hypothesis sentences are encoded to be the index that corresponds to the word embedding in the embeddings table. Each sentence is then padded to be the same length as the longest respective premise or hypothesis."
   ]
  },
  {
   "cell_type": "code",
   "execution_count": 82,
   "metadata": {
    "id": "HJENY7r0pLT5"
   },
   "outputs": [],
   "source": [
    "def encode_sentences(sentences):\n",
    "    encoded_sentences = []\n",
    "    for sentence in sentences:\n",
    "        encoded_sentences.append([wordindexes[word] if word in wordindexes else wordindexes['[OOV]'] for word in sentence])\n",
    "    return encoded_sentences\n",
    "\n",
    "def pad_sequences(sequences, max_length):\n",
    "    padded_sequences = []\n",
    "    for seq in sequences:\n",
    "        if len(seq) < max_length:\n",
    "            padded_seq = seq + [wordindexes['[PAD]']] * (max_length - len(seq))\n",
    "        else:\n",
    "            padded_seq = seq[:max_length]\n",
    "        padded_sequences.append(padded_seq)\n",
    "    return padded_sequences\n",
    "\n",
    "max_prem_train = max(len(sentence) for sentence in X_train['premise'])\n",
    "max_hyp_train = max(len(sentence) for sentence in X_train['hypothesis'])\n",
    "encoded_prem_train = pad_sequences(encode_sentences(X_train['premise']), max_prem_train)\n",
    "encoded_hyp_train = pad_sequences(encode_sentences(X_train['hypothesis']), max_hyp_train)\n",
    "\n",
    "max_prem_val = max(len(sentence) for sentence in X_train['premise'])\n",
    "max_hyp_val = max(len(sentence) for sentence in X_train['hypothesis'])\n",
    "encoded_prem_val = pad_sequences(encode_sentences(X_val['premise']), max_prem_val)\n",
    "encoded_hyp_val = pad_sequences(encode_sentences(X_val['hypothesis']), max_hyp_val)"
   ]
  },
  {
   "cell_type": "markdown",
   "metadata": {
    "id": "8vE8QIkEwAab"
   },
   "source": [
    "The labels are now converted to 0 for neutral, and 1 for entails."
   ]
  },
  {
   "cell_type": "code",
   "execution_count": 83,
   "metadata": {
    "id": "BlpRvN-uwGp6"
   },
   "outputs": [],
   "source": [
    "y_train = y_train.map({'neutral': 0, 'entails': 1})\n",
    "y_val = y_val.map({'neutral': 0, 'entails': 1})\n",
    "y_test = y_test.map({'neutral': 0, 'entails': 1})"
   ]
  },
  {
   "cell_type": "markdown",
   "metadata": {
    "id": "6m0-kbudcfoN"
   },
   "source": [
    "Now we can create the dataset and data loaders for the train and validation set. To reduce the impact of the class imbalance in the train set, the number of neutral samples is reduced to the number of entails samples."
   ]
  },
  {
   "cell_type": "code",
   "execution_count": 84,
   "metadata": {
    "id": "rSSAM1oKXBSJ"
   },
   "outputs": [],
   "source": [
    "batch_size = 64\n",
    "\n",
    "train_data = torch.utils.data.TensorDataset(torch.tensor(encoded_prem_train), torch.tensor(encoded_hyp_train), torch.tensor(y_train.values))\n",
    "train_loader = torch.utils.data.DataLoader(train_data, batch_size=batch_size)\n",
    "\n",
    "val_data = torch.utils.data.TensorDataset(torch.tensor(encoded_prem_val), torch.tensor(encoded_hyp_val), torch.tensor(y_val.values))\n",
    "val_loader = torch.utils.data.DataLoader(val_data, batch_size=batch_size)"
   ]
  },
  {
   "cell_type": "code",
   "execution_count": 87,
   "metadata": {},
   "outputs": [
    {
     "name": "stdout",
     "output_type": "stream",
     "text": [
      "Class counts: tensor([13914,  8284])\n",
      "Class weights: tensor([0.7464, 1.2536])\n"
     ]
    }
   ],
   "source": [
    "class_counts = torch.bincount(torch.tensor(y_train.values))\n",
    "class_weights = 1.0 / class_counts.float()\n",
    "class_weights = class_weights / class_weights.sum() * len(class_weights)\n",
    "\n",
    "print(f\"Class counts: {class_counts}\")\n",
    "print(f\"Class weights: {class_weights}\")"
   ]
  },
  {
   "cell_type": "markdown",
   "metadata": {},
   "source": [
    "### 1.7 Test Dataset\n",
    "Finally, we create the test dataset in a similar way the training and validation sets are created."
   ]
  },
  {
   "cell_type": "code",
   "execution_count": 88,
   "metadata": {},
   "outputs": [],
   "source": [
    "max_prem = max(len(sentence) for sentence in X_test['premise'])\n",
    "max_hyp = max(len(sentence) for sentence in X_test['hypothesis'])\n",
    "encoded_prem_test = pad_sequences(encode_sentences(X_test['premise']), max_prem)\n",
    "encoded_hyp_test = pad_sequences(encode_sentences(X_test['hypothesis']), max_hyp)\n",
    "\n",
    "test_dataset = torch.utils.data.TensorDataset(torch.tensor(encoded_prem_test), torch.tensor(encoded_hyp_test), torch.tensor(y_test.values))\n",
    "test_loader = torch.utils.data.DataLoader(test_dataset, batch_size=batch_size)"
   ]
  },
  {
   "cell_type": "markdown",
   "metadata": {},
   "source": [
    "## 2. GRU Model\n",
    "\n",
    "### 2.1. Training the Model\n",
    "This model is a Bidirectional GRU."
   ]
  },
  {
   "cell_type": "code",
   "execution_count": 89,
   "metadata": {},
   "outputs": [],
   "source": [
    "class BiGRU(torch.nn.Module):\n",
    "    def __init__(self, embedding_dim, individual_dim=256, combined_dim=128, linear_dim=64, num_layers=5, dropout=0.4):\n",
    "        super(BiGRU, self).__init__()\n",
    "        self.embeddings = torch.nn.Embedding(len(vocab), embedding_dim, padding_idx=wordindexes['[PAD]'])\n",
    "        self.embeddings.weight.data.copy_(torch.from_numpy(emb_table))\n",
    "        self.embeddings.weight.requires_grad = False\n",
    "\n",
    "        self.prem_gru = torch.nn.GRU(embedding_dim, individual_dim, num_layers, batch_first=True, bidirectional=True)\n",
    "        self.hyp_gru = torch.nn.GRU(embedding_dim, individual_dim, num_layers, batch_first=True, bidirectional=True)\n",
    "\n",
    "        self.prem_norm = torch.nn.LayerNorm(individual_dim * 2)\n",
    "        self.hyp_norm = torch.nn.LayerNorm(individual_dim * 2)\n",
    "\n",
    "        self.combined_gru = torch.nn.GRU(individual_dim * 2, combined_dim, num_layers, batch_first=True, bidirectional=True)\n",
    "        self.combined_norm = torch.nn.LayerNorm(combined_dim * 2)\n",
    "\n",
    "        self.mlp = torch.nn.Sequential(\n",
    "            torch.nn.Dropout(dropout),\n",
    "            torch.nn.Linear(combined_dim * 2, linear_dim),\n",
    "            torch.nn.ReLU(),\n",
    "            torch.nn.Dropout(dropout),\n",
    "            torch.nn.Linear(linear_dim, 2),\n",
    "        )\n",
    "\n",
    "    def forward(self, prem, hyp):\n",
    "        prem = self.embeddings(prem)\n",
    "        hyp = self.embeddings(hyp)\n",
    "\n",
    "        prem_out, _ = self.prem_gru(prem)\n",
    "        hyp_out, _ = self.hyp_gru(hyp)\n",
    "        prem_out = self.prem_norm(prem_out)\n",
    "        hyp_out = self.hyp_norm(hyp_out)\n",
    "\n",
    "        merged_out = torch.cat((prem_out, hyp_out), dim=1)\n",
    "        merged_out, _ = self.combined_gru(merged_out)\n",
    "        merged_out = self.combined_norm(merged_out)\n",
    "        merged_out = torch.max(merged_out, dim=1)[0]\n",
    "\n",
    "        logits = self.mlp(merged_out)\n",
    "        return logits"
   ]
  },
  {
   "cell_type": "markdown",
   "metadata": {},
   "source": [
    "Training function:"
   ]
  },
  {
   "cell_type": "code",
   "execution_count": 90,
   "metadata": {},
   "outputs": [],
   "source": [
    "def train_model(model, optimiser, scheduler, epochs, criterion, train_loader, val_loader, device):\n",
    "\n",
    "    for epoch in range(epochs):\n",
    "        model.train()\n",
    "\n",
    "        train_loss = 0\n",
    "        start_time = time.time()\n",
    "\n",
    "        for i, batch in enumerate(train_loader):\n",
    "            if i % 100 == 0:\n",
    "                sys.stdout.write(f\"\\rEpoch: ({(epoch + 1):02} / {epochs:02}) | Batch: ({i} / {len(train_loader)}) | Loss: {train_loss / (i+1)}\")\n",
    "                sys.stdout.flush()\n",
    "\n",
    "            premises = batch[0].to(device)\n",
    "            hypotheses = batch[1].to(device)\n",
    "            labels = batch[2].to(device).long()\n",
    "\n",
    "            optimiser.zero_grad()\n",
    "            outputs = model(premises, hypotheses)\n",
    "\n",
    "            loss = criterion(outputs, labels)\n",
    "            train_loss += loss.item()\n",
    "            loss.backward()\n",
    "            optimiser.step()\n",
    "\n",
    "\n",
    "        model.eval()\n",
    "        with torch.no_grad():\n",
    "            val_loss = 0\n",
    "            correct = 0\n",
    "\n",
    "            for batch in val_loader:\n",
    "                premises = batch[0].to(device)\n",
    "                hypotheses = batch[1].to(device)\n",
    "                labels = batch[2].to(device).long()\n",
    "                outputs = model(premises, hypotheses)\n",
    "                loss = criterion(outputs, labels)\n",
    "                val_loss += loss.item()\n",
    "\n",
    "                preds = torch.argmax(outputs, dim=1)\n",
    "                correct += (preds == labels).sum().item()\n",
    "\n",
    "            val_loss = val_loss / len(val_loader)\n",
    "            val_acc = correct / len(val_loader.dataset)\n",
    "\n",
    "        epoch_time = (time.time() - start_time)\n",
    "        epoch_min = int(epoch_time // 60)\n",
    "        epoch_sec = int(epoch_time % 60)\n",
    "        train_loss = train_loss / len(train_loader)\n",
    "        if scheduler is not None:\n",
    "            scheduler.step()\n",
    "        sys.stdout.write(f\"\\rEpoch: ({(epoch + 1):02} / {epochs:02}) | Time: {epoch_min:02d}:{epoch_sec:02d} | Train Loss: {train_loss:.4f} | Val Loss: {val_loss:.4f} | Val Accuracy: {val_acc:.2f}\\n\")\n",
    "    \n",
    "    # Return final validation loss\n",
    "    return val_loss"
   ]
  },
  {
   "cell_type": "markdown",
   "metadata": {},
   "source": [
    "The following hyperparameters were selected after performing tuning:\n",
    "- individual_dim=256\n",
    "- combined_dim=128\n",
    "- linear_dim=64\n",
    "- num_layers=5\n",
    "- dropout=0.4\n",
    "The model is trained for 10 epochs with an ADAM optimiser, with an initial learning rate of 1e-5."
   ]
  },
  {
   "cell_type": "code",
   "execution_count": 91,
   "metadata": {},
   "outputs": [
    {
     "name": "stdout",
     "output_type": "stream",
     "text": [
      "Epoch: (01 / 10) | Time: 00:18 | Train Loss: 0.6995 | Val Loss: 0.7068 | Val Accuracy: 0.49\n",
      "Epoch: (02 / 10) | Time: 00:19 | Train Loss: 0.6731 | Val Loss: 0.7113 | Val Accuracy: 0.57\n",
      "Epoch: (03 / 10) | Time: 00:18 | Train Loss: 0.6561 | Val Loss: 0.7098 | Val Accuracy: 0.57\n",
      "Epoch: (04 / 10) | Time: 00:19 | Train Loss: 0.6390 | Val Loss: 0.6968 | Val Accuracy: 0.60\n",
      "Epoch: (05 / 10) | Time: 00:18 | Train Loss: 0.6282 | Val Loss: 0.6916 | Val Accuracy: 0.62\n",
      "Epoch: (06 / 10) | Time: 00:19 | Train Loss: 0.6183 | Val Loss: 0.6822 | Val Accuracy: 0.65\n",
      "Epoch: (07 / 10) | Time: 00:18 | Train Loss: 0.6149 | Val Loss: 0.6509 | Val Accuracy: 0.67\n",
      "Epoch: (08 / 10) | Time: 00:18 | Train Loss: 0.6061 | Val Loss: 0.6474 | Val Accuracy: 0.68\n",
      "Epoch: (09 / 10) | Time: 00:18 | Train Loss: 0.6020 | Val Loss: 0.6466 | Val Accuracy: 0.67\n",
      "Epoch: (10 / 10) | Time: 00:18 | Train Loss: 0.5956 | Val Loss: 0.6338 | Val Accuracy: 0.69\n"
     ]
    }
   ],
   "source": [
    "device = 'cuda' if torch.cuda.is_available() else 'cpu'\n",
    "class_weights = class_weights.to(device)\n",
    "hyperparams = [256, 128, 64, 5, 0.4]\n",
    "epochs = 10\n",
    "model = BiGRU(emb_dim, individual_dim=hyperparams[0], combined_dim=hyperparams[1], linear_dim=hyperparams[2], num_layers=hyperparams[3], dropout=hyperparams[4])\n",
    "model.to(device)\n",
    "optimiser = torch.optim.Adam(model.parameters(), lr=1e-5, weight_decay=1e-5)\n",
    "scheduler = None\n",
    "criterion = torch.nn.CrossEntropyLoss(weight=class_weights)\n",
    "val_loss = train_model(model, optimiser, scheduler, epochs, criterion, train_loader, val_loader, device)"
   ]
  },
  {
   "cell_type": "markdown",
   "metadata": {},
   "source": [
    "### 2.2. Testing Model on Test Dataset"
   ]
  },
  {
   "cell_type": "code",
   "execution_count": 92,
   "metadata": {},
   "outputs": [
    {
     "name": "stdout",
     "output_type": "stream",
     "text": [
      "              precision    recall  f1-score   support\n",
      "\n",
      "         0.0       0.73      0.83      0.78      1284\n",
      "         1.0       0.67      0.53      0.59       842\n",
      "\n",
      "    accuracy                           0.71      2126\n",
      "   macro avg       0.70      0.68      0.68      2126\n",
      "weighted avg       0.70      0.71      0.70      2126\n",
      "\n"
     ]
    },
    {
     "data": {
      "image/png": "[encoded data removed]",
      "text/plain": [
       "<Figure size 640x480 with 1 Axes>"
      ]
     },
     "metadata": {},
     "output_type": "display_data"
    }
   ],
   "source": [
    "model.eval()\n",
    "\n",
    "all_labels = []\n",
    "all_predictions = []\n",
    "with torch.no_grad():\n",
    "    for batch in test_loader:\n",
    "        premises = batch[0].to(device)\n",
    "        hypotheses = batch[1].to(device)\n",
    "        labels = batch[2].to(device).float()\n",
    "        outputs = model(premises, hypotheses)\n",
    "        preds = torch.argmax(outputs, dim=1)\n",
    "        all_labels.extend(labels.cpu().numpy().flatten())\n",
    "        all_predictions.extend(preds.cpu().numpy().flatten())\n",
    "\n",
    "print(classification_report(all_labels, all_predictions))\n",
    "\n",
    "cm = confusion_matrix(all_labels, all_predictions)\n",
    "disp = ConfusionMatrixDisplay(confusion_matrix=cm, display_labels=[\"neutral\", \"entails\"])\n",
    "disp.plot(colorbar=False)\n",
    "\n",
    "plt.show()"
   ]
  }
 ],
 "metadata": {
  "accelerator": "GPU",
  "colab": {
   "gpuType": "T4",
   "provenance": []
  },
  "kernelspec": {
   "display_name": ".venv",
   "language": "python",
   "name": "python3"
  },
  "language_info": {
   "codemirror_mode": {
    "name": "ipython",
    "version": 3
   },
   "file_extension": ".py",
   "mimetype": "text/x-python",
   "name": "python",
   "nbconvert_exporter": "python",
   "pygments_lexer": "ipython3",
   "version": "3.11.0"
  }
 },
 "nbformat": 4,
 "nbformat_minor": 0
}
